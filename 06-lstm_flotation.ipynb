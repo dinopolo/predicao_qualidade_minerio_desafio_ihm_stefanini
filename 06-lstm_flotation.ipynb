{
 "cells": [
  {
   "cell_type": "markdown",
   "id": "579f4ed6-8775-4bd3-be9b-632a2408090a",
   "metadata": {},
   "source": [
    "# **Desafio IHM Stefanini - 06 - LSTM**"
   ]
  },
  {
   "cell_type": "markdown",
   "id": "6f3a3d8f-af2f-4654-93fc-4509f48c0ff4",
   "metadata": {},
   "source": [
    "Será feito um modelo de regressão utilizando a biblioteca Keras para prever variável `% Silica Concentrate`. Serão feitos 5 modelos:\n",
    "1. Modelo com todas as variáveis;\n",
    "2. Modelo apenas com as variáveis selecionados na etapa de preparação;\n",
    "3. Modelo com todas as variáveis, mas excluindo a variável `% Iron Concentrate`;\n",
    "4. Modelo apenas com as variáveis selecionados na etapa de preparação e excluindo a variável `% Iron Concentrate`;"
   ]
  },
  {
   "cell_type": "markdown",
   "id": "515f6805-d556-4f50-8a51-cc77fbd22b13",
   "metadata": {},
   "source": [
    "## **Carregando as bibliotecas**"
   ]
  },
  {
   "cell_type": "code",
   "execution_count": 1,
   "id": "be438ade-6b4f-4156-9707-4627b324273d",
   "metadata": {},
   "outputs": [
    {
     "name": "stderr",
     "output_type": "stream",
     "text": [
      "D:\\Python_Venvs\\keras\\vienv\\Lib\\site-packages\\tqdm\\auto.py:21: TqdmWarning: IProgress not found. Please update jupyter and ipywidgets. See https://ipywidgets.readthedocs.io/en/stable/user_install.html\n",
      "  from .autonotebook import tqdm as notebook_tqdm\n"
     ]
    }
   ],
   "source": [
    "import numpy as np\n",
    "import pandas as pd\n",
    "import matplotlib.pyplot as plt\n",
    "import seaborn as sns\n",
    "\n",
    "import optuna\n",
    "from optuna.samplers import TPESampler\n",
    "\n",
    "from sklearn.preprocessing import OneHotEncoder, MinMaxScaler\n",
    "from sklearn.model_selection import train_test_split\n",
    "from sklearn.metrics import mean_squared_error, r2_score, mean_absolute_error\n",
    "\n",
    "import keras\n",
    "from keras.models import Sequential\n",
    "from keras.layers import Input, Dense, Flatten, Dropout, LSTM"
   ]
  },
  {
   "cell_type": "markdown",
   "id": "2a50a63e-383d-430d-8d2b-ca620ea5e1ef",
   "metadata": {},
   "source": [
    "## **Configurações do notebook**"
   ]
  },
  {
   "cell_type": "code",
   "execution_count": 2,
   "id": "4d05c255-eb40-459d-a9d0-ae334c2102ab",
   "metadata": {},
   "outputs": [],
   "source": [
    "%matplotlib inline\n",
    "sns.set(style='white')\n",
    "pd.set_option('display.max_columns', None) # Apenas se precisar\n",
    "#pd.set_option('display.max_rows', None) # Apenas se precisar\n",
    "#pd.options.display.float_format = '{:.2f}'.format # Suprimindo notação científica e exibindo duas casas decimais\n",
    "RANDOM_SEED = 1\n",
    "keras.utils.set_random_seed(RANDOM_SEED)"
   ]
  },
  {
   "cell_type": "markdown",
   "id": "77d8773e-596a-4d80-aa45-ecdc4f2500bb",
   "metadata": {},
   "source": [
    "## **Carregando os dados**"
   ]
  },
  {
   "cell_type": "code",
   "execution_count": 3,
   "id": "fe8c1d67-e470-43e7-9d9b-d9ceb1fbc241",
   "metadata": {},
   "outputs": [],
   "source": [
    "df = pd.read_csv(\"dados_ihm_stefanini/MiningProcess_Flotation_Plant_Database.csv\", decimal=\",\")"
   ]
  },
  {
   "cell_type": "code",
   "execution_count": 4,
   "id": "8bb60a6d-eefb-4e67-8a6e-54d074ca3388",
   "metadata": {},
   "outputs": [
    {
     "data": {
      "text/html": [
       "<div>\n",
       "<style scoped>\n",
       "    .dataframe tbody tr th:only-of-type {\n",
       "        vertical-align: middle;\n",
       "    }\n",
       "\n",
       "    .dataframe tbody tr th {\n",
       "        vertical-align: top;\n",
       "    }\n",
       "\n",
       "    .dataframe thead th {\n",
       "        text-align: right;\n",
       "    }\n",
       "</style>\n",
       "<table border=\"1\" class=\"dataframe\">\n",
       "  <thead>\n",
       "    <tr style=\"text-align: right;\">\n",
       "      <th></th>\n",
       "      <th>date</th>\n",
       "      <th>% Iron Feed</th>\n",
       "      <th>% Silica Feed</th>\n",
       "      <th>Starch Flow</th>\n",
       "      <th>Amina Flow</th>\n",
       "      <th>Ore Pulp Flow</th>\n",
       "      <th>Ore Pulp pH</th>\n",
       "      <th>Ore Pulp Density</th>\n",
       "      <th>Flotation Column 01 Air Flow</th>\n",
       "      <th>Flotation Column 02 Air Flow</th>\n",
       "      <th>Flotation Column 03 Air Flow</th>\n",
       "      <th>Flotation Column 04 Air Flow</th>\n",
       "      <th>Flotation Column 05 Air Flow</th>\n",
       "      <th>Flotation Column 06 Air Flow</th>\n",
       "      <th>Flotation Column 07 Air Flow</th>\n",
       "      <th>Flotation Column 01 Level</th>\n",
       "      <th>Flotation Column 02 Level</th>\n",
       "      <th>Flotation Column 03 Level</th>\n",
       "      <th>Flotation Column 04 Level</th>\n",
       "      <th>Flotation Column 05 Level</th>\n",
       "      <th>Flotation Column 06 Level</th>\n",
       "      <th>Flotation Column 07 Level</th>\n",
       "      <th>% Iron Concentrate</th>\n",
       "      <th>% Silica Concentrate</th>\n",
       "    </tr>\n",
       "  </thead>\n",
       "  <tbody>\n",
       "    <tr>\n",
       "      <th>0</th>\n",
       "      <td>2017-03-10 01:00:00</td>\n",
       "      <td>55.2</td>\n",
       "      <td>16.98</td>\n",
       "      <td>3019.53</td>\n",
       "      <td>557.434</td>\n",
       "      <td>395.713</td>\n",
       "      <td>10.0664</td>\n",
       "      <td>1.74</td>\n",
       "      <td>249.214</td>\n",
       "      <td>253.235</td>\n",
       "      <td>250.576</td>\n",
       "      <td>295.096</td>\n",
       "      <td>306.4</td>\n",
       "      <td>250.225</td>\n",
       "      <td>250.884</td>\n",
       "      <td>457.396</td>\n",
       "      <td>432.962</td>\n",
       "      <td>424.954</td>\n",
       "      <td>443.558</td>\n",
       "      <td>502.255</td>\n",
       "      <td>446.370</td>\n",
       "      <td>523.344</td>\n",
       "      <td>66.91</td>\n",
       "      <td>1.31</td>\n",
       "    </tr>\n",
       "    <tr>\n",
       "      <th>1</th>\n",
       "      <td>2017-03-10 01:00:00</td>\n",
       "      <td>55.2</td>\n",
       "      <td>16.98</td>\n",
       "      <td>3024.41</td>\n",
       "      <td>563.965</td>\n",
       "      <td>397.383</td>\n",
       "      <td>10.0672</td>\n",
       "      <td>1.74</td>\n",
       "      <td>249.719</td>\n",
       "      <td>250.532</td>\n",
       "      <td>250.862</td>\n",
       "      <td>295.096</td>\n",
       "      <td>306.4</td>\n",
       "      <td>250.137</td>\n",
       "      <td>248.994</td>\n",
       "      <td>451.891</td>\n",
       "      <td>429.560</td>\n",
       "      <td>432.939</td>\n",
       "      <td>448.086</td>\n",
       "      <td>496.363</td>\n",
       "      <td>445.922</td>\n",
       "      <td>498.075</td>\n",
       "      <td>66.91</td>\n",
       "      <td>1.31</td>\n",
       "    </tr>\n",
       "    <tr>\n",
       "      <th>2</th>\n",
       "      <td>2017-03-10 01:00:00</td>\n",
       "      <td>55.2</td>\n",
       "      <td>16.98</td>\n",
       "      <td>3043.46</td>\n",
       "      <td>568.054</td>\n",
       "      <td>399.668</td>\n",
       "      <td>10.0680</td>\n",
       "      <td>1.74</td>\n",
       "      <td>249.741</td>\n",
       "      <td>247.874</td>\n",
       "      <td>250.313</td>\n",
       "      <td>295.096</td>\n",
       "      <td>306.4</td>\n",
       "      <td>251.345</td>\n",
       "      <td>248.071</td>\n",
       "      <td>451.240</td>\n",
       "      <td>468.927</td>\n",
       "      <td>434.610</td>\n",
       "      <td>449.688</td>\n",
       "      <td>484.411</td>\n",
       "      <td>447.826</td>\n",
       "      <td>458.567</td>\n",
       "      <td>66.91</td>\n",
       "      <td>1.31</td>\n",
       "    </tr>\n",
       "    <tr>\n",
       "      <th>3</th>\n",
       "      <td>2017-03-10 01:00:00</td>\n",
       "      <td>55.2</td>\n",
       "      <td>16.98</td>\n",
       "      <td>3047.36</td>\n",
       "      <td>568.665</td>\n",
       "      <td>397.939</td>\n",
       "      <td>10.0689</td>\n",
       "      <td>1.74</td>\n",
       "      <td>249.917</td>\n",
       "      <td>254.487</td>\n",
       "      <td>250.049</td>\n",
       "      <td>295.096</td>\n",
       "      <td>306.4</td>\n",
       "      <td>250.422</td>\n",
       "      <td>251.147</td>\n",
       "      <td>452.441</td>\n",
       "      <td>458.165</td>\n",
       "      <td>442.865</td>\n",
       "      <td>446.210</td>\n",
       "      <td>471.411</td>\n",
       "      <td>437.690</td>\n",
       "      <td>427.669</td>\n",
       "      <td>66.91</td>\n",
       "      <td>1.31</td>\n",
       "    </tr>\n",
       "    <tr>\n",
       "      <th>4</th>\n",
       "      <td>2017-03-10 01:00:00</td>\n",
       "      <td>55.2</td>\n",
       "      <td>16.98</td>\n",
       "      <td>3033.69</td>\n",
       "      <td>558.167</td>\n",
       "      <td>400.254</td>\n",
       "      <td>10.0697</td>\n",
       "      <td>1.74</td>\n",
       "      <td>250.203</td>\n",
       "      <td>252.136</td>\n",
       "      <td>249.895</td>\n",
       "      <td>295.096</td>\n",
       "      <td>306.4</td>\n",
       "      <td>249.983</td>\n",
       "      <td>248.928</td>\n",
       "      <td>452.441</td>\n",
       "      <td>452.900</td>\n",
       "      <td>450.523</td>\n",
       "      <td>453.670</td>\n",
       "      <td>462.598</td>\n",
       "      <td>443.682</td>\n",
       "      <td>425.679</td>\n",
       "      <td>66.91</td>\n",
       "      <td>1.31</td>\n",
       "    </tr>\n",
       "  </tbody>\n",
       "</table>\n",
       "</div>"
      ],
      "text/plain": [
       "                  date  % Iron Feed  % Silica Feed  Starch Flow  Amina Flow  \\\n",
       "0  2017-03-10 01:00:00         55.2          16.98      3019.53     557.434   \n",
       "1  2017-03-10 01:00:00         55.2          16.98      3024.41     563.965   \n",
       "2  2017-03-10 01:00:00         55.2          16.98      3043.46     568.054   \n",
       "3  2017-03-10 01:00:00         55.2          16.98      3047.36     568.665   \n",
       "4  2017-03-10 01:00:00         55.2          16.98      3033.69     558.167   \n",
       "\n",
       "   Ore Pulp Flow  Ore Pulp pH  Ore Pulp Density  Flotation Column 01 Air Flow  \\\n",
       "0        395.713      10.0664              1.74                       249.214   \n",
       "1        397.383      10.0672              1.74                       249.719   \n",
       "2        399.668      10.0680              1.74                       249.741   \n",
       "3        397.939      10.0689              1.74                       249.917   \n",
       "4        400.254      10.0697              1.74                       250.203   \n",
       "\n",
       "   Flotation Column 02 Air Flow  Flotation Column 03 Air Flow  \\\n",
       "0                       253.235                       250.576   \n",
       "1                       250.532                       250.862   \n",
       "2                       247.874                       250.313   \n",
       "3                       254.487                       250.049   \n",
       "4                       252.136                       249.895   \n",
       "\n",
       "   Flotation Column 04 Air Flow  Flotation Column 05 Air Flow  \\\n",
       "0                       295.096                         306.4   \n",
       "1                       295.096                         306.4   \n",
       "2                       295.096                         306.4   \n",
       "3                       295.096                         306.4   \n",
       "4                       295.096                         306.4   \n",
       "\n",
       "   Flotation Column 06 Air Flow  Flotation Column 07 Air Flow  \\\n",
       "0                       250.225                       250.884   \n",
       "1                       250.137                       248.994   \n",
       "2                       251.345                       248.071   \n",
       "3                       250.422                       251.147   \n",
       "4                       249.983                       248.928   \n",
       "\n",
       "   Flotation Column 01 Level  Flotation Column 02 Level  \\\n",
       "0                    457.396                    432.962   \n",
       "1                    451.891                    429.560   \n",
       "2                    451.240                    468.927   \n",
       "3                    452.441                    458.165   \n",
       "4                    452.441                    452.900   \n",
       "\n",
       "   Flotation Column 03 Level  Flotation Column 04 Level  \\\n",
       "0                    424.954                    443.558   \n",
       "1                    432.939                    448.086   \n",
       "2                    434.610                    449.688   \n",
       "3                    442.865                    446.210   \n",
       "4                    450.523                    453.670   \n",
       "\n",
       "   Flotation Column 05 Level  Flotation Column 06 Level  \\\n",
       "0                    502.255                    446.370   \n",
       "1                    496.363                    445.922   \n",
       "2                    484.411                    447.826   \n",
       "3                    471.411                    437.690   \n",
       "4                    462.598                    443.682   \n",
       "\n",
       "   Flotation Column 07 Level  % Iron Concentrate  % Silica Concentrate  \n",
       "0                    523.344               66.91                  1.31  \n",
       "1                    498.075               66.91                  1.31  \n",
       "2                    458.567               66.91                  1.31  \n",
       "3                    427.669               66.91                  1.31  \n",
       "4                    425.679               66.91                  1.31  "
      ]
     },
     "execution_count": 4,
     "metadata": {},
     "output_type": "execute_result"
    }
   ],
   "source": [
    "df.head()"
   ]
  },
  {
   "cell_type": "markdown",
   "id": "ff9c36eb-88ca-4907-84aa-fd66f94f5d72",
   "metadata": {},
   "source": [
    "## **Funções**"
   ]
  },
  {
   "cell_type": "code",
   "execution_count": 5,
   "id": "4d9ee747-45aa-4dba-a8c5-ec17bf51ba08",
   "metadata": {},
   "outputs": [],
   "source": [
    "# Métricas\n",
    "def eval_metrics(y_true, y_pred):\n",
    "    metrics_dict = dict()\n",
    "    metrics_dict['R2'] = r2_score(y_true, y_pred)\n",
    "    metrics_dict['MSE'] = mean_squared_error(y_true, y_pred)\n",
    "    metrics_dict['RMSE'] = np.sqrt(mean_squared_error(y_true, y_pred))\n",
    "    return metrics_dict"
   ]
  },
  {
   "cell_type": "code",
   "execution_count": 6,
   "id": "e4b017d3-72e4-4224-aeb3-3fd9a6878b17",
   "metadata": {},
   "outputs": [],
   "source": [
    "# Normalização (MinMax) da variável objetivo\n",
    "def normY(y):\n",
    "    y_max = y.max()\n",
    "    y_min = y.min()\n",
    "    y_norm = (y - y_min) / (y_max - y_min)\n",
    "\n",
    "    return y_norm, y_max, y_min\n",
    "\n",
    "# Desfaz a normalização (MinMax) da variável objetivo\n",
    "def inverse_normY(y_norm, y_max, y_min):\n",
    "    y_inv = y_norm * (y_max - y_min) + y_min\n",
    "\n",
    "    return y_inv"
   ]
  },
  {
   "cell_type": "markdown",
   "id": "40c9e7f0-e37e-48bb-9941-e59d7ae8e9db",
   "metadata": {},
   "source": [
    "## **Removendo as colunas que não serão utilizadas**"
   ]
  },
  {
   "cell_type": "markdown",
   "id": "21eeaad2-5d81-478d-bc5e-e8e418d6b439",
   "metadata": {},
   "source": [
    "Será removida apenas a coluna: `date`."
   ]
  },
  {
   "cell_type": "code",
   "execution_count": 7,
   "id": "da4507e8-e0a0-430f-a68b-6f6eeed390ad",
   "metadata": {},
   "outputs": [],
   "source": [
    "df.drop(columns=['date'], inplace=True)"
   ]
  },
  {
   "cell_type": "markdown",
   "id": "aae4cd48-2211-4663-bfe0-10d67efbe3f7",
   "metadata": {},
   "source": [
    "## **Construção dos modelos**"
   ]
  },
  {
   "cell_type": "markdown",
   "id": "bcc0f3d5-22f6-4e5b-99e0-b590280f9fb4",
   "metadata": {},
   "source": [
    "### **Modelo LSTM com todas as variáveis**"
   ]
  },
  {
   "cell_type": "markdown",
   "id": "89c49318-5aad-4958-9c67-432430852ca0",
   "metadata": {},
   "source": [
    "#### **Separação dos dados em teste e treino**"
   ]
  },
  {
   "cell_type": "code",
   "execution_count": 8,
   "id": "ecf56515-11dd-4a4d-b954-bf2b4978d2cd",
   "metadata": {},
   "outputs": [],
   "source": [
    "X = df.drop(columns=['% Silica Concentrate'])\n",
    "y = df['% Silica Concentrate']"
   ]
  },
  {
   "cell_type": "code",
   "execution_count": 9,
   "id": "344f161e-afbe-4a3f-9cb2-0e889c723fd1",
   "metadata": {},
   "outputs": [],
   "source": [
    "# Separando\n",
    "X_train, X_test, y_train, y_test = train_test_split(X, y, test_size=0.2, random_state=RANDOM_SEED)"
   ]
  },
  {
   "cell_type": "markdown",
   "id": "1c67a912-47c3-4224-a39d-702626556583",
   "metadata": {},
   "source": [
    "#### **Normalização das colunas**"
   ]
  },
  {
   "cell_type": "markdown",
   "id": "2271f8da-add6-47e0-8521-2f1859fe876b",
   "metadata": {},
   "source": [
    "**Dados de treino:**"
   ]
  },
  {
   "cell_type": "code",
   "execution_count": 10,
   "id": "def9db24-97a8-4716-8722-c9fd2144a81d",
   "metadata": {},
   "outputs": [],
   "source": [
    "# X_train\n",
    "scaler = MinMaxScaler()\n",
    "\n",
    "scaler.fit(X_train)\n",
    "\n",
    "X_train = scaler.transform(X_train)"
   ]
  },
  {
   "cell_type": "code",
   "execution_count": 11,
   "id": "4c005c19-61c6-41cb-9f0a-1e4619e8fb28",
   "metadata": {},
   "outputs": [],
   "source": [
    "# y_train\n",
    "y_train_norm, y_train_max, y_train_min = normY(y_train)"
   ]
  },
  {
   "cell_type": "markdown",
   "id": "033bbd0f-c0ed-41d1-a5ea-970ab083f5d7",
   "metadata": {},
   "source": [
    "**Dados de teste:**"
   ]
  },
  {
   "cell_type": "code",
   "execution_count": 12,
   "id": "a544b7ef-72b1-45ad-8a71-d2a453126005",
   "metadata": {},
   "outputs": [],
   "source": [
    "# X_test\n",
    "X_test = scaler.transform(X_test)"
   ]
  },
  {
   "cell_type": "markdown",
   "id": "a4550a3e-df74-4a23-b4c5-1b251b97d19f",
   "metadata": {},
   "source": [
    "#### **Ajuste dos hiperparâmetros com Optuna**"
   ]
  },
  {
   "cell_type": "code",
   "execution_count": 13,
   "id": "1d0eb7aa-d72a-49b2-b4d7-93a45eb8ae4b",
   "metadata": {},
   "outputs": [],
   "source": [
    "def objective(trial):    \n",
    "    ## LSTM ##\n",
    "    # units\n",
    "    units = trial.suggest_categorical('units', [8, 16, 32, 64, 128])\n",
    "\n",
    "    # kernel_initializer\n",
    "    kernel_initializer = trial.suggest_categorical('kernel_initializer', [\"RandomNormal\", \"RandomUniform\", \"Zeros\", \"Ones\", \"GlorotNormal\", \"GlorotUniform\"])\n",
    "\n",
    "    # activation\n",
    "    activation_lstm = trial.suggest_categorical('activation_lstm', [\"relu\", \"linear\", \"sigmoid\", \"tanh\"])\n",
    "\n",
    "    ## Dropout ##\n",
    "    # rate\n",
    "    rate = trial.suggest_float('rate', 0.0001, 1)\n",
    "    \n",
    "    ## Dense ##\n",
    "    # activation\n",
    "    activation_dense = trial.suggest_categorical('activation_dense', [\"relu\", \"linear\", \"sigmoid\", \"tanh\"])\n",
    "\n",
    "    # Instanciando o modelo\n",
    "    model = Sequential()\n",
    "    model.add(Input(shape=(X_train.shape[1], 1)))\n",
    "    model.add(LSTM(units=units, kernel_initializer=kernel_initializer, activation=activation_lstm))\n",
    "    model.add(Dropout(rate=rate))\n",
    "    model.add(Flatten())\n",
    "    model.add(Dense(units=1, activation=activation_dense))\n",
    "    model.compile(loss=\"mse\", optimizer=\"adam\")\n",
    "\n",
    "    # Treinando o modelo\n",
    "    model.fit(X_train, y_train_norm, validation_split=0.1, batch_size=16, epochs=10)\n",
    "\n",
    "    # Melhor MSE\n",
    "    mse = model.evaluate(X_train, y_train_norm)\n",
    "    \n",
    "    return mse"
   ]
  },
  {
   "cell_type": "code",
   "execution_count": 14,
   "id": "002fac8a-1635-4db9-b74d-77a3c80a73f5",
   "metadata": {},
   "outputs": [
    {
     "name": "stderr",
     "output_type": "stream",
     "text": [
      "[I 2024-10-14 07:35:33,072] A new study created in memory with name: no-name-cda1d0b3-d030-4102-ad2f-ce87c24841af\n"
     ]
    },
    {
     "name": "stdout",
     "output_type": "stream",
     "text": [
      "Epoch 1/10\n",
      "\u001b[1m33186/33186\u001b[0m \u001b[32m━━━━━━━━━━━━━━━━━━━━\u001b[0m\u001b[37m\u001b[0m \u001b[1m100s\u001b[0m 3ms/step - loss: 0.0610 - val_loss: 0.0219\n",
      "Epoch 2/10\n",
      "\u001b[1m33186/33186\u001b[0m \u001b[32m━━━━━━━━━━━━━━━━━━━━\u001b[0m\u001b[37m\u001b[0m \u001b[1m102s\u001b[0m 3ms/step - loss: 0.0292 - val_loss: 0.0204\n",
      "Epoch 3/10\n",
      "\u001b[1m33186/33186\u001b[0m \u001b[32m━━━━━━━━━━━━━━━━━━━━\u001b[0m\u001b[37m\u001b[0m \u001b[1m118s\u001b[0m 4ms/step - loss: 0.0269 - val_loss: 0.0190\n",
      "Epoch 4/10\n",
      "\u001b[1m33186/33186\u001b[0m \u001b[32m━━━━━━━━━━━━━━━━━━━━\u001b[0m\u001b[37m\u001b[0m \u001b[1m98s\u001b[0m 3ms/step - loss: 0.0256 - val_loss: 0.0171\n",
      "Epoch 5/10\n",
      "\u001b[1m33186/33186\u001b[0m \u001b[32m━━━━━━━━━━━━━━━━━━━━\u001b[0m\u001b[37m\u001b[0m \u001b[1m97s\u001b[0m 3ms/step - loss: 0.0250 - val_loss: 0.0173\n",
      "Epoch 6/10\n",
      "\u001b[1m33186/33186\u001b[0m \u001b[32m━━━━━━━━━━━━━━━━━━━━\u001b[0m\u001b[37m\u001b[0m \u001b[1m96s\u001b[0m 3ms/step - loss: 0.0247 - val_loss: 0.0169\n",
      "Epoch 7/10\n",
      "\u001b[1m33186/33186\u001b[0m \u001b[32m━━━━━━━━━━━━━━━━━━━━\u001b[0m\u001b[37m\u001b[0m \u001b[1m93s\u001b[0m 3ms/step - loss: 0.0242 - val_loss: 0.0166\n",
      "Epoch 8/10\n",
      "\u001b[1m33186/33186\u001b[0m \u001b[32m━━━━━━━━━━━━━━━━━━━━\u001b[0m\u001b[37m\u001b[0m \u001b[1m94s\u001b[0m 3ms/step - loss: 0.0240 - val_loss: 0.0168\n",
      "Epoch 9/10\n",
      "\u001b[1m33186/33186\u001b[0m \u001b[32m━━━━━━━━━━━━━━━━━━━━\u001b[0m\u001b[37m\u001b[0m \u001b[1m93s\u001b[0m 3ms/step - loss: 0.0237 - val_loss: 0.0167\n",
      "Epoch 10/10\n",
      "\u001b[1m33186/33186\u001b[0m \u001b[32m━━━━━━━━━━━━━━━━━━━━\u001b[0m\u001b[37m\u001b[0m \u001b[1m94s\u001b[0m 3ms/step - loss: 0.0234 - val_loss: 0.0169\n",
      "\u001b[1m18437/18437\u001b[0m \u001b[32m━━━━━━━━━━━━━━━━━━━━\u001b[0m\u001b[37m\u001b[0m \u001b[1m24s\u001b[0m 1ms/step - loss: 0.0169\n"
     ]
    },
    {
     "name": "stderr",
     "output_type": "stream",
     "text": [
      "[I 2024-10-14 07:52:22,103] Trial 0 finished with value: 0.01691281609237194 and parameters: {'units': 16, 'kernel_initializer': 'GlorotNormal', 'activation_lstm': 'sigmoid', 'rate': 0.6705004634273843, 'activation_dense': 'linear'}. Best is trial 0 with value: 0.01691281609237194.\n"
     ]
    },
    {
     "name": "stdout",
     "output_type": "stream",
     "text": [
      "Epoch 1/10\n",
      "\u001b[1m33186/33186\u001b[0m \u001b[32m━━━━━━━━━━━━━━━━━━━━\u001b[0m\u001b[37m\u001b[0m \u001b[1m101s\u001b[0m 3ms/step - loss: 0.0235 - val_loss: 0.0161\n",
      "Epoch 2/10\n",
      "\u001b[1m33186/33186\u001b[0m \u001b[32m━━━━━━━━━━━━━━━━━━━━\u001b[0m\u001b[37m\u001b[0m \u001b[1m98s\u001b[0m 3ms/step - loss: 0.0174 - val_loss: 0.0150\n",
      "Epoch 3/10\n",
      "\u001b[1m33186/33186\u001b[0m \u001b[32m━━━━━━━━━━━━━━━━━━━━\u001b[0m\u001b[37m\u001b[0m \u001b[1m100s\u001b[0m 3ms/step - loss: 0.0162 - val_loss: 0.0142\n",
      "Epoch 4/10\n",
      "\u001b[1m33186/33186\u001b[0m \u001b[32m━━━━━━━━━━━━━━━━━━━━\u001b[0m\u001b[37m\u001b[0m \u001b[1m103s\u001b[0m 3ms/step - loss: 0.0165 - val_loss: 0.0129\n",
      "Epoch 5/10\n",
      "\u001b[1m33186/33186\u001b[0m \u001b[32m━━━━━━━━━━━━━━━━━━━━\u001b[0m\u001b[37m\u001b[0m \u001b[1m102s\u001b[0m 3ms/step - loss: 0.0145 - val_loss: 0.0127\n",
      "Epoch 6/10\n",
      "\u001b[1m33186/33186\u001b[0m \u001b[32m━━━━━━━━━━━━━━━━━━━━\u001b[0m\u001b[37m\u001b[0m \u001b[1m92s\u001b[0m 3ms/step - loss: 0.0139 - val_loss: 0.0125\n",
      "Epoch 7/10\n",
      "\u001b[1m33186/33186\u001b[0m \u001b[32m━━━━━━━━━━━━━━━━━━━━\u001b[0m\u001b[37m\u001b[0m \u001b[1m96s\u001b[0m 3ms/step - loss: 0.0135 - val_loss: 0.0115\n",
      "Epoch 8/10\n",
      "\u001b[1m33186/33186\u001b[0m \u001b[32m━━━━━━━━━━━━━━━━━━━━\u001b[0m\u001b[37m\u001b[0m \u001b[1m92s\u001b[0m 3ms/step - loss: 0.0133 - val_loss: 0.0115\n",
      "Epoch 9/10\n",
      "\u001b[1m33186/33186\u001b[0m \u001b[32m━━━━━━━━━━━━━━━━━━━━\u001b[0m\u001b[37m\u001b[0m \u001b[1m94s\u001b[0m 3ms/step - loss: 0.0130 - val_loss: 0.0110\n",
      "Epoch 10/10\n",
      "\u001b[1m33186/33186\u001b[0m \u001b[32m━━━━━━━━━━━━━━━━━━━━\u001b[0m\u001b[37m\u001b[0m \u001b[1m93s\u001b[0m 3ms/step - loss: 0.0128 - val_loss: 0.0108\n",
      "\u001b[1m18437/18437\u001b[0m \u001b[32m━━━━━━━━━━━━━━━━━━━━\u001b[0m\u001b[37m\u001b[0m \u001b[1m21s\u001b[0m 1ms/step - loss: 0.0108\n"
     ]
    },
    {
     "name": "stderr",
     "output_type": "stream",
     "text": [
      "[I 2024-10-14 08:08:55,671] Trial 1 finished with value: 0.010802674107253551 and parameters: {'units': 16, 'kernel_initializer': 'RandomNormal', 'activation_lstm': 'linear', 'rate': 0.31558407944296235, 'activation_dense': 'linear'}. Best is trial 1 with value: 0.010802674107253551.\n"
     ]
    },
    {
     "name": "stdout",
     "output_type": "stream",
     "text": [
      "Epoch 1/10\n",
      "\u001b[1m33186/33186\u001b[0m \u001b[32m━━━━━━━━━━━━━━━━━━━━\u001b[0m\u001b[37m\u001b[0m \u001b[1m98s\u001b[0m 3ms/step - loss: 0.0287 - val_loss: 0.0171\n",
      "Epoch 2/10\n",
      "\u001b[1m33186/33186\u001b[0m \u001b[32m━━━━━━━━━━━━━━━━━━━━\u001b[0m\u001b[37m\u001b[0m \u001b[1m100s\u001b[0m 3ms/step - loss: 0.0182 - val_loss: 0.0169\n",
      "Epoch 3/10\n",
      "\u001b[1m33186/33186\u001b[0m \u001b[32m━━━━━━━━━━━━━━━━━━━━\u001b[0m\u001b[37m\u001b[0m \u001b[1m98s\u001b[0m 3ms/step - loss: 0.0177 - val_loss: 0.0159\n",
      "Epoch 4/10\n",
      "\u001b[1m33186/33186\u001b[0m \u001b[32m━━━━━━━━━━━━━━━━━━━━\u001b[0m\u001b[37m\u001b[0m \u001b[1m97s\u001b[0m 3ms/step - loss: 0.0168 - val_loss: 0.0156\n",
      "Epoch 5/10\n",
      "\u001b[1m33186/33186\u001b[0m \u001b[32m━━━━━━━━━━━━━━━━━━━━\u001b[0m\u001b[37m\u001b[0m \u001b[1m91s\u001b[0m 3ms/step - loss: 0.0167 - val_loss: 0.0153\n",
      "Epoch 6/10\n",
      "\u001b[1m33186/33186\u001b[0m \u001b[32m━━━━━━━━━━━━━━━━━━━━\u001b[0m\u001b[37m\u001b[0m \u001b[1m95s\u001b[0m 3ms/step - loss: 0.0163 - val_loss: 0.0151\n",
      "Epoch 7/10\n",
      "\u001b[1m33186/33186\u001b[0m \u001b[32m━━━━━━━━━━━━━━━━━━━━\u001b[0m\u001b[37m\u001b[0m \u001b[1m90s\u001b[0m 3ms/step - loss: 0.0162 - val_loss: 0.0154\n",
      "Epoch 8/10\n",
      "\u001b[1m33186/33186\u001b[0m \u001b[32m━━━━━━━━━━━━━━━━━━━━\u001b[0m\u001b[37m\u001b[0m \u001b[1m91s\u001b[0m 3ms/step - loss: 0.0164 - val_loss: 0.0154\n",
      "Epoch 9/10\n",
      "\u001b[1m33186/33186\u001b[0m \u001b[32m━━━━━━━━━━━━━━━━━━━━\u001b[0m\u001b[37m\u001b[0m \u001b[1m90s\u001b[0m 3ms/step - loss: 0.0161 - val_loss: 0.0150\n",
      "Epoch 10/10\n",
      "\u001b[1m33186/33186\u001b[0m \u001b[32m━━━━━━━━━━━━━━━━━━━━\u001b[0m\u001b[37m\u001b[0m \u001b[1m93s\u001b[0m 3ms/step - loss: 0.0159 - val_loss: 0.0151\n",
      "\u001b[1m18437/18437\u001b[0m \u001b[32m━━━━━━━━━━━━━━━━━━━━\u001b[0m\u001b[37m\u001b[0m \u001b[1m18s\u001b[0m 991us/step - loss: 0.0151\n"
     ]
    },
    {
     "name": "stderr",
     "output_type": "stream",
     "text": [
      "[I 2024-10-14 08:24:58,587] Trial 2 finished with value: 0.015072311274707317 and parameters: {'units': 8, 'kernel_initializer': 'RandomUniform', 'activation_lstm': 'relu', 'rate': 0.05345720886256868, 'activation_dense': 'tanh'}. Best is trial 1 with value: 0.010802674107253551.\n"
     ]
    },
    {
     "name": "stdout",
     "output_type": "stream",
     "text": [
      "Epoch 1/10\n",
      "\u001b[1m33186/33186\u001b[0m \u001b[32m━━━━━━━━━━━━━━━━━━━━\u001b[0m\u001b[37m\u001b[0m \u001b[1m108s\u001b[0m 3ms/step - loss: 0.0321 - val_loss: 0.0181\n",
      "Epoch 2/10\n",
      "\u001b[1m33186/33186\u001b[0m \u001b[32m━━━━━━━━━━━━━━━━━━━━\u001b[0m\u001b[37m\u001b[0m \u001b[1m110s\u001b[0m 3ms/step - loss: 0.0194 - val_loss: 0.0174\n",
      "Epoch 3/10\n",
      "\u001b[1m33186/33186\u001b[0m \u001b[32m━━━━━━━━━━━━━━━━━━━━\u001b[0m\u001b[37m\u001b[0m \u001b[1m113s\u001b[0m 3ms/step - loss: 0.0175 - val_loss: 0.0146\n",
      "Epoch 4/10\n",
      "\u001b[1m33186/33186\u001b[0m \u001b[32m━━━━━━━━━━━━━━━━━━━━\u001b[0m\u001b[37m\u001b[0m \u001b[1m105s\u001b[0m 3ms/step - loss: 0.0159 - val_loss: 0.0135\n",
      "Epoch 5/10\n",
      "\u001b[1m33186/33186\u001b[0m \u001b[32m━━━━━━━━━━━━━━━━━━━━\u001b[0m\u001b[37m\u001b[0m \u001b[1m106s\u001b[0m 3ms/step - loss: 0.0150 - val_loss: 0.0128\n",
      "Epoch 6/10\n",
      "\u001b[1m33186/33186\u001b[0m \u001b[32m━━━━━━━━━━━━━━━━━━━━\u001b[0m\u001b[37m\u001b[0m \u001b[1m103s\u001b[0m 3ms/step - loss: 0.0143 - val_loss: 0.0123\n",
      "Epoch 7/10\n",
      "\u001b[1m33186/33186\u001b[0m \u001b[32m━━━━━━━━━━━━━━━━━━━━\u001b[0m\u001b[37m\u001b[0m \u001b[1m102s\u001b[0m 3ms/step - loss: 0.0138 - val_loss: 0.0127\n",
      "Epoch 8/10\n",
      "\u001b[1m33186/33186\u001b[0m \u001b[32m━━━━━━━━━━━━━━━━━━━━\u001b[0m\u001b[37m\u001b[0m \u001b[1m111s\u001b[0m 3ms/step - loss: 0.0135 - val_loss: 0.0117\n",
      "Epoch 9/10\n",
      "\u001b[1m33186/33186\u001b[0m \u001b[32m━━━━━━━━━━━━━━━━━━━━\u001b[0m\u001b[37m\u001b[0m \u001b[1m116s\u001b[0m 3ms/step - loss: 0.0132 - val_loss: 0.0125\n",
      "Epoch 10/10\n",
      "\u001b[1m33186/33186\u001b[0m \u001b[32m━━━━━━━━━━━━━━━━━━━━\u001b[0m\u001b[37m\u001b[0m \u001b[1m110s\u001b[0m 3ms/step - loss: 0.0129 - val_loss: 0.0113\n",
      "\u001b[1m18437/18437\u001b[0m \u001b[32m━━━━━━━━━━━━━━━━━━━━\u001b[0m\u001b[37m\u001b[0m \u001b[1m26s\u001b[0m 1ms/step - loss: 0.0113\n"
     ]
    },
    {
     "name": "stderr",
     "output_type": "stream",
     "text": [
      "[I 2024-10-14 08:43:28,171] Trial 3 finished with value: 0.011279172264039516 and parameters: {'units': 32, 'kernel_initializer': 'Ones', 'activation_lstm': 'sigmoid', 'rate': 0.16543766169722107, 'activation_dense': 'relu'}. Best is trial 1 with value: 0.010802674107253551.\n"
     ]
    },
    {
     "name": "stdout",
     "output_type": "stream",
     "text": [
      "Epoch 1/10\n",
      "\u001b[1m33186/33186\u001b[0m \u001b[32m━━━━━━━━━━━━━━━━━━━━\u001b[0m\u001b[37m\u001b[0m \u001b[1m99s\u001b[0m 3ms/step - loss: 0.1749 - val_loss: 0.1753\n",
      "Epoch 2/10\n",
      "\u001b[1m33186/33186\u001b[0m \u001b[32m━━━━━━━━━━━━━━━━━━━━\u001b[0m\u001b[37m\u001b[0m \u001b[1m96s\u001b[0m 3ms/step - loss: 0.1749 - val_loss: 0.1753\n",
      "Epoch 3/10\n",
      "\u001b[1m33186/33186\u001b[0m \u001b[32m━━━━━━━━━━━━━━━━━━━━\u001b[0m\u001b[37m\u001b[0m \u001b[1m97s\u001b[0m 3ms/step - loss: 0.1741 - val_loss: 0.1753\n",
      "Epoch 4/10\n",
      "\u001b[1m33186/33186\u001b[0m \u001b[32m━━━━━━━━━━━━━━━━━━━━\u001b[0m\u001b[37m\u001b[0m \u001b[1m98s\u001b[0m 3ms/step - loss: 0.1743 - val_loss: 0.1753\n",
      "Epoch 5/10\n",
      "\u001b[1m33186/33186\u001b[0m \u001b[32m━━━━━━━━━━━━━━━━━━━━\u001b[0m\u001b[37m\u001b[0m \u001b[1m95s\u001b[0m 3ms/step - loss: 0.1740 - val_loss: 0.1753\n",
      "Epoch 6/10\n",
      "\u001b[1m33186/33186\u001b[0m \u001b[32m━━━━━━━━━━━━━━━━━━━━\u001b[0m\u001b[37m\u001b[0m \u001b[1m94s\u001b[0m 3ms/step - loss: 0.1744 - val_loss: 0.1753\n",
      "Epoch 7/10\n",
      "\u001b[1m33186/33186\u001b[0m \u001b[32m━━━━━━━━━━━━━━━━━━━━\u001b[0m\u001b[37m\u001b[0m \u001b[1m96s\u001b[0m 3ms/step - loss: 0.1747 - val_loss: 0.1753\n",
      "Epoch 8/10\n",
      "\u001b[1m33186/33186\u001b[0m \u001b[32m━━━━━━━━━━━━━━━━━━━━\u001b[0m\u001b[37m\u001b[0m \u001b[1m90s\u001b[0m 3ms/step - loss: 0.1743 - val_loss: 0.1753\n",
      "Epoch 9/10\n",
      "\u001b[1m33186/33186\u001b[0m \u001b[32m━━━━━━━━━━━━━━━━━━━━\u001b[0m\u001b[37m\u001b[0m \u001b[1m97s\u001b[0m 3ms/step - loss: 0.1747 - val_loss: 0.1753\n",
      "Epoch 10/10\n",
      "\u001b[1m33186/33186\u001b[0m \u001b[32m━━━━━━━━━━━━━━━━━━━━\u001b[0m\u001b[37m\u001b[0m \u001b[1m95s\u001b[0m 3ms/step - loss: 0.1750 - val_loss: 0.1753\n",
      "\u001b[1m18437/18437\u001b[0m \u001b[32m━━━━━━━━━━━━━━━━━━━━\u001b[0m\u001b[37m\u001b[0m \u001b[1m20s\u001b[0m 1ms/step - loss: 0.1745\n"
     ]
    },
    {
     "name": "stderr",
     "output_type": "stream",
     "text": [
      "[I 2024-10-14 08:59:45,859] Trial 4 finished with value: 0.17466941475868225 and parameters: {'units': 8, 'kernel_initializer': 'Zeros', 'activation_lstm': 'relu', 'rate': 0.2371032775450034, 'activation_dense': 'relu'}. Best is trial 1 with value: 0.010802674107253551.\n"
     ]
    },
    {
     "name": "stdout",
     "output_type": "stream",
     "text": [
      "Epoch 1/10\n",
      "\u001b[1m33186/33186\u001b[0m \u001b[32m━━━━━━━━━━━━━━━━━━━━\u001b[0m\u001b[37m\u001b[0m \u001b[1m204s\u001b[0m 6ms/step - loss: 0.0229 - val_loss: 0.0142\n",
      "Epoch 2/10\n",
      "\u001b[1m33186/33186\u001b[0m \u001b[32m━━━━━━━━━━━━━━━━━━━━\u001b[0m\u001b[37m\u001b[0m \u001b[1m196s\u001b[0m 6ms/step - loss: 0.0153 - val_loss: 0.0114\n",
      "Epoch 3/10\n",
      "\u001b[1m33186/33186\u001b[0m \u001b[32m━━━━━━━━━━━━━━━━━━━━\u001b[0m\u001b[37m\u001b[0m \u001b[1m198s\u001b[0m 6ms/step - loss: nan - val_loss: nan\n",
      "Epoch 4/10\n",
      "\u001b[1m33186/33186\u001b[0m \u001b[32m━━━━━━━━━━━━━━━━━━━━\u001b[0m\u001b[37m\u001b[0m \u001b[1m200s\u001b[0m 6ms/step - loss: nan - val_loss: nan\n",
      "Epoch 5/10\n",
      "\u001b[1m33186/33186\u001b[0m \u001b[32m━━━━━━━━━━━━━━━━━━━━\u001b[0m\u001b[37m\u001b[0m \u001b[1m200s\u001b[0m 6ms/step - loss: nan - val_loss: nan\n",
      "Epoch 6/10\n",
      "\u001b[1m33186/33186\u001b[0m \u001b[32m━━━━━━━━━━━━━━━━━━━━\u001b[0m\u001b[37m\u001b[0m \u001b[1m198s\u001b[0m 6ms/step - loss: nan - val_loss: nan\n",
      "Epoch 7/10\n",
      "\u001b[1m33186/33186\u001b[0m \u001b[32m━━━━━━━━━━━━━━━━━━━━\u001b[0m\u001b[37m\u001b[0m \u001b[1m190s\u001b[0m 6ms/step - loss: nan - val_loss: nan\n",
      "Epoch 8/10\n",
      "\u001b[1m33186/33186\u001b[0m \u001b[32m━━━━━━━━━━━━━━━━━━━━\u001b[0m\u001b[37m\u001b[0m \u001b[1m196s\u001b[0m 6ms/step - loss: nan - val_loss: nan\n",
      "Epoch 9/10\n",
      "\u001b[1m33186/33186\u001b[0m \u001b[32m━━━━━━━━━━━━━━━━━━━━\u001b[0m\u001b[37m\u001b[0m \u001b[1m191s\u001b[0m 6ms/step - loss: nan - val_loss: nan\n",
      "Epoch 10/10\n",
      "\u001b[1m33186/33186\u001b[0m \u001b[32m━━━━━━━━━━━━━━━━━━━━\u001b[0m\u001b[37m\u001b[0m \u001b[1m187s\u001b[0m 6ms/step - loss: nan - val_loss: nan\n",
      "\u001b[1m18437/18437\u001b[0m \u001b[32m━━━━━━━━━━━━━━━━━━━━\u001b[0m\u001b[37m\u001b[0m \u001b[1m62s\u001b[0m 3ms/step - loss: nan\n"
     ]
    },
    {
     "name": "stderr",
     "output_type": "stream",
     "text": [
      "[W 2024-10-14 09:33:27,437] Trial 5 failed with parameters: {'units': 128, 'kernel_initializer': 'GlorotNormal', 'activation_lstm': 'linear', 'rate': 0.7554875062972062, 'activation_dense': 'linear'} because of the following error: The value nan is not acceptable.\n",
      "[W 2024-10-14 09:33:27,438] Trial 5 failed with value nan.\n"
     ]
    },
    {
     "name": "stdout",
     "output_type": "stream",
     "text": [
      "Epoch 1/10\n",
      "\u001b[1m33186/33186\u001b[0m \u001b[32m━━━━━━━━━━━━━━━━━━━━\u001b[0m\u001b[37m\u001b[0m \u001b[1m199s\u001b[0m 6ms/step - loss: 0.0530 - val_loss: 0.0520\n",
      "Epoch 2/10\n",
      "\u001b[1m33186/33186\u001b[0m \u001b[32m━━━━━━━━━━━━━━━━━━━━\u001b[0m\u001b[37m\u001b[0m \u001b[1m197s\u001b[0m 6ms/step - loss: 0.0520 - val_loss: 0.0520\n",
      "Epoch 3/10\n",
      "\u001b[1m33186/33186\u001b[0m \u001b[32m━━━━━━━━━━━━━━━━━━━━\u001b[0m\u001b[37m\u001b[0m \u001b[1m204s\u001b[0m 6ms/step - loss: 0.0521 - val_loss: 0.0520\n",
      "Epoch 4/10\n",
      "\u001b[1m33186/33186\u001b[0m \u001b[32m━━━━━━━━━━━━━━━━━━━━\u001b[0m\u001b[37m\u001b[0m \u001b[1m192s\u001b[0m 6ms/step - loss: 0.0521 - val_loss: 0.0520\n",
      "Epoch 5/10\n",
      "\u001b[1m33186/33186\u001b[0m \u001b[32m━━━━━━━━━━━━━━━━━━━━\u001b[0m\u001b[37m\u001b[0m \u001b[1m193s\u001b[0m 6ms/step - loss: 0.0519 - val_loss: 0.0520\n",
      "Epoch 6/10\n",
      "\u001b[1m33186/33186\u001b[0m \u001b[32m━━━━━━━━━━━━━━━━━━━━\u001b[0m\u001b[37m\u001b[0m \u001b[1m196s\u001b[0m 6ms/step - loss: 0.0521 - val_loss: 0.0520\n",
      "Epoch 7/10\n",
      "\u001b[1m33186/33186\u001b[0m \u001b[32m━━━━━━━━━━━━━━━━━━━━\u001b[0m\u001b[37m\u001b[0m \u001b[1m203s\u001b[0m 6ms/step - loss: 0.0520 - val_loss: 0.0520\n",
      "Epoch 8/10\n",
      "\u001b[1m33186/33186\u001b[0m \u001b[32m━━━━━━━━━━━━━━━━━━━━\u001b[0m\u001b[37m\u001b[0m \u001b[1m200s\u001b[0m 6ms/step - loss: 0.0522 - val_loss: 0.0520\n",
      "Epoch 9/10\n",
      "\u001b[1m33186/33186\u001b[0m \u001b[32m━━━━━━━━━━━━━━━━━━━━\u001b[0m\u001b[37m\u001b[0m \u001b[1m203s\u001b[0m 6ms/step - loss: 0.0522 - val_loss: 0.0520\n",
      "Epoch 10/10\n",
      "\u001b[1m33186/33186\u001b[0m \u001b[32m━━━━━━━━━━━━━━━━━━━━\u001b[0m\u001b[37m\u001b[0m \u001b[1m203s\u001b[0m 6ms/step - loss: 0.0519 - val_loss: 0.0520\n",
      "\u001b[1m18437/18437\u001b[0m \u001b[32m━━━━━━━━━━━━━━━━━━━━\u001b[0m\u001b[37m\u001b[0m \u001b[1m69s\u001b[0m 4ms/step - loss: 0.0520\n"
     ]
    },
    {
     "name": "stderr",
     "output_type": "stream",
     "text": [
      "[I 2024-10-14 10:07:47,643] Trial 6 finished with value: 0.052055008709430695 and parameters: {'units': 128, 'kernel_initializer': 'Zeros', 'activation_lstm': 'relu', 'rate': 0.2330509764136363, 'activation_dense': 'sigmoid'}. Best is trial 1 with value: 0.010802674107253551.\n"
     ]
    },
    {
     "name": "stdout",
     "output_type": "stream",
     "text": [
      "Epoch 1/10\n",
      "\u001b[1m33186/33186\u001b[0m \u001b[32m━━━━━━━━━━━━━━━━━━━━\u001b[0m\u001b[37m\u001b[0m \u001b[1m95s\u001b[0m 3ms/step - loss: 0.0531 - val_loss: 0.0520\n",
      "Epoch 2/10\n",
      "\u001b[1m33186/33186\u001b[0m \u001b[32m━━━━━━━━━━━━━━━━━━━━\u001b[0m\u001b[37m\u001b[0m \u001b[1m92s\u001b[0m 3ms/step - loss: 0.0520 - val_loss: 0.0520\n",
      "Epoch 3/10\n",
      "\u001b[1m33186/33186\u001b[0m \u001b[32m━━━━━━━━━━━━━━━━━━━━\u001b[0m\u001b[37m\u001b[0m \u001b[1m88s\u001b[0m 3ms/step - loss: 0.0520 - val_loss: 0.0520\n",
      "Epoch 4/10\n",
      "\u001b[1m33186/33186\u001b[0m \u001b[32m━━━━━━━━━━━━━━━━━━━━\u001b[0m\u001b[37m\u001b[0m \u001b[1m88s\u001b[0m 3ms/step - loss: 0.0521 - val_loss: 0.0520\n",
      "Epoch 5/10\n",
      "\u001b[1m33186/33186\u001b[0m \u001b[32m━━━━━━━━━━━━━━━━━━━━\u001b[0m\u001b[37m\u001b[0m \u001b[1m89s\u001b[0m 3ms/step - loss: 0.0521 - val_loss: 0.0520\n",
      "Epoch 6/10\n",
      "\u001b[1m33186/33186\u001b[0m \u001b[32m━━━━━━━━━━━━━━━━━━━━\u001b[0m\u001b[37m\u001b[0m \u001b[1m89s\u001b[0m 3ms/step - loss: 0.0521 - val_loss: 0.0520\n",
      "Epoch 7/10\n",
      "\u001b[1m33186/33186\u001b[0m \u001b[32m━━━━━━━━━━━━━━━━━━━━\u001b[0m\u001b[37m\u001b[0m \u001b[1m89s\u001b[0m 3ms/step - loss: 0.0521 - val_loss: 0.0520\n",
      "Epoch 8/10\n",
      "\u001b[1m33186/33186\u001b[0m \u001b[32m━━━━━━━━━━━━━━━━━━━━\u001b[0m\u001b[37m\u001b[0m \u001b[1m89s\u001b[0m 3ms/step - loss: 0.0520 - val_loss: 0.0520\n",
      "Epoch 9/10\n",
      "\u001b[1m33186/33186\u001b[0m \u001b[32m━━━━━━━━━━━━━━━━━━━━\u001b[0m\u001b[37m\u001b[0m \u001b[1m88s\u001b[0m 3ms/step - loss: 0.0521 - val_loss: 0.0520\n",
      "Epoch 10/10\n",
      "\u001b[1m33186/33186\u001b[0m \u001b[32m━━━━━━━━━━━━━━━━━━━━\u001b[0m\u001b[37m\u001b[0m \u001b[1m90s\u001b[0m 3ms/step - loss: 0.0521 - val_loss: 0.0520\n",
      "\u001b[1m18437/18437\u001b[0m \u001b[32m━━━━━━━━━━━━━━━━━━━━\u001b[0m\u001b[37m\u001b[0m \u001b[1m18s\u001b[0m 958us/step - loss: 0.0520\n"
     ]
    },
    {
     "name": "stderr",
     "output_type": "stream",
     "text": [
      "[I 2024-10-14 10:23:02,376] Trial 7 finished with value: 0.05205373838543892 and parameters: {'units': 8, 'kernel_initializer': 'Zeros', 'activation_lstm': 'relu', 'rate': 0.7438514714896854, 'activation_dense': 'sigmoid'}. Best is trial 1 with value: 0.010802674107253551.\n"
     ]
    },
    {
     "name": "stdout",
     "output_type": "stream",
     "text": [
      "Epoch 1/10\n",
      "\u001b[1m33186/33186\u001b[0m \u001b[32m━━━━━━━━━━━━━━━━━━━━\u001b[0m\u001b[37m\u001b[0m \u001b[1m131s\u001b[0m 4ms/step - loss: 0.1809 - val_loss: 0.1753\n",
      "Epoch 2/10\n",
      "\u001b[1m33186/33186\u001b[0m \u001b[32m━━━━━━━━━━━━━━━━━━━━\u001b[0m\u001b[37m\u001b[0m \u001b[1m129s\u001b[0m 4ms/step - loss: 0.0625 - val_loss: 0.1753\n",
      "Epoch 3/10\n",
      "\u001b[1m33186/33186\u001b[0m \u001b[32m━━━━━━━━━━━━━━━━━━━━\u001b[0m\u001b[37m\u001b[0m \u001b[1m129s\u001b[0m 4ms/step - loss: 0.0604 - val_loss: 0.1753\n",
      "Epoch 4/10\n",
      "\u001b[1m33186/33186\u001b[0m \u001b[32m━━━━━━━━━━━━━━━━━━━━\u001b[0m\u001b[37m\u001b[0m \u001b[1m127s\u001b[0m 4ms/step - loss: 0.0597 - val_loss: 0.1735\n",
      "Epoch 5/10\n",
      "\u001b[1m33186/33186\u001b[0m \u001b[32m━━━━━━━━━━━━━━━━━━━━\u001b[0m\u001b[37m\u001b[0m \u001b[1m127s\u001b[0m 4ms/step - loss: 0.0591 - val_loss: 0.1662\n",
      "Epoch 6/10\n",
      "\u001b[1m33186/33186\u001b[0m \u001b[32m━━━━━━━━━━━━━━━━━━━━\u001b[0m\u001b[37m\u001b[0m \u001b[1m134s\u001b[0m 4ms/step - loss: 0.0591 - val_loss: 0.1623\n",
      "Epoch 7/10\n",
      "\u001b[1m33186/33186\u001b[0m \u001b[32m━━━━━━━━━━━━━━━━━━━━\u001b[0m\u001b[37m\u001b[0m \u001b[1m139s\u001b[0m 4ms/step - loss: 0.0586 - val_loss: 0.1504\n",
      "Epoch 8/10\n",
      "\u001b[1m33186/33186\u001b[0m \u001b[32m━━━━━━━━━━━━━━━━━━━━\u001b[0m\u001b[37m\u001b[0m \u001b[1m139s\u001b[0m 4ms/step - loss: 0.0581 - val_loss: 0.1406\n",
      "Epoch 9/10\n",
      "\u001b[1m33186/33186\u001b[0m \u001b[32m━━━━━━━━━━━━━━━━━━━━\u001b[0m\u001b[37m\u001b[0m \u001b[1m131s\u001b[0m 4ms/step - loss: 0.0573 - val_loss: 0.1386\n",
      "Epoch 10/10\n",
      "\u001b[1m33186/33186\u001b[0m \u001b[32m━━━━━━━━━━━━━━━━━━━━\u001b[0m\u001b[37m\u001b[0m \u001b[1m126s\u001b[0m 4ms/step - loss: 0.0575 - val_loss: 0.1271\n",
      "\u001b[1m18437/18437\u001b[0m \u001b[32m━━━━━━━━━━━━━━━━━━━━\u001b[0m\u001b[37m\u001b[0m \u001b[1m33s\u001b[0m 2ms/step - loss: 0.1265\n"
     ]
    },
    {
     "name": "stderr",
     "output_type": "stream",
     "text": [
      "[I 2024-10-14 10:45:27,953] Trial 8 finished with value: 0.12660135328769684 and parameters: {'units': 64, 'kernel_initializer': 'Ones', 'activation_lstm': 'relu', 'rate': 0.7453598974634115, 'activation_dense': 'relu'}. Best is trial 1 with value: 0.010802674107253551.\n"
     ]
    },
    {
     "name": "stdout",
     "output_type": "stream",
     "text": [
      "Epoch 1/10\n",
      "\u001b[1m33186/33186\u001b[0m \u001b[32m━━━━━━━━━━━━━━━━━━━━\u001b[0m\u001b[37m\u001b[0m \u001b[1m108s\u001b[0m 3ms/step - loss: 0.0364 - val_loss: 0.0185\n",
      "Epoch 2/10\n",
      "\u001b[1m33186/33186\u001b[0m \u001b[32m━━━━━━━━━━━━━━━━━━━━\u001b[0m\u001b[37m\u001b[0m \u001b[1m103s\u001b[0m 3ms/step - loss: 0.0261 - val_loss: 0.0172\n",
      "Epoch 3/10\n",
      "\u001b[1m33186/33186\u001b[0m \u001b[32m━━━━━━━━━━━━━━━━━━━━\u001b[0m\u001b[37m\u001b[0m \u001b[1m103s\u001b[0m 3ms/step - loss: 0.0253 - val_loss: 0.0175\n",
      "Epoch 4/10\n",
      "\u001b[1m33186/33186\u001b[0m \u001b[32m━━━━━━━━━━━━━━━━━━━━\u001b[0m\u001b[37m\u001b[0m \u001b[1m103s\u001b[0m 3ms/step - loss: 0.0249 - val_loss: 0.0169\n",
      "Epoch 5/10\n",
      "\u001b[1m33186/33186\u001b[0m \u001b[32m━━━━━━━━━━━━━━━━━━━━\u001b[0m\u001b[37m\u001b[0m \u001b[1m102s\u001b[0m 3ms/step - loss: 0.0249 - val_loss: 0.0168\n",
      "Epoch 6/10\n",
      "\u001b[1m33186/33186\u001b[0m \u001b[32m━━━━━━━━━━━━━━━━━━━━\u001b[0m\u001b[37m\u001b[0m \u001b[1m103s\u001b[0m 3ms/step - loss: 0.0249 - val_loss: 0.0167\n",
      "Epoch 7/10\n",
      "\u001b[1m33186/33186\u001b[0m \u001b[32m━━━━━━━━━━━━━━━━━━━━\u001b[0m\u001b[37m\u001b[0m \u001b[1m102s\u001b[0m 3ms/step - loss: 0.0248 - val_loss: 0.0165\n",
      "Epoch 8/10\n",
      "\u001b[1m33186/33186\u001b[0m \u001b[32m━━━━━━━━━━━━━━━━━━━━\u001b[0m\u001b[37m\u001b[0m \u001b[1m104s\u001b[0m 3ms/step - loss: 0.0247 - val_loss: 0.0165\n",
      "Epoch 9/10\n",
      "\u001b[1m33186/33186\u001b[0m \u001b[32m━━━━━━━━━━━━━━━━━━━━\u001b[0m\u001b[37m\u001b[0m \u001b[1m104s\u001b[0m 3ms/step - loss: 0.0246 - val_loss: 0.0164\n",
      "Epoch 10/10\n",
      "\u001b[1m33186/33186\u001b[0m \u001b[32m━━━━━━━━━━━━━━━━━━━━\u001b[0m\u001b[37m\u001b[0m \u001b[1m104s\u001b[0m 3ms/step - loss: 0.0242 - val_loss: 0.0160\n",
      "\u001b[1m18437/18437\u001b[0m \u001b[32m━━━━━━━━━━━━━━━━━━━━\u001b[0m\u001b[37m\u001b[0m \u001b[1m25s\u001b[0m 1ms/step - loss: 0.0160\n"
     ]
    },
    {
     "name": "stderr",
     "output_type": "stream",
     "text": [
      "[I 2024-10-14 11:03:10,102] Trial 9 finished with value: 0.015989454463124275 and parameters: {'units': 32, 'kernel_initializer': 'GlorotNormal', 'activation_lstm': 'tanh', 'rate': 0.9319788719899176, 'activation_dense': 'tanh'}. Best is trial 1 with value: 0.010802674107253551.\n"
     ]
    }
   ],
   "source": [
    "sampler = TPESampler(seed=RANDOM_SEED)\n",
    "study = optuna.create_study(direction='minimize', sampler=sampler)\n",
    "#optuna.logging.set_verbosity(optuna.logging.WARNING)\n",
    "study.optimize(objective, n_trials=10)"
   ]
  },
  {
   "cell_type": "code",
   "execution_count": 15,
   "id": "ac9e849c-9133-4929-82ab-c7a71adbad0c",
   "metadata": {},
   "outputs": [
    {
     "name": "stdout",
     "output_type": "stream",
     "text": [
      "Melhor MSE: 0.010802674107253551\n",
      "Melhores parâmetros: {'units': 16, 'kernel_initializer': 'RandomNormal', 'activation_lstm': 'linear', 'rate': 0.31558407944296235, 'activation_dense': 'linear'}\n"
     ]
    }
   ],
   "source": [
    "melhores_parametros = study.best_params\n",
    "\n",
    "print(f\"Melhor MSE: {study.best_trial.value}\")\n",
    "print(f\"Melhores parâmetros: {study.best_params}\")"
   ]
  },
  {
   "cell_type": "markdown",
   "id": "4fac5314-d011-4323-a71b-438632055a60",
   "metadata": {},
   "source": [
    "#### **Treinando o modelo com os parâmetros ajustados:**"
   ]
  },
  {
   "cell_type": "code",
   "execution_count": 16,
   "id": "314e4367-08ce-4a97-8dcc-9598314f5add",
   "metadata": {},
   "outputs": [],
   "source": [
    "# Instanciando o modelo\n",
    "model = Sequential()\n",
    "model.add(Input(shape=(X_train.shape[1], 1)))\n",
    "model.add(LSTM(units=melhores_parametros['units'], kernel_initializer=melhores_parametros['kernel_initializer'], activation=melhores_parametros['activation_lstm']))\n",
    "model.add(Dropout(rate=melhores_parametros['rate']))\n",
    "model.add(Flatten())\n",
    "model.add(Dense(units=1, activation=melhores_parametros['activation_dense']))\n",
    "model.compile(loss=\"mse\", optimizer=\"adam\")"
   ]
  },
  {
   "cell_type": "code",
   "execution_count": 17,
   "id": "21a92701-7454-43d6-a849-9b3a20090fca",
   "metadata": {},
   "outputs": [
    {
     "name": "stdout",
     "output_type": "stream",
     "text": [
      "Epoch 1/25\n",
      "\u001b[1m36873/36873\u001b[0m \u001b[32m━━━━━━━━━━━━━━━━━━━━\u001b[0m\u001b[37m\u001b[0m \u001b[1m97s\u001b[0m 3ms/step - loss: 0.0240\n",
      "Epoch 2/25\n",
      "\u001b[1m36873/36873\u001b[0m \u001b[32m━━━━━━━━━━━━━━━━━━━━\u001b[0m\u001b[37m\u001b[0m \u001b[1m113s\u001b[0m 3ms/step - loss: 0.0173\n",
      "Epoch 3/25\n",
      "\u001b[1m36873/36873\u001b[0m \u001b[32m━━━━━━━━━━━━━━━━━━━━\u001b[0m\u001b[37m\u001b[0m \u001b[1m113s\u001b[0m 3ms/step - loss: 0.0163\n",
      "Epoch 4/25\n",
      "\u001b[1m36873/36873\u001b[0m \u001b[32m━━━━━━━━━━━━━━━━━━━━\u001b[0m\u001b[37m\u001b[0m \u001b[1m112s\u001b[0m 3ms/step - loss: 0.0155\n",
      "Epoch 5/25\n",
      "\u001b[1m36873/36873\u001b[0m \u001b[32m━━━━━━━━━━━━━━━━━━━━\u001b[0m\u001b[37m\u001b[0m \u001b[1m96s\u001b[0m 3ms/step - loss: 0.0147\n",
      "Epoch 6/25\n",
      "\u001b[1m36873/36873\u001b[0m \u001b[32m━━━━━━━━━━━━━━━━━━━━\u001b[0m\u001b[37m\u001b[0m \u001b[1m93s\u001b[0m 3ms/step - loss: 0.0141\n",
      "Epoch 7/25\n",
      "\u001b[1m36873/36873\u001b[0m \u001b[32m━━━━━━━━━━━━━━━━━━━━\u001b[0m\u001b[37m\u001b[0m \u001b[1m92s\u001b[0m 3ms/step - loss: 0.0137\n",
      "Epoch 8/25\n",
      "\u001b[1m36873/36873\u001b[0m \u001b[32m━━━━━━━━━━━━━━━━━━━━\u001b[0m\u001b[37m\u001b[0m \u001b[1m93s\u001b[0m 3ms/step - loss: 0.0133\n",
      "Epoch 9/25\n",
      "\u001b[1m36873/36873\u001b[0m \u001b[32m━━━━━━━━━━━━━━━━━━━━\u001b[0m\u001b[37m\u001b[0m \u001b[1m89s\u001b[0m 2ms/step - loss: 0.0130\n",
      "Epoch 10/25\n",
      "\u001b[1m36873/36873\u001b[0m \u001b[32m━━━━━━━━━━━━━━━━━━━━\u001b[0m\u001b[37m\u001b[0m \u001b[1m89s\u001b[0m 2ms/step - loss: 0.0127\n",
      "Epoch 11/25\n",
      "\u001b[1m36873/36873\u001b[0m \u001b[32m━━━━━━━━━━━━━━━━━━━━\u001b[0m\u001b[37m\u001b[0m \u001b[1m90s\u001b[0m 2ms/step - loss: 0.0125\n",
      "Epoch 12/25\n",
      "\u001b[1m36873/36873\u001b[0m \u001b[32m━━━━━━━━━━━━━━━━━━━━\u001b[0m\u001b[37m\u001b[0m \u001b[1m93s\u001b[0m 3ms/step - loss: 0.0124\n",
      "Epoch 13/25\n",
      "\u001b[1m36873/36873\u001b[0m \u001b[32m━━━━━━━━━━━━━━━━━━━━\u001b[0m\u001b[37m\u001b[0m \u001b[1m91s\u001b[0m 2ms/step - loss: 0.0123\n",
      "Epoch 14/25\n",
      "\u001b[1m36873/36873\u001b[0m \u001b[32m━━━━━━━━━━━━━━━━━━━━\u001b[0m\u001b[37m\u001b[0m \u001b[1m94s\u001b[0m 3ms/step - loss: 0.0121\n",
      "Epoch 15/25\n",
      "\u001b[1m36873/36873\u001b[0m \u001b[32m━━━━━━━━━━━━━━━━━━━━\u001b[0m\u001b[37m\u001b[0m \u001b[1m93s\u001b[0m 3ms/step - loss: 0.0121\n",
      "Epoch 16/25\n",
      "\u001b[1m36873/36873\u001b[0m \u001b[32m━━━━━━━━━━━━━━━━━━━━\u001b[0m\u001b[37m\u001b[0m \u001b[1m94s\u001b[0m 3ms/step - loss: 0.0120\n",
      "Epoch 17/25\n",
      "\u001b[1m36873/36873\u001b[0m \u001b[32m━━━━━━━━━━━━━━━━━━━━\u001b[0m\u001b[37m\u001b[0m \u001b[1m93s\u001b[0m 3ms/step - loss: 0.0120\n",
      "Epoch 18/25\n",
      "\u001b[1m36873/36873\u001b[0m \u001b[32m━━━━━━━━━━━━━━━━━━━━\u001b[0m\u001b[37m\u001b[0m \u001b[1m94s\u001b[0m 3ms/step - loss: 0.0384\n",
      "Epoch 19/25\n",
      "\u001b[1m36873/36873\u001b[0m \u001b[32m━━━━━━━━━━━━━━━━━━━━\u001b[0m\u001b[37m\u001b[0m \u001b[1m92s\u001b[0m 2ms/step - loss: 0.6960\n",
      "Epoch 20/25\n",
      "\u001b[1m36873/36873\u001b[0m \u001b[32m━━━━━━━━━━━━━━━━━━━━\u001b[0m\u001b[37m\u001b[0m \u001b[1m94s\u001b[0m 3ms/step - loss: 3.4705\n",
      "Epoch 21/25\n",
      "\u001b[1m36873/36873\u001b[0m \u001b[32m━━━━━━━━━━━━━━━━━━━━\u001b[0m\u001b[37m\u001b[0m \u001b[1m92s\u001b[0m 2ms/step - loss: 23.1490\n",
      "Epoch 22/25\n",
      "\u001b[1m36873/36873\u001b[0m \u001b[32m━━━━━━━━━━━━━━━━━━━━\u001b[0m\u001b[37m\u001b[0m \u001b[1m94s\u001b[0m 3ms/step - loss: 11.6789\n",
      "Epoch 23/25\n",
      "\u001b[1m36873/36873\u001b[0m \u001b[32m━━━━━━━━━━━━━━━━━━━━\u001b[0m\u001b[37m\u001b[0m \u001b[1m91s\u001b[0m 2ms/step - loss: 7.8340\n",
      "Epoch 24/25\n",
      "\u001b[1m36873/36873\u001b[0m \u001b[32m━━━━━━━━━━━━━━━━━━━━\u001b[0m\u001b[37m\u001b[0m \u001b[1m92s\u001b[0m 3ms/step - loss: 32.7066\n",
      "Epoch 25/25\n",
      "\u001b[1m36873/36873\u001b[0m \u001b[32m━━━━━━━━━━━━━━━━━━━━\u001b[0m\u001b[37m\u001b[0m \u001b[1m90s\u001b[0m 2ms/step - loss: 41.8804\n"
     ]
    }
   ],
   "source": [
    "# Treinando o modelo\n",
    "history = model.fit(X_train, y_train_norm, batch_size=16, epochs=25)"
   ]
  },
  {
   "cell_type": "code",
   "execution_count": 18,
   "id": "4c8b60e5-ab05-464f-a5cb-e00956a65d03",
   "metadata": {},
   "outputs": [
    {
     "data": {
      "image/png": "[encoded data removed]",
      "text/plain": [
       "<Figure size 640x480 with 1 Axes>"
      ]
     },
     "metadata": {},
     "output_type": "display_data"
    }
   ],
   "source": [
    "# Gráfico de perda\n",
    "plt.plot(history.history['loss'])\n",
    "#plt.plot(history.history['val_loss'])\n",
    "plt.title('Perda (loss) do modelo')\n",
    "plt.ylabel('Loss')\n",
    "plt.xlabel('Epoch')\n",
    "#plt.legend(['Treino', 'Validação'], loc='upper right')\n",
    "\n",
    "plt.tight_layout()"
   ]
  },
  {
   "cell_type": "markdown",
   "id": "a114ebea-ba33-4a7e-8959-ac48eb438cb6",
   "metadata": {},
   "source": [
    "#### **Avaliando o modelo**"
   ]
  },
  {
   "cell_type": "code",
   "execution_count": 19,
   "id": "a8f9fe50-ea25-495c-8be7-092cb7f57646",
   "metadata": {},
   "outputs": [
    {
     "name": "stdout",
     "output_type": "stream",
     "text": [
      "\u001b[1m4610/4610\u001b[0m \u001b[32m━━━━━━━━━━━━━━━━━━━━\u001b[0m\u001b[37m\u001b[0m \u001b[1m5s\u001b[0m 1ms/step\n"
     ]
    }
   ],
   "source": [
    "# Fazendo previsões\n",
    "y_pred_norm = model.predict(X_test)\n",
    "\n",
    "# Valores resultantes das previsões em seu formato real\n",
    "y_pred = inverse_normY(y_pred_norm, y_train_max, y_train_min)"
   ]
  },
  {
   "cell_type": "code",
   "execution_count": 20,
   "id": "e2d1c083-e47b-4c5a-b0f8-241b2d6f4a77",
   "metadata": {},
   "outputs": [
    {
     "data": {
      "text/plain": [
       "{'R2': -5.837487462971808, 'MSE': 8.708917425555184, 'RMSE': 2.951087498796873}"
      ]
     },
     "execution_count": 20,
     "metadata": {},
     "output_type": "execute_result"
    }
   ],
   "source": [
    "# Avaliando o modelo XGB\n",
    "eval_metrics(y_test, y_pred)"
   ]
  },
  {
   "cell_type": "markdown",
   "id": "b1ebb016-01e2-4073-a3d0-cb0206358026",
   "metadata": {},
   "source": [
    "### **Modelo LSTM com as variáveis selecionadas**"
   ]
  },
  {
   "cell_type": "markdown",
   "id": "cff1cd72-3c76-46ff-a37c-74203a9b0d8b",
   "metadata": {},
   "source": [
    "#### **Separação dos dados em teste e treino**"
   ]
  },
  {
   "cell_type": "code",
   "execution_count": 21,
   "id": "e5869646-018d-4450-a5dd-45e5b9e323e4",
   "metadata": {},
   "outputs": [],
   "source": [
    "X = df[[\"Amina Flow\", \"Ore Pulp pH\", \"Flotation Column 01 Air Flow\",\n",
    "        \"Flotation Column 02 Air Flow\", \"Flotation Column 03 Air Flow\", \"Flotation Column 04 Level\", \n",
    "        \"Flotation Column 05 Level\", \"Flotation Column 06 Level\", \"Flotation Column 07 Level\",\n",
    "        \"% Iron Concentrate\"]].copy()\n",
    "y = df['% Silica Concentrate']"
   ]
  },
  {
   "cell_type": "code",
   "execution_count": 22,
   "id": "037890a9-37af-41e8-9e1c-644828318db2",
   "metadata": {},
   "outputs": [],
   "source": [
    "# Separando\n",
    "X_train, X_test, y_train, y_test = train_test_split(X, y, test_size=0.2, random_state=RANDOM_SEED)"
   ]
  },
  {
   "cell_type": "markdown",
   "id": "6471cef1-eac8-4d72-ab4c-854b0cb09ade",
   "metadata": {},
   "source": [
    "#### **Normalização das colunas**"
   ]
  },
  {
   "cell_type": "markdown",
   "id": "16d53081-562c-4922-a6aa-72cfb21481db",
   "metadata": {},
   "source": [
    "**Dados de treino:**"
   ]
  },
  {
   "cell_type": "code",
   "execution_count": 23,
   "id": "66323dbc-544c-4020-b255-cd3e61c37a7d",
   "metadata": {},
   "outputs": [],
   "source": [
    "# X_train\n",
    "scaler = MinMaxScaler()\n",
    "\n",
    "scaler.fit(X_train)\n",
    "\n",
    "X_train = scaler.transform(X_train)"
   ]
  },
  {
   "cell_type": "code",
   "execution_count": 24,
   "id": "3ef4ab36-01df-4229-9e8a-dfb232bd97fc",
   "metadata": {},
   "outputs": [],
   "source": [
    "# y_train\n",
    "y_train_norm, y_train_max, y_train_min = normY(y_train)"
   ]
  },
  {
   "cell_type": "markdown",
   "id": "ec045a16-151c-4644-97f5-96a0dcdb0918",
   "metadata": {},
   "source": [
    "**Dados de teste:**"
   ]
  },
  {
   "cell_type": "code",
   "execution_count": 25,
   "id": "a333c28b-8a9d-4bbb-a8f2-0e5bc5ad6cc3",
   "metadata": {},
   "outputs": [],
   "source": [
    "# X_test\n",
    "X_test = scaler.transform(X_test)"
   ]
  },
  {
   "cell_type": "markdown",
   "id": "509847f5-0ada-4f39-a4d3-46242ce7e75d",
   "metadata": {},
   "source": [
    "#### **Ajuste dos hiperparâmetros com Optuna**"
   ]
  },
  {
   "cell_type": "code",
   "execution_count": 26,
   "id": "fd4ef306-1134-4dc6-9eba-fa16381cec00",
   "metadata": {},
   "outputs": [],
   "source": [
    "def objective(trial):    \n",
    "    ## LSTM ##\n",
    "    # units\n",
    "    units = trial.suggest_categorical('units', [8, 16, 32, 64, 128])\n",
    "\n",
    "    # kernel_initializer\n",
    "    kernel_initializer = trial.suggest_categorical('kernel_initializer', [\"RandomNormal\", \"RandomUniform\", \"Zeros\", \"Ones\", \"GlorotNormal\", \"GlorotUniform\"])\n",
    "\n",
    "    # activation\n",
    "    activation_lstm = trial.suggest_categorical('activation_lstm', [\"relu\", \"linear\", \"sigmoid\", \"tanh\"])\n",
    "\n",
    "    ## Dropout ##\n",
    "    # rate\n",
    "    rate = trial.suggest_float('rate', 0.0001, 1)\n",
    "    \n",
    "    ## Dense ##\n",
    "    # activation\n",
    "    activation_dense = trial.suggest_categorical('activation_dense', [\"relu\", \"linear\", \"sigmoid\", \"tanh\"])\n",
    "\n",
    "    # Instanciando o modelo\n",
    "    model = Sequential()\n",
    "    model.add(Input(shape=(X_train.shape[1], 1)))\n",
    "    model.add(LSTM(units=units, kernel_initializer=kernel_initializer, activation=activation_lstm))\n",
    "    model.add(Dropout(rate=rate))\n",
    "    model.add(Flatten())\n",
    "    model.add(Dense(units=1, activation=activation_dense))\n",
    "    model.compile(loss=\"mse\", optimizer=\"adam\")\n",
    "\n",
    "    # Treinando o modelo\n",
    "    model.fit(X_train, y_train_norm, validation_split=0.1, batch_size=16, epochs=10)\n",
    "\n",
    "    # Melhor MSE\n",
    "    mse = model.evaluate(X_train, y_train_norm)\n",
    "    \n",
    "    return mse"
   ]
  },
  {
   "cell_type": "code",
   "execution_count": 27,
   "id": "90edcc04-bbfb-4e9f-a8eb-26585bd6427f",
   "metadata": {},
   "outputs": [
    {
     "name": "stderr",
     "output_type": "stream",
     "text": [
      "[I 2024-10-14 11:42:55,930] A new study created in memory with name: no-name-09b673ea-1309-4e99-9496-b641ec9c3170\n"
     ]
    },
    {
     "name": "stdout",
     "output_type": "stream",
     "text": [
      "Epoch 1/10\n",
      "\u001b[1m33186/33186\u001b[0m \u001b[32m━━━━━━━━━━━━━━━━━━━━\u001b[0m\u001b[37m\u001b[0m \u001b[1m58s\u001b[0m 2ms/step - loss: 0.0620 - val_loss: 0.0219\n",
      "Epoch 2/10\n",
      "\u001b[1m33186/33186\u001b[0m \u001b[32m━━━━━━━━━━━━━━━━━━━━\u001b[0m\u001b[37m\u001b[0m \u001b[1m56s\u001b[0m 2ms/step - loss: 0.0282 - val_loss: 0.0192\n",
      "Epoch 3/10\n",
      "\u001b[1m33186/33186\u001b[0m \u001b[32m━━━━━━━━━━━━━━━━━━━━\u001b[0m\u001b[37m\u001b[0m \u001b[1m57s\u001b[0m 2ms/step - loss: 0.0262 - val_loss: 0.0174\n",
      "Epoch 4/10\n",
      "\u001b[1m33186/33186\u001b[0m \u001b[32m━━━━━━━━━━━━━━━━━━━━\u001b[0m\u001b[37m\u001b[0m \u001b[1m57s\u001b[0m 2ms/step - loss: 0.0248 - val_loss: 0.0165\n",
      "Epoch 5/10\n",
      "\u001b[1m33186/33186\u001b[0m \u001b[32m━━━━━━━━━━━━━━━━━━━━\u001b[0m\u001b[37m\u001b[0m \u001b[1m57s\u001b[0m 2ms/step - loss: 0.0245 - val_loss: 0.0174\n",
      "Epoch 6/10\n",
      "\u001b[1m33186/33186\u001b[0m \u001b[32m━━━━━━━━━━━━━━━━━━━━\u001b[0m\u001b[37m\u001b[0m \u001b[1m57s\u001b[0m 2ms/step - loss: 0.0241 - val_loss: 0.0174\n",
      "Epoch 7/10\n",
      "\u001b[1m33186/33186\u001b[0m \u001b[32m━━━━━━━━━━━━━━━━━━━━\u001b[0m\u001b[37m\u001b[0m \u001b[1m57s\u001b[0m 2ms/step - loss: 0.0242 - val_loss: 0.0169\n",
      "Epoch 8/10\n",
      "\u001b[1m33186/33186\u001b[0m \u001b[32m━━━━━━━━━━━━━━━━━━━━\u001b[0m\u001b[37m\u001b[0m \u001b[1m57s\u001b[0m 2ms/step - loss: 0.0239 - val_loss: 0.0163\n",
      "Epoch 9/10\n",
      "\u001b[1m33186/33186\u001b[0m \u001b[32m━━━━━━━━━━━━━━━━━━━━\u001b[0m\u001b[37m\u001b[0m \u001b[1m58s\u001b[0m 2ms/step - loss: 0.0239 - val_loss: 0.0171\n",
      "Epoch 10/10\n",
      "\u001b[1m33186/33186\u001b[0m \u001b[32m━━━━━━━━━━━━━━━━━━━━\u001b[0m\u001b[37m\u001b[0m \u001b[1m57s\u001b[0m 2ms/step - loss: 0.0237 - val_loss: 0.0160\n",
      "\u001b[1m18437/18437\u001b[0m \u001b[32m━━━━━━━━━━━━━━━━━━━━\u001b[0m\u001b[37m\u001b[0m \u001b[1m15s\u001b[0m 818us/step - loss: 0.0160\n"
     ]
    },
    {
     "name": "stderr",
     "output_type": "stream",
     "text": [
      "[I 2024-10-14 11:52:40,818] Trial 0 finished with value: 0.016054397448897362 and parameters: {'units': 16, 'kernel_initializer': 'GlorotNormal', 'activation_lstm': 'sigmoid', 'rate': 0.6705004634273843, 'activation_dense': 'linear'}. Best is trial 0 with value: 0.016054397448897362.\n"
     ]
    },
    {
     "name": "stdout",
     "output_type": "stream",
     "text": [
      "Epoch 1/10\n",
      "\u001b[1m33186/33186\u001b[0m \u001b[32m━━━━━━━━━━━━━━━━━━━━\u001b[0m\u001b[37m\u001b[0m \u001b[1m57s\u001b[0m 2ms/step - loss: 0.0241 - val_loss: 0.0162\n",
      "Epoch 2/10\n",
      "\u001b[1m33186/33186\u001b[0m \u001b[32m━━━━━━━━━━━━━━━━━━━━\u001b[0m\u001b[37m\u001b[0m \u001b[1m55s\u001b[0m 2ms/step - loss: 0.0175 - val_loss: 0.0159\n",
      "Epoch 3/10\n",
      "\u001b[1m33186/33186\u001b[0m \u001b[32m━━━━━━━━━━━━━━━━━━━━\u001b[0m\u001b[37m\u001b[0m \u001b[1m56s\u001b[0m 2ms/step - loss: 0.0170 - val_loss: 0.0152\n",
      "Epoch 4/10\n",
      "\u001b[1m33186/33186\u001b[0m \u001b[32m━━━━━━━━━━━━━━━━━━━━\u001b[0m\u001b[37m\u001b[0m \u001b[1m56s\u001b[0m 2ms/step - loss: 0.0163 - val_loss: 0.0145\n",
      "Epoch 5/10\n",
      "\u001b[1m33186/33186\u001b[0m \u001b[32m━━━━━━━━━━━━━━━━━━━━\u001b[0m\u001b[37m\u001b[0m \u001b[1m56s\u001b[0m 2ms/step - loss: 0.0158 - val_loss: 0.0141\n",
      "Epoch 6/10\n",
      "\u001b[1m33186/33186\u001b[0m \u001b[32m━━━━━━━━━━━━━━━━━━━━\u001b[0m\u001b[37m\u001b[0m \u001b[1m55s\u001b[0m 2ms/step - loss: 0.0155 - val_loss: 0.0139\n",
      "Epoch 7/10\n",
      "\u001b[1m33186/33186\u001b[0m \u001b[32m━━━━━━━━━━━━━━━━━━━━\u001b[0m\u001b[37m\u001b[0m \u001b[1m56s\u001b[0m 2ms/step - loss: 0.0151 - val_loss: 0.0137\n",
      "Epoch 8/10\n",
      "\u001b[1m33186/33186\u001b[0m \u001b[32m━━━━━━━━━━━━━━━━━━━━\u001b[0m\u001b[37m\u001b[0m \u001b[1m55s\u001b[0m 2ms/step - loss: 0.0149 - val_loss: 0.0134\n",
      "Epoch 9/10\n",
      "\u001b[1m33186/33186\u001b[0m \u001b[32m━━━━━━━━━━━━━━━━━━━━\u001b[0m\u001b[37m\u001b[0m \u001b[1m55s\u001b[0m 2ms/step - loss: 0.0148 - val_loss: 0.0131\n",
      "Epoch 10/10\n",
      "\u001b[1m33186/33186\u001b[0m \u001b[32m━━━━━━━━━━━━━━━━━━━━\u001b[0m\u001b[37m\u001b[0m \u001b[1m56s\u001b[0m 2ms/step - loss: 0.0146 - val_loss: 0.0130\n",
      "\u001b[1m18437/18437\u001b[0m \u001b[32m━━━━━━━━━━━━━━━━━━━━\u001b[0m\u001b[37m\u001b[0m \u001b[1m15s\u001b[0m 785us/step - loss: 0.0129\n"
     ]
    },
    {
     "name": "stderr",
     "output_type": "stream",
     "text": [
      "[I 2024-10-14 12:02:12,517] Trial 1 finished with value: 0.012959853745996952 and parameters: {'units': 16, 'kernel_initializer': 'RandomNormal', 'activation_lstm': 'linear', 'rate': 0.31558407944296235, 'activation_dense': 'linear'}. Best is trial 1 with value: 0.012959853745996952.\n"
     ]
    },
    {
     "name": "stdout",
     "output_type": "stream",
     "text": [
      "Epoch 1/10\n",
      "\u001b[1m33186/33186\u001b[0m \u001b[32m━━━━━━━━━━━━━━━━━━━━\u001b[0m\u001b[37m\u001b[0m \u001b[1m55s\u001b[0m 2ms/step - loss: 0.0258 - val_loss: 0.0167\n",
      "Epoch 2/10\n",
      "\u001b[1m33186/33186\u001b[0m \u001b[32m━━━━━━━━━━━━━━━━━━━━\u001b[0m\u001b[37m\u001b[0m \u001b[1m54s\u001b[0m 2ms/step - loss: 0.0177 - val_loss: 0.0163\n",
      "Epoch 3/10\n",
      "\u001b[1m33186/33186\u001b[0m \u001b[32m━━━━━━━━━━━━━━━━━━━━\u001b[0m\u001b[37m\u001b[0m \u001b[1m53s\u001b[0m 2ms/step - loss: 0.0173 - val_loss: 0.0155\n",
      "Epoch 4/10\n",
      "\u001b[1m33186/33186\u001b[0m \u001b[32m━━━━━━━━━━━━━━━━━━━━\u001b[0m\u001b[37m\u001b[0m \u001b[1m54s\u001b[0m 2ms/step - loss: 0.0165 - val_loss: 0.0153\n",
      "Epoch 5/10\n",
      "\u001b[1m33186/33186\u001b[0m \u001b[32m━━━━━━━━━━━━━━━━━━━━\u001b[0m\u001b[37m\u001b[0m \u001b[1m54s\u001b[0m 2ms/step - loss: 0.0161 - val_loss: 0.0148\n",
      "Epoch 6/10\n",
      "\u001b[1m33186/33186\u001b[0m \u001b[32m━━━━━━━━━━━━━━━━━━━━\u001b[0m\u001b[37m\u001b[0m \u001b[1m54s\u001b[0m 2ms/step - loss: 0.0157 - val_loss: 0.0146\n",
      "Epoch 7/10\n",
      "\u001b[1m33186/33186\u001b[0m \u001b[32m━━━━━━━━━━━━━━━━━━━━\u001b[0m\u001b[37m\u001b[0m \u001b[1m54s\u001b[0m 2ms/step - loss: 0.0155 - val_loss: 0.0145\n",
      "Epoch 8/10\n",
      "\u001b[1m33186/33186\u001b[0m \u001b[32m━━━━━━━━━━━━━━━━━━━━\u001b[0m\u001b[37m\u001b[0m \u001b[1m54s\u001b[0m 2ms/step - loss: 0.0153 - val_loss: 0.0144\n",
      "Epoch 9/10\n",
      "\u001b[1m33186/33186\u001b[0m \u001b[32m━━━━━━━━━━━━━━━━━━━━\u001b[0m\u001b[37m\u001b[0m \u001b[1m54s\u001b[0m 2ms/step - loss: 0.0151 - val_loss: 0.0143\n",
      "Epoch 10/10\n",
      "\u001b[1m33186/33186\u001b[0m \u001b[32m━━━━━━━━━━━━━━━━━━━━\u001b[0m\u001b[37m\u001b[0m \u001b[1m54s\u001b[0m 2ms/step - loss: 0.0151 - val_loss: 0.0143\n",
      "\u001b[1m18437/18437\u001b[0m \u001b[32m━━━━━━━━━━━━━━━━━━━━\u001b[0m\u001b[37m\u001b[0m \u001b[1m13s\u001b[0m 713us/step - loss: 0.0143\n"
     ]
    },
    {
     "name": "stderr",
     "output_type": "stream",
     "text": [
      "[I 2024-10-14 12:11:23,614] Trial 2 finished with value: 0.014305613934993744 and parameters: {'units': 8, 'kernel_initializer': 'RandomUniform', 'activation_lstm': 'relu', 'rate': 0.05345720886256868, 'activation_dense': 'tanh'}. Best is trial 1 with value: 0.012959853745996952.\n"
     ]
    },
    {
     "name": "stdout",
     "output_type": "stream",
     "text": [
      "Epoch 1/10\n",
      "\u001b[1m33186/33186\u001b[0m \u001b[32m━━━━━━━━━━━━━━━━━━━━\u001b[0m\u001b[37m\u001b[0m \u001b[1m63s\u001b[0m 2ms/step - loss: 0.0303 - val_loss: 0.0169\n",
      "Epoch 2/10\n",
      "\u001b[1m33186/33186\u001b[0m \u001b[32m━━━━━━━━━━━━━━━━━━━━\u001b[0m\u001b[37m\u001b[0m \u001b[1m61s\u001b[0m 2ms/step - loss: 0.0183 - val_loss: 0.0157\n",
      "Epoch 3/10\n",
      "\u001b[1m33186/33186\u001b[0m \u001b[32m━━━━━━━━━━━━━━━━━━━━\u001b[0m\u001b[37m\u001b[0m \u001b[1m61s\u001b[0m 2ms/step - loss: 0.0171 - val_loss: 0.0149\n",
      "Epoch 4/10\n",
      "\u001b[1m33186/33186\u001b[0m \u001b[32m━━━━━━━━━━━━━━━━━━━━\u001b[0m\u001b[37m\u001b[0m \u001b[1m61s\u001b[0m 2ms/step - loss: 0.0164 - val_loss: 0.0145\n",
      "Epoch 5/10\n",
      "\u001b[1m33186/33186\u001b[0m \u001b[32m━━━━━━━━━━━━━━━━━━━━\u001b[0m\u001b[37m\u001b[0m \u001b[1m61s\u001b[0m 2ms/step - loss: 0.0162 - val_loss: 0.0143\n",
      "Epoch 6/10\n",
      "\u001b[1m33186/33186\u001b[0m \u001b[32m━━━━━━━━━━━━━━━━━━━━\u001b[0m\u001b[37m\u001b[0m \u001b[1m61s\u001b[0m 2ms/step - loss: 0.0158 - val_loss: 0.0147\n",
      "Epoch 7/10\n",
      "\u001b[1m33186/33186\u001b[0m \u001b[32m━━━━━━━━━━━━━━━━━━━━\u001b[0m\u001b[37m\u001b[0m \u001b[1m61s\u001b[0m 2ms/step - loss: 0.0156 - val_loss: 0.0140\n",
      "Epoch 8/10\n",
      "\u001b[1m33186/33186\u001b[0m \u001b[32m━━━━━━━━━━━━━━━━━━━━\u001b[0m\u001b[37m\u001b[0m \u001b[1m61s\u001b[0m 2ms/step - loss: 0.0153 - val_loss: 0.0138\n",
      "Epoch 9/10\n",
      "\u001b[1m33186/33186\u001b[0m \u001b[32m━━━━━━━━━━━━━━━━━━━━\u001b[0m\u001b[37m\u001b[0m \u001b[1m61s\u001b[0m 2ms/step - loss: 0.0150 - val_loss: 0.0135\n",
      "Epoch 10/10\n",
      "\u001b[1m33186/33186\u001b[0m \u001b[32m━━━━━━━━━━━━━━━━━━━━\u001b[0m\u001b[37m\u001b[0m \u001b[1m61s\u001b[0m 2ms/step - loss: 0.0149 - val_loss: 0.0143\n",
      "\u001b[1m18437/18437\u001b[0m \u001b[32m━━━━━━━━━━━━━━━━━━━━\u001b[0m\u001b[37m\u001b[0m \u001b[1m17s\u001b[0m 916us/step - loss: 0.0142\n"
     ]
    },
    {
     "name": "stderr",
     "output_type": "stream",
     "text": [
      "[I 2024-10-14 12:21:52,687] Trial 3 finished with value: 0.014284239150583744 and parameters: {'units': 32, 'kernel_initializer': 'Ones', 'activation_lstm': 'sigmoid', 'rate': 0.16543766169722107, 'activation_dense': 'relu'}. Best is trial 1 with value: 0.012959853745996952.\n"
     ]
    },
    {
     "name": "stdout",
     "output_type": "stream",
     "text": [
      "Epoch 1/10\n",
      "\u001b[1m33186/33186\u001b[0m \u001b[32m━━━━━━━━━━━━━━━━━━━━\u001b[0m\u001b[37m\u001b[0m \u001b[1m59s\u001b[0m 2ms/step - loss: 0.1744 - val_loss: 0.1753\n",
      "Epoch 2/10\n",
      "\u001b[1m33186/33186\u001b[0m \u001b[32m━━━━━━━━━━━━━━━━━━━━\u001b[0m\u001b[37m\u001b[0m \u001b[1m58s\u001b[0m 2ms/step - loss: 0.1745 - val_loss: 0.1753\n",
      "Epoch 3/10\n",
      "\u001b[1m33186/33186\u001b[0m \u001b[32m━━━━━━━━━━━━━━━━━━━━\u001b[0m\u001b[37m\u001b[0m \u001b[1m58s\u001b[0m 2ms/step - loss: 0.1739 - val_loss: 0.1753\n",
      "Epoch 4/10\n",
      "\u001b[1m33186/33186\u001b[0m \u001b[32m━━━━━━━━━━━━━━━━━━━━\u001b[0m\u001b[37m\u001b[0m \u001b[1m58s\u001b[0m 2ms/step - loss: 0.1747 - val_loss: 0.1753\n",
      "Epoch 5/10\n",
      "\u001b[1m33186/33186\u001b[0m \u001b[32m━━━━━━━━━━━━━━━━━━━━\u001b[0m\u001b[37m\u001b[0m \u001b[1m58s\u001b[0m 2ms/step - loss: 0.1749 - val_loss: 0.1753\n",
      "Epoch 6/10\n",
      "\u001b[1m33186/33186\u001b[0m \u001b[32m━━━━━━━━━━━━━━━━━━━━\u001b[0m\u001b[37m\u001b[0m \u001b[1m58s\u001b[0m 2ms/step - loss: 0.1749 - val_loss: 0.1753\n",
      "Epoch 7/10\n",
      "\u001b[1m33186/33186\u001b[0m \u001b[32m━━━━━━━━━━━━━━━━━━━━\u001b[0m\u001b[37m\u001b[0m \u001b[1m58s\u001b[0m 2ms/step - loss: 0.1745 - val_loss: 0.1753\n",
      "Epoch 8/10\n",
      "\u001b[1m33186/33186\u001b[0m \u001b[32m━━━━━━━━━━━━━━━━━━━━\u001b[0m\u001b[37m\u001b[0m \u001b[1m58s\u001b[0m 2ms/step - loss: 0.1743 - val_loss: 0.1753\n",
      "Epoch 9/10\n",
      "\u001b[1m33186/33186\u001b[0m \u001b[32m━━━━━━━━━━━━━━━━━━━━\u001b[0m\u001b[37m\u001b[0m \u001b[1m58s\u001b[0m 2ms/step - loss: 0.1743 - val_loss: 0.1753\n",
      "Epoch 10/10\n",
      "\u001b[1m33186/33186\u001b[0m \u001b[32m━━━━━━━━━━━━━━━━━━━━\u001b[0m\u001b[37m\u001b[0m \u001b[1m58s\u001b[0m 2ms/step - loss: 0.1748 - val_loss: 0.1753\n",
      "\u001b[1m18437/18437\u001b[0m \u001b[32m━━━━━━━━━━━━━━━━━━━━\u001b[0m\u001b[37m\u001b[0m \u001b[1m15s\u001b[0m 807us/step - loss: 0.1745\n"
     ]
    },
    {
     "name": "stderr",
     "output_type": "stream",
     "text": [
      "[I 2024-10-14 12:31:48,536] Trial 4 finished with value: 0.17466941475868225 and parameters: {'units': 8, 'kernel_initializer': 'Zeros', 'activation_lstm': 'relu', 'rate': 0.2371032775450034, 'activation_dense': 'relu'}. Best is trial 1 with value: 0.012959853745996952.\n"
     ]
    },
    {
     "name": "stdout",
     "output_type": "stream",
     "text": [
      "Epoch 1/10\n",
      "\u001b[1m33186/33186\u001b[0m \u001b[32m━━━━━━━━━━━━━━━━━━━━\u001b[0m\u001b[37m\u001b[0m \u001b[1m106s\u001b[0m 3ms/step - loss: 0.0229 - val_loss: 0.0157\n",
      "Epoch 2/10\n",
      "\u001b[1m33186/33186\u001b[0m \u001b[32m━━━━━━━━━━━━━━━━━━━━\u001b[0m\u001b[37m\u001b[0m \u001b[1m110s\u001b[0m 3ms/step - loss: 0.0170 - val_loss: 0.0146\n",
      "Epoch 3/10\n",
      "\u001b[1m33186/33186\u001b[0m \u001b[32m━━━━━━━━━━━━━━━━━━━━\u001b[0m\u001b[37m\u001b[0m \u001b[1m115s\u001b[0m 3ms/step - loss: 0.0157 - val_loss: 0.0137\n",
      "Epoch 4/10\n",
      "\u001b[1m33186/33186\u001b[0m \u001b[32m━━━━━━━━━━━━━━━━━━━━\u001b[0m\u001b[37m\u001b[0m \u001b[1m123s\u001b[0m 4ms/step - loss: 0.0149 - val_loss: 0.0130\n",
      "Epoch 5/10\n",
      "\u001b[1m33186/33186\u001b[0m \u001b[32m━━━━━━━━━━━━━━━━━━━━\u001b[0m\u001b[37m\u001b[0m \u001b[1m128s\u001b[0m 4ms/step - loss: 0.0145 - val_loss: 0.0129\n",
      "Epoch 6/10\n",
      "\u001b[1m33186/33186\u001b[0m \u001b[32m━━━━━━━━━━━━━━━━━━━━\u001b[0m\u001b[37m\u001b[0m \u001b[1m127s\u001b[0m 4ms/step - loss: 0.0140 - val_loss: 0.0127\n",
      "Epoch 7/10\n",
      "\u001b[1m33186/33186\u001b[0m \u001b[32m━━━━━━━━━━━━━━━━━━━━\u001b[0m\u001b[37m\u001b[0m \u001b[1m126s\u001b[0m 4ms/step - loss: 0.0136 - val_loss: 0.0120\n",
      "Epoch 8/10\n",
      "\u001b[1m33186/33186\u001b[0m \u001b[32m━━━━━━━━━━━━━━━━━━━━\u001b[0m\u001b[37m\u001b[0m \u001b[1m127s\u001b[0m 4ms/step - loss: 0.0132 - val_loss: 0.0114\n",
      "Epoch 9/10\n",
      "\u001b[1m33186/33186\u001b[0m \u001b[32m━━━━━━━━━━━━━━━━━━━━\u001b[0m\u001b[37m\u001b[0m \u001b[1m126s\u001b[0m 4ms/step - loss: 0.0127 - val_loss: 0.0115\n",
      "Epoch 10/10\n",
      "\u001b[1m33186/33186\u001b[0m \u001b[32m━━━━━━━━━━━━━━━━━━━━\u001b[0m\u001b[37m\u001b[0m \u001b[1m126s\u001b[0m 4ms/step - loss: 0.0125 - val_loss: 0.0110\n",
      "\u001b[1m18437/18437\u001b[0m \u001b[32m━━━━━━━━━━━━━━━━━━━━\u001b[0m\u001b[37m\u001b[0m \u001b[1m44s\u001b[0m 2ms/step - loss: 0.0109\n"
     ]
    },
    {
     "name": "stderr",
     "output_type": "stream",
     "text": [
      "[I 2024-10-14 12:52:47,848] Trial 5 finished with value: 0.01094302348792553 and parameters: {'units': 128, 'kernel_initializer': 'GlorotNormal', 'activation_lstm': 'linear', 'rate': 0.7554875062972062, 'activation_dense': 'linear'}. Best is trial 5 with value: 0.01094302348792553.\n"
     ]
    },
    {
     "name": "stdout",
     "output_type": "stream",
     "text": [
      "Epoch 1/10\n",
      "\u001b[1m33186/33186\u001b[0m \u001b[32m━━━━━━━━━━━━━━━━━━━━\u001b[0m\u001b[37m\u001b[0m \u001b[1m130s\u001b[0m 4ms/step - loss: 0.0532 - val_loss: 0.0520\n",
      "Epoch 2/10\n",
      "\u001b[1m33186/33186\u001b[0m \u001b[32m━━━━━━━━━━━━━━━━━━━━\u001b[0m\u001b[37m\u001b[0m \u001b[1m132s\u001b[0m 4ms/step - loss: 0.0521 - val_loss: 0.0520\n",
      "Epoch 3/10\n",
      "\u001b[1m33186/33186\u001b[0m \u001b[32m━━━━━━━━━━━━━━━━━━━━\u001b[0m\u001b[37m\u001b[0m \u001b[1m135s\u001b[0m 4ms/step - loss: 0.0522 - val_loss: 0.0520\n",
      "Epoch 4/10\n",
      "\u001b[1m33186/33186\u001b[0m \u001b[32m━━━━━━━━━━━━━━━━━━━━\u001b[0m\u001b[37m\u001b[0m \u001b[1m135s\u001b[0m 4ms/step - loss: 0.0523 - val_loss: 0.0520\n",
      "Epoch 5/10\n",
      "\u001b[1m33186/33186\u001b[0m \u001b[32m━━━━━━━━━━━━━━━━━━━━\u001b[0m\u001b[37m\u001b[0m \u001b[1m136s\u001b[0m 4ms/step - loss: 0.0520 - val_loss: 0.0520\n",
      "Epoch 6/10\n",
      "\u001b[1m33186/33186\u001b[0m \u001b[32m━━━━━━━━━━━━━━━━━━━━\u001b[0m\u001b[37m\u001b[0m \u001b[1m133s\u001b[0m 4ms/step - loss: 0.0521 - val_loss: 0.0520\n",
      "Epoch 7/10\n",
      "\u001b[1m33186/33186\u001b[0m \u001b[32m━━━━━━━━━━━━━━━━━━━━\u001b[0m\u001b[37m\u001b[0m \u001b[1m135s\u001b[0m 4ms/step - loss: 0.0521 - val_loss: 0.0520\n",
      "Epoch 8/10\n",
      "\u001b[1m33186/33186\u001b[0m \u001b[32m━━━━━━━━━━━━━━━━━━━━\u001b[0m\u001b[37m\u001b[0m \u001b[1m129s\u001b[0m 4ms/step - loss: 0.0521 - val_loss: 0.0520\n",
      "Epoch 9/10\n",
      "\u001b[1m33186/33186\u001b[0m \u001b[32m━━━━━━━━━━━━━━━━━━━━\u001b[0m\u001b[37m\u001b[0m \u001b[1m130s\u001b[0m 4ms/step - loss: 0.0520 - val_loss: 0.0520\n",
      "Epoch 10/10\n",
      "\u001b[1m33186/33186\u001b[0m \u001b[32m━━━━━━━━━━━━━━━━━━━━\u001b[0m\u001b[37m\u001b[0m \u001b[1m129s\u001b[0m 4ms/step - loss: 0.0521 - val_loss: 0.0520\n",
      "\u001b[1m18437/18437\u001b[0m \u001b[32m━━━━━━━━━━━━━━━━━━━━\u001b[0m\u001b[37m\u001b[0m \u001b[1m41s\u001b[0m 2ms/step - loss: 0.0520\n"
     ]
    },
    {
     "name": "stderr",
     "output_type": "stream",
     "text": [
      "[I 2024-10-14 13:15:33,501] Trial 6 finished with value: 0.05205404385924339 and parameters: {'units': 128, 'kernel_initializer': 'Zeros', 'activation_lstm': 'relu', 'rate': 0.2330509764136363, 'activation_dense': 'sigmoid'}. Best is trial 5 with value: 0.01094302348792553.\n"
     ]
    },
    {
     "name": "stdout",
     "output_type": "stream",
     "text": [
      "Epoch 1/10\n",
      "\u001b[1m33186/33186\u001b[0m \u001b[32m━━━━━━━━━━━━━━━━━━━━\u001b[0m\u001b[37m\u001b[0m \u001b[1m67s\u001b[0m 2ms/step - loss: 0.0532 - val_loss: 0.0520\n",
      "Epoch 2/10\n",
      "\u001b[1m33186/33186\u001b[0m \u001b[32m━━━━━━━━━━━━━━━━━━━━\u001b[0m\u001b[37m\u001b[0m \u001b[1m70s\u001b[0m 2ms/step - loss: 0.0520 - val_loss: 0.0520\n",
      "Epoch 3/10\n",
      "\u001b[1m33186/33186\u001b[0m \u001b[32m━━━━━━━━━━━━━━━━━━━━\u001b[0m\u001b[37m\u001b[0m \u001b[1m69s\u001b[0m 2ms/step - loss: 0.0521 - val_loss: 0.0520\n",
      "Epoch 4/10\n",
      "\u001b[1m33186/33186\u001b[0m \u001b[32m━━━━━━━━━━━━━━━━━━━━\u001b[0m\u001b[37m\u001b[0m \u001b[1m69s\u001b[0m 2ms/step - loss: 0.0520 - val_loss: 0.0520\n",
      "Epoch 5/10\n",
      "\u001b[1m33186/33186\u001b[0m \u001b[32m━━━━━━━━━━━━━━━━━━━━\u001b[0m\u001b[37m\u001b[0m \u001b[1m66s\u001b[0m 2ms/step - loss: 0.0520 - val_loss: 0.0520\n",
      "Epoch 6/10\n",
      "\u001b[1m33186/33186\u001b[0m \u001b[32m━━━━━━━━━━━━━━━━━━━━\u001b[0m\u001b[37m\u001b[0m \u001b[1m65s\u001b[0m 2ms/step - loss: 0.0521 - val_loss: 0.0520\n",
      "Epoch 7/10\n",
      "\u001b[1m33186/33186\u001b[0m \u001b[32m━━━━━━━━━━━━━━━━━━━━\u001b[0m\u001b[37m\u001b[0m \u001b[1m69s\u001b[0m 2ms/step - loss: 0.0521 - val_loss: 0.0520\n",
      "Epoch 8/10\n",
      "\u001b[1m33186/33186\u001b[0m \u001b[32m━━━━━━━━━━━━━━━━━━━━\u001b[0m\u001b[37m\u001b[0m \u001b[1m71s\u001b[0m 2ms/step - loss: 0.0520 - val_loss: 0.0520\n",
      "Epoch 9/10\n",
      "\u001b[1m33186/33186\u001b[0m \u001b[32m━━━━━━━━━━━━━━━━━━━━\u001b[0m\u001b[37m\u001b[0m \u001b[1m69s\u001b[0m 2ms/step - loss: 0.0521 - val_loss: 0.0520\n",
      "Epoch 10/10\n",
      "\u001b[1m33186/33186\u001b[0m \u001b[32m━━━━━━━━━━━━━━━━━━━━\u001b[0m\u001b[37m\u001b[0m \u001b[1m69s\u001b[0m 2ms/step - loss: 0.0521 - val_loss: 0.0520\n",
      "\u001b[1m18437/18437\u001b[0m \u001b[32m━━━━━━━━━━━━━━━━━━━━\u001b[0m\u001b[37m\u001b[0m \u001b[1m16s\u001b[0m 874us/step - loss: 0.0520\n"
     ]
    },
    {
     "name": "stderr",
     "output_type": "stream",
     "text": [
      "[I 2024-10-14 13:27:14,648] Trial 7 finished with value: 0.052069440484046936 and parameters: {'units': 8, 'kernel_initializer': 'Zeros', 'activation_lstm': 'relu', 'rate': 0.7438514714896854, 'activation_dense': 'sigmoid'}. Best is trial 5 with value: 0.01094302348792553.\n"
     ]
    },
    {
     "name": "stdout",
     "output_type": "stream",
     "text": [
      "Epoch 1/10\n",
      "\u001b[1m33186/33186\u001b[0m \u001b[32m━━━━━━━━━━━━━━━━━━━━\u001b[0m\u001b[37m\u001b[0m \u001b[1m80s\u001b[0m 2ms/step - loss: 0.1533 - val_loss: 0.0188\n",
      "Epoch 2/10\n",
      "\u001b[1m33186/33186\u001b[0m \u001b[32m━━━━━━━━━━━━━━━━━━━━\u001b[0m\u001b[37m\u001b[0m \u001b[1m78s\u001b[0m 2ms/step - loss: 0.0228 - val_loss: 0.0161\n",
      "Epoch 3/10\n",
      "\u001b[1m33186/33186\u001b[0m \u001b[32m━━━━━━━━━━━━━━━━━━━━\u001b[0m\u001b[37m\u001b[0m \u001b[1m76s\u001b[0m 2ms/step - loss: 0.0200 - val_loss: 0.0145\n",
      "Epoch 4/10\n",
      "\u001b[1m33186/33186\u001b[0m \u001b[32m━━━━━━━━━━━━━━━━━━━━\u001b[0m\u001b[37m\u001b[0m \u001b[1m76s\u001b[0m 2ms/step - loss: 0.0192 - val_loss: 0.0141\n",
      "Epoch 5/10\n",
      "\u001b[1m33186/33186\u001b[0m \u001b[32m━━━━━━━━━━━━━━━━━━━━\u001b[0m\u001b[37m\u001b[0m \u001b[1m80s\u001b[0m 2ms/step - loss: 0.0186 - val_loss: 0.0139\n",
      "Epoch 6/10\n",
      "\u001b[1m33186/33186\u001b[0m \u001b[32m━━━━━━━━━━━━━━━━━━━━\u001b[0m\u001b[37m\u001b[0m \u001b[1m85s\u001b[0m 3ms/step - loss: 0.0180 - val_loss: 0.0135\n",
      "Epoch 7/10\n",
      "\u001b[1m33186/33186\u001b[0m \u001b[32m━━━━━━━━━━━━━━━━━━━━\u001b[0m\u001b[37m\u001b[0m \u001b[1m86s\u001b[0m 3ms/step - loss: 0.0177 - val_loss: 0.0128\n",
      "Epoch 8/10\n",
      "\u001b[1m33186/33186\u001b[0m \u001b[32m━━━━━━━━━━━━━━━━━━━━\u001b[0m\u001b[37m\u001b[0m \u001b[1m81s\u001b[0m 2ms/step - loss: 0.0175 - val_loss: 0.0130\n",
      "Epoch 9/10\n",
      "\u001b[1m33186/33186\u001b[0m \u001b[32m━━━━━━━━━━━━━━━━━━━━\u001b[0m\u001b[37m\u001b[0m \u001b[1m80s\u001b[0m 2ms/step - loss: 0.0172 - val_loss: 0.0128\n",
      "Epoch 10/10\n",
      "\u001b[1m33186/33186\u001b[0m \u001b[32m━━━━━━━━━━━━━━━━━━━━\u001b[0m\u001b[37m\u001b[0m \u001b[1m82s\u001b[0m 2ms/step - loss: 0.0170 - val_loss: 0.0127\n",
      "\u001b[1m18437/18437\u001b[0m \u001b[32m━━━━━━━━━━━━━━━━━━━━\u001b[0m\u001b[37m\u001b[0m \u001b[1m23s\u001b[0m 1ms/step - loss: 0.0126\n"
     ]
    },
    {
     "name": "stderr",
     "output_type": "stream",
     "text": [
      "[I 2024-10-14 13:41:03,833] Trial 8 finished with value: 0.012668648734688759 and parameters: {'units': 64, 'kernel_initializer': 'Ones', 'activation_lstm': 'relu', 'rate': 0.7453598974634115, 'activation_dense': 'relu'}. Best is trial 5 with value: 0.01094302348792553.\n"
     ]
    },
    {
     "name": "stdout",
     "output_type": "stream",
     "text": [
      "Epoch 1/10\n",
      "\u001b[1m33186/33186\u001b[0m \u001b[32m━━━━━━━━━━━━━━━━━━━━\u001b[0m\u001b[37m\u001b[0m \u001b[1m71s\u001b[0m 2ms/step - loss: 0.0368 - val_loss: 0.0179\n",
      "Epoch 2/10\n",
      "\u001b[1m33186/33186\u001b[0m \u001b[32m━━━━━━━━━━━━━━━━━━━━\u001b[0m\u001b[37m\u001b[0m \u001b[1m67s\u001b[0m 2ms/step - loss: 0.0255 - val_loss: 0.0170\n",
      "Epoch 3/10\n",
      "\u001b[1m33186/33186\u001b[0m \u001b[32m━━━━━━━━━━━━━━━━━━━━\u001b[0m\u001b[37m\u001b[0m \u001b[1m67s\u001b[0m 2ms/step - loss: 0.0248 - val_loss: 0.0162\n",
      "Epoch 4/10\n",
      "\u001b[1m33186/33186\u001b[0m \u001b[32m━━━━━━━━━━━━━━━━━━━━\u001b[0m\u001b[37m\u001b[0m \u001b[1m65s\u001b[0m 2ms/step - loss: 0.0246 - val_loss: 0.0161\n",
      "Epoch 5/10\n",
      "\u001b[1m33186/33186\u001b[0m \u001b[32m━━━━━━━━━━━━━━━━━━━━\u001b[0m\u001b[37m\u001b[0m \u001b[1m68s\u001b[0m 2ms/step - loss: 0.0243 - val_loss: 0.0161\n",
      "Epoch 6/10\n",
      "\u001b[1m33186/33186\u001b[0m \u001b[32m━━━━━━━━━━━━━━━━━━━━\u001b[0m\u001b[37m\u001b[0m \u001b[1m71s\u001b[0m 2ms/step - loss: 0.0243 - val_loss: 0.0159\n",
      "Epoch 7/10\n",
      "\u001b[1m33186/33186\u001b[0m \u001b[32m━━━━━━━━━━━━━━━━━━━━\u001b[0m\u001b[37m\u001b[0m \u001b[1m65s\u001b[0m 2ms/step - loss: 0.0240 - val_loss: 0.0157\n",
      "Epoch 8/10\n",
      "\u001b[1m33186/33186\u001b[0m \u001b[32m━━━━━━━━━━━━━━━━━━━━\u001b[0m\u001b[37m\u001b[0m \u001b[1m65s\u001b[0m 2ms/step - loss: 0.0239 - val_loss: 0.0153\n",
      "Epoch 9/10\n",
      "\u001b[1m33186/33186\u001b[0m \u001b[32m━━━━━━━━━━━━━━━━━━━━\u001b[0m\u001b[37m\u001b[0m \u001b[1m67s\u001b[0m 2ms/step - loss: 0.0239 - val_loss: 0.0156\n",
      "Epoch 10/10\n",
      "\u001b[1m33186/33186\u001b[0m \u001b[32m━━━━━━━━━━━━━━━━━━━━\u001b[0m\u001b[37m\u001b[0m \u001b[1m69s\u001b[0m 2ms/step - loss: 0.0238 - val_loss: 0.0156\n",
      "\u001b[1m18437/18437\u001b[0m \u001b[32m━━━━━━━━━━━━━━━━━━━━\u001b[0m\u001b[37m\u001b[0m \u001b[1m18s\u001b[0m 978us/step - loss: 0.0156\n"
     ]
    },
    {
     "name": "stderr",
     "output_type": "stream",
     "text": [
      "[I 2024-10-14 13:52:36,441] Trial 9 finished with value: 0.015648677945137024 and parameters: {'units': 32, 'kernel_initializer': 'GlorotNormal', 'activation_lstm': 'tanh', 'rate': 0.9319788719899176, 'activation_dense': 'tanh'}. Best is trial 5 with value: 0.01094302348792553.\n"
     ]
    }
   ],
   "source": [
    "sampler = TPESampler(seed=RANDOM_SEED)\n",
    "study = optuna.create_study(direction='minimize', sampler=sampler)\n",
    "#optuna.logging.set_verbosity(optuna.logging.WARNING)\n",
    "study.optimize(objective, n_trials=10)"
   ]
  },
  {
   "cell_type": "code",
   "execution_count": 28,
   "id": "73d62fcb-fbb8-4542-b350-cb8f0bacd7d9",
   "metadata": {},
   "outputs": [
    {
     "name": "stdout",
     "output_type": "stream",
     "text": [
      "Melhor MSE: 0.01094302348792553\n",
      "Melhores parâmetros: {'units': 128, 'kernel_initializer': 'GlorotNormal', 'activation_lstm': 'linear', 'rate': 0.7554875062972062, 'activation_dense': 'linear'}\n"
     ]
    }
   ],
   "source": [
    "melhores_parametros = study.best_params\n",
    "\n",
    "print(f\"Melhor MSE: {study.best_trial.value}\")\n",
    "print(f\"Melhores parâmetros: {study.best_params}\")"
   ]
  },
  {
   "cell_type": "markdown",
   "id": "1e68b9d2-3bb8-454a-88c0-3969947f008e",
   "metadata": {},
   "source": [
    "#### **Treinando o modelo com os parâmetros ajustados:**"
   ]
  },
  {
   "cell_type": "code",
   "execution_count": 29,
   "id": "d2e4ca2b-5567-4ec1-9412-c3e3d300e677",
   "metadata": {},
   "outputs": [],
   "source": [
    "# Instanciando o modelo\n",
    "model = Sequential()\n",
    "model.add(Input(shape=(X_train.shape[1], 1)))\n",
    "model.add(LSTM(units=melhores_parametros['units'], kernel_initializer=melhores_parametros['kernel_initializer'], activation=melhores_parametros['activation_lstm']))\n",
    "model.add(Dropout(rate=melhores_parametros['rate']))\n",
    "model.add(Flatten())\n",
    "model.add(Dense(units=1, activation=melhores_parametros['activation_dense']))\n",
    "model.compile(loss=\"mse\", optimizer=\"adam\")"
   ]
  },
  {
   "cell_type": "code",
   "execution_count": 30,
   "id": "e190f013-ab05-436a-99d3-6c665ac33b93",
   "metadata": {},
   "outputs": [
    {
     "name": "stdout",
     "output_type": "stream",
     "text": [
      "Epoch 1/25\n",
      "\u001b[1m36873/36873\u001b[0m \u001b[32m━━━━━━━━━━━━━━━━━━━━\u001b[0m\u001b[37m\u001b[0m \u001b[1m121s\u001b[0m 3ms/step - loss: 0.0221\n",
      "Epoch 2/25\n",
      "\u001b[1m36873/36873\u001b[0m \u001b[32m━━━━━━━━━━━━━━━━━━━━\u001b[0m\u001b[37m\u001b[0m \u001b[1m115s\u001b[0m 3ms/step - loss: 0.0166\n",
      "Epoch 3/25\n",
      "\u001b[1m36873/36873\u001b[0m \u001b[32m━━━━━━━━━━━━━━━━━━━━\u001b[0m\u001b[37m\u001b[0m \u001b[1m110s\u001b[0m 3ms/step - loss: 0.0154\n",
      "Epoch 4/25\n",
      "\u001b[1m36873/36873\u001b[0m \u001b[32m━━━━━━━━━━━━━━━━━━━━\u001b[0m\u001b[37m\u001b[0m \u001b[1m114s\u001b[0m 3ms/step - loss: 0.0146\n",
      "Epoch 5/25\n",
      "\u001b[1m36873/36873\u001b[0m \u001b[32m━━━━━━━━━━━━━━━━━━━━\u001b[0m\u001b[37m\u001b[0m \u001b[1m117s\u001b[0m 3ms/step - loss: 0.0141\n",
      "Epoch 6/25\n",
      "\u001b[1m36873/36873\u001b[0m \u001b[32m━━━━━━━━━━━━━━━━━━━━\u001b[0m\u001b[37m\u001b[0m \u001b[1m116s\u001b[0m 3ms/step - loss: 0.0137\n",
      "Epoch 7/25\n",
      "\u001b[1m36873/36873\u001b[0m \u001b[32m━━━━━━━━━━━━━━━━━━━━\u001b[0m\u001b[37m\u001b[0m \u001b[1m118s\u001b[0m 3ms/step - loss: 0.0132\n",
      "Epoch 8/25\n",
      "\u001b[1m36873/36873\u001b[0m \u001b[32m━━━━━━━━━━━━━━━━━━━━\u001b[0m\u001b[37m\u001b[0m \u001b[1m114s\u001b[0m 3ms/step - loss: 0.0130\n",
      "Epoch 9/25\n",
      "\u001b[1m36873/36873\u001b[0m \u001b[32m━━━━━━━━━━━━━━━━━━━━\u001b[0m\u001b[37m\u001b[0m \u001b[1m112s\u001b[0m 3ms/step - loss: 0.0126\n",
      "Epoch 10/25\n",
      "\u001b[1m36873/36873\u001b[0m \u001b[32m━━━━━━━━━━━━━━━━━━━━\u001b[0m\u001b[37m\u001b[0m \u001b[1m112s\u001b[0m 3ms/step - loss: 0.0123\n",
      "Epoch 11/25\n",
      "\u001b[1m36873/36873\u001b[0m \u001b[32m━━━━━━━━━━━━━━━━━━━━\u001b[0m\u001b[37m\u001b[0m \u001b[1m118s\u001b[0m 3ms/step - loss: 0.0120\n",
      "Epoch 12/25\n",
      "\u001b[1m36873/36873\u001b[0m \u001b[32m━━━━━━━━━━━━━━━━━━━━\u001b[0m\u001b[37m\u001b[0m \u001b[1m117s\u001b[0m 3ms/step - loss: 0.0118\n",
      "Epoch 13/25\n",
      "\u001b[1m36873/36873\u001b[0m \u001b[32m━━━━━━━━━━━━━━━━━━━━\u001b[0m\u001b[37m\u001b[0m \u001b[1m116s\u001b[0m 3ms/step - loss: 0.0117\n",
      "Epoch 14/25\n",
      "\u001b[1m36873/36873\u001b[0m \u001b[32m━━━━━━━━━━━━━━━━━━━━\u001b[0m\u001b[37m\u001b[0m \u001b[1m117s\u001b[0m 3ms/step - loss: 0.0117\n",
      "Epoch 15/25\n",
      "\u001b[1m36873/36873\u001b[0m \u001b[32m━━━━━━━━━━━━━━━━━━━━\u001b[0m\u001b[37m\u001b[0m \u001b[1m117s\u001b[0m 3ms/step - loss: 0.0114\n",
      "Epoch 16/25\n",
      "\u001b[1m36873/36873\u001b[0m \u001b[32m━━━━━━━━━━━━━━━━━━━━\u001b[0m\u001b[37m\u001b[0m \u001b[1m118s\u001b[0m 3ms/step - loss: 0.0114\n",
      "Epoch 17/25\n",
      "\u001b[1m36873/36873\u001b[0m \u001b[32m━━━━━━━━━━━━━━━━━━━━\u001b[0m\u001b[37m\u001b[0m \u001b[1m120s\u001b[0m 3ms/step - loss: 0.0111\n",
      "Epoch 18/25\n",
      "\u001b[1m36873/36873\u001b[0m \u001b[32m━━━━━━━━━━━━━━━━━━━━\u001b[0m\u001b[37m\u001b[0m \u001b[1m119s\u001b[0m 3ms/step - loss: 0.0112\n",
      "Epoch 19/25\n",
      "\u001b[1m36873/36873\u001b[0m \u001b[32m━━━━━━━━━━━━━━━━━━━━\u001b[0m\u001b[37m\u001b[0m \u001b[1m118s\u001b[0m 3ms/step - loss: 0.0111\n",
      "Epoch 20/25\n",
      "\u001b[1m36873/36873\u001b[0m \u001b[32m━━━━━━━━━━━━━━━━━━━━\u001b[0m\u001b[37m\u001b[0m \u001b[1m121s\u001b[0m 3ms/step - loss: 0.0111\n",
      "Epoch 21/25\n",
      "\u001b[1m36873/36873\u001b[0m \u001b[32m━━━━━━━━━━━━━━━━━━━━\u001b[0m\u001b[37m\u001b[0m \u001b[1m119s\u001b[0m 3ms/step - loss: 0.0108\n",
      "Epoch 22/25\n",
      "\u001b[1m36873/36873\u001b[0m \u001b[32m━━━━━━━━━━━━━━━━━━━━\u001b[0m\u001b[37m\u001b[0m \u001b[1m114s\u001b[0m 3ms/step - loss: 0.0110\n",
      "Epoch 23/25\n",
      "\u001b[1m36873/36873\u001b[0m \u001b[32m━━━━━━━━━━━━━━━━━━━━\u001b[0m\u001b[37m\u001b[0m \u001b[1m111s\u001b[0m 3ms/step - loss: 0.0106\n",
      "Epoch 24/25\n",
      "\u001b[1m36873/36873\u001b[0m \u001b[32m━━━━━━━━━━━━━━━━━━━━\u001b[0m\u001b[37m\u001b[0m \u001b[1m114s\u001b[0m 3ms/step - loss: 0.0106\n",
      "Epoch 25/25\n",
      "\u001b[1m36873/36873\u001b[0m \u001b[32m━━━━━━━━━━━━━━━━━━━━\u001b[0m\u001b[37m\u001b[0m \u001b[1m119s\u001b[0m 3ms/step - loss: 0.0118\n"
     ]
    }
   ],
   "source": [
    "# Treinando o modelo\n",
    "history = model.fit(X_train, y_train_norm, batch_size=16, epochs=25)"
   ]
  },
  {
   "cell_type": "code",
   "execution_count": 31,
   "id": "7d213edb-3509-45b1-8013-ca133d7bf5df",
   "metadata": {},
   "outputs": [
    {
     "data": {
      "image/png": "[encoded data removed]",
      "text/plain": [
       "<Figure size 640x480 with 1 Axes>"
      ]
     },
     "metadata": {},
     "output_type": "display_data"
    }
   ],
   "source": [
    "# Gráfico de perda\n",
    "plt.plot(history.history['loss'])\n",
    "#plt.plot(history.history['val_loss'])\n",
    "plt.title('Perda (loss) do modelo')\n",
    "plt.ylabel('Loss')\n",
    "plt.xlabel('Epoch')\n",
    "#plt.legend(['Treino', 'Validação'], loc='upper right')\n",
    "\n",
    "plt.tight_layout()"
   ]
  },
  {
   "cell_type": "markdown",
   "id": "9f3ff8cf-7a19-46d3-b62f-2dd72dd9e9c9",
   "metadata": {},
   "source": [
    "#### **Avaliando o modelo**"
   ]
  },
  {
   "cell_type": "code",
   "execution_count": 32,
   "id": "48ffec25-e6a0-4790-adc4-77e020014982",
   "metadata": {},
   "outputs": [
    {
     "name": "stdout",
     "output_type": "stream",
     "text": [
      "\u001b[1m4610/4610\u001b[0m \u001b[32m━━━━━━━━━━━━━━━━━━━━\u001b[0m\u001b[37m\u001b[0m \u001b[1m11s\u001b[0m 2ms/step\n"
     ]
    }
   ],
   "source": [
    "# Fazendo previsões\n",
    "y_pred_norm = model.predict(X_test)\n",
    "\n",
    "# Valores resultantes das previsões em seu formato real\n",
    "y_pred = inverse_normY(y_pred_norm, y_train_max, y_train_min)"
   ]
  },
  {
   "cell_type": "code",
   "execution_count": 33,
   "id": "31ffa5ee-8b38-42ec-95b0-c21953ebfe46",
   "metadata": {},
   "outputs": [
    {
     "data": {
      "text/plain": [
       "{'R2': 0.8248896670228095,\n",
       " 'MSE': 0.22303827809828233,\n",
       " 'RMSE': 0.47226928557580616}"
      ]
     },
     "execution_count": 33,
     "metadata": {},
     "output_type": "execute_result"
    }
   ],
   "source": [
    "# Avaliando o modelo XGB\n",
    "eval_metrics(y_test, y_pred)"
   ]
  },
  {
   "cell_type": "markdown",
   "id": "ac7beb6e-51ef-4cc9-9e0c-ff2892ac57db",
   "metadata": {},
   "source": [
    "### **Modelo LSTM com todas as variáveis, mas excluindo a variável % Iron Concentrate**"
   ]
  },
  {
   "cell_type": "markdown",
   "id": "f10dd227-642d-474f-a017-5be1f8b320be",
   "metadata": {},
   "source": [
    "#### **Separação dos dados em teste e treino**"
   ]
  },
  {
   "cell_type": "code",
   "execution_count": 34,
   "id": "f0efd524-48d3-48b8-9c4a-77c036f6c035",
   "metadata": {},
   "outputs": [],
   "source": [
    "X = df.drop(columns=['% Iron Concentrate', '% Silica Concentrate'])\n",
    "y = df['% Silica Concentrate']"
   ]
  },
  {
   "cell_type": "code",
   "execution_count": 35,
   "id": "404beeb6-5824-4bd0-8b2f-f4bf6f632feb",
   "metadata": {},
   "outputs": [],
   "source": [
    "# Separando\n",
    "X_train, X_test, y_train, y_test = train_test_split(X, y, test_size=0.2, random_state=RANDOM_SEED)"
   ]
  },
  {
   "cell_type": "markdown",
   "id": "9057960f-ff6d-4aa4-aee7-8f794574a835",
   "metadata": {},
   "source": [
    "#### **Normalização das colunas**"
   ]
  },
  {
   "cell_type": "markdown",
   "id": "0f06b609-f0c6-425c-8894-1a1f04ba0dbc",
   "metadata": {},
   "source": [
    "**Dados de treino:**"
   ]
  },
  {
   "cell_type": "code",
   "execution_count": 36,
   "id": "97113bbd-da9f-478c-bccf-56a62faaec01",
   "metadata": {},
   "outputs": [],
   "source": [
    "# X_train\n",
    "scaler = MinMaxScaler()\n",
    "\n",
    "scaler.fit(X_train)\n",
    "\n",
    "X_train = scaler.transform(X_train)"
   ]
  },
  {
   "cell_type": "code",
   "execution_count": 37,
   "id": "ab4253f5-de89-4408-84b0-a32d155cf560",
   "metadata": {},
   "outputs": [],
   "source": [
    "# y_train\n",
    "y_train_norm, y_train_max, y_train_min = normY(y_train)"
   ]
  },
  {
   "cell_type": "markdown",
   "id": "dc818bd2-cdbd-4ead-b3e6-4e7537a18f4d",
   "metadata": {},
   "source": [
    "**Dados de teste:**"
   ]
  },
  {
   "cell_type": "code",
   "execution_count": 38,
   "id": "9d714f72-dc10-4ef9-ab3b-d6357ec5b8bd",
   "metadata": {},
   "outputs": [],
   "source": [
    "# X_test\n",
    "X_test = scaler.transform(X_test)"
   ]
  },
  {
   "cell_type": "markdown",
   "id": "224afe72-5eea-4499-8fdc-be334ecd9994",
   "metadata": {},
   "source": [
    "#### **Ajuste dos hiperparâmetros com Optuna**"
   ]
  },
  {
   "cell_type": "code",
   "execution_count": 39,
   "id": "368a0a79-602f-4873-bf36-128e3f432124",
   "metadata": {},
   "outputs": [],
   "source": [
    "def objective(trial):    \n",
    "    ## LSTM ##\n",
    "    # units\n",
    "    units = trial.suggest_categorical('units', [8, 16, 32, 64, 128])\n",
    "\n",
    "    # kernel_initializer\n",
    "    kernel_initializer = trial.suggest_categorical('kernel_initializer', [\"RandomNormal\", \"RandomUniform\", \"Zeros\", \"Ones\", \"GlorotNormal\", \"GlorotUniform\"])\n",
    "\n",
    "    # activation\n",
    "    activation_lstm = trial.suggest_categorical('activation_lstm', [\"relu\", \"linear\", \"sigmoid\", \"tanh\"])\n",
    "\n",
    "    ## Dropout ##\n",
    "    # rate\n",
    "    rate = trial.suggest_float('rate', 0.0001, 1)\n",
    "    \n",
    "    ## Dense ##\n",
    "    # activation\n",
    "    activation_dense = trial.suggest_categorical('activation_dense', [\"relu\", \"linear\", \"sigmoid\", \"tanh\"])\n",
    "\n",
    "    # Instanciando o modelo\n",
    "    model = Sequential()\n",
    "    model.add(Input(shape=(X_train.shape[1], 1)))\n",
    "    model.add(LSTM(units=units, kernel_initializer=kernel_initializer, activation=activation_lstm))\n",
    "    model.add(Dropout(rate=rate))\n",
    "    model.add(Flatten())\n",
    "    model.add(Dense(units=1, activation=activation_dense))\n",
    "    model.compile(loss=\"mse\", optimizer=\"adam\")\n",
    "\n",
    "    # Treinando o modelo\n",
    "    model.fit(X_train, y_train_norm, validation_split=0.1, batch_size=16, epochs=10)\n",
    "\n",
    "    # Melhor MSE\n",
    "    mse = model.evaluate(X_train, y_train_norm)\n",
    "    \n",
    "    return mse"
   ]
  },
  {
   "cell_type": "code",
   "execution_count": 40,
   "id": "1a8630cf-91fb-4f37-a117-1aebeb808505",
   "metadata": {},
   "outputs": [
    {
     "name": "stderr",
     "output_type": "stream",
     "text": [
      "[I 2024-10-14 14:41:17,063] A new study created in memory with name: no-name-a3477afc-ab0a-4f71-9781-ceed7d40611f\n"
     ]
    },
    {
     "name": "stdout",
     "output_type": "stream",
     "text": [
      "Epoch 1/10\n",
      "\u001b[1m33186/33186\u001b[0m \u001b[32m━━━━━━━━━━━━━━━━━━━━\u001b[0m\u001b[37m\u001b[0m \u001b[1m96s\u001b[0m 3ms/step - loss: 0.0747 - val_loss: 0.0500\n",
      "Epoch 2/10\n",
      "\u001b[1m33186/33186\u001b[0m \u001b[32m━━━━━━━━━━━━━━━━━━━━\u001b[0m\u001b[37m\u001b[0m \u001b[1m95s\u001b[0m 3ms/step - loss: 0.0508 - val_loss: 0.0497\n",
      "Epoch 3/10\n",
      "\u001b[1m33186/33186\u001b[0m \u001b[32m━━━━━━━━━━━━━━━━━━━━\u001b[0m\u001b[37m\u001b[0m \u001b[1m102s\u001b[0m 3ms/step - loss: 0.0505 - val_loss: 0.0494\n",
      "Epoch 4/10\n",
      "\u001b[1m33186/33186\u001b[0m \u001b[32m━━━━━━━━━━━━━━━━━━━━\u001b[0m\u001b[37m\u001b[0m \u001b[1m101s\u001b[0m 3ms/step - loss: 0.0500 - val_loss: 0.0495\n",
      "Epoch 5/10\n",
      "\u001b[1m33186/33186\u001b[0m \u001b[32m━━━━━━━━━━━━━━━━━━━━\u001b[0m\u001b[37m\u001b[0m \u001b[1m92s\u001b[0m 3ms/step - loss: 0.0500 - val_loss: 0.0486\n",
      "Epoch 6/10\n",
      "\u001b[1m33186/33186\u001b[0m \u001b[32m━━━━━━━━━━━━━━━━━━━━\u001b[0m\u001b[37m\u001b[0m \u001b[1m86s\u001b[0m 3ms/step - loss: 0.0495 - val_loss: 0.0483\n",
      "Epoch 7/10\n",
      "\u001b[1m33186/33186\u001b[0m \u001b[32m━━━━━━━━━━━━━━━━━━━━\u001b[0m\u001b[37m\u001b[0m \u001b[1m87s\u001b[0m 3ms/step - loss: 0.0489 - val_loss: 0.0478\n",
      "Epoch 8/10\n",
      "\u001b[1m33186/33186\u001b[0m \u001b[32m━━━━━━━━━━━━━━━━━━━━\u001b[0m\u001b[37m\u001b[0m \u001b[1m86s\u001b[0m 3ms/step - loss: 0.0487 - val_loss: 0.0470\n",
      "Epoch 9/10\n",
      "\u001b[1m33186/33186\u001b[0m \u001b[32m━━━━━━━━━━━━━━━━━━━━\u001b[0m\u001b[37m\u001b[0m \u001b[1m88s\u001b[0m 3ms/step - loss: 0.0484 - val_loss: 0.0471\n",
      "Epoch 10/10\n",
      "\u001b[1m33186/33186\u001b[0m \u001b[32m━━━━━━━━━━━━━━━━━━━━\u001b[0m\u001b[37m\u001b[0m \u001b[1m95s\u001b[0m 3ms/step - loss: 0.0482 - val_loss: 0.0464\n",
      "\u001b[1m18437/18437\u001b[0m \u001b[32m━━━━━━━━━━━━━━━━━━━━\u001b[0m\u001b[37m\u001b[0m \u001b[1m25s\u001b[0m 1ms/step - loss: 0.0463\n"
     ]
    },
    {
     "name": "stderr",
     "output_type": "stream",
     "text": [
      "[I 2024-10-14 14:57:10,246] Trial 0 finished with value: 0.04643022269010544 and parameters: {'units': 16, 'kernel_initializer': 'GlorotNormal', 'activation_lstm': 'sigmoid', 'rate': 0.6705004634273843, 'activation_dense': 'linear'}. Best is trial 0 with value: 0.04643022269010544.\n"
     ]
    },
    {
     "name": "stdout",
     "output_type": "stream",
     "text": [
      "Epoch 1/10\n",
      "\u001b[1m33186/33186\u001b[0m \u001b[32m━━━━━━━━━━━━━━━━━━━━\u001b[0m\u001b[37m\u001b[0m \u001b[1m93s\u001b[0m 3ms/step - loss: 0.0506 - val_loss: 0.0460\n",
      "Epoch 2/10\n",
      "\u001b[1m33186/33186\u001b[0m \u001b[32m━━━━━━━━━━━━━━━━━━━━\u001b[0m\u001b[37m\u001b[0m \u001b[1m91s\u001b[0m 3ms/step - loss: 0.0459 - val_loss: 0.0439\n",
      "Epoch 3/10\n",
      "\u001b[1m33186/33186\u001b[0m \u001b[32m━━━━━━━━━━━━━━━━━━━━\u001b[0m\u001b[37m\u001b[0m \u001b[1m92s\u001b[0m 3ms/step - loss: 0.0437 - val_loss: 0.0413\n",
      "Epoch 4/10\n",
      "\u001b[1m33186/33186\u001b[0m \u001b[32m━━━━━━━━━━━━━━━━━━━━\u001b[0m\u001b[37m\u001b[0m \u001b[1m92s\u001b[0m 3ms/step - loss: 0.0412 - val_loss: 0.0388\n",
      "Epoch 5/10\n",
      "\u001b[1m33186/33186\u001b[0m \u001b[32m━━━━━━━━━━━━━━━━━━━━\u001b[0m\u001b[37m\u001b[0m \u001b[1m92s\u001b[0m 3ms/step - loss: 0.0398 - val_loss: 0.0372\n",
      "Epoch 6/10\n",
      "\u001b[1m33186/33186\u001b[0m \u001b[32m━━━━━━━━━━━━━━━━━━━━\u001b[0m\u001b[37m\u001b[0m \u001b[1m93s\u001b[0m 3ms/step - loss: 0.0385 - val_loss: 0.0362\n",
      "Epoch 7/10\n",
      "\u001b[1m33186/33186\u001b[0m \u001b[32m━━━━━━━━━━━━━━━━━━━━\u001b[0m\u001b[37m\u001b[0m \u001b[1m94s\u001b[0m 3ms/step - loss: 0.0373 - val_loss: 0.0353\n",
      "Epoch 8/10\n",
      "\u001b[1m33186/33186\u001b[0m \u001b[32m━━━━━━━━━━━━━━━━━━━━\u001b[0m\u001b[37m\u001b[0m \u001b[1m93s\u001b[0m 3ms/step - loss: 0.0364 - val_loss: 0.0348\n",
      "Epoch 9/10\n",
      "\u001b[1m33186/33186\u001b[0m \u001b[32m━━━━━━━━━━━━━━━━━━━━\u001b[0m\u001b[37m\u001b[0m \u001b[1m94s\u001b[0m 3ms/step - loss: 0.0357 - val_loss: 0.0338\n",
      "Epoch 10/10\n",
      "\u001b[1m33186/33186\u001b[0m \u001b[32m━━━━━━━━━━━━━━━━━━━━\u001b[0m\u001b[37m\u001b[0m \u001b[1m94s\u001b[0m 3ms/step - loss: 0.0351 - val_loss: 0.0330\n",
      "\u001b[1m18437/18437\u001b[0m \u001b[32m━━━━━━━━━━━━━━━━━━━━\u001b[0m\u001b[37m\u001b[0m \u001b[1m21s\u001b[0m 1ms/step - loss: 0.0327\n"
     ]
    },
    {
     "name": "stderr",
     "output_type": "stream",
     "text": [
      "[I 2024-10-14 15:13:01,179] Trial 1 finished with value: 0.032844360917806625 and parameters: {'units': 16, 'kernel_initializer': 'RandomNormal', 'activation_lstm': 'linear', 'rate': 0.31558407944296235, 'activation_dense': 'linear'}. Best is trial 1 with value: 0.032844360917806625.\n"
     ]
    },
    {
     "name": "stdout",
     "output_type": "stream",
     "text": [
      "Epoch 1/10\n",
      "\u001b[1m33186/33186\u001b[0m \u001b[32m━━━━━━━━━━━━━━━━━━━━\u001b[0m\u001b[37m\u001b[0m \u001b[1m91s\u001b[0m 3ms/step - loss: 0.0514 - val_loss: 0.0487\n",
      "Epoch 2/10\n",
      "\u001b[1m33186/33186\u001b[0m \u001b[32m━━━━━━━━━━━━━━━━━━━━\u001b[0m\u001b[37m\u001b[0m \u001b[1m90s\u001b[0m 3ms/step - loss: 0.0491 - val_loss: 0.0485\n",
      "Epoch 3/10\n",
      "\u001b[1m33186/33186\u001b[0m \u001b[32m━━━━━━━━━━━━━━━━━━━━\u001b[0m\u001b[37m\u001b[0m \u001b[1m90s\u001b[0m 3ms/step - loss: 0.0491 - val_loss: 0.0482\n",
      "Epoch 4/10\n",
      "\u001b[1m33186/33186\u001b[0m \u001b[32m━━━━━━━━━━━━━━━━━━━━\u001b[0m\u001b[37m\u001b[0m \u001b[1m93s\u001b[0m 3ms/step - loss: 0.0488 - val_loss: 0.0478\n",
      "Epoch 5/10\n",
      "\u001b[1m33186/33186\u001b[0m \u001b[32m━━━━━━━━━━━━━━━━━━━━\u001b[0m\u001b[37m\u001b[0m \u001b[1m93s\u001b[0m 3ms/step - loss: 0.0483 - val_loss: 0.0474\n",
      "Epoch 6/10\n",
      "\u001b[1m33186/33186\u001b[0m \u001b[32m━━━━━━━━━━━━━━━━━━━━\u001b[0m\u001b[37m\u001b[0m \u001b[1m95s\u001b[0m 3ms/step - loss: 0.0478 - val_loss: 0.0469\n",
      "Epoch 7/10\n",
      "\u001b[1m33186/33186\u001b[0m \u001b[32m━━━━━━━━━━━━━━━━━━━━\u001b[0m\u001b[37m\u001b[0m \u001b[1m99s\u001b[0m 3ms/step - loss: 0.0475 - val_loss: 0.0469\n",
      "Epoch 8/10\n",
      "\u001b[1m33186/33186\u001b[0m \u001b[32m━━━━━━━━━━━━━━━━━━━━\u001b[0m\u001b[37m\u001b[0m \u001b[1m94s\u001b[0m 3ms/step - loss: 0.0474 - val_loss: 0.0465\n",
      "Epoch 9/10\n",
      "\u001b[1m33186/33186\u001b[0m \u001b[32m━━━━━━━━━━━━━━━━━━━━\u001b[0m\u001b[37m\u001b[0m \u001b[1m97s\u001b[0m 3ms/step - loss: 0.0470 - val_loss: 0.0462\n",
      "Epoch 10/10\n",
      "\u001b[1m33186/33186\u001b[0m \u001b[32m━━━━━━━━━━━━━━━━━━━━\u001b[0m\u001b[37m\u001b[0m \u001b[1m94s\u001b[0m 3ms/step - loss: 0.0468 - val_loss: 0.0462\n",
      "\u001b[1m18437/18437\u001b[0m \u001b[32m━━━━━━━━━━━━━━━━━━━━\u001b[0m\u001b[37m\u001b[0m \u001b[1m19s\u001b[0m 1ms/step - loss: 0.0461\n"
     ]
    },
    {
     "name": "stderr",
     "output_type": "stream",
     "text": [
      "[I 2024-10-14 15:28:55,486] Trial 2 finished with value: 0.04624248668551445 and parameters: {'units': 8, 'kernel_initializer': 'RandomUniform', 'activation_lstm': 'relu', 'rate': 0.05345720886256868, 'activation_dense': 'tanh'}. Best is trial 1 with value: 0.032844360917806625.\n"
     ]
    },
    {
     "name": "stdout",
     "output_type": "stream",
     "text": [
      "Epoch 1/10\n",
      "\u001b[1m33186/33186\u001b[0m \u001b[32m━━━━━━━━━━━━━━━━━━━━\u001b[0m\u001b[37m\u001b[0m \u001b[1m114s\u001b[0m 3ms/step - loss: 0.0578 - val_loss: 0.0489\n",
      "Epoch 2/10\n",
      "\u001b[1m33186/33186\u001b[0m \u001b[32m━━━━━━━━━━━━━━━━━━━━\u001b[0m\u001b[37m\u001b[0m \u001b[1m117s\u001b[0m 4ms/step - loss: 0.0490 - val_loss: 0.0485\n",
      "Epoch 3/10\n",
      "\u001b[1m33186/33186\u001b[0m \u001b[32m━━━━━━━━━━━━━━━━━━━━\u001b[0m\u001b[37m\u001b[0m \u001b[1m111s\u001b[0m 3ms/step - loss: 0.0478 - val_loss: 0.0466\n",
      "Epoch 4/10\n",
      "\u001b[1m33186/33186\u001b[0m \u001b[32m━━━━━━━━━━━━━━━━━━━━\u001b[0m\u001b[37m\u001b[0m \u001b[1m109s\u001b[0m 3ms/step - loss: 0.0458 - val_loss: 0.0437\n",
      "Epoch 5/10\n",
      "\u001b[1m33186/33186\u001b[0m \u001b[32m━━━━━━━━━━━━━━━━━━━━\u001b[0m\u001b[37m\u001b[0m \u001b[1m108s\u001b[0m 3ms/step - loss: 0.0443 - val_loss: 0.0441\n",
      "Epoch 6/10\n",
      "\u001b[1m33186/33186\u001b[0m \u001b[32m━━━━━━━━━━━━━━━━━━━━\u001b[0m\u001b[37m\u001b[0m \u001b[1m106s\u001b[0m 3ms/step - loss: 0.0437 - val_loss: 0.0423\n",
      "Epoch 7/10\n",
      "\u001b[1m33186/33186\u001b[0m \u001b[32m━━━━━━━━━━━━━━━━━━━━\u001b[0m\u001b[37m\u001b[0m \u001b[1m107s\u001b[0m 3ms/step - loss: 0.0432 - val_loss: 0.0419\n",
      "Epoch 8/10\n",
      "\u001b[1m33186/33186\u001b[0m \u001b[32m━━━━━━━━━━━━━━━━━━━━\u001b[0m\u001b[37m\u001b[0m \u001b[1m108s\u001b[0m 3ms/step - loss: 0.0426 - val_loss: 0.0423\n",
      "Epoch 9/10\n",
      "\u001b[1m33186/33186\u001b[0m \u001b[32m━━━━━━━━━━━━━━━━━━━━\u001b[0m\u001b[37m\u001b[0m \u001b[1m109s\u001b[0m 3ms/step - loss: 0.0426 - val_loss: 0.0408\n",
      "Epoch 10/10\n",
      "\u001b[1m33186/33186\u001b[0m \u001b[32m━━━━━━━━━━━━━━━━━━━━\u001b[0m\u001b[37m\u001b[0m \u001b[1m109s\u001b[0m 3ms/step - loss: 0.0416 - val_loss: 0.0400\n",
      "\u001b[1m18437/18437\u001b[0m \u001b[32m━━━━━━━━━━━━━━━━━━━━\u001b[0m\u001b[37m\u001b[0m \u001b[1m26s\u001b[0m 1ms/step - loss: 0.0400\n"
     ]
    },
    {
     "name": "stderr",
     "output_type": "stream",
     "text": [
      "[I 2024-10-14 15:47:40,448] Trial 3 finished with value: 0.04009569436311722 and parameters: {'units': 32, 'kernel_initializer': 'Ones', 'activation_lstm': 'sigmoid', 'rate': 0.16543766169722107, 'activation_dense': 'relu'}. Best is trial 1 with value: 0.032844360917806625.\n"
     ]
    },
    {
     "name": "stdout",
     "output_type": "stream",
     "text": [
      "Epoch 1/10\n",
      "\u001b[1m33186/33186\u001b[0m \u001b[32m━━━━━━━━━━━━━━━━━━━━\u001b[0m\u001b[37m\u001b[0m \u001b[1m94s\u001b[0m 3ms/step - loss: 0.1747 - val_loss: 0.1753\n",
      "Epoch 2/10\n",
      "\u001b[1m33186/33186\u001b[0m \u001b[32m━━━━━━━━━━━━━━━━━━━━\u001b[0m\u001b[37m\u001b[0m \u001b[1m94s\u001b[0m 3ms/step - loss: 0.1751 - val_loss: 0.1753\n",
      "Epoch 3/10\n",
      "\u001b[1m33186/33186\u001b[0m \u001b[32m━━━━━━━━━━━━━━━━━━━━\u001b[0m\u001b[37m\u001b[0m \u001b[1m89s\u001b[0m 3ms/step - loss: 0.1749 - val_loss: 0.1753\n",
      "Epoch 4/10\n",
      "\u001b[1m33186/33186\u001b[0m \u001b[32m━━━━━━━━━━━━━━━━━━━━\u001b[0m\u001b[37m\u001b[0m \u001b[1m91s\u001b[0m 3ms/step - loss: 0.1745 - val_loss: 0.1753\n",
      "Epoch 5/10\n",
      "\u001b[1m33186/33186\u001b[0m \u001b[32m━━━━━━━━━━━━━━━━━━━━\u001b[0m\u001b[37m\u001b[0m \u001b[1m91s\u001b[0m 3ms/step - loss: 0.1749 - val_loss: 0.1753\n",
      "Epoch 6/10\n",
      "\u001b[1m33186/33186\u001b[0m \u001b[32m━━━━━━━━━━━━━━━━━━━━\u001b[0m\u001b[37m\u001b[0m \u001b[1m92s\u001b[0m 3ms/step - loss: 0.1742 - val_loss: 0.1753\n",
      "Epoch 7/10\n",
      "\u001b[1m33186/33186\u001b[0m \u001b[32m━━━━━━━━━━━━━━━━━━━━\u001b[0m\u001b[37m\u001b[0m \u001b[1m90s\u001b[0m 3ms/step - loss: 0.1746 - val_loss: 0.1753\n",
      "Epoch 8/10\n",
      "\u001b[1m33186/33186\u001b[0m \u001b[32m━━━━━━━━━━━━━━━━━━━━\u001b[0m\u001b[37m\u001b[0m \u001b[1m91s\u001b[0m 3ms/step - loss: 0.1748 - val_loss: 0.1753\n",
      "Epoch 9/10\n",
      "\u001b[1m33186/33186\u001b[0m \u001b[32m━━━━━━━━━━━━━━━━━━━━\u001b[0m\u001b[37m\u001b[0m \u001b[1m92s\u001b[0m 3ms/step - loss: 0.1741 - val_loss: 0.1753\n",
      "Epoch 10/10\n",
      "\u001b[1m33186/33186\u001b[0m \u001b[32m━━━━━━━━━━━━━━━━━━━━\u001b[0m\u001b[37m\u001b[0m \u001b[1m89s\u001b[0m 3ms/step - loss: 0.1747 - val_loss: 0.1753\n",
      "\u001b[1m18437/18437\u001b[0m \u001b[32m━━━━━━━━━━━━━━━━━━━━\u001b[0m\u001b[37m\u001b[0m \u001b[1m17s\u001b[0m 944us/step - loss: 0.1745\n"
     ]
    },
    {
     "name": "stderr",
     "output_type": "stream",
     "text": [
      "[I 2024-10-14 16:03:11,297] Trial 4 finished with value: 0.17466941475868225 and parameters: {'units': 8, 'kernel_initializer': 'Zeros', 'activation_lstm': 'relu', 'rate': 0.2371032775450034, 'activation_dense': 'relu'}. Best is trial 1 with value: 0.032844360917806625.\n"
     ]
    },
    {
     "name": "stdout",
     "output_type": "stream",
     "text": [
      "Epoch 1/10\n",
      "\u001b[1m33186/33186\u001b[0m \u001b[32m━━━━━━━━━━━━━━━━━━━━\u001b[0m\u001b[37m\u001b[0m \u001b[1m205s\u001b[0m 6ms/step - loss: 0.0497 - val_loss: 0.0406\n",
      "Epoch 2/10\n",
      "\u001b[1m33186/33186\u001b[0m \u001b[32m━━━━━━━━━━━━━━━━━━━━\u001b[0m\u001b[37m\u001b[0m \u001b[1m209s\u001b[0m 6ms/step - loss: 0.0407 - val_loss: 0.0418\n",
      "Epoch 3/10\n",
      "\u001b[1m33186/33186\u001b[0m \u001b[32m━━━━━━━━━━━━━━━━━━━━\u001b[0m\u001b[37m\u001b[0m \u001b[1m196s\u001b[0m 6ms/step - loss: 0.0405 - val_loss: 0.0467\n",
      "Epoch 4/10\n",
      "\u001b[1m33186/33186\u001b[0m \u001b[32m━━━━━━━━━━━━━━━━━━━━\u001b[0m\u001b[37m\u001b[0m \u001b[1m186s\u001b[0m 6ms/step - loss: 66582269952.0000 - val_loss: 13138107392.0000\n",
      "Epoch 5/10\n",
      "\u001b[1m33186/33186\u001b[0m \u001b[32m━━━━━━━━━━━━━━━━━━━━\u001b[0m\u001b[37m\u001b[0m \u001b[1m189s\u001b[0m 6ms/step - loss: 373976858624.0000 - val_loss: 16851420160.0000\n",
      "Epoch 6/10\n",
      "\u001b[1m33186/33186\u001b[0m \u001b[32m━━━━━━━━━━━━━━━━━━━━\u001b[0m\u001b[37m\u001b[0m \u001b[1m188s\u001b[0m 6ms/step - loss: nan - val_loss: nan\n",
      "Epoch 7/10\n",
      "\u001b[1m33186/33186\u001b[0m \u001b[32m━━━━━━━━━━━━━━━━━━━━\u001b[0m\u001b[37m\u001b[0m \u001b[1m185s\u001b[0m 6ms/step - loss: nan - val_loss: nan\n",
      "Epoch 8/10\n",
      "\u001b[1m33186/33186\u001b[0m \u001b[32m━━━━━━━━━━━━━━━━━━━━\u001b[0m\u001b[37m\u001b[0m \u001b[1m186s\u001b[0m 6ms/step - loss: nan - val_loss: nan\n",
      "Epoch 9/10\n",
      "\u001b[1m33186/33186\u001b[0m \u001b[32m━━━━━━━━━━━━━━━━━━━━\u001b[0m\u001b[37m\u001b[0m \u001b[1m188s\u001b[0m 6ms/step - loss: nan - val_loss: nan\n",
      "Epoch 10/10\n",
      "\u001b[1m33186/33186\u001b[0m \u001b[32m━━━━━━━━━━━━━━━━━━━━\u001b[0m\u001b[37m\u001b[0m \u001b[1m186s\u001b[0m 6ms/step - loss: nan - val_loss: nan\n",
      "\u001b[1m18437/18437\u001b[0m \u001b[32m━━━━━━━━━━━━━━━━━━━━\u001b[0m\u001b[37m\u001b[0m \u001b[1m59s\u001b[0m 3ms/step - loss: nan\n"
     ]
    },
    {
     "name": "stderr",
     "output_type": "stream",
     "text": [
      "[W 2024-10-14 16:36:10,119] Trial 5 failed with parameters: {'units': 128, 'kernel_initializer': 'GlorotNormal', 'activation_lstm': 'linear', 'rate': 0.7554875062972062, 'activation_dense': 'linear'} because of the following error: The value nan is not acceptable.\n",
      "[W 2024-10-14 16:36:10,119] Trial 5 failed with value nan.\n"
     ]
    },
    {
     "name": "stdout",
     "output_type": "stream",
     "text": [
      "Epoch 1/10\n",
      "\u001b[1m33186/33186\u001b[0m \u001b[32m━━━━━━━━━━━━━━━━━━━━\u001b[0m\u001b[37m\u001b[0m \u001b[1m191s\u001b[0m 6ms/step - loss: 0.0530 - val_loss: 0.0520\n",
      "Epoch 2/10\n",
      "\u001b[1m33186/33186\u001b[0m \u001b[32m━━━━━━━━━━━━━━━━━━━━\u001b[0m\u001b[37m\u001b[0m \u001b[1m191s\u001b[0m 6ms/step - loss: 0.0522 - val_loss: 0.0520\n",
      "Epoch 3/10\n",
      "\u001b[1m33186/33186\u001b[0m \u001b[32m━━━━━━━━━━━━━━━━━━━━\u001b[0m\u001b[37m\u001b[0m \u001b[1m190s\u001b[0m 6ms/step - loss: 0.0520 - val_loss: 0.0520\n",
      "Epoch 4/10\n",
      "\u001b[1m33186/33186\u001b[0m \u001b[32m━━━━━━━━━━━━━━━━━━━━\u001b[0m\u001b[37m\u001b[0m \u001b[1m191s\u001b[0m 6ms/step - loss: 0.0520 - val_loss: 0.0520\n",
      "Epoch 5/10\n",
      "\u001b[1m33186/33186\u001b[0m \u001b[32m━━━━━━━━━━━━━━━━━━━━\u001b[0m\u001b[37m\u001b[0m \u001b[1m188s\u001b[0m 6ms/step - loss: 0.0519 - val_loss: 0.0520\n",
      "Epoch 6/10\n",
      "\u001b[1m33186/33186\u001b[0m \u001b[32m━━━━━━━━━━━━━━━━━━━━\u001b[0m\u001b[37m\u001b[0m \u001b[1m191s\u001b[0m 6ms/step - loss: 0.0519 - val_loss: 0.0520\n",
      "Epoch 7/10\n",
      "\u001b[1m33186/33186\u001b[0m \u001b[32m━━━━━━━━━━━━━━━━━━━━\u001b[0m\u001b[37m\u001b[0m \u001b[1m191s\u001b[0m 6ms/step - loss: 0.0522 - val_loss: 0.0520\n",
      "Epoch 8/10\n",
      "\u001b[1m33186/33186\u001b[0m \u001b[32m━━━━━━━━━━━━━━━━━━━━\u001b[0m\u001b[37m\u001b[0m \u001b[1m189s\u001b[0m 6ms/step - loss: 0.0520 - val_loss: 0.0520\n",
      "Epoch 9/10\n",
      "\u001b[1m33186/33186\u001b[0m \u001b[32m━━━━━━━━━━━━━━━━━━━━\u001b[0m\u001b[37m\u001b[0m \u001b[1m191s\u001b[0m 6ms/step - loss: 0.0520 - val_loss: 0.0520\n",
      "Epoch 10/10\n",
      "\u001b[1m33186/33186\u001b[0m \u001b[32m━━━━━━━━━━━━━━━━━━━━\u001b[0m\u001b[37m\u001b[0m \u001b[1m191s\u001b[0m 6ms/step - loss: 0.0519 - val_loss: 0.0520\n",
      "\u001b[1m18437/18437\u001b[0m \u001b[32m━━━━━━━━━━━━━━━━━━━━\u001b[0m\u001b[37m\u001b[0m \u001b[1m63s\u001b[0m 3ms/step - loss: 0.0520\n"
     ]
    },
    {
     "name": "stderr",
     "output_type": "stream",
     "text": [
      "[I 2024-10-14 17:08:56,177] Trial 6 finished with value: 0.05205363407731056 and parameters: {'units': 128, 'kernel_initializer': 'Zeros', 'activation_lstm': 'relu', 'rate': 0.2330509764136363, 'activation_dense': 'sigmoid'}. Best is trial 1 with value: 0.032844360917806625.\n"
     ]
    },
    {
     "name": "stdout",
     "output_type": "stream",
     "text": [
      "Epoch 1/10\n",
      "\u001b[1m33186/33186\u001b[0m \u001b[32m━━━━━━━━━━━━━━━━━━━━\u001b[0m\u001b[37m\u001b[0m \u001b[1m86s\u001b[0m 3ms/step - loss: 0.0532 - val_loss: 0.0520\n",
      "Epoch 2/10\n",
      "\u001b[1m33186/33186\u001b[0m \u001b[32m━━━━━━━━━━━━━━━━━━━━\u001b[0m\u001b[37m\u001b[0m \u001b[1m86s\u001b[0m 3ms/step - loss: 0.0522 - val_loss: 0.0520\n",
      "Epoch 3/10\n",
      "\u001b[1m33186/33186\u001b[0m \u001b[32m━━━━━━━━━━━━━━━━━━━━\u001b[0m\u001b[37m\u001b[0m \u001b[1m85s\u001b[0m 3ms/step - loss: 0.0521 - val_loss: 0.0520\n",
      "Epoch 4/10\n",
      "\u001b[1m33186/33186\u001b[0m \u001b[32m━━━━━━━━━━━━━━━━━━━━\u001b[0m\u001b[37m\u001b[0m \u001b[1m85s\u001b[0m 3ms/step - loss: 0.0520 - val_loss: 0.0520\n",
      "Epoch 5/10\n",
      "\u001b[1m33186/33186\u001b[0m \u001b[32m━━━━━━━━━━━━━━━━━━━━\u001b[0m\u001b[37m\u001b[0m \u001b[1m85s\u001b[0m 3ms/step - loss: 0.0522 - val_loss: 0.0520\n",
      "Epoch 6/10\n",
      "\u001b[1m33186/33186\u001b[0m \u001b[32m━━━━━━━━━━━━━━━━━━━━\u001b[0m\u001b[37m\u001b[0m \u001b[1m85s\u001b[0m 3ms/step - loss: 0.0521 - val_loss: 0.0520\n",
      "Epoch 7/10\n",
      "\u001b[1m33186/33186\u001b[0m \u001b[32m━━━━━━━━━━━━━━━━━━━━\u001b[0m\u001b[37m\u001b[0m \u001b[1m85s\u001b[0m 3ms/step - loss: 0.0521 - val_loss: 0.0520\n",
      "Epoch 8/10\n",
      "\u001b[1m33186/33186\u001b[0m \u001b[32m━━━━━━━━━━━━━━━━━━━━\u001b[0m\u001b[37m\u001b[0m \u001b[1m87s\u001b[0m 3ms/step - loss: 0.0521 - val_loss: 0.0520\n",
      "Epoch 9/10\n",
      "\u001b[1m33186/33186\u001b[0m \u001b[32m━━━━━━━━━━━━━━━━━━━━\u001b[0m\u001b[37m\u001b[0m \u001b[1m96s\u001b[0m 3ms/step - loss: 0.0520 - val_loss: 0.0520\n",
      "Epoch 10/10\n",
      "\u001b[1m33186/33186\u001b[0m \u001b[32m━━━━━━━━━━━━━━━━━━━━\u001b[0m\u001b[37m\u001b[0m \u001b[1m101s\u001b[0m 3ms/step - loss: 0.0521 - val_loss: 0.0520\n",
      "\u001b[1m18437/18437\u001b[0m \u001b[32m━━━━━━━━━━━━━━━━━━━━\u001b[0m\u001b[37m\u001b[0m \u001b[1m18s\u001b[0m 972us/step - loss: 0.0520\n"
     ]
    },
    {
     "name": "stderr",
     "output_type": "stream",
     "text": [
      "[I 2024-10-14 17:23:56,143] Trial 7 finished with value: 0.05206838995218277 and parameters: {'units': 8, 'kernel_initializer': 'Zeros', 'activation_lstm': 'relu', 'rate': 0.7438514714896854, 'activation_dense': 'sigmoid'}. Best is trial 1 with value: 0.032844360917806625.\n"
     ]
    },
    {
     "name": "stdout",
     "output_type": "stream",
     "text": [
      "Epoch 1/10\n",
      "\u001b[1m33186/33186\u001b[0m \u001b[32m━━━━━━━━━━━━━━━━━━━━\u001b[0m\u001b[37m\u001b[0m \u001b[1m121s\u001b[0m 4ms/step - loss: 0.4724 - val_loss: 0.1753\n",
      "Epoch 2/10\n",
      "\u001b[1m33186/33186\u001b[0m \u001b[32m━━━━━━━━━━━━━━━━━━━━\u001b[0m\u001b[37m\u001b[0m \u001b[1m129s\u001b[0m 4ms/step - loss: 5.2057 - val_loss: 0.1753\n",
      "Epoch 3/10\n",
      "\u001b[1m33186/33186\u001b[0m \u001b[32m━━━━━━━━━━━━━━━━━━━━\u001b[0m\u001b[37m\u001b[0m \u001b[1m126s\u001b[0m 4ms/step - loss: 0.1076 - val_loss: 0.1753\n",
      "Epoch 4/10\n",
      "\u001b[1m33186/33186\u001b[0m \u001b[32m━━━━━━━━━━━━━━━━━━━━\u001b[0m\u001b[37m\u001b[0m \u001b[1m124s\u001b[0m 4ms/step - loss: 0.1020 - val_loss: 0.0404\n",
      "Epoch 5/10\n",
      "\u001b[1m33186/33186\u001b[0m \u001b[32m━━━━━━━━━━━━━━━━━━━━\u001b[0m\u001b[37m\u001b[0m \u001b[1m129s\u001b[0m 4ms/step - loss: 0.0424 - val_loss: 0.0354\n",
      "Epoch 6/10\n",
      "\u001b[1m33186/33186\u001b[0m \u001b[32m━━━━━━━━━━━━━━━━━━━━\u001b[0m\u001b[37m\u001b[0m \u001b[1m131s\u001b[0m 4ms/step - loss: 0.0385 - val_loss: 0.0335\n",
      "Epoch 7/10\n",
      "\u001b[1m33186/33186\u001b[0m \u001b[32m━━━━━━━━━━━━━━━━━━━━\u001b[0m\u001b[37m\u001b[0m \u001b[1m126s\u001b[0m 4ms/step - loss: 0.0367 - val_loss: 0.0334\n",
      "Epoch 8/10\n",
      "\u001b[1m33186/33186\u001b[0m \u001b[32m━━━━━━━━━━━━━━━━━━━━\u001b[0m\u001b[37m\u001b[0m \u001b[1m124s\u001b[0m 4ms/step - loss: 0.0351 - val_loss: 0.0317\n",
      "Epoch 9/10\n",
      "\u001b[1m33186/33186\u001b[0m \u001b[32m━━━━━━━━━━━━━━━━━━━━\u001b[0m\u001b[37m\u001b[0m \u001b[1m131s\u001b[0m 4ms/step - loss: 0.0341 - val_loss: 0.0308\n",
      "Epoch 10/10\n",
      "\u001b[1m33186/33186\u001b[0m \u001b[32m━━━━━━━━━━━━━━━━━━━━\u001b[0m\u001b[37m\u001b[0m \u001b[1m130s\u001b[0m 4ms/step - loss: 0.0331 - val_loss: 0.0285\n",
      "\u001b[1m18437/18437\u001b[0m \u001b[32m━━━━━━━━━━━━━━━━━━━━\u001b[0m\u001b[37m\u001b[0m \u001b[1m33s\u001b[0m 2ms/step - loss: 0.0283\n"
     ]
    },
    {
     "name": "stderr",
     "output_type": "stream",
     "text": [
      "[I 2024-10-14 17:45:40,922] Trial 8 finished with value: 0.02844635769724846 and parameters: {'units': 64, 'kernel_initializer': 'Ones', 'activation_lstm': 'relu', 'rate': 0.7453598974634115, 'activation_dense': 'relu'}. Best is trial 8 with value: 0.02844635769724846.\n"
     ]
    },
    {
     "name": "stdout",
     "output_type": "stream",
     "text": [
      "Epoch 1/10\n",
      "\u001b[1m33186/33186\u001b[0m \u001b[32m━━━━━━━━━━━━━━━━━━━━\u001b[0m\u001b[37m\u001b[0m \u001b[1m109s\u001b[0m 3ms/step - loss: 0.0541 - val_loss: 0.0478\n",
      "Epoch 2/10\n",
      "\u001b[1m33186/33186\u001b[0m \u001b[32m━━━━━━━━━━━━━━━━━━━━\u001b[0m\u001b[37m\u001b[0m \u001b[1m114s\u001b[0m 3ms/step - loss: 0.0486 - val_loss: 0.0464\n",
      "Epoch 3/10\n",
      "\u001b[1m33186/33186\u001b[0m \u001b[32m━━━━━━━━━━━━━━━━━━━━\u001b[0m\u001b[37m\u001b[0m \u001b[1m116s\u001b[0m 4ms/step - loss: 0.0467 - val_loss: 0.0420\n",
      "Epoch 4/10\n",
      "\u001b[1m33186/33186\u001b[0m \u001b[32m━━━━━━━━━━━━━━━━━━━━\u001b[0m\u001b[37m\u001b[0m \u001b[1m107s\u001b[0m 3ms/step - loss: 0.0449 - val_loss: 0.0404\n",
      "Epoch 5/10\n",
      "\u001b[1m33186/33186\u001b[0m \u001b[32m━━━━━━━━━━━━━━━━━━━━\u001b[0m\u001b[37m\u001b[0m \u001b[1m100s\u001b[0m 3ms/step - loss: 0.0438 - val_loss: 0.0396\n",
      "Epoch 6/10\n",
      "\u001b[1m33186/33186\u001b[0m \u001b[32m━━━━━━━━━━━━━━━━━━━━\u001b[0m\u001b[37m\u001b[0m \u001b[1m100s\u001b[0m 3ms/step - loss: 0.0432 - val_loss: 0.0380\n",
      "Epoch 7/10\n",
      "\u001b[1m33186/33186\u001b[0m \u001b[32m━━━━━━━━━━━━━━━━━━━━\u001b[0m\u001b[37m\u001b[0m \u001b[1m100s\u001b[0m 3ms/step - loss: 0.0420 - val_loss: 0.0371\n",
      "Epoch 8/10\n",
      "\u001b[1m33186/33186\u001b[0m \u001b[32m━━━━━━━━━━━━━━━━━━━━\u001b[0m\u001b[37m\u001b[0m \u001b[1m100s\u001b[0m 3ms/step - loss: 0.0413 - val_loss: 0.0368\n",
      "Epoch 9/10\n",
      "\u001b[1m33186/33186\u001b[0m \u001b[32m━━━━━━━━━━━━━━━━━━━━\u001b[0m\u001b[37m\u001b[0m \u001b[1m100s\u001b[0m 3ms/step - loss: 0.0405 - val_loss: 0.0354\n",
      "Epoch 10/10\n",
      "\u001b[1m33186/33186\u001b[0m \u001b[32m━━━━━━━━━━━━━━━━━━━━\u001b[0m\u001b[37m\u001b[0m \u001b[1m100s\u001b[0m 3ms/step - loss: 0.0397 - val_loss: 0.0341\n",
      "\u001b[1m18437/18437\u001b[0m \u001b[32m━━━━━━━━━━━━━━━━━━━━\u001b[0m\u001b[37m\u001b[0m \u001b[1m24s\u001b[0m 1ms/step - loss: 0.0340\n"
     ]
    },
    {
     "name": "stderr",
     "output_type": "stream",
     "text": [
      "[I 2024-10-14 18:03:31,229] Trial 9 finished with value: 0.034112878143787384 and parameters: {'units': 32, 'kernel_initializer': 'GlorotNormal', 'activation_lstm': 'tanh', 'rate': 0.9319788719899176, 'activation_dense': 'tanh'}. Best is trial 8 with value: 0.02844635769724846.\n"
     ]
    }
   ],
   "source": [
    "sampler = TPESampler(seed=RANDOM_SEED)\n",
    "study = optuna.create_study(direction='minimize', sampler=sampler)\n",
    "#optuna.logging.set_verbosity(optuna.logging.WARNING)\n",
    "study.optimize(objective, n_trials=10)"
   ]
  },
  {
   "cell_type": "code",
   "execution_count": 41,
   "id": "cc26e0fb-1cb3-485b-bb4a-52d7819eca26",
   "metadata": {},
   "outputs": [
    {
     "name": "stdout",
     "output_type": "stream",
     "text": [
      "Melhor MSE: 0.02844635769724846\n",
      "Melhores parâmetros: {'units': 64, 'kernel_initializer': 'Ones', 'activation_lstm': 'relu', 'rate': 0.7453598974634115, 'activation_dense': 'relu'}\n"
     ]
    }
   ],
   "source": [
    "melhores_parametros = study.best_params\n",
    "\n",
    "print(f\"Melhor MSE: {study.best_trial.value}\")\n",
    "print(f\"Melhores parâmetros: {study.best_params}\")"
   ]
  },
  {
   "cell_type": "markdown",
   "id": "5bfbcea9-82c2-4438-a5dd-000d5c18519e",
   "metadata": {},
   "source": [
    "#### **Treinando o modelo com os parâmetros ajustados:**"
   ]
  },
  {
   "cell_type": "code",
   "execution_count": 42,
   "id": "15a717a9-297a-4721-8eff-a906e3506498",
   "metadata": {},
   "outputs": [],
   "source": [
    "# Instanciando o modelo\n",
    "model = Sequential()\n",
    "model.add(Input(shape=(X_train.shape[1], 1)))\n",
    "model.add(LSTM(units=melhores_parametros['units'], kernel_initializer=melhores_parametros['kernel_initializer'], activation=melhores_parametros['activation_lstm']))\n",
    "model.add(Dropout(rate=melhores_parametros['rate']))\n",
    "model.add(Flatten())\n",
    "model.add(Dense(units=1, activation=melhores_parametros['activation_dense']))\n",
    "model.compile(loss=\"mse\", optimizer=\"adam\")"
   ]
  },
  {
   "cell_type": "code",
   "execution_count": 43,
   "id": "5a1dec53-03a2-469c-8a86-fd3fb16ded0e",
   "metadata": {},
   "outputs": [
    {
     "name": "stdout",
     "output_type": "stream",
     "text": [
      "Epoch 1/25\n",
      "\u001b[1m36873/36873\u001b[0m \u001b[32m━━━━━━━━━━━━━━━━━━━━\u001b[0m\u001b[37m\u001b[0m \u001b[1m125s\u001b[0m 3ms/step - loss: 0.1606\n",
      "Epoch 2/25\n",
      "\u001b[1m36873/36873\u001b[0m \u001b[32m━━━━━━━━━━━━━━━━━━━━\u001b[0m\u001b[37m\u001b[0m \u001b[1m123s\u001b[0m 3ms/step - loss: 0.1394\n",
      "Epoch 3/25\n",
      "\u001b[1m36873/36873\u001b[0m \u001b[32m━━━━━━━━━━━━━━━━━━━━\u001b[0m\u001b[37m\u001b[0m \u001b[1m122s\u001b[0m 3ms/step - loss: 0.1366\n",
      "Epoch 4/25\n",
      "\u001b[1m36873/36873\u001b[0m \u001b[32m━━━━━━━━━━━━━━━━━━━━\u001b[0m\u001b[37m\u001b[0m \u001b[1m122s\u001b[0m 3ms/step - loss: 0.1366\n",
      "Epoch 5/25\n",
      "\u001b[1m36873/36873\u001b[0m \u001b[32m━━━━━━━━━━━━━━━━━━━━\u001b[0m\u001b[37m\u001b[0m \u001b[1m122s\u001b[0m 3ms/step - loss: 0.1370\n",
      "Epoch 6/25\n",
      "\u001b[1m36873/36873\u001b[0m \u001b[32m━━━━━━━━━━━━━━━━━━━━\u001b[0m\u001b[37m\u001b[0m \u001b[1m122s\u001b[0m 3ms/step - loss: 0.1367\n",
      "Epoch 7/25\n",
      "\u001b[1m36873/36873\u001b[0m \u001b[32m━━━━━━━━━━━━━━━━━━━━\u001b[0m\u001b[37m\u001b[0m \u001b[1m122s\u001b[0m 3ms/step - loss: 0.1371\n",
      "Epoch 8/25\n",
      "\u001b[1m36873/36873\u001b[0m \u001b[32m━━━━━━━━━━━━━━━━━━━━\u001b[0m\u001b[37m\u001b[0m \u001b[1m122s\u001b[0m 3ms/step - loss: 0.1367\n",
      "Epoch 9/25\n",
      "\u001b[1m36873/36873\u001b[0m \u001b[32m━━━━━━━━━━━━━━━━━━━━\u001b[0m\u001b[37m\u001b[0m \u001b[1m122s\u001b[0m 3ms/step - loss: 0.1363\n",
      "Epoch 10/25\n",
      "\u001b[1m36873/36873\u001b[0m \u001b[32m━━━━━━━━━━━━━━━━━━━━\u001b[0m\u001b[37m\u001b[0m \u001b[1m123s\u001b[0m 3ms/step - loss: 0.1371\n",
      "Epoch 11/25\n",
      "\u001b[1m36873/36873\u001b[0m \u001b[32m━━━━━━━━━━━━━━━━━━━━\u001b[0m\u001b[37m\u001b[0m \u001b[1m122s\u001b[0m 3ms/step - loss: 0.1365\n",
      "Epoch 12/25\n",
      "\u001b[1m36873/36873\u001b[0m \u001b[32m━━━━━━━━━━━━━━━━━━━━\u001b[0m\u001b[37m\u001b[0m \u001b[1m123s\u001b[0m 3ms/step - loss: 0.1373\n",
      "Epoch 13/25\n",
      "\u001b[1m36873/36873\u001b[0m \u001b[32m━━━━━━━━━━━━━━━━━━━━\u001b[0m\u001b[37m\u001b[0m \u001b[1m123s\u001b[0m 3ms/step - loss: 0.1370\n",
      "Epoch 14/25\n",
      "\u001b[1m36873/36873\u001b[0m \u001b[32m━━━━━━━━━━━━━━━━━━━━\u001b[0m\u001b[37m\u001b[0m \u001b[1m123s\u001b[0m 3ms/step - loss: 0.1368\n",
      "Epoch 15/25\n",
      "\u001b[1m36873/36873\u001b[0m \u001b[32m━━━━━━━━━━━━━━━━━━━━\u001b[0m\u001b[37m\u001b[0m \u001b[1m122s\u001b[0m 3ms/step - loss: 0.1370\n",
      "Epoch 16/25\n",
      "\u001b[1m36873/36873\u001b[0m \u001b[32m━━━━━━━━━━━━━━━━━━━━\u001b[0m\u001b[37m\u001b[0m \u001b[1m123s\u001b[0m 3ms/step - loss: 0.1370\n",
      "Epoch 17/25\n",
      "\u001b[1m36873/36873\u001b[0m \u001b[32m━━━━━━━━━━━━━━━━━━━━\u001b[0m\u001b[37m\u001b[0m \u001b[1m123s\u001b[0m 3ms/step - loss: 0.1369\n",
      "Epoch 18/25\n",
      "\u001b[1m36873/36873\u001b[0m \u001b[32m━━━━━━━━━━━━━━━━━━━━\u001b[0m\u001b[37m\u001b[0m \u001b[1m123s\u001b[0m 3ms/step - loss: 0.1371\n",
      "Epoch 19/25\n",
      "\u001b[1m36873/36873\u001b[0m \u001b[32m━━━━━━━━━━━━━━━━━━━━\u001b[0m\u001b[37m\u001b[0m \u001b[1m124s\u001b[0m 3ms/step - loss: 0.1368\n",
      "Epoch 20/25\n",
      "\u001b[1m36873/36873\u001b[0m \u001b[32m━━━━━━━━━━━━━━━━━━━━\u001b[0m\u001b[37m\u001b[0m \u001b[1m123s\u001b[0m 3ms/step - loss: 0.1369\n",
      "Epoch 21/25\n",
      "\u001b[1m36873/36873\u001b[0m \u001b[32m━━━━━━━━━━━━━━━━━━━━\u001b[0m\u001b[37m\u001b[0m \u001b[1m123s\u001b[0m 3ms/step - loss: 0.1371\n",
      "Epoch 22/25\n",
      "\u001b[1m36873/36873\u001b[0m \u001b[32m━━━━━━━━━━━━━━━━━━━━\u001b[0m\u001b[37m\u001b[0m \u001b[1m124s\u001b[0m 3ms/step - loss: 0.1370\n",
      "Epoch 23/25\n",
      "\u001b[1m36873/36873\u001b[0m \u001b[32m━━━━━━━━━━━━━━━━━━━━\u001b[0m\u001b[37m\u001b[0m \u001b[1m123s\u001b[0m 3ms/step - loss: 0.1369\n",
      "Epoch 24/25\n",
      "\u001b[1m36873/36873\u001b[0m \u001b[32m━━━━━━━━━━━━━━━━━━━━\u001b[0m\u001b[37m\u001b[0m \u001b[1m123s\u001b[0m 3ms/step - loss: 0.1368\n",
      "Epoch 25/25\n",
      "\u001b[1m36873/36873\u001b[0m \u001b[32m━━━━━━━━━━━━━━━━━━━━\u001b[0m\u001b[37m\u001b[0m \u001b[1m124s\u001b[0m 3ms/step - loss: 0.1364\n"
     ]
    }
   ],
   "source": [
    "# Treinando o modelo\n",
    "history = model.fit(X_train, y_train_norm, batch_size=16, epochs=25)"
   ]
  },
  {
   "cell_type": "code",
   "execution_count": 44,
   "id": "fb3a2706-13a7-4885-8128-79be05c60e12",
   "metadata": {},
   "outputs": [
    {
     "data": {
      "image/png": "[encoded data removed]",
      "text/plain": [
       "<Figure size 640x480 with 1 Axes>"
      ]
     },
     "metadata": {},
     "output_type": "display_data"
    }
   ],
   "source": [
    "# Gráfico de perda\n",
    "plt.plot(history.history['loss'])\n",
    "#plt.plot(history.history['val_loss'])\n",
    "plt.title('Perda (loss) do modelo')\n",
    "plt.ylabel('Loss')\n",
    "plt.xlabel('Epoch')\n",
    "#plt.legend(['Treino', 'Validação'], loc='upper right')\n",
    "\n",
    "plt.tight_layout()"
   ]
  },
  {
   "cell_type": "markdown",
   "id": "f1a59a87-02ae-415c-8bb1-383f54f60dcf",
   "metadata": {},
   "source": [
    "#### **Avaliando o modelo**"
   ]
  },
  {
   "cell_type": "code",
   "execution_count": 45,
   "id": "44f664e6-1bc9-4dec-8aa5-0a0719c13717",
   "metadata": {},
   "outputs": [
    {
     "name": "stdout",
     "output_type": "stream",
     "text": [
      "\u001b[1m4610/4610\u001b[0m \u001b[32m━━━━━━━━━━━━━━━━━━━━\u001b[0m\u001b[37m\u001b[0m \u001b[1m8s\u001b[0m 2ms/step\n"
     ]
    }
   ],
   "source": [
    "# Fazendo previsões\n",
    "y_pred_norm = model.predict(X_test)\n",
    "\n",
    "# Valores resultantes das previsões em seu formato real\n",
    "y_pred = inverse_normY(y_pred_norm, y_train_max, y_train_min)"
   ]
  },
  {
   "cell_type": "code",
   "execution_count": 46,
   "id": "c45b471f-a2f0-4b86-87c9-39b599900baa",
   "metadata": {},
   "outputs": [
    {
     "data": {
      "text/plain": [
       "{'R2': -2.345850493010006, 'MSE': 4.261614492118213, 'RMSE': 2.064367818998885}"
      ]
     },
     "execution_count": 46,
     "metadata": {},
     "output_type": "execute_result"
    }
   ],
   "source": [
    "# Avaliando o modelo XGB\n",
    "eval_metrics(y_test, y_pred)"
   ]
  },
  {
   "cell_type": "markdown",
   "id": "2157a172-2e98-43a1-9282-1bd9fea7f1e1",
   "metadata": {},
   "source": [
    "### **Modelo LSTM com as variáveis selecionadas, mas excluindo a variável % Iron Concentrate**"
   ]
  },
  {
   "cell_type": "markdown",
   "id": "2f44e3ed-3d17-4cf5-bbfd-a06c2701917b",
   "metadata": {},
   "source": [
    "#### **Separação dos dados em teste e treino**"
   ]
  },
  {
   "cell_type": "code",
   "execution_count": 8,
   "id": "7a4e77f7-3bd8-433f-8b7e-ef0c9925ba1f",
   "metadata": {},
   "outputs": [],
   "source": [
    "X = df[[\"Amina Flow\", \"Ore Pulp pH\", \"Flotation Column 01 Air Flow\",\n",
    "        \"Flotation Column 02 Air Flow\", \"Flotation Column 03 Air Flow\", \"Flotation Column 04 Level\", \n",
    "        \"Flotation Column 05 Level\", \"Flotation Column 06 Level\", \"Flotation Column 07 Level\"]].copy()\n",
    "y = df['% Silica Concentrate']"
   ]
  },
  {
   "cell_type": "code",
   "execution_count": 9,
   "id": "7594b52b-ba24-415d-a313-e9717bbe46ff",
   "metadata": {},
   "outputs": [],
   "source": [
    "# Separando\n",
    "X_train, X_test, y_train, y_test = train_test_split(X, y, test_size=0.2, random_state=RANDOM_SEED)"
   ]
  },
  {
   "cell_type": "markdown",
   "id": "d709b8ea-3a7f-45d7-adcd-a2c3f59c16c6",
   "metadata": {},
   "source": [
    "#### **Normalização das colunas**"
   ]
  },
  {
   "cell_type": "markdown",
   "id": "1befaf2c-40a3-46ad-b356-acaba0def49e",
   "metadata": {},
   "source": [
    "**Dados de treino:**"
   ]
  },
  {
   "cell_type": "code",
   "execution_count": 10,
   "id": "321b92cb-6164-4cfa-8803-c813211ac688",
   "metadata": {},
   "outputs": [],
   "source": [
    "# X_train\n",
    "scaler = MinMaxScaler()\n",
    "\n",
    "scaler.fit(X_train)\n",
    "\n",
    "X_train = scaler.transform(X_train)"
   ]
  },
  {
   "cell_type": "code",
   "execution_count": 11,
   "id": "fd6aef01-1a90-436b-ab52-e0539f167b5f",
   "metadata": {},
   "outputs": [],
   "source": [
    "# y_train\n",
    "y_train_norm, y_train_max, y_train_min = normY(y_train)"
   ]
  },
  {
   "cell_type": "markdown",
   "id": "b420bb49-ecbe-41e0-9fb7-40f78cdb5648",
   "metadata": {},
   "source": [
    "**Dados de teste:**"
   ]
  },
  {
   "cell_type": "code",
   "execution_count": 12,
   "id": "321ab849-430b-4eb0-98b6-de2a975fac19",
   "metadata": {},
   "outputs": [],
   "source": [
    "# X_test\n",
    "X_test = scaler.transform(X_test)"
   ]
  },
  {
   "cell_type": "markdown",
   "id": "522efa69-1666-456b-8831-8b393366070b",
   "metadata": {},
   "source": [
    "#### **Ajuste dos hiperparâmetros com Optuna**"
   ]
  },
  {
   "cell_type": "code",
   "execution_count": 13,
   "id": "67aaf948-2ae6-40a4-ba16-62643375d995",
   "metadata": {},
   "outputs": [],
   "source": [
    "def objective(trial):    \n",
    "    ## LSTM ##\n",
    "    # units\n",
    "    units = trial.suggest_categorical('units', [8, 16, 32, 64, 128])\n",
    "\n",
    "    # kernel_initializer\n",
    "    kernel_initializer = trial.suggest_categorical('kernel_initializer', [\"RandomNormal\", \"RandomUniform\", \"Zeros\", \"Ones\", \"GlorotNormal\", \"GlorotUniform\"])\n",
    "\n",
    "    # activation\n",
    "    activation_lstm = trial.suggest_categorical('activation_lstm', [\"relu\", \"linear\", \"sigmoid\", \"tanh\"])\n",
    "\n",
    "    ## Dropout ##\n",
    "    # rate\n",
    "    rate = trial.suggest_float('rate', 0.0001, 1)\n",
    "    \n",
    "    ## Dense ##\n",
    "    # activation\n",
    "    activation_dense = trial.suggest_categorical('activation_dense', [\"relu\", \"linear\", \"sigmoid\", \"tanh\"])\n",
    "\n",
    "    # Instanciando o modelo\n",
    "    model = Sequential()\n",
    "    model.add(Input(shape=(X_train.shape[1], 1)))\n",
    "    model.add(LSTM(units=units, kernel_initializer=kernel_initializer, activation=activation_lstm))\n",
    "    model.add(Dropout(rate=rate))\n",
    "    model.add(Flatten())\n",
    "    model.add(Dense(units=1, activation=activation_dense))\n",
    "    model.compile(loss=\"mse\", optimizer=\"adam\")\n",
    "\n",
    "    # Treinando o modelo\n",
    "    model.fit(X_train, y_train_norm, validation_split=0.1, batch_size=16, epochs=10)\n",
    "\n",
    "    # Melhor MSE\n",
    "    mse = model.evaluate(X_train, y_train_norm)\n",
    "    \n",
    "    return mse"
   ]
  },
  {
   "cell_type": "code",
   "execution_count": 14,
   "id": "724a0ae1-84b7-4750-883b-59a679943a51",
   "metadata": {},
   "outputs": [
    {
     "name": "stderr",
     "output_type": "stream",
     "text": [
      "[I 2024-10-15 07:34:42,178] A new study created in memory with name: no-name-42ce4756-964a-4bd5-8beb-963bb97fba10\n"
     ]
    },
    {
     "name": "stdout",
     "output_type": "stream",
     "text": [
      "Epoch 1/10\n",
      "\u001b[1m33186/33186\u001b[0m \u001b[32m━━━━━━━━━━━━━━━━━━━━\u001b[0m\u001b[37m\u001b[0m \u001b[1m57s\u001b[0m 2ms/step - loss: 0.0691 - val_loss: 0.0480\n",
      "Epoch 2/10\n",
      "\u001b[1m33186/33186\u001b[0m \u001b[32m━━━━━━━━━━━━━━━━━━━━\u001b[0m\u001b[37m\u001b[0m \u001b[1m59s\u001b[0m 2ms/step - loss: 0.0488 - val_loss: 0.0463\n",
      "Epoch 3/10\n",
      "\u001b[1m33186/33186\u001b[0m \u001b[32m━━━━━━━━━━━━━━━━━━━━\u001b[0m\u001b[37m\u001b[0m \u001b[1m58s\u001b[0m 2ms/step - loss: 0.0473 - val_loss: 0.0457\n",
      "Epoch 4/10\n",
      "\u001b[1m33186/33186\u001b[0m \u001b[32m━━━━━━━━━━━━━━━━━━━━\u001b[0m\u001b[37m\u001b[0m \u001b[1m65s\u001b[0m 2ms/step - loss: 0.0468 - val_loss: 0.0450\n",
      "Epoch 5/10\n",
      "\u001b[1m33186/33186\u001b[0m \u001b[32m━━━━━━━━━━━━━━━━━━━━\u001b[0m\u001b[37m\u001b[0m \u001b[1m63s\u001b[0m 2ms/step - loss: 0.0468 - val_loss: 0.0452\n",
      "Epoch 6/10\n",
      "\u001b[1m33186/33186\u001b[0m \u001b[32m━━━━━━━━━━━━━━━━━━━━\u001b[0m\u001b[37m\u001b[0m \u001b[1m59s\u001b[0m 2ms/step - loss: 0.0468 - val_loss: 0.0453\n",
      "Epoch 7/10\n",
      "\u001b[1m33186/33186\u001b[0m \u001b[32m━━━━━━━━━━━━━━━━━━━━\u001b[0m\u001b[37m\u001b[0m \u001b[1m57s\u001b[0m 2ms/step - loss: 0.0466 - val_loss: 0.0450\n",
      "Epoch 8/10\n",
      "\u001b[1m33186/33186\u001b[0m \u001b[32m━━━━━━━━━━━━━━━━━━━━\u001b[0m\u001b[37m\u001b[0m \u001b[1m57s\u001b[0m 2ms/step - loss: 0.0467 - val_loss: 0.0464\n",
      "Epoch 9/10\n",
      "\u001b[1m33186/33186\u001b[0m \u001b[32m━━━━━━━━━━━━━━━━━━━━\u001b[0m\u001b[37m\u001b[0m \u001b[1m58s\u001b[0m 2ms/step - loss: 0.0465 - val_loss: 0.0455\n",
      "Epoch 10/10\n",
      "\u001b[1m33186/33186\u001b[0m \u001b[32m━━━━━━━━━━━━━━━━━━━━\u001b[0m\u001b[37m\u001b[0m \u001b[1m63s\u001b[0m 2ms/step - loss: 0.0465 - val_loss: 0.0445\n",
      "\u001b[1m18437/18437\u001b[0m \u001b[32m━━━━━━━━━━━━━━━━━━━━\u001b[0m\u001b[37m\u001b[0m \u001b[1m17s\u001b[0m 933us/step - loss: 0.0445\n"
     ]
    },
    {
     "name": "stderr",
     "output_type": "stream",
     "text": [
      "[I 2024-10-15 07:44:55,937] Trial 0 finished with value: 0.044615745544433594 and parameters: {'units': 16, 'kernel_initializer': 'GlorotNormal', 'activation_lstm': 'sigmoid', 'rate': 0.6705004634273843, 'activation_dense': 'linear'}. Best is trial 0 with value: 0.044615745544433594.\n"
     ]
    },
    {
     "name": "stdout",
     "output_type": "stream",
     "text": [
      "Epoch 1/10\n",
      "\u001b[1m33186/33186\u001b[0m \u001b[32m━━━━━━━━━━━━━━━━━━━━\u001b[0m\u001b[37m\u001b[0m \u001b[1m62s\u001b[0m 2ms/step - loss: 0.0494 - val_loss: 0.0451\n",
      "Epoch 2/10\n",
      "\u001b[1m33186/33186\u001b[0m \u001b[32m━━━━━━━━━━━━━━━━━━━━\u001b[0m\u001b[37m\u001b[0m \u001b[1m57s\u001b[0m 2ms/step - loss: 0.0455 - val_loss: 0.0436\n",
      "Epoch 3/10\n",
      "\u001b[1m33186/33186\u001b[0m \u001b[32m━━━━━━━━━━━━━━━━━━━━\u001b[0m\u001b[37m\u001b[0m \u001b[1m57s\u001b[0m 2ms/step - loss: 0.0442 - val_loss: 0.0430\n",
      "Epoch 4/10\n",
      "\u001b[1m33186/33186\u001b[0m \u001b[32m━━━━━━━━━━━━━━━━━━━━\u001b[0m\u001b[37m\u001b[0m \u001b[1m56s\u001b[0m 2ms/step - loss: 0.0437 - val_loss: 0.0426\n",
      "Epoch 5/10\n",
      "\u001b[1m33186/33186\u001b[0m \u001b[32m━━━━━━━━━━━━━━━━━━━━\u001b[0m\u001b[37m\u001b[0m \u001b[1m59s\u001b[0m 2ms/step - loss: 0.0430 - val_loss: 0.0418\n",
      "Epoch 6/10\n",
      "\u001b[1m33186/33186\u001b[0m \u001b[32m━━━━━━━━━━━━━━━━━━━━\u001b[0m\u001b[37m\u001b[0m \u001b[1m59s\u001b[0m 2ms/step - loss: 0.0426 - val_loss: 0.0415\n",
      "Epoch 7/10\n",
      "\u001b[1m33186/33186\u001b[0m \u001b[32m━━━━━━━━━━━━━━━━━━━━\u001b[0m\u001b[37m\u001b[0m \u001b[1m57s\u001b[0m 2ms/step - loss: 0.0420 - val_loss: 0.0407\n",
      "Epoch 8/10\n",
      "\u001b[1m33186/33186\u001b[0m \u001b[32m━━━━━━━━━━━━━━━━━━━━\u001b[0m\u001b[37m\u001b[0m \u001b[1m59s\u001b[0m 2ms/step - loss: 0.0416 - val_loss: 0.0408\n",
      "Epoch 9/10\n",
      "\u001b[1m33186/33186\u001b[0m \u001b[32m━━━━━━━━━━━━━━━━━━━━\u001b[0m\u001b[37m\u001b[0m \u001b[1m57s\u001b[0m 2ms/step - loss: 0.0414 - val_loss: 0.0407\n",
      "Epoch 10/10\n",
      "\u001b[1m33186/33186\u001b[0m \u001b[32m━━━━━━━━━━━━━━━━━━━━\u001b[0m\u001b[37m\u001b[0m \u001b[1m60s\u001b[0m 2ms/step - loss: 0.0412 - val_loss: 0.0397\n",
      "\u001b[1m18437/18437\u001b[0m \u001b[32m━━━━━━━━━━━━━━━━━━━━\u001b[0m\u001b[37m\u001b[0m \u001b[1m15s\u001b[0m 819us/step - loss: 0.0395\n"
     ]
    },
    {
     "name": "stderr",
     "output_type": "stream",
     "text": [
      "[I 2024-10-15 07:54:54,676] Trial 1 finished with value: 0.03967241942882538 and parameters: {'units': 16, 'kernel_initializer': 'RandomNormal', 'activation_lstm': 'linear', 'rate': 0.31558407944296235, 'activation_dense': 'linear'}. Best is trial 1 with value: 0.03967241942882538.\n"
     ]
    },
    {
     "name": "stdout",
     "output_type": "stream",
     "text": [
      "Epoch 1/10\n",
      "\u001b[1m33186/33186\u001b[0m \u001b[32m━━━━━━━━━━━━━━━━━━━━\u001b[0m\u001b[37m\u001b[0m \u001b[1m56s\u001b[0m 2ms/step - loss: 0.0500 - val_loss: 0.0450\n",
      "Epoch 2/10\n",
      "\u001b[1m33186/33186\u001b[0m \u001b[32m━━━━━━━━━━━━━━━━━━━━\u001b[0m\u001b[37m\u001b[0m \u001b[1m57s\u001b[0m 2ms/step - loss: 0.0454 - val_loss: 0.0447\n",
      "Epoch 3/10\n",
      "\u001b[1m33186/33186\u001b[0m \u001b[32m━━━━━━━━━━━━━━━━━━━━\u001b[0m\u001b[37m\u001b[0m \u001b[1m58s\u001b[0m 2ms/step - loss: 0.0449 - val_loss: 0.0442\n",
      "Epoch 4/10\n",
      "\u001b[1m33186/33186\u001b[0m \u001b[32m━━━━━━━━━━━━━━━━━━━━\u001b[0m\u001b[37m\u001b[0m \u001b[1m61s\u001b[0m 2ms/step - loss: 0.0447 - val_loss: 0.0438\n",
      "Epoch 5/10\n",
      "\u001b[1m33186/33186\u001b[0m \u001b[32m━━━━━━━━━━━━━━━━━━━━\u001b[0m\u001b[37m\u001b[0m \u001b[1m61s\u001b[0m 2ms/step - loss: 0.0444 - val_loss: 0.0436\n",
      "Epoch 6/10\n",
      "\u001b[1m33186/33186\u001b[0m \u001b[32m━━━━━━━━━━━━━━━━━━━━\u001b[0m\u001b[37m\u001b[0m \u001b[1m59s\u001b[0m 2ms/step - loss: 0.0441 - val_loss: 0.0432\n",
      "Epoch 7/10\n",
      "\u001b[1m33186/33186\u001b[0m \u001b[32m━━━━━━━━━━━━━━━━━━━━\u001b[0m\u001b[37m\u001b[0m \u001b[1m53s\u001b[0m 2ms/step - loss: 0.0438 - val_loss: 0.0429\n",
      "Epoch 8/10\n",
      "\u001b[1m33186/33186\u001b[0m \u001b[32m━━━━━━━━━━━━━━━━━━━━\u001b[0m\u001b[37m\u001b[0m \u001b[1m55s\u001b[0m 2ms/step - loss: 0.0436 - val_loss: 0.0429\n",
      "Epoch 9/10\n",
      "\u001b[1m33186/33186\u001b[0m \u001b[32m━━━━━━━━━━━━━━━━━━━━\u001b[0m\u001b[37m\u001b[0m \u001b[1m53s\u001b[0m 2ms/step - loss: 0.0432 - val_loss: 0.0427\n",
      "Epoch 10/10\n",
      "\u001b[1m33186/33186\u001b[0m \u001b[32m━━━━━━━━━━━━━━━━━━━━\u001b[0m\u001b[37m\u001b[0m \u001b[1m59s\u001b[0m 2ms/step - loss: 0.0430 - val_loss: 0.0429\n",
      "\u001b[1m18437/18437\u001b[0m \u001b[32m━━━━━━━━━━━━━━━━━━━━\u001b[0m\u001b[37m\u001b[0m \u001b[1m14s\u001b[0m 735us/step - loss: 0.0428\n"
     ]
    },
    {
     "name": "stderr",
     "output_type": "stream",
     "text": [
      "[I 2024-10-15 08:04:40,778] Trial 2 finished with value: 0.04292338341474533 and parameters: {'units': 8, 'kernel_initializer': 'RandomUniform', 'activation_lstm': 'relu', 'rate': 0.05345720886256868, 'activation_dense': 'tanh'}. Best is trial 1 with value: 0.03967241942882538.\n"
     ]
    },
    {
     "name": "stdout",
     "output_type": "stream",
     "text": [
      "Epoch 1/10\n",
      "\u001b[1m33186/33186\u001b[0m \u001b[32m━━━━━━━━━━━━━━━━━━━━\u001b[0m\u001b[37m\u001b[0m \u001b[1m60s\u001b[0m 2ms/step - loss: 0.0574 - val_loss: 0.0462\n",
      "Epoch 2/10\n",
      "\u001b[1m33186/33186\u001b[0m \u001b[32m━━━━━━━━━━━━━━━━━━━━\u001b[0m\u001b[37m\u001b[0m \u001b[1m61s\u001b[0m 2ms/step - loss: 0.0461 - val_loss: 0.0451\n",
      "Epoch 3/10\n",
      "\u001b[1m33186/33186\u001b[0m \u001b[32m━━━━━━━━━━━━━━━━━━━━\u001b[0m\u001b[37m\u001b[0m \u001b[1m59s\u001b[0m 2ms/step - loss: 0.0458 - val_loss: 0.0449\n",
      "Epoch 4/10\n",
      "\u001b[1m33186/33186\u001b[0m \u001b[32m━━━━━━━━━━━━━━━━━━━━\u001b[0m\u001b[37m\u001b[0m \u001b[1m61s\u001b[0m 2ms/step - loss: 0.0454 - val_loss: 0.0460\n",
      "Epoch 5/10\n",
      "\u001b[1m33186/33186\u001b[0m \u001b[32m━━━━━━━━━━━━━━━━━━━━\u001b[0m\u001b[37m\u001b[0m \u001b[1m59s\u001b[0m 2ms/step - loss: 0.0450 - val_loss: 0.0443\n",
      "Epoch 6/10\n",
      "\u001b[1m33186/33186\u001b[0m \u001b[32m━━━━━━━━━━━━━━━━━━━━\u001b[0m\u001b[37m\u001b[0m \u001b[1m60s\u001b[0m 2ms/step - loss: 0.0446 - val_loss: 0.0438\n",
      "Epoch 7/10\n",
      "\u001b[1m33186/33186\u001b[0m \u001b[32m━━━━━━━━━━━━━━━━━━━━\u001b[0m\u001b[37m\u001b[0m \u001b[1m59s\u001b[0m 2ms/step - loss: 0.0443 - val_loss: 0.0447\n",
      "Epoch 8/10\n",
      "\u001b[1m33186/33186\u001b[0m \u001b[32m━━━━━━━━━━━━━━━━━━━━\u001b[0m\u001b[37m\u001b[0m \u001b[1m60s\u001b[0m 2ms/step - loss: 0.0442 - val_loss: 0.0432\n",
      "Epoch 9/10\n",
      "\u001b[1m33186/33186\u001b[0m \u001b[32m━━━━━━━━━━━━━━━━━━━━\u001b[0m\u001b[37m\u001b[0m \u001b[1m59s\u001b[0m 2ms/step - loss: 0.0440 - val_loss: 0.0435\n",
      "Epoch 10/10\n",
      "\u001b[1m33186/33186\u001b[0m \u001b[32m━━━━━━━━━━━━━━━━━━━━\u001b[0m\u001b[37m\u001b[0m \u001b[1m58s\u001b[0m 2ms/step - loss: 0.0435 - val_loss: 0.0428\n",
      "\u001b[1m18437/18437\u001b[0m \u001b[32m━━━━━━━━━━━━━━━━━━━━\u001b[0m\u001b[37m\u001b[0m \u001b[1m18s\u001b[0m 954us/step - loss: 0.0427\n"
     ]
    },
    {
     "name": "stderr",
     "output_type": "stream",
     "text": [
      "[I 2024-10-15 08:14:56,479] Trial 3 finished with value: 0.04283871129155159 and parameters: {'units': 32, 'kernel_initializer': 'Ones', 'activation_lstm': 'sigmoid', 'rate': 0.16543766169722107, 'activation_dense': 'relu'}. Best is trial 1 with value: 0.03967241942882538.\n"
     ]
    },
    {
     "name": "stdout",
     "output_type": "stream",
     "text": [
      "Epoch 1/10\n",
      "\u001b[1m33186/33186\u001b[0m \u001b[32m━━━━━━━━━━━━━━━━━━━━\u001b[0m\u001b[37m\u001b[0m \u001b[1m57s\u001b[0m 2ms/step - loss: 0.1747 - val_loss: 0.1753\n",
      "Epoch 2/10\n",
      "\u001b[1m33186/33186\u001b[0m \u001b[32m━━━━━━━━━━━━━━━━━━━━\u001b[0m\u001b[37m\u001b[0m \u001b[1m58s\u001b[0m 2ms/step - loss: 0.1745 - val_loss: 0.1753\n",
      "Epoch 3/10\n",
      "\u001b[1m33186/33186\u001b[0m \u001b[32m━━━━━━━━━━━━━━━━━━━━\u001b[0m\u001b[37m\u001b[0m \u001b[1m55s\u001b[0m 2ms/step - loss: 0.1750 - val_loss: 0.1753\n",
      "Epoch 4/10\n",
      "\u001b[1m33186/33186\u001b[0m \u001b[32m━━━━━━━━━━━━━━━━━━━━\u001b[0m\u001b[37m\u001b[0m \u001b[1m54s\u001b[0m 2ms/step - loss: 0.1752 - val_loss: 0.1753\n",
      "Epoch 5/10\n",
      "\u001b[1m33186/33186\u001b[0m \u001b[32m━━━━━━━━━━━━━━━━━━━━\u001b[0m\u001b[37m\u001b[0m \u001b[1m52s\u001b[0m 2ms/step - loss: 0.1747 - val_loss: 0.1753\n",
      "Epoch 6/10\n",
      "\u001b[1m33186/33186\u001b[0m \u001b[32m━━━━━━━━━━━━━━━━━━━━\u001b[0m\u001b[37m\u001b[0m \u001b[1m53s\u001b[0m 2ms/step - loss: 0.1744 - val_loss: 0.1753\n",
      "Epoch 7/10\n",
      "\u001b[1m33186/33186\u001b[0m \u001b[32m━━━━━━━━━━━━━━━━━━━━\u001b[0m\u001b[37m\u001b[0m \u001b[1m53s\u001b[0m 2ms/step - loss: 0.1745 - val_loss: 0.1753\n",
      "Epoch 8/10\n",
      "\u001b[1m33186/33186\u001b[0m \u001b[32m━━━━━━━━━━━━━━━━━━━━\u001b[0m\u001b[37m\u001b[0m \u001b[1m54s\u001b[0m 2ms/step - loss: 0.1747 - val_loss: 0.1753\n",
      "Epoch 9/10\n",
      "\u001b[1m33186/33186\u001b[0m \u001b[32m━━━━━━━━━━━━━━━━━━━━\u001b[0m\u001b[37m\u001b[0m \u001b[1m53s\u001b[0m 2ms/step - loss: 0.1743 - val_loss: 0.1753\n",
      "Epoch 10/10\n",
      "\u001b[1m33186/33186\u001b[0m \u001b[32m━━━━━━━━━━━━━━━━━━━━\u001b[0m\u001b[37m\u001b[0m \u001b[1m53s\u001b[0m 2ms/step - loss: 0.1745 - val_loss: 0.1753\n",
      "\u001b[1m18437/18437\u001b[0m \u001b[32m━━━━━━━━━━━━━━━━━━━━\u001b[0m\u001b[37m\u001b[0m \u001b[1m13s\u001b[0m 718us/step - loss: 0.1745\n"
     ]
    },
    {
     "name": "stderr",
     "output_type": "stream",
     "text": [
      "[I 2024-10-15 08:24:13,691] Trial 4 finished with value: 0.17466941475868225 and parameters: {'units': 8, 'kernel_initializer': 'Zeros', 'activation_lstm': 'relu', 'rate': 0.2371032775450034, 'activation_dense': 'relu'}. Best is trial 1 with value: 0.03967241942882538.\n"
     ]
    },
    {
     "name": "stdout",
     "output_type": "stream",
     "text": [
      "Epoch 1/10\n",
      "\u001b[1m33186/33186\u001b[0m \u001b[32m━━━━━━━━━━━━━━━━━━━━\u001b[0m\u001b[37m\u001b[0m \u001b[1m102s\u001b[0m 3ms/step - loss: 0.0488 - val_loss: 0.0435\n",
      "Epoch 2/10\n",
      "\u001b[1m33186/33186\u001b[0m \u001b[32m━━━━━━━━━━━━━━━━━━━━\u001b[0m\u001b[37m\u001b[0m \u001b[1m99s\u001b[0m 3ms/step - loss: 0.0443 - val_loss: 0.0428\n",
      "Epoch 3/10\n",
      "\u001b[1m33186/33186\u001b[0m \u001b[32m━━━━━━━━━━━━━━━━━━━━\u001b[0m\u001b[37m\u001b[0m \u001b[1m104s\u001b[0m 3ms/step - loss: 0.0426 - val_loss: 0.0411\n",
      "Epoch 4/10\n",
      "\u001b[1m33186/33186\u001b[0m \u001b[32m━━━━━━━━━━━━━━━━━━━━\u001b[0m\u001b[37m\u001b[0m \u001b[1m96s\u001b[0m 3ms/step - loss: 0.0417 - val_loss: 0.0401\n",
      "Epoch 5/10\n",
      "\u001b[1m33186/33186\u001b[0m \u001b[32m━━━━━━━━━━━━━━━━━━━━\u001b[0m\u001b[37m\u001b[0m \u001b[1m95s\u001b[0m 3ms/step - loss: 0.0408 - val_loss: 0.0394\n",
      "Epoch 6/10\n",
      "\u001b[1m33186/33186\u001b[0m \u001b[32m━━━━━━━━━━━━━━━━━━━━\u001b[0m\u001b[37m\u001b[0m \u001b[1m97s\u001b[0m 3ms/step - loss: 0.0400 - val_loss: 0.0391\n",
      "Epoch 7/10\n",
      "\u001b[1m33186/33186\u001b[0m \u001b[32m━━━━━━━━━━━━━━━━━━━━\u001b[0m\u001b[37m\u001b[0m \u001b[1m104s\u001b[0m 3ms/step - loss: 0.0397 - val_loss: 0.0383\n",
      "Epoch 8/10\n",
      "\u001b[1m33186/33186\u001b[0m \u001b[32m━━━━━━━━━━━━━━━━━━━━\u001b[0m\u001b[37m\u001b[0m \u001b[1m103s\u001b[0m 3ms/step - loss: 0.0391 - val_loss: 0.0380\n",
      "Epoch 9/10\n",
      "\u001b[1m33186/33186\u001b[0m \u001b[32m━━━━━━━━━━━━━━━━━━━━\u001b[0m\u001b[37m\u001b[0m \u001b[1m117s\u001b[0m 4ms/step - loss: 0.5497 - val_loss: 0.0377\n",
      "Epoch 10/10\n",
      "\u001b[1m33186/33186\u001b[0m \u001b[32m━━━━━━━━━━━━━━━━━━━━\u001b[0m\u001b[37m\u001b[0m \u001b[1m116s\u001b[0m 3ms/step - loss: 0.0388 - val_loss: 0.0371\n",
      "\u001b[1m18437/18437\u001b[0m \u001b[32m━━━━━━━━━━━━━━━━━━━━\u001b[0m\u001b[37m\u001b[0m \u001b[1m39s\u001b[0m 2ms/step - loss: 0.0371\n"
     ]
    },
    {
     "name": "stderr",
     "output_type": "stream",
     "text": [
      "[I 2024-10-15 08:42:04,745] Trial 5 finished with value: 0.037255655974149704 and parameters: {'units': 128, 'kernel_initializer': 'GlorotNormal', 'activation_lstm': 'linear', 'rate': 0.7554875062972062, 'activation_dense': 'linear'}. Best is trial 5 with value: 0.037255655974149704.\n"
     ]
    },
    {
     "name": "stdout",
     "output_type": "stream",
     "text": [
      "Epoch 1/10\n",
      "\u001b[1m33186/33186\u001b[0m \u001b[32m━━━━━━━━━━━━━━━━━━━━\u001b[0m\u001b[37m\u001b[0m \u001b[1m121s\u001b[0m 4ms/step - loss: 0.0531 - val_loss: 0.0520\n",
      "Epoch 2/10\n",
      "\u001b[1m33186/33186\u001b[0m \u001b[32m━━━━━━━━━━━━━━━━━━━━\u001b[0m\u001b[37m\u001b[0m \u001b[1m111s\u001b[0m 3ms/step - loss: 0.0519 - val_loss: 0.0520\n",
      "Epoch 3/10\n",
      "\u001b[1m33186/33186\u001b[0m \u001b[32m━━━━━━━━━━━━━━━━━━━━\u001b[0m\u001b[37m\u001b[0m \u001b[1m108s\u001b[0m 3ms/step - loss: 0.0522 - val_loss: 0.0520\n",
      "Epoch 4/10\n",
      "\u001b[1m33186/33186\u001b[0m \u001b[32m━━━━━━━━━━━━━━━━━━━━\u001b[0m\u001b[37m\u001b[0m \u001b[1m111s\u001b[0m 3ms/step - loss: 0.0521 - val_loss: 0.0520\n",
      "Epoch 5/10\n",
      "\u001b[1m33186/33186\u001b[0m \u001b[32m━━━━━━━━━━━━━━━━━━━━\u001b[0m\u001b[37m\u001b[0m \u001b[1m108s\u001b[0m 3ms/step - loss: 0.0521 - val_loss: 0.0520\n",
      "Epoch 6/10\n",
      "\u001b[1m33186/33186\u001b[0m \u001b[32m━━━━━━━━━━━━━━━━━━━━\u001b[0m\u001b[37m\u001b[0m \u001b[1m110s\u001b[0m 3ms/step - loss: 0.0522 - val_loss: 0.0520\n",
      "Epoch 7/10\n",
      "\u001b[1m33186/33186\u001b[0m \u001b[32m━━━━━━━━━━━━━━━━━━━━\u001b[0m\u001b[37m\u001b[0m \u001b[1m109s\u001b[0m 3ms/step - loss: 0.0522 - val_loss: 0.0520\n",
      "Epoch 8/10\n",
      "\u001b[1m33186/33186\u001b[0m \u001b[32m━━━━━━━━━━━━━━━━━━━━\u001b[0m\u001b[37m\u001b[0m \u001b[1m109s\u001b[0m 3ms/step - loss: 0.0522 - val_loss: 0.0520\n",
      "Epoch 9/10\n",
      "\u001b[1m33186/33186\u001b[0m \u001b[32m━━━━━━━━━━━━━━━━━━━━\u001b[0m\u001b[37m\u001b[0m \u001b[1m108s\u001b[0m 3ms/step - loss: 0.0521 - val_loss: 0.0520\n",
      "Epoch 10/10\n",
      "\u001b[1m33186/33186\u001b[0m \u001b[32m━━━━━━━━━━━━━━━━━━━━\u001b[0m\u001b[37m\u001b[0m \u001b[1m108s\u001b[0m 3ms/step - loss: 0.0519 - val_loss: 0.0520\n",
      "\u001b[1m18437/18437\u001b[0m \u001b[32m━━━━━━━━━━━━━━━━━━━━\u001b[0m\u001b[37m\u001b[0m \u001b[1m37s\u001b[0m 2ms/step - loss: 0.0520\n"
     ]
    },
    {
     "name": "stderr",
     "output_type": "stream",
     "text": [
      "[I 2024-10-15 09:01:04,359] Trial 6 finished with value: 0.05206392705440521 and parameters: {'units': 128, 'kernel_initializer': 'Zeros', 'activation_lstm': 'relu', 'rate': 0.2330509764136363, 'activation_dense': 'sigmoid'}. Best is trial 5 with value: 0.037255655974149704.\n"
     ]
    },
    {
     "name": "stdout",
     "output_type": "stream",
     "text": [
      "Epoch 1/10\n",
      "\u001b[1m33186/33186\u001b[0m \u001b[32m━━━━━━━━━━━━━━━━━━━━\u001b[0m\u001b[37m\u001b[0m \u001b[1m56s\u001b[0m 2ms/step - loss: 0.0531 - val_loss: 0.0520\n",
      "Epoch 2/10\n",
      "\u001b[1m33186/33186\u001b[0m \u001b[32m━━━━━━━━━━━━━━━━━━━━\u001b[0m\u001b[37m\u001b[0m \u001b[1m55s\u001b[0m 2ms/step - loss: 0.0521 - val_loss: 0.0520\n",
      "Epoch 3/10\n",
      "\u001b[1m33186/33186\u001b[0m \u001b[32m━━━━━━━━━━━━━━━━━━━━\u001b[0m\u001b[37m\u001b[0m \u001b[1m55s\u001b[0m 2ms/step - loss: 0.0520 - val_loss: 0.0520\n",
      "Epoch 4/10\n",
      "\u001b[1m33186/33186\u001b[0m \u001b[32m━━━━━━━━━━━━━━━━━━━━\u001b[0m\u001b[37m\u001b[0m \u001b[1m55s\u001b[0m 2ms/step - loss: 0.0521 - val_loss: 0.0520\n",
      "Epoch 5/10\n",
      "\u001b[1m33186/33186\u001b[0m \u001b[32m━━━━━━━━━━━━━━━━━━━━\u001b[0m\u001b[37m\u001b[0m \u001b[1m55s\u001b[0m 2ms/step - loss: 0.0521 - val_loss: 0.0520\n",
      "Epoch 6/10\n",
      "\u001b[1m33186/33186\u001b[0m \u001b[32m━━━━━━━━━━━━━━━━━━━━\u001b[0m\u001b[37m\u001b[0m \u001b[1m55s\u001b[0m 2ms/step - loss: 0.0521 - val_loss: 0.0520\n",
      "Epoch 7/10\n",
      "\u001b[1m33186/33186\u001b[0m \u001b[32m━━━━━━━━━━━━━━━━━━━━\u001b[0m\u001b[37m\u001b[0m \u001b[1m55s\u001b[0m 2ms/step - loss: 0.0522 - val_loss: 0.0520\n",
      "Epoch 8/10\n",
      "\u001b[1m33186/33186\u001b[0m \u001b[32m━━━━━━━━━━━━━━━━━━━━\u001b[0m\u001b[37m\u001b[0m \u001b[1m55s\u001b[0m 2ms/step - loss: 0.0520 - val_loss: 0.0520\n",
      "Epoch 9/10\n",
      "\u001b[1m33186/33186\u001b[0m \u001b[32m━━━━━━━━━━━━━━━━━━━━\u001b[0m\u001b[37m\u001b[0m \u001b[1m56s\u001b[0m 2ms/step - loss: 0.0521 - val_loss: 0.0520\n",
      "Epoch 10/10\n",
      "\u001b[1m33186/33186\u001b[0m \u001b[32m━━━━━━━━━━━━━━━━━━━━\u001b[0m\u001b[37m\u001b[0m \u001b[1m56s\u001b[0m 2ms/step - loss: 0.0520 - val_loss: 0.0520\n",
      "\u001b[1m18437/18437\u001b[0m \u001b[32m━━━━━━━━━━━━━━━━━━━━\u001b[0m\u001b[37m\u001b[0m \u001b[1m14s\u001b[0m 741us/step - loss: 0.0520\n"
     ]
    },
    {
     "name": "stderr",
     "output_type": "stream",
     "text": [
      "[I 2024-10-15 09:10:32,171] Trial 7 finished with value: 0.05205368250608444 and parameters: {'units': 8, 'kernel_initializer': 'Zeros', 'activation_lstm': 'relu', 'rate': 0.7438514714896854, 'activation_dense': 'sigmoid'}. Best is trial 5 with value: 0.037255655974149704.\n"
     ]
    },
    {
     "name": "stdout",
     "output_type": "stream",
     "text": [
      "Epoch 1/10\n",
      "\u001b[1m33186/33186\u001b[0m \u001b[32m━━━━━━━━━━━━━━━━━━━━\u001b[0m\u001b[37m\u001b[0m \u001b[1m76s\u001b[0m 2ms/step - loss: 0.1533 - val_loss: 0.1753\n",
      "Epoch 2/10\n",
      "\u001b[1m33186/33186\u001b[0m \u001b[32m━━━━━━━━━━━━━━━━━━━━\u001b[0m\u001b[37m\u001b[0m \u001b[1m74s\u001b[0m 2ms/step - loss: 0.0785 - val_loss: 0.1753\n",
      "Epoch 3/10\n",
      "\u001b[1m33186/33186\u001b[0m \u001b[32m━━━━━━━━━━━━━━━━━━━━\u001b[0m\u001b[37m\u001b[0m \u001b[1m74s\u001b[0m 2ms/step - loss: 0.0774 - val_loss: 0.1752\n",
      "Epoch 4/10\n",
      "\u001b[1m33186/33186\u001b[0m \u001b[32m━━━━━━━━━━━━━━━━━━━━\u001b[0m\u001b[37m\u001b[0m \u001b[1m74s\u001b[0m 2ms/step - loss: 0.0766 - val_loss: 0.1745\n",
      "Epoch 5/10\n",
      "\u001b[1m33186/33186\u001b[0m \u001b[32m━━━━━━━━━━━━━━━━━━━━\u001b[0m\u001b[37m\u001b[0m \u001b[1m73s\u001b[0m 2ms/step - loss: 0.0766 - val_loss: 0.1739\n",
      "Epoch 6/10\n",
      "\u001b[1m33186/33186\u001b[0m \u001b[32m━━━━━━━━━━━━━━━━━━━━\u001b[0m\u001b[37m\u001b[0m \u001b[1m72s\u001b[0m 2ms/step - loss: 0.0670 - val_loss: 0.0410\n",
      "Epoch 7/10\n",
      "\u001b[1m33186/33186\u001b[0m \u001b[32m━━━━━━━━━━━━━━━━━━━━\u001b[0m\u001b[37m\u001b[0m \u001b[1m73s\u001b[0m 2ms/step - loss: 0.0419 - val_loss: 0.0400\n",
      "Epoch 8/10\n",
      "\u001b[1m33186/33186\u001b[0m \u001b[32m━━━━━━━━━━━━━━━━━━━━\u001b[0m\u001b[37m\u001b[0m \u001b[1m73s\u001b[0m 2ms/step - loss: 0.0416 - val_loss: 0.0402\n",
      "Epoch 9/10\n",
      "\u001b[1m33186/33186\u001b[0m \u001b[32m━━━━━━━━━━━━━━━━━━━━\u001b[0m\u001b[37m\u001b[0m \u001b[1m74s\u001b[0m 2ms/step - loss: 0.0411 - val_loss: 0.0392\n",
      "Epoch 10/10\n",
      "\u001b[1m33186/33186\u001b[0m \u001b[32m━━━━━━━━━━━━━━━━━━━━\u001b[0m\u001b[37m\u001b[0m \u001b[1m73s\u001b[0m 2ms/step - loss: 0.0410 - val_loss: 0.0389\n",
      "\u001b[1m18437/18437\u001b[0m \u001b[32m━━━━━━━━━━━━━━━━━━━━\u001b[0m\u001b[37m\u001b[0m \u001b[1m20s\u001b[0m 1ms/step - loss: 0.0389\n"
     ]
    },
    {
     "name": "stderr",
     "output_type": "stream",
     "text": [
      "[I 2024-10-15 09:23:06,709] Trial 8 finished with value: 0.03901035711169243 and parameters: {'units': 64, 'kernel_initializer': 'Ones', 'activation_lstm': 'relu', 'rate': 0.7453598974634115, 'activation_dense': 'relu'}. Best is trial 5 with value: 0.037255655974149704.\n"
     ]
    },
    {
     "name": "stdout",
     "output_type": "stream",
     "text": [
      "Epoch 1/10\n",
      "\u001b[1m33186/33186\u001b[0m \u001b[32m━━━━━━━━━━━━━━━━━━━━\u001b[0m\u001b[37m\u001b[0m \u001b[1m62s\u001b[0m 2ms/step - loss: 0.0519 - val_loss: 0.0466\n",
      "Epoch 2/10\n",
      "\u001b[1m33186/33186\u001b[0m \u001b[32m━━━━━━━━━━━━━━━━━━━━\u001b[0m\u001b[37m\u001b[0m \u001b[1m61s\u001b[0m 2ms/step - loss: 0.0480 - val_loss: 0.0460\n",
      "Epoch 3/10\n",
      "\u001b[1m33186/33186\u001b[0m \u001b[32m━━━━━━━━━━━━━━━━━━━━\u001b[0m\u001b[37m\u001b[0m \u001b[1m62s\u001b[0m 2ms/step - loss: 0.0475 - val_loss: 0.0451\n",
      "Epoch 4/10\n",
      "\u001b[1m33186/33186\u001b[0m \u001b[32m━━━━━━━━━━━━━━━━━━━━\u001b[0m\u001b[37m\u001b[0m \u001b[1m62s\u001b[0m 2ms/step - loss: 0.0471 - val_loss: 0.0450\n",
      "Epoch 5/10\n",
      "\u001b[1m33186/33186\u001b[0m \u001b[32m━━━━━━━━━━━━━━━━━━━━\u001b[0m\u001b[37m\u001b[0m \u001b[1m63s\u001b[0m 2ms/step - loss: 0.0468 - val_loss: 0.0448\n",
      "Epoch 6/10\n",
      "\u001b[1m33186/33186\u001b[0m \u001b[32m━━━━━━━━━━━━━━━━━━━━\u001b[0m\u001b[37m\u001b[0m \u001b[1m64s\u001b[0m 2ms/step - loss: 0.0466 - val_loss: 0.0450\n",
      "Epoch 7/10\n",
      "\u001b[1m33186/33186\u001b[0m \u001b[32m━━━━━━━━━━━━━━━━━━━━\u001b[0m\u001b[37m\u001b[0m \u001b[1m60s\u001b[0m 2ms/step - loss: 0.0465 - val_loss: 0.0443\n",
      "Epoch 8/10\n",
      "\u001b[1m33186/33186\u001b[0m \u001b[32m━━━━━━━━━━━━━━━━━━━━\u001b[0m\u001b[37m\u001b[0m \u001b[1m57s\u001b[0m 2ms/step - loss: 0.0462 - val_loss: 0.0443\n",
      "Epoch 9/10\n",
      "\u001b[1m33186/33186\u001b[0m \u001b[32m━━━━━━━━━━━━━━━━━━━━\u001b[0m\u001b[37m\u001b[0m \u001b[1m57s\u001b[0m 2ms/step - loss: 0.0462 - val_loss: 0.0443\n",
      "Epoch 10/10\n",
      "\u001b[1m33186/33186\u001b[0m \u001b[32m━━━━━━━━━━━━━━━━━━━━\u001b[0m\u001b[37m\u001b[0m \u001b[1m57s\u001b[0m 2ms/step - loss: 0.0461 - val_loss: 0.0436\n",
      "\u001b[1m18437/18437\u001b[0m \u001b[32m━━━━━━━━━━━━━━━━━━━━\u001b[0m\u001b[37m\u001b[0m \u001b[1m16s\u001b[0m 862us/step - loss: 0.0436\n"
     ]
    },
    {
     "name": "stderr",
     "output_type": "stream",
     "text": [
      "[I 2024-10-15 09:33:29,810] Trial 9 finished with value: 0.04366851598024368 and parameters: {'units': 32, 'kernel_initializer': 'GlorotNormal', 'activation_lstm': 'tanh', 'rate': 0.9319788719899176, 'activation_dense': 'tanh'}. Best is trial 5 with value: 0.037255655974149704.\n"
     ]
    }
   ],
   "source": [
    "sampler = TPESampler(seed=RANDOM_SEED)\n",
    "study = optuna.create_study(direction='minimize', sampler=sampler)\n",
    "#optuna.logging.set_verbosity(optuna.logging.WARNING)\n",
    "study.optimize(objective, n_trials=10)"
   ]
  },
  {
   "cell_type": "code",
   "execution_count": 15,
   "id": "2d93dd7a-4c41-4c2d-9d0f-d28ad0887ddf",
   "metadata": {},
   "outputs": [
    {
     "name": "stdout",
     "output_type": "stream",
     "text": [
      "Melhor MSE: 0.037255655974149704\n",
      "Melhores parâmetros: {'units': 128, 'kernel_initializer': 'GlorotNormal', 'activation_lstm': 'linear', 'rate': 0.7554875062972062, 'activation_dense': 'linear'}\n"
     ]
    }
   ],
   "source": [
    "melhores_parametros = study.best_params\n",
    "\n",
    "print(f\"Melhor MSE: {study.best_trial.value}\")\n",
    "print(f\"Melhores parâmetros: {study.best_params}\")"
   ]
  },
  {
   "cell_type": "markdown",
   "id": "87f5ccd0-1a2f-4fae-94f0-1b7e481c9c2a",
   "metadata": {},
   "source": [
    "#### **Treinando o modelo com os parâmetros ajustados:**"
   ]
  },
  {
   "cell_type": "code",
   "execution_count": 16,
   "id": "0edb27b1-240a-47e2-9783-4667fa4f1773",
   "metadata": {},
   "outputs": [],
   "source": [
    "# Instanciando o modelo\n",
    "model = Sequential()\n",
    "model.add(Input(shape=(X_train.shape[1], 1)))\n",
    "model.add(LSTM(units=melhores_parametros['units'], kernel_initializer=melhores_parametros['kernel_initializer'], activation=melhores_parametros['activation_lstm']))\n",
    "model.add(Dropout(rate=melhores_parametros['rate']))\n",
    "model.add(Flatten())\n",
    "model.add(Dense(units=1, activation=melhores_parametros['activation_dense']))\n",
    "model.compile(loss=\"mse\", optimizer=\"adam\")"
   ]
  },
  {
   "cell_type": "code",
   "execution_count": 17,
   "id": "c181e940-a213-4616-a4b0-129f255bf7bf",
   "metadata": {},
   "outputs": [
    {
     "name": "stdout",
     "output_type": "stream",
     "text": [
      "Epoch 1/25\n",
      "\u001b[1m36873/36873\u001b[0m \u001b[32m━━━━━━━━━━━━━━━━━━━━\u001b[0m\u001b[37m\u001b[0m \u001b[1m106s\u001b[0m 3ms/step - loss: 0.0483\n",
      "Epoch 2/25\n",
      "\u001b[1m36873/36873\u001b[0m \u001b[32m━━━━━━━━━━━━━━━━━━━━\u001b[0m\u001b[37m\u001b[0m \u001b[1m105s\u001b[0m 3ms/step - loss: 0.0441\n",
      "Epoch 3/25\n",
      "\u001b[1m36873/36873\u001b[0m \u001b[32m━━━━━━━━━━━━━━━━━━━━\u001b[0m\u001b[37m\u001b[0m \u001b[1m107s\u001b[0m 3ms/step - loss: 0.0427\n",
      "Epoch 4/25\n",
      "\u001b[1m36873/36873\u001b[0m \u001b[32m━━━━━━━━━━━━━━━━━━━━\u001b[0m\u001b[37m\u001b[0m \u001b[1m106s\u001b[0m 3ms/step - loss: 0.0415\n",
      "Epoch 5/25\n",
      "\u001b[1m36873/36873\u001b[0m \u001b[32m━━━━━━━━━━━━━━━━━━━━\u001b[0m\u001b[37m\u001b[0m \u001b[1m100s\u001b[0m 3ms/step - loss: 0.0406\n",
      "Epoch 6/25\n",
      "\u001b[1m36873/36873\u001b[0m \u001b[32m━━━━━━━━━━━━━━━━━━━━\u001b[0m\u001b[37m\u001b[0m \u001b[1m98s\u001b[0m 3ms/step - loss: 0.0399\n",
      "Epoch 7/25\n",
      "\u001b[1m36873/36873\u001b[0m \u001b[32m━━━━━━━━━━━━━━━━━━━━\u001b[0m\u001b[37m\u001b[0m \u001b[1m98s\u001b[0m 3ms/step - loss: 0.1077\n",
      "Epoch 8/25\n",
      "\u001b[1m36873/36873\u001b[0m \u001b[32m━━━━━━━━━━━━━━━━━━━━\u001b[0m\u001b[37m\u001b[0m \u001b[1m97s\u001b[0m 3ms/step - loss: 0.0391\n",
      "Epoch 9/25\n",
      "\u001b[1m36873/36873\u001b[0m \u001b[32m━━━━━━━━━━━━━━━━━━━━\u001b[0m\u001b[37m\u001b[0m \u001b[1m97s\u001b[0m 3ms/step - loss: 0.0384\n",
      "Epoch 10/25\n",
      "\u001b[1m36873/36873\u001b[0m \u001b[32m━━━━━━━━━━━━━━━━━━━━\u001b[0m\u001b[37m\u001b[0m \u001b[1m98s\u001b[0m 3ms/step - loss: 0.0383\n",
      "Epoch 11/25\n",
      "\u001b[1m36873/36873\u001b[0m \u001b[32m━━━━━━━━━━━━━━━━━━━━\u001b[0m\u001b[37m\u001b[0m \u001b[1m100s\u001b[0m 3ms/step - loss: 0.0377\n",
      "Epoch 12/25\n",
      "\u001b[1m36873/36873\u001b[0m \u001b[32m━━━━━━━━━━━━━━━━━━━━\u001b[0m\u001b[37m\u001b[0m \u001b[1m100s\u001b[0m 3ms/step - loss: 0.0379\n",
      "Epoch 13/25\n",
      "\u001b[1m36873/36873\u001b[0m \u001b[32m━━━━━━━━━━━━━━━━━━━━\u001b[0m\u001b[37m\u001b[0m \u001b[1m97s\u001b[0m 3ms/step - loss: 0.0395\n",
      "Epoch 14/25\n",
      "\u001b[1m36873/36873\u001b[0m \u001b[32m━━━━━━━━━━━━━━━━━━━━\u001b[0m\u001b[37m\u001b[0m \u001b[1m101s\u001b[0m 3ms/step - loss: 0.0384\n",
      "Epoch 15/25\n",
      "\u001b[1m36873/36873\u001b[0m \u001b[32m━━━━━━━━━━━━━━━━━━━━\u001b[0m\u001b[37m\u001b[0m \u001b[1m113s\u001b[0m 3ms/step - loss: 0.0379\n",
      "Epoch 16/25\n",
      "\u001b[1m36873/36873\u001b[0m \u001b[32m━━━━━━━━━━━━━━━━━━━━\u001b[0m\u001b[37m\u001b[0m \u001b[1m105s\u001b[0m 3ms/step - loss: 0.0381\n",
      "Epoch 17/25\n",
      "\u001b[1m36873/36873\u001b[0m \u001b[32m━━━━━━━━━━━━━━━━━━━━\u001b[0m\u001b[37m\u001b[0m \u001b[1m103s\u001b[0m 3ms/step - loss: 0.2840\n",
      "Epoch 18/25\n",
      "\u001b[1m36873/36873\u001b[0m \u001b[32m━━━━━━━━━━━━━━━━━━━━\u001b[0m\u001b[37m\u001b[0m \u001b[1m101s\u001b[0m 3ms/step - loss: 0.0390\n",
      "Epoch 19/25\n",
      "\u001b[1m36873/36873\u001b[0m \u001b[32m━━━━━━━━━━━━━━━━━━━━\u001b[0m\u001b[37m\u001b[0m \u001b[1m99s\u001b[0m 3ms/step - loss: 0.1447\n",
      "Epoch 20/25\n",
      "\u001b[1m36873/36873\u001b[0m \u001b[32m━━━━━━━━━━━━━━━━━━━━\u001b[0m\u001b[37m\u001b[0m \u001b[1m100s\u001b[0m 3ms/step - loss: 0.0380\n",
      "Epoch 21/25\n",
      "\u001b[1m36873/36873\u001b[0m \u001b[32m━━━━━━━━━━━━━━━━━━━━\u001b[0m\u001b[37m\u001b[0m \u001b[1m101s\u001b[0m 3ms/step - loss: 0.0527\n",
      "Epoch 22/25\n",
      "\u001b[1m36873/36873\u001b[0m \u001b[32m━━━━━━━━━━━━━━━━━━━━\u001b[0m\u001b[37m\u001b[0m \u001b[1m102s\u001b[0m 3ms/step - loss: 1242.4502\n",
      "Epoch 23/25\n",
      "\u001b[1m36873/36873\u001b[0m \u001b[32m━━━━━━━━━━━━━━━━━━━━\u001b[0m\u001b[37m\u001b[0m \u001b[1m102s\u001b[0m 3ms/step - loss: 124.2655\n",
      "Epoch 24/25\n",
      "\u001b[1m36873/36873\u001b[0m \u001b[32m━━━━━━━━━━━━━━━━━━━━\u001b[0m\u001b[37m\u001b[0m \u001b[1m102s\u001b[0m 3ms/step - loss: 0.0483\n",
      "Epoch 25/25\n",
      "\u001b[1m36873/36873\u001b[0m \u001b[32m━━━━━━━━━━━━━━━━━━━━\u001b[0m\u001b[37m\u001b[0m \u001b[1m101s\u001b[0m 3ms/step - loss: 0.0377\n"
     ]
    }
   ],
   "source": [
    "# Treinando o modelo\n",
    "history = model.fit(X_train, y_train_norm, batch_size=16, epochs=25)"
   ]
  },
  {
   "cell_type": "code",
   "execution_count": 18,
   "id": "3e12d70b-9e74-4e95-9f72-e694a11b2918",
   "metadata": {},
   "outputs": [
    {
     "data": {
      "image/png": "[encoded data removed]",
      "text/plain": [
       "<Figure size 640x480 with 1 Axes>"
      ]
     },
     "metadata": {},
     "output_type": "display_data"
    }
   ],
   "source": [
    "# Gráfico de perda\n",
    "plt.plot(history.history['loss'])\n",
    "#plt.plot(history.history['val_loss'])\n",
    "plt.title('Perda (loss) do modelo')\n",
    "plt.ylabel('Loss')\n",
    "plt.xlabel('Epoch')\n",
    "#plt.legend(['Treino', 'Validação'], loc='upper right')\n",
    "\n",
    "plt.tight_layout()"
   ]
  },
  {
   "cell_type": "markdown",
   "id": "652198ae-88de-4fd6-ba0b-ed40d07f3848",
   "metadata": {},
   "source": [
    "#### **Avaliando o modelo**"
   ]
  },
  {
   "cell_type": "code",
   "execution_count": 19,
   "id": "2cd8e608-c84f-452a-b292-510260ad08c5",
   "metadata": {},
   "outputs": [
    {
     "name": "stdout",
     "output_type": "stream",
     "text": [
      "\u001b[1m4610/4610\u001b[0m \u001b[32m━━━━━━━━━━━━━━━━━━━━\u001b[0m\u001b[37m\u001b[0m \u001b[1m8s\u001b[0m 2ms/step\n"
     ]
    }
   ],
   "source": [
    "# Fazendo previsões\n",
    "y_pred_norm = model.predict(X_test)\n",
    "\n",
    "# Valores resultantes das previsões em seu formato real\n",
    "y_pred = inverse_normY(y_pred_norm, y_train_max, y_train_min)"
   ]
  },
  {
   "cell_type": "code",
   "execution_count": 20,
   "id": "2a70cd23-4944-41bc-bb90-992809d3c423",
   "metadata": {},
   "outputs": [
    {
     "data": {
      "text/plain": [
       "{'R2': 0.31093992178819263,\n",
       " 'MSE': 0.8776567935065726,\n",
       " 'RMSE': 0.9368333862040638}"
      ]
     },
     "execution_count": 20,
     "metadata": {},
     "output_type": "execute_result"
    }
   ],
   "source": [
    "# Avaliando o modelo XGB\n",
    "eval_metrics(y_test, y_pred)"
   ]
  },
  {
   "cell_type": "code",
   "execution_count": null,
   "id": "9a6ffdf1-f86d-4bd2-8081-90de5222e851",
   "metadata": {},
   "outputs": [],
   "source": []
  },
  {
   "cell_type": "code",
   "execution_count": null,
   "id": "91bbffa5-85b4-4605-8542-b3d7e577a52c",
   "metadata": {},
   "outputs": [],
   "source": []
  },
  {
   "cell_type": "code",
   "execution_count": null,
   "id": "95b6f885-d909-46fe-803e-c6eb9c5f693e",
   "metadata": {},
   "outputs": [],
   "source": []
  }
 ],
 "metadata": {
  "kernelspec": {
   "display_name": "Python 3 (ipykernel)",
   "language": "python",
   "name": "python3"
  },
  "language_info": {
   "codemirror_mode": {
    "name": "ipython",
    "version": 3
   },
   "file_extension": ".py",
   "mimetype": "text/x-python",
   "name": "python",
   "nbconvert_exporter": "python",
   "pygments_lexer": "ipython3",
   "version": "3.11.7"
  }
 },
 "nbformat": 4,
 "nbformat_minor": 5
}
