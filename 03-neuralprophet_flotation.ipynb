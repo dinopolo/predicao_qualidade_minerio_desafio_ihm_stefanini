{
 "cells": [
  {
   "cell_type": "markdown",
   "id": "959c81e2-e7aa-4356-b8f1-3d4f30a8cabe",
   "metadata": {},
   "source": [
    "# **Desafio IHM Stefanini - 03 - NeuralProphet**"
   ]
  },
  {
   "cell_type": "markdown",
   "id": "3913d4cb-4ed9-46bc-8e30-274fca7dbf36",
   "metadata": {},
   "source": [
    "Será feito um modelo NeuralProphet para prever a série temporal da variável `% Silica Concentrate`. Serão feitos 5 modelos:\n",
    "1. Modelo multivariado com todas as variáveis;\n",
    "2. Modelo multivariado apenas com as variáveis selecionados na etapa de preparação;\n",
    "3. Modelo multivariado com todas as variáveis, mas excluindo a variável `% Iron Concentrate`;\n",
    "4. Modelo multivariado apenas com as variáveis selecionados na etapa de preparação e excluindo a variável `% Iron Concentrate`;\n",
    "5. Modelo univariado.\n",
    "\n",
    "Em todos os casos, será feito a previsão para um horizonte de 24 períodos, ou seja, 24 horas a frente."
   ]
  },
  {
   "cell_type": "markdown",
   "id": "6e1e56a1-1391-4f27-99cd-07832da53a38",
   "metadata": {},
   "source": [
    "## **Carregando as bibliotecas**"
   ]
  },
  {
   "cell_type": "code",
   "execution_count": 1,
   "id": "4f0d388a-e6f3-4a17-962a-c0e3492e4b39",
   "metadata": {},
   "outputs": [
    {
     "name": "stderr",
     "output_type": "stream",
     "text": [
      "D:\\Python_Venvs\\neuralprophet\\vienv\\lib\\site-packages\\tqdm\\auto.py:21: TqdmWarning: IProgress not found. Please update jupyter and ipywidgets. See https://ipywidgets.readthedocs.io/en/stable/user_install.html\n",
      "  from .autonotebook import tqdm as notebook_tqdm\n",
      "Importing plotly failed. Interactive plots will not work.\n",
      "Importing plotly failed. Interactive plots will not work.\n"
     ]
    }
   ],
   "source": [
    "import numpy as np\n",
    "import pandas as pd\n",
    "import matplotlib.pyplot as plt\n",
    "import seaborn as sns\n",
    "\n",
    "import optuna\n",
    "from optuna.samplers import TPESampler\n",
    "\n",
    "from sklearn.metrics import mean_squared_error, r2_score, mean_absolute_error\n",
    "from neuralprophet import NeuralProphet, set_log_level, set_random_seed"
   ]
  },
  {
   "cell_type": "markdown",
   "id": "85088f77-1764-4f35-bae4-b3382229a95b",
   "metadata": {},
   "source": [
    "## **Configurações do notebook**"
   ]
  },
  {
   "cell_type": "code",
   "execution_count": 2,
   "id": "bb49d11e-b3a2-43e6-95b1-ed53fdd2dccc",
   "metadata": {},
   "outputs": [],
   "source": [
    "# Configuração gerais\n",
    "%matplotlib inline\n",
    "sns.set(style='white')\n",
    "pd.set_option('display.max_columns', None)\n",
    "\n",
    "# Random seed\n",
    "RANDOM_SEED = 1\n",
    "\n",
    "# Configurações do NeuralProphet\n",
    "set_log_level(\"ERROR\") # Exibir log apenas se houver algum erro\n",
    "set_random_seed(RANDOM_SEED)\n",
    "\n",
    "import warnings\n",
    "warnings.filterwarnings(\"ignore\")"
   ]
  },
  {
   "cell_type": "markdown",
   "id": "8091d610-086d-4d68-b1d6-ead6af6ac305",
   "metadata": {},
   "source": [
    "## **Carregando os dados**"
   ]
  },
  {
   "cell_type": "code",
   "execution_count": 3,
   "id": "1065e787-ed41-4d13-922e-c460311e7fdb",
   "metadata": {},
   "outputs": [],
   "source": [
    "df = pd.read_csv(\"dados_ihm_stefanini/flotation_hour.csv\")"
   ]
  },
  {
   "cell_type": "code",
   "execution_count": 4,
   "id": "726d0c1d-f8e7-4e43-9bd9-3ec9e8b447f1",
   "metadata": {},
   "outputs": [],
   "source": [
    "df['date'] = pd.to_datetime(df['date'])"
   ]
  },
  {
   "cell_type": "code",
   "execution_count": 5,
   "id": "d1f6f173-cbe8-4ee5-8090-67074cbc52e5",
   "metadata": {},
   "outputs": [
    {
     "data": {
      "text/html": [
       "<div>\n",
       "<style scoped>\n",
       "    .dataframe tbody tr th:only-of-type {\n",
       "        vertical-align: middle;\n",
       "    }\n",
       "\n",
       "    .dataframe tbody tr th {\n",
       "        vertical-align: top;\n",
       "    }\n",
       "\n",
       "    .dataframe thead th {\n",
       "        text-align: right;\n",
       "    }\n",
       "</style>\n",
       "<table border=\"1\" class=\"dataframe\">\n",
       "  <thead>\n",
       "    <tr style=\"text-align: right;\">\n",
       "      <th></th>\n",
       "      <th>date</th>\n",
       "      <th>% Iron Feed</th>\n",
       "      <th>% Silica Feed</th>\n",
       "      <th>Starch Flow</th>\n",
       "      <th>Amina Flow</th>\n",
       "      <th>Ore Pulp Flow</th>\n",
       "      <th>Ore Pulp pH</th>\n",
       "      <th>Ore Pulp Density</th>\n",
       "      <th>Flotation Column 01 Air Flow</th>\n",
       "      <th>Flotation Column 02 Air Flow</th>\n",
       "      <th>Flotation Column 03 Air Flow</th>\n",
       "      <th>Flotation Column 04 Air Flow</th>\n",
       "      <th>Flotation Column 05 Air Flow</th>\n",
       "      <th>Flotation Column 06 Air Flow</th>\n",
       "      <th>Flotation Column 07 Air Flow</th>\n",
       "      <th>Flotation Column 01 Level</th>\n",
       "      <th>Flotation Column 02 Level</th>\n",
       "      <th>Flotation Column 03 Level</th>\n",
       "      <th>Flotation Column 04 Level</th>\n",
       "      <th>Flotation Column 05 Level</th>\n",
       "      <th>Flotation Column 06 Level</th>\n",
       "      <th>Flotation Column 07 Level</th>\n",
       "      <th>% Iron Concentrate</th>\n",
       "      <th>% Silica Concentrate</th>\n",
       "    </tr>\n",
       "  </thead>\n",
       "  <tbody>\n",
       "    <tr>\n",
       "      <th>0</th>\n",
       "      <td>2017-03-10 01:00:00</td>\n",
       "      <td>55.2</td>\n",
       "      <td>16.98</td>\n",
       "      <td>3162.625026</td>\n",
       "      <td>578.786678</td>\n",
       "      <td>398.753368</td>\n",
       "      <td>10.113487</td>\n",
       "      <td>1.729558</td>\n",
       "      <td>251.166672</td>\n",
       "      <td>250.226086</td>\n",
       "      <td>250.178287</td>\n",
       "      <td>295.096</td>\n",
       "      <td>306.4</td>\n",
       "      <td>251.232529</td>\n",
       "      <td>250.208184</td>\n",
       "      <td>450.383776</td>\n",
       "      <td>446.891845</td>\n",
       "      <td>450.474523</td>\n",
       "      <td>449.912259</td>\n",
       "      <td>455.792161</td>\n",
       "      <td>464.383310</td>\n",
       "      <td>450.532747</td>\n",
       "      <td>66.91</td>\n",
       "      <td>1.31</td>\n",
       "    </tr>\n",
       "    <tr>\n",
       "      <th>1</th>\n",
       "      <td>2017-03-10 02:00:00</td>\n",
       "      <td>55.2</td>\n",
       "      <td>16.98</td>\n",
       "      <td>3133.256389</td>\n",
       "      <td>537.219661</td>\n",
       "      <td>399.871822</td>\n",
       "      <td>10.129742</td>\n",
       "      <td>1.667784</td>\n",
       "      <td>249.880589</td>\n",
       "      <td>250.214050</td>\n",
       "      <td>250.033317</td>\n",
       "      <td>295.096</td>\n",
       "      <td>306.4</td>\n",
       "      <td>249.909494</td>\n",
       "      <td>249.897572</td>\n",
       "      <td>449.373361</td>\n",
       "      <td>450.249356</td>\n",
       "      <td>450.081222</td>\n",
       "      <td>450.328806</td>\n",
       "      <td>448.722983</td>\n",
       "      <td>455.501528</td>\n",
       "      <td>451.387700</td>\n",
       "      <td>67.06</td>\n",
       "      <td>1.11</td>\n",
       "    </tr>\n",
       "    <tr>\n",
       "      <th>2</th>\n",
       "      <td>2017-03-10 03:00:00</td>\n",
       "      <td>55.2</td>\n",
       "      <td>16.98</td>\n",
       "      <td>3479.482944</td>\n",
       "      <td>591.906744</td>\n",
       "      <td>398.763806</td>\n",
       "      <td>10.048403</td>\n",
       "      <td>1.732711</td>\n",
       "      <td>250.161328</td>\n",
       "      <td>250.104167</td>\n",
       "      <td>250.046350</td>\n",
       "      <td>295.096</td>\n",
       "      <td>306.4</td>\n",
       "      <td>250.242161</td>\n",
       "      <td>250.484183</td>\n",
       "      <td>449.972878</td>\n",
       "      <td>450.868711</td>\n",
       "      <td>450.901822</td>\n",
       "      <td>451.145822</td>\n",
       "      <td>451.134189</td>\n",
       "      <td>459.981311</td>\n",
       "      <td>450.296722</td>\n",
       "      <td>66.97</td>\n",
       "      <td>1.27</td>\n",
       "    </tr>\n",
       "    <tr>\n",
       "      <th>3</th>\n",
       "      <td>2017-03-10 04:00:00</td>\n",
       "      <td>55.2</td>\n",
       "      <td>16.98</td>\n",
       "      <td>3228.036436</td>\n",
       "      <td>593.170106</td>\n",
       "      <td>399.866983</td>\n",
       "      <td>9.918614</td>\n",
       "      <td>1.731056</td>\n",
       "      <td>250.208772</td>\n",
       "      <td>250.204761</td>\n",
       "      <td>250.120861</td>\n",
       "      <td>295.096</td>\n",
       "      <td>306.4</td>\n",
       "      <td>249.825122</td>\n",
       "      <td>250.157622</td>\n",
       "      <td>487.940706</td>\n",
       "      <td>491.462111</td>\n",
       "      <td>487.387206</td>\n",
       "      <td>494.528183</td>\n",
       "      <td>495.664011</td>\n",
       "      <td>502.763850</td>\n",
       "      <td>494.939889</td>\n",
       "      <td>66.75</td>\n",
       "      <td>1.36</td>\n",
       "    </tr>\n",
       "    <tr>\n",
       "      <th>4</th>\n",
       "      <td>2017-03-10 05:00:00</td>\n",
       "      <td>55.2</td>\n",
       "      <td>16.98</td>\n",
       "      <td>3327.280739</td>\n",
       "      <td>619.710806</td>\n",
       "      <td>399.615089</td>\n",
       "      <td>9.746029</td>\n",
       "      <td>1.765879</td>\n",
       "      <td>249.917800</td>\n",
       "      <td>250.160494</td>\n",
       "      <td>250.013500</td>\n",
       "      <td>295.096</td>\n",
       "      <td>306.4</td>\n",
       "      <td>250.249600</td>\n",
       "      <td>250.078639</td>\n",
       "      <td>549.031539</td>\n",
       "      <td>549.983156</td>\n",
       "      <td>549.459572</td>\n",
       "      <td>549.975483</td>\n",
       "      <td>549.512533</td>\n",
       "      <td>560.696300</td>\n",
       "      <td>550.271772</td>\n",
       "      <td>66.63</td>\n",
       "      <td>1.34</td>\n",
       "    </tr>\n",
       "  </tbody>\n",
       "</table>\n",
       "</div>"
      ],
      "text/plain": [
       "                 date  % Iron Feed  % Silica Feed  Starch Flow  Amina Flow  \\\n",
       "0 2017-03-10 01:00:00         55.2          16.98  3162.625026  578.786678   \n",
       "1 2017-03-10 02:00:00         55.2          16.98  3133.256389  537.219661   \n",
       "2 2017-03-10 03:00:00         55.2          16.98  3479.482944  591.906744   \n",
       "3 2017-03-10 04:00:00         55.2          16.98  3228.036436  593.170106   \n",
       "4 2017-03-10 05:00:00         55.2          16.98  3327.280739  619.710806   \n",
       "\n",
       "   Ore Pulp Flow  Ore Pulp pH  Ore Pulp Density  Flotation Column 01 Air Flow  \\\n",
       "0     398.753368    10.113487          1.729558                    251.166672   \n",
       "1     399.871822    10.129742          1.667784                    249.880589   \n",
       "2     398.763806    10.048403          1.732711                    250.161328   \n",
       "3     399.866983     9.918614          1.731056                    250.208772   \n",
       "4     399.615089     9.746029          1.765879                    249.917800   \n",
       "\n",
       "   Flotation Column 02 Air Flow  Flotation Column 03 Air Flow  \\\n",
       "0                    250.226086                    250.178287   \n",
       "1                    250.214050                    250.033317   \n",
       "2                    250.104167                    250.046350   \n",
       "3                    250.204761                    250.120861   \n",
       "4                    250.160494                    250.013500   \n",
       "\n",
       "   Flotation Column 04 Air Flow  Flotation Column 05 Air Flow  \\\n",
       "0                       295.096                         306.4   \n",
       "1                       295.096                         306.4   \n",
       "2                       295.096                         306.4   \n",
       "3                       295.096                         306.4   \n",
       "4                       295.096                         306.4   \n",
       "\n",
       "   Flotation Column 06 Air Flow  Flotation Column 07 Air Flow  \\\n",
       "0                    251.232529                    250.208184   \n",
       "1                    249.909494                    249.897572   \n",
       "2                    250.242161                    250.484183   \n",
       "3                    249.825122                    250.157622   \n",
       "4                    250.249600                    250.078639   \n",
       "\n",
       "   Flotation Column 01 Level  Flotation Column 02 Level  \\\n",
       "0                 450.383776                 446.891845   \n",
       "1                 449.373361                 450.249356   \n",
       "2                 449.972878                 450.868711   \n",
       "3                 487.940706                 491.462111   \n",
       "4                 549.031539                 549.983156   \n",
       "\n",
       "   Flotation Column 03 Level  Flotation Column 04 Level  \\\n",
       "0                 450.474523                 449.912259   \n",
       "1                 450.081222                 450.328806   \n",
       "2                 450.901822                 451.145822   \n",
       "3                 487.387206                 494.528183   \n",
       "4                 549.459572                 549.975483   \n",
       "\n",
       "   Flotation Column 05 Level  Flotation Column 06 Level  \\\n",
       "0                 455.792161                 464.383310   \n",
       "1                 448.722983                 455.501528   \n",
       "2                 451.134189                 459.981311   \n",
       "3                 495.664011                 502.763850   \n",
       "4                 549.512533                 560.696300   \n",
       "\n",
       "   Flotation Column 07 Level  % Iron Concentrate  % Silica Concentrate  \n",
       "0                 450.532747               66.91                  1.31  \n",
       "1                 451.387700               67.06                  1.11  \n",
       "2                 450.296722               66.97                  1.27  \n",
       "3                 494.939889               66.75                  1.36  \n",
       "4                 550.271772               66.63                  1.34  "
      ]
     },
     "execution_count": 5,
     "metadata": {},
     "output_type": "execute_result"
    }
   ],
   "source": [
    "df.head()"
   ]
  },
  {
   "cell_type": "code",
   "execution_count": 6,
   "id": "99a7f101-6e2e-4752-9519-8f91a6495f8a",
   "metadata": {},
   "outputs": [
    {
     "name": "stdout",
     "output_type": "stream",
     "text": [
      "<class 'pandas.core.frame.DataFrame'>\n",
      "RangeIndex: 4415 entries, 0 to 4414\n",
      "Data columns (total 24 columns):\n",
      " #   Column                        Non-Null Count  Dtype         \n",
      "---  ------                        --------------  -----         \n",
      " 0   date                          4415 non-null   datetime64[ns]\n",
      " 1   % Iron Feed                   4415 non-null   float64       \n",
      " 2   % Silica Feed                 4415 non-null   float64       \n",
      " 3   Starch Flow                   4415 non-null   float64       \n",
      " 4   Amina Flow                    4415 non-null   float64       \n",
      " 5   Ore Pulp Flow                 4415 non-null   float64       \n",
      " 6   Ore Pulp pH                   4415 non-null   float64       \n",
      " 7   Ore Pulp Density              4415 non-null   float64       \n",
      " 8   Flotation Column 01 Air Flow  4415 non-null   float64       \n",
      " 9   Flotation Column 02 Air Flow  4415 non-null   float64       \n",
      " 10  Flotation Column 03 Air Flow  4415 non-null   float64       \n",
      " 11  Flotation Column 04 Air Flow  4415 non-null   float64       \n",
      " 12  Flotation Column 05 Air Flow  4415 non-null   float64       \n",
      " 13  Flotation Column 06 Air Flow  4415 non-null   float64       \n",
      " 14  Flotation Column 07 Air Flow  4415 non-null   float64       \n",
      " 15  Flotation Column 01 Level     4415 non-null   float64       \n",
      " 16  Flotation Column 02 Level     4415 non-null   float64       \n",
      " 17  Flotation Column 03 Level     4415 non-null   float64       \n",
      " 18  Flotation Column 04 Level     4415 non-null   float64       \n",
      " 19  Flotation Column 05 Level     4415 non-null   float64       \n",
      " 20  Flotation Column 06 Level     4415 non-null   float64       \n",
      " 21  Flotation Column 07 Level     4415 non-null   float64       \n",
      " 22  % Iron Concentrate            4415 non-null   float64       \n",
      " 23  % Silica Concentrate          4415 non-null   float64       \n",
      "dtypes: datetime64[ns](1), float64(23)\n",
      "memory usage: 827.9 KB\n"
     ]
    }
   ],
   "source": [
    "df.info()"
   ]
  },
  {
   "cell_type": "markdown",
   "id": "0c85b08e-59af-434d-8cc5-f5cb167a24ba",
   "metadata": {},
   "source": [
    "## **Funções necessárias**"
   ]
  },
  {
   "cell_type": "code",
   "execution_count": 7,
   "id": "70e7b071-4e9a-480b-9d33-0646961a986c",
   "metadata": {},
   "outputs": [],
   "source": [
    "# Métricas\n",
    "def eval_metrics(y_true, y_pred):\n",
    "    metrics_dict = dict()\n",
    "    metrics_dict['RMSE'] = np.sqrt(mean_squared_error(y_true, y_pred))\n",
    "    metrics_dict['MAE'] = mean_absolute_error(y_true, y_pred)\n",
    "    metrics_dict['MAPE'] = (np.mean(np.true_divide(np.abs(y_true-y_pred), y_true)))*100\n",
    "    return metrics_dict"
   ]
  },
  {
   "cell_type": "markdown",
   "id": "9e7a4780-add5-4f8b-84a0-956923495f64",
   "metadata": {},
   "source": [
    "## **Ajustes necessários para o modelo NeuralProphet**"
   ]
  },
  {
   "cell_type": "markdown",
   "id": "76f449cf-78c8-4644-b8b6-cf37242e3fc6",
   "metadata": {},
   "source": [
    "**Renomeando as colunas `date` e `% Silica Concentrate`:**"
   ]
  },
  {
   "cell_type": "code",
   "execution_count": 8,
   "id": "b6b64a5e-f1af-4b19-832e-5149043b06f5",
   "metadata": {},
   "outputs": [],
   "source": [
    "df.rename(columns={\"date\": \"ds\", \"% Silica Concentrate\": \"y\"}, inplace=True)"
   ]
  },
  {
   "cell_type": "markdown",
   "id": "0b83e534-1b42-421d-bb67-9a35974eba92",
   "metadata": {},
   "source": [
    "### **Separando os dados em treino e teste**"
   ]
  },
  {
   "cell_type": "markdown",
   "id": "e5d7b215-6579-4e94-afc4-79484a42a660",
   "metadata": {},
   "source": [
    "**Treino:**"
   ]
  },
  {
   "cell_type": "code",
   "execution_count": 9,
   "id": "c72e8be7-e974-43b5-9512-dbc4ce000282",
   "metadata": {},
   "outputs": [
    {
     "data": {
      "text/html": [
       "<div>\n",
       "<style scoped>\n",
       "    .dataframe tbody tr th:only-of-type {\n",
       "        vertical-align: middle;\n",
       "    }\n",
       "\n",
       "    .dataframe tbody tr th {\n",
       "        vertical-align: top;\n",
       "    }\n",
       "\n",
       "    .dataframe thead th {\n",
       "        text-align: right;\n",
       "    }\n",
       "</style>\n",
       "<table border=\"1\" class=\"dataframe\">\n",
       "  <thead>\n",
       "    <tr style=\"text-align: right;\">\n",
       "      <th></th>\n",
       "      <th>ds</th>\n",
       "      <th>% Iron Feed</th>\n",
       "      <th>% Silica Feed</th>\n",
       "      <th>Starch Flow</th>\n",
       "      <th>Amina Flow</th>\n",
       "      <th>Ore Pulp Flow</th>\n",
       "      <th>Ore Pulp pH</th>\n",
       "      <th>Ore Pulp Density</th>\n",
       "      <th>Flotation Column 01 Air Flow</th>\n",
       "      <th>Flotation Column 02 Air Flow</th>\n",
       "      <th>Flotation Column 03 Air Flow</th>\n",
       "      <th>Flotation Column 04 Air Flow</th>\n",
       "      <th>Flotation Column 05 Air Flow</th>\n",
       "      <th>Flotation Column 06 Air Flow</th>\n",
       "      <th>Flotation Column 07 Air Flow</th>\n",
       "      <th>Flotation Column 01 Level</th>\n",
       "      <th>Flotation Column 02 Level</th>\n",
       "      <th>Flotation Column 03 Level</th>\n",
       "      <th>Flotation Column 04 Level</th>\n",
       "      <th>Flotation Column 05 Level</th>\n",
       "      <th>Flotation Column 06 Level</th>\n",
       "      <th>Flotation Column 07 Level</th>\n",
       "      <th>% Iron Concentrate</th>\n",
       "      <th>y</th>\n",
       "    </tr>\n",
       "  </thead>\n",
       "  <tbody>\n",
       "    <tr>\n",
       "      <th>0</th>\n",
       "      <td>2017-03-10 01:00:00</td>\n",
       "      <td>55.20</td>\n",
       "      <td>16.98</td>\n",
       "      <td>3162.625026</td>\n",
       "      <td>578.786678</td>\n",
       "      <td>398.753368</td>\n",
       "      <td>10.113487</td>\n",
       "      <td>1.729558</td>\n",
       "      <td>251.166672</td>\n",
       "      <td>250.226086</td>\n",
       "      <td>250.178287</td>\n",
       "      <td>295.096000</td>\n",
       "      <td>306.400000</td>\n",
       "      <td>251.232529</td>\n",
       "      <td>250.208184</td>\n",
       "      <td>450.383776</td>\n",
       "      <td>446.891845</td>\n",
       "      <td>450.474523</td>\n",
       "      <td>449.912259</td>\n",
       "      <td>455.792161</td>\n",
       "      <td>464.383310</td>\n",
       "      <td>450.532747</td>\n",
       "      <td>66.91</td>\n",
       "      <td>1.31</td>\n",
       "    </tr>\n",
       "    <tr>\n",
       "      <th>1</th>\n",
       "      <td>2017-03-10 02:00:00</td>\n",
       "      <td>55.20</td>\n",
       "      <td>16.98</td>\n",
       "      <td>3133.256389</td>\n",
       "      <td>537.219661</td>\n",
       "      <td>399.871822</td>\n",
       "      <td>10.129742</td>\n",
       "      <td>1.667784</td>\n",
       "      <td>249.880589</td>\n",
       "      <td>250.214050</td>\n",
       "      <td>250.033317</td>\n",
       "      <td>295.096000</td>\n",
       "      <td>306.400000</td>\n",
       "      <td>249.909494</td>\n",
       "      <td>249.897572</td>\n",
       "      <td>449.373361</td>\n",
       "      <td>450.249356</td>\n",
       "      <td>450.081222</td>\n",
       "      <td>450.328806</td>\n",
       "      <td>448.722983</td>\n",
       "      <td>455.501528</td>\n",
       "      <td>451.387700</td>\n",
       "      <td>67.06</td>\n",
       "      <td>1.11</td>\n",
       "    </tr>\n",
       "    <tr>\n",
       "      <th>2</th>\n",
       "      <td>2017-03-10 03:00:00</td>\n",
       "      <td>55.20</td>\n",
       "      <td>16.98</td>\n",
       "      <td>3479.482944</td>\n",
       "      <td>591.906744</td>\n",
       "      <td>398.763806</td>\n",
       "      <td>10.048403</td>\n",
       "      <td>1.732711</td>\n",
       "      <td>250.161328</td>\n",
       "      <td>250.104167</td>\n",
       "      <td>250.046350</td>\n",
       "      <td>295.096000</td>\n",
       "      <td>306.400000</td>\n",
       "      <td>250.242161</td>\n",
       "      <td>250.484183</td>\n",
       "      <td>449.972878</td>\n",
       "      <td>450.868711</td>\n",
       "      <td>450.901822</td>\n",
       "      <td>451.145822</td>\n",
       "      <td>451.134189</td>\n",
       "      <td>459.981311</td>\n",
       "      <td>450.296722</td>\n",
       "      <td>66.97</td>\n",
       "      <td>1.27</td>\n",
       "    </tr>\n",
       "    <tr>\n",
       "      <th>3</th>\n",
       "      <td>2017-03-10 04:00:00</td>\n",
       "      <td>55.20</td>\n",
       "      <td>16.98</td>\n",
       "      <td>3228.036436</td>\n",
       "      <td>593.170106</td>\n",
       "      <td>399.866983</td>\n",
       "      <td>9.918614</td>\n",
       "      <td>1.731056</td>\n",
       "      <td>250.208772</td>\n",
       "      <td>250.204761</td>\n",
       "      <td>250.120861</td>\n",
       "      <td>295.096000</td>\n",
       "      <td>306.400000</td>\n",
       "      <td>249.825122</td>\n",
       "      <td>250.157622</td>\n",
       "      <td>487.940706</td>\n",
       "      <td>491.462111</td>\n",
       "      <td>487.387206</td>\n",
       "      <td>494.528183</td>\n",
       "      <td>495.664011</td>\n",
       "      <td>502.763850</td>\n",
       "      <td>494.939889</td>\n",
       "      <td>66.75</td>\n",
       "      <td>1.36</td>\n",
       "    </tr>\n",
       "    <tr>\n",
       "      <th>4</th>\n",
       "      <td>2017-03-10 05:00:00</td>\n",
       "      <td>55.20</td>\n",
       "      <td>16.98</td>\n",
       "      <td>3327.280739</td>\n",
       "      <td>619.710806</td>\n",
       "      <td>399.615089</td>\n",
       "      <td>9.746029</td>\n",
       "      <td>1.765879</td>\n",
       "      <td>249.917800</td>\n",
       "      <td>250.160494</td>\n",
       "      <td>250.013500</td>\n",
       "      <td>295.096000</td>\n",
       "      <td>306.400000</td>\n",
       "      <td>250.249600</td>\n",
       "      <td>250.078639</td>\n",
       "      <td>549.031539</td>\n",
       "      <td>549.983156</td>\n",
       "      <td>549.459572</td>\n",
       "      <td>549.975483</td>\n",
       "      <td>549.512533</td>\n",
       "      <td>560.696300</td>\n",
       "      <td>550.271772</td>\n",
       "      <td>66.63</td>\n",
       "      <td>1.34</td>\n",
       "    </tr>\n",
       "    <tr>\n",
       "      <th>...</th>\n",
       "      <td>...</td>\n",
       "      <td>...</td>\n",
       "      <td>...</td>\n",
       "      <td>...</td>\n",
       "      <td>...</td>\n",
       "      <td>...</td>\n",
       "      <td>...</td>\n",
       "      <td>...</td>\n",
       "      <td>...</td>\n",
       "      <td>...</td>\n",
       "      <td>...</td>\n",
       "      <td>...</td>\n",
       "      <td>...</td>\n",
       "      <td>...</td>\n",
       "      <td>...</td>\n",
       "      <td>...</td>\n",
       "      <td>...</td>\n",
       "      <td>...</td>\n",
       "      <td>...</td>\n",
       "      <td>...</td>\n",
       "      <td>...</td>\n",
       "      <td>...</td>\n",
       "      <td>...</td>\n",
       "      <td>...</td>\n",
       "    </tr>\n",
       "    <tr>\n",
       "      <th>4386</th>\n",
       "      <td>2017-09-08 19:00:00</td>\n",
       "      <td>59.55</td>\n",
       "      <td>8.45</td>\n",
       "      <td>1814.082561</td>\n",
       "      <td>286.948050</td>\n",
       "      <td>378.794775</td>\n",
       "      <td>9.224923</td>\n",
       "      <td>1.596176</td>\n",
       "      <td>299.937494</td>\n",
       "      <td>300.281400</td>\n",
       "      <td>299.930189</td>\n",
       "      <td>299.929867</td>\n",
       "      <td>300.045589</td>\n",
       "      <td>299.907800</td>\n",
       "      <td>300.612778</td>\n",
       "      <td>399.246644</td>\n",
       "      <td>499.504078</td>\n",
       "      <td>399.884889</td>\n",
       "      <td>403.851878</td>\n",
       "      <td>400.782472</td>\n",
       "      <td>400.266183</td>\n",
       "      <td>402.725244</td>\n",
       "      <td>65.12</td>\n",
       "      <td>1.33</td>\n",
       "    </tr>\n",
       "    <tr>\n",
       "      <th>4387</th>\n",
       "      <td>2017-09-08 20:00:00</td>\n",
       "      <td>59.55</td>\n",
       "      <td>8.45</td>\n",
       "      <td>2751.251532</td>\n",
       "      <td>306.293311</td>\n",
       "      <td>380.472236</td>\n",
       "      <td>9.387055</td>\n",
       "      <td>1.630635</td>\n",
       "      <td>299.836139</td>\n",
       "      <td>300.033742</td>\n",
       "      <td>300.003611</td>\n",
       "      <td>299.913328</td>\n",
       "      <td>300.002856</td>\n",
       "      <td>300.073050</td>\n",
       "      <td>300.030389</td>\n",
       "      <td>400.178172</td>\n",
       "      <td>498.873272</td>\n",
       "      <td>399.506600</td>\n",
       "      <td>400.187917</td>\n",
       "      <td>400.958233</td>\n",
       "      <td>400.416839</td>\n",
       "      <td>400.626439</td>\n",
       "      <td>64.91</td>\n",
       "      <td>1.50</td>\n",
       "    </tr>\n",
       "    <tr>\n",
       "      <th>4388</th>\n",
       "      <td>2017-09-08 21:00:00</td>\n",
       "      <td>59.55</td>\n",
       "      <td>8.45</td>\n",
       "      <td>1557.087077</td>\n",
       "      <td>300.106875</td>\n",
       "      <td>377.982556</td>\n",
       "      <td>9.500313</td>\n",
       "      <td>1.631130</td>\n",
       "      <td>299.882483</td>\n",
       "      <td>300.264511</td>\n",
       "      <td>299.929856</td>\n",
       "      <td>299.893272</td>\n",
       "      <td>299.882983</td>\n",
       "      <td>299.432156</td>\n",
       "      <td>299.994811</td>\n",
       "      <td>405.193939</td>\n",
       "      <td>502.707611</td>\n",
       "      <td>406.744867</td>\n",
       "      <td>403.466583</td>\n",
       "      <td>400.435589</td>\n",
       "      <td>400.730467</td>\n",
       "      <td>402.128683</td>\n",
       "      <td>63.91</td>\n",
       "      <td>2.94</td>\n",
       "    </tr>\n",
       "    <tr>\n",
       "      <th>4389</th>\n",
       "      <td>2017-09-08 22:00:00</td>\n",
       "      <td>59.55</td>\n",
       "      <td>8.45</td>\n",
       "      <td>2796.314864</td>\n",
       "      <td>284.769595</td>\n",
       "      <td>377.172188</td>\n",
       "      <td>9.752432</td>\n",
       "      <td>1.610417</td>\n",
       "      <td>300.044350</td>\n",
       "      <td>299.575717</td>\n",
       "      <td>299.945356</td>\n",
       "      <td>299.905850</td>\n",
       "      <td>299.735056</td>\n",
       "      <td>299.839067</td>\n",
       "      <td>300.091883</td>\n",
       "      <td>421.995161</td>\n",
       "      <td>499.303681</td>\n",
       "      <td>432.606683</td>\n",
       "      <td>393.067961</td>\n",
       "      <td>398.634122</td>\n",
       "      <td>399.848311</td>\n",
       "      <td>399.132417</td>\n",
       "      <td>63.54</td>\n",
       "      <td>4.10</td>\n",
       "    </tr>\n",
       "    <tr>\n",
       "      <th>4390</th>\n",
       "      <td>2017-09-08 23:00:00</td>\n",
       "      <td>59.55</td>\n",
       "      <td>8.45</td>\n",
       "      <td>2426.705289</td>\n",
       "      <td>337.015211</td>\n",
       "      <td>380.544925</td>\n",
       "      <td>9.698634</td>\n",
       "      <td>1.651210</td>\n",
       "      <td>300.031294</td>\n",
       "      <td>299.950611</td>\n",
       "      <td>300.038239</td>\n",
       "      <td>299.973583</td>\n",
       "      <td>300.010583</td>\n",
       "      <td>299.905344</td>\n",
       "      <td>299.948139</td>\n",
       "      <td>400.284144</td>\n",
       "      <td>498.870356</td>\n",
       "      <td>400.225333</td>\n",
       "      <td>401.494322</td>\n",
       "      <td>398.006944</td>\n",
       "      <td>400.172383</td>\n",
       "      <td>400.478944</td>\n",
       "      <td>65.01</td>\n",
       "      <td>1.57</td>\n",
       "    </tr>\n",
       "  </tbody>\n",
       "</table>\n",
       "<p>4391 rows × 24 columns</p>\n",
       "</div>"
      ],
      "text/plain": [
       "                      ds  % Iron Feed  % Silica Feed  Starch Flow  Amina Flow  \\\n",
       "0    2017-03-10 01:00:00        55.20          16.98  3162.625026  578.786678   \n",
       "1    2017-03-10 02:00:00        55.20          16.98  3133.256389  537.219661   \n",
       "2    2017-03-10 03:00:00        55.20          16.98  3479.482944  591.906744   \n",
       "3    2017-03-10 04:00:00        55.20          16.98  3228.036436  593.170106   \n",
       "4    2017-03-10 05:00:00        55.20          16.98  3327.280739  619.710806   \n",
       "...                  ...          ...            ...          ...         ...   \n",
       "4386 2017-09-08 19:00:00        59.55           8.45  1814.082561  286.948050   \n",
       "4387 2017-09-08 20:00:00        59.55           8.45  2751.251532  306.293311   \n",
       "4388 2017-09-08 21:00:00        59.55           8.45  1557.087077  300.106875   \n",
       "4389 2017-09-08 22:00:00        59.55           8.45  2796.314864  284.769595   \n",
       "4390 2017-09-08 23:00:00        59.55           8.45  2426.705289  337.015211   \n",
       "\n",
       "      Ore Pulp Flow  Ore Pulp pH  Ore Pulp Density  \\\n",
       "0        398.753368    10.113487          1.729558   \n",
       "1        399.871822    10.129742          1.667784   \n",
       "2        398.763806    10.048403          1.732711   \n",
       "3        399.866983     9.918614          1.731056   \n",
       "4        399.615089     9.746029          1.765879   \n",
       "...             ...          ...               ...   \n",
       "4386     378.794775     9.224923          1.596176   \n",
       "4387     380.472236     9.387055          1.630635   \n",
       "4388     377.982556     9.500313          1.631130   \n",
       "4389     377.172188     9.752432          1.610417   \n",
       "4390     380.544925     9.698634          1.651210   \n",
       "\n",
       "      Flotation Column 01 Air Flow  Flotation Column 02 Air Flow  \\\n",
       "0                       251.166672                    250.226086   \n",
       "1                       249.880589                    250.214050   \n",
       "2                       250.161328                    250.104167   \n",
       "3                       250.208772                    250.204761   \n",
       "4                       249.917800                    250.160494   \n",
       "...                            ...                           ...   \n",
       "4386                    299.937494                    300.281400   \n",
       "4387                    299.836139                    300.033742   \n",
       "4388                    299.882483                    300.264511   \n",
       "4389                    300.044350                    299.575717   \n",
       "4390                    300.031294                    299.950611   \n",
       "\n",
       "      Flotation Column 03 Air Flow  Flotation Column 04 Air Flow  \\\n",
       "0                       250.178287                    295.096000   \n",
       "1                       250.033317                    295.096000   \n",
       "2                       250.046350                    295.096000   \n",
       "3                       250.120861                    295.096000   \n",
       "4                       250.013500                    295.096000   \n",
       "...                            ...                           ...   \n",
       "4386                    299.930189                    299.929867   \n",
       "4387                    300.003611                    299.913328   \n",
       "4388                    299.929856                    299.893272   \n",
       "4389                    299.945356                    299.905850   \n",
       "4390                    300.038239                    299.973583   \n",
       "\n",
       "      Flotation Column 05 Air Flow  Flotation Column 06 Air Flow  \\\n",
       "0                       306.400000                    251.232529   \n",
       "1                       306.400000                    249.909494   \n",
       "2                       306.400000                    250.242161   \n",
       "3                       306.400000                    249.825122   \n",
       "4                       306.400000                    250.249600   \n",
       "...                            ...                           ...   \n",
       "4386                    300.045589                    299.907800   \n",
       "4387                    300.002856                    300.073050   \n",
       "4388                    299.882983                    299.432156   \n",
       "4389                    299.735056                    299.839067   \n",
       "4390                    300.010583                    299.905344   \n",
       "\n",
       "      Flotation Column 07 Air Flow  Flotation Column 01 Level  \\\n",
       "0                       250.208184                 450.383776   \n",
       "1                       249.897572                 449.373361   \n",
       "2                       250.484183                 449.972878   \n",
       "3                       250.157622                 487.940706   \n",
       "4                       250.078639                 549.031539   \n",
       "...                            ...                        ...   \n",
       "4386                    300.612778                 399.246644   \n",
       "4387                    300.030389                 400.178172   \n",
       "4388                    299.994811                 405.193939   \n",
       "4389                    300.091883                 421.995161   \n",
       "4390                    299.948139                 400.284144   \n",
       "\n",
       "      Flotation Column 02 Level  Flotation Column 03 Level  \\\n",
       "0                    446.891845                 450.474523   \n",
       "1                    450.249356                 450.081222   \n",
       "2                    450.868711                 450.901822   \n",
       "3                    491.462111                 487.387206   \n",
       "4                    549.983156                 549.459572   \n",
       "...                         ...                        ...   \n",
       "4386                 499.504078                 399.884889   \n",
       "4387                 498.873272                 399.506600   \n",
       "4388                 502.707611                 406.744867   \n",
       "4389                 499.303681                 432.606683   \n",
       "4390                 498.870356                 400.225333   \n",
       "\n",
       "      Flotation Column 04 Level  Flotation Column 05 Level  \\\n",
       "0                    449.912259                 455.792161   \n",
       "1                    450.328806                 448.722983   \n",
       "2                    451.145822                 451.134189   \n",
       "3                    494.528183                 495.664011   \n",
       "4                    549.975483                 549.512533   \n",
       "...                         ...                        ...   \n",
       "4386                 403.851878                 400.782472   \n",
       "4387                 400.187917                 400.958233   \n",
       "4388                 403.466583                 400.435589   \n",
       "4389                 393.067961                 398.634122   \n",
       "4390                 401.494322                 398.006944   \n",
       "\n",
       "      Flotation Column 06 Level  Flotation Column 07 Level  \\\n",
       "0                    464.383310                 450.532747   \n",
       "1                    455.501528                 451.387700   \n",
       "2                    459.981311                 450.296722   \n",
       "3                    502.763850                 494.939889   \n",
       "4                    560.696300                 550.271772   \n",
       "...                         ...                        ...   \n",
       "4386                 400.266183                 402.725244   \n",
       "4387                 400.416839                 400.626439   \n",
       "4388                 400.730467                 402.128683   \n",
       "4389                 399.848311                 399.132417   \n",
       "4390                 400.172383                 400.478944   \n",
       "\n",
       "      % Iron Concentrate     y  \n",
       "0                  66.91  1.31  \n",
       "1                  67.06  1.11  \n",
       "2                  66.97  1.27  \n",
       "3                  66.75  1.36  \n",
       "4                  66.63  1.34  \n",
       "...                  ...   ...  \n",
       "4386               65.12  1.33  \n",
       "4387               64.91  1.50  \n",
       "4388               63.91  2.94  \n",
       "4389               63.54  4.10  \n",
       "4390               65.01  1.57  \n",
       "\n",
       "[4391 rows x 24 columns]"
      ]
     },
     "execution_count": 9,
     "metadata": {},
     "output_type": "execute_result"
    }
   ],
   "source": [
    "treino = df.drop(df.index[-24:])\n",
    "treino"
   ]
  },
  {
   "cell_type": "markdown",
   "id": "526856e2-4fcf-4357-92ad-8d19a5516c3d",
   "metadata": {},
   "source": [
    "**Teste:**"
   ]
  },
  {
   "cell_type": "code",
   "execution_count": 10,
   "id": "f4d9e8f8-4ce8-4c1f-b805-3789d187e7b2",
   "metadata": {},
   "outputs": [
    {
     "data": {
      "text/html": [
       "<div>\n",
       "<style scoped>\n",
       "    .dataframe tbody tr th:only-of-type {\n",
       "        vertical-align: middle;\n",
       "    }\n",
       "\n",
       "    .dataframe tbody tr th {\n",
       "        vertical-align: top;\n",
       "    }\n",
       "\n",
       "    .dataframe thead th {\n",
       "        text-align: right;\n",
       "    }\n",
       "</style>\n",
       "<table border=\"1\" class=\"dataframe\">\n",
       "  <thead>\n",
       "    <tr style=\"text-align: right;\">\n",
       "      <th></th>\n",
       "      <th>ds</th>\n",
       "      <th>% Iron Feed</th>\n",
       "      <th>% Silica Feed</th>\n",
       "      <th>Starch Flow</th>\n",
       "      <th>Amina Flow</th>\n",
       "      <th>Ore Pulp Flow</th>\n",
       "      <th>Ore Pulp pH</th>\n",
       "      <th>Ore Pulp Density</th>\n",
       "      <th>Flotation Column 01 Air Flow</th>\n",
       "      <th>Flotation Column 02 Air Flow</th>\n",
       "      <th>Flotation Column 03 Air Flow</th>\n",
       "      <th>Flotation Column 04 Air Flow</th>\n",
       "      <th>Flotation Column 05 Air Flow</th>\n",
       "      <th>Flotation Column 06 Air Flow</th>\n",
       "      <th>Flotation Column 07 Air Flow</th>\n",
       "      <th>Flotation Column 01 Level</th>\n",
       "      <th>Flotation Column 02 Level</th>\n",
       "      <th>Flotation Column 03 Level</th>\n",
       "      <th>Flotation Column 04 Level</th>\n",
       "      <th>Flotation Column 05 Level</th>\n",
       "      <th>Flotation Column 06 Level</th>\n",
       "      <th>Flotation Column 07 Level</th>\n",
       "      <th>% Iron Concentrate</th>\n",
       "      <th>y</th>\n",
       "    </tr>\n",
       "  </thead>\n",
       "  <tbody>\n",
       "    <tr>\n",
       "      <th>0</th>\n",
       "      <td>2017-09-09 00:00:00</td>\n",
       "      <td>59.55</td>\n",
       "      <td>8.45</td>\n",
       "      <td>2926.600829</td>\n",
       "      <td>489.406744</td>\n",
       "      <td>380.761944</td>\n",
       "      <td>9.654977</td>\n",
       "      <td>1.655980</td>\n",
       "      <td>299.824122</td>\n",
       "      <td>299.655028</td>\n",
       "      <td>299.875678</td>\n",
       "      <td>299.907217</td>\n",
       "      <td>299.834867</td>\n",
       "      <td>299.965233</td>\n",
       "      <td>299.746917</td>\n",
       "      <td>399.708189</td>\n",
       "      <td>497.237556</td>\n",
       "      <td>400.154611</td>\n",
       "      <td>399.308767</td>\n",
       "      <td>400.392872</td>\n",
       "      <td>399.830311</td>\n",
       "      <td>398.490011</td>\n",
       "      <td>63.00</td>\n",
       "      <td>4.18</td>\n",
       "    </tr>\n",
       "    <tr>\n",
       "      <th>1</th>\n",
       "      <td>2017-09-09 01:00:00</td>\n",
       "      <td>49.56</td>\n",
       "      <td>24.20</td>\n",
       "      <td>2044.172218</td>\n",
       "      <td>477.120444</td>\n",
       "      <td>380.884986</td>\n",
       "      <td>9.618139</td>\n",
       "      <td>1.624229</td>\n",
       "      <td>299.906928</td>\n",
       "      <td>299.673750</td>\n",
       "      <td>300.025150</td>\n",
       "      <td>299.933200</td>\n",
       "      <td>299.986756</td>\n",
       "      <td>300.045628</td>\n",
       "      <td>300.763156</td>\n",
       "      <td>399.304811</td>\n",
       "      <td>498.109178</td>\n",
       "      <td>399.790989</td>\n",
       "      <td>400.914261</td>\n",
       "      <td>401.113000</td>\n",
       "      <td>399.647133</td>\n",
       "      <td>400.393506</td>\n",
       "      <td>63.47</td>\n",
       "      <td>3.24</td>\n",
       "    </tr>\n",
       "    <tr>\n",
       "      <th>2</th>\n",
       "      <td>2017-09-09 02:00:00</td>\n",
       "      <td>49.56</td>\n",
       "      <td>24.20</td>\n",
       "      <td>1549.602767</td>\n",
       "      <td>393.205100</td>\n",
       "      <td>379.456711</td>\n",
       "      <td>9.227681</td>\n",
       "      <td>1.557234</td>\n",
       "      <td>299.931333</td>\n",
       "      <td>300.462744</td>\n",
       "      <td>299.970978</td>\n",
       "      <td>299.919117</td>\n",
       "      <td>300.177928</td>\n",
       "      <td>299.517067</td>\n",
       "      <td>299.214833</td>\n",
       "      <td>400.484483</td>\n",
       "      <td>497.200450</td>\n",
       "      <td>399.585522</td>\n",
       "      <td>395.856211</td>\n",
       "      <td>399.833417</td>\n",
       "      <td>399.686828</td>\n",
       "      <td>399.060811</td>\n",
       "      <td>64.86</td>\n",
       "      <td>2.34</td>\n",
       "    </tr>\n",
       "    <tr>\n",
       "      <th>3</th>\n",
       "      <td>2017-09-09 03:00:00</td>\n",
       "      <td>49.56</td>\n",
       "      <td>24.20</td>\n",
       "      <td>2565.138464</td>\n",
       "      <td>365.719417</td>\n",
       "      <td>379.711595</td>\n",
       "      <td>9.158911</td>\n",
       "      <td>1.536460</td>\n",
       "      <td>299.822594</td>\n",
       "      <td>299.747856</td>\n",
       "      <td>299.868217</td>\n",
       "      <td>299.903778</td>\n",
       "      <td>299.993372</td>\n",
       "      <td>300.250628</td>\n",
       "      <td>299.799744</td>\n",
       "      <td>400.144317</td>\n",
       "      <td>499.156167</td>\n",
       "      <td>399.709472</td>\n",
       "      <td>402.762550</td>\n",
       "      <td>401.223800</td>\n",
       "      <td>399.778122</td>\n",
       "      <td>400.563972</td>\n",
       "      <td>64.03</td>\n",
       "      <td>3.07</td>\n",
       "    </tr>\n",
       "    <tr>\n",
       "      <th>4</th>\n",
       "      <td>2017-09-09 04:00:00</td>\n",
       "      <td>49.56</td>\n",
       "      <td>24.20</td>\n",
       "      <td>3112.085250</td>\n",
       "      <td>497.625356</td>\n",
       "      <td>379.951077</td>\n",
       "      <td>9.429278</td>\n",
       "      <td>1.674363</td>\n",
       "      <td>299.922317</td>\n",
       "      <td>299.763067</td>\n",
       "      <td>299.963972</td>\n",
       "      <td>299.901339</td>\n",
       "      <td>299.636789</td>\n",
       "      <td>300.072667</td>\n",
       "      <td>300.665750</td>\n",
       "      <td>399.893378</td>\n",
       "      <td>499.402494</td>\n",
       "      <td>399.903489</td>\n",
       "      <td>399.245172</td>\n",
       "      <td>400.171856</td>\n",
       "      <td>399.902689</td>\n",
       "      <td>400.554867</td>\n",
       "      <td>63.69</td>\n",
       "      <td>3.12</td>\n",
       "    </tr>\n",
       "    <tr>\n",
       "      <th>5</th>\n",
       "      <td>2017-09-09 05:00:00</td>\n",
       "      <td>49.56</td>\n",
       "      <td>24.20</td>\n",
       "      <td>1516.844243</td>\n",
       "      <td>502.239056</td>\n",
       "      <td>380.650353</td>\n",
       "      <td>9.696310</td>\n",
       "      <td>1.657818</td>\n",
       "      <td>299.939317</td>\n",
       "      <td>299.846478</td>\n",
       "      <td>299.919594</td>\n",
       "      <td>299.896106</td>\n",
       "      <td>299.913817</td>\n",
       "      <td>299.754911</td>\n",
       "      <td>300.944667</td>\n",
       "      <td>399.355583</td>\n",
       "      <td>497.898572</td>\n",
       "      <td>399.471167</td>\n",
       "      <td>398.424339</td>\n",
       "      <td>401.618111</td>\n",
       "      <td>399.516872</td>\n",
       "      <td>398.913206</td>\n",
       "      <td>63.49</td>\n",
       "      <td>3.26</td>\n",
       "    </tr>\n",
       "    <tr>\n",
       "      <th>6</th>\n",
       "      <td>2017-09-09 06:00:00</td>\n",
       "      <td>49.56</td>\n",
       "      <td>24.20</td>\n",
       "      <td>2200.388426</td>\n",
       "      <td>416.533433</td>\n",
       "      <td>380.653842</td>\n",
       "      <td>9.665631</td>\n",
       "      <td>1.548030</td>\n",
       "      <td>299.926428</td>\n",
       "      <td>299.909189</td>\n",
       "      <td>299.881478</td>\n",
       "      <td>299.947156</td>\n",
       "      <td>299.932856</td>\n",
       "      <td>300.273433</td>\n",
       "      <td>299.582944</td>\n",
       "      <td>399.125033</td>\n",
       "      <td>497.775628</td>\n",
       "      <td>399.870017</td>\n",
       "      <td>398.829000</td>\n",
       "      <td>399.900233</td>\n",
       "      <td>400.219183</td>\n",
       "      <td>398.769206</td>\n",
       "      <td>65.00</td>\n",
       "      <td>1.93</td>\n",
       "    </tr>\n",
       "    <tr>\n",
       "      <th>7</th>\n",
       "      <td>2017-09-09 07:00:00</td>\n",
       "      <td>54.63</td>\n",
       "      <td>12.90</td>\n",
       "      <td>3260.616611</td>\n",
       "      <td>555.557256</td>\n",
       "      <td>411.258554</td>\n",
       "      <td>9.535045</td>\n",
       "      <td>1.649501</td>\n",
       "      <td>300.116600</td>\n",
       "      <td>300.010683</td>\n",
       "      <td>299.950478</td>\n",
       "      <td>299.958794</td>\n",
       "      <td>300.079183</td>\n",
       "      <td>300.527972</td>\n",
       "      <td>300.563000</td>\n",
       "      <td>399.936950</td>\n",
       "      <td>502.032228</td>\n",
       "      <td>399.838567</td>\n",
       "      <td>402.260050</td>\n",
       "      <td>398.257172</td>\n",
       "      <td>400.057122</td>\n",
       "      <td>401.394289</td>\n",
       "      <td>64.17</td>\n",
       "      <td>2.23</td>\n",
       "    </tr>\n",
       "    <tr>\n",
       "      <th>8</th>\n",
       "      <td>2017-09-09 08:00:00</td>\n",
       "      <td>54.63</td>\n",
       "      <td>12.90</td>\n",
       "      <td>3673.921111</td>\n",
       "      <td>582.045314</td>\n",
       "      <td>413.685193</td>\n",
       "      <td>9.644717</td>\n",
       "      <td>1.651699</td>\n",
       "      <td>299.994789</td>\n",
       "      <td>300.013144</td>\n",
       "      <td>299.919567</td>\n",
       "      <td>299.916439</td>\n",
       "      <td>299.741683</td>\n",
       "      <td>299.539206</td>\n",
       "      <td>299.881772</td>\n",
       "      <td>399.413894</td>\n",
       "      <td>501.466511</td>\n",
       "      <td>398.527189</td>\n",
       "      <td>400.643422</td>\n",
       "      <td>399.362000</td>\n",
       "      <td>400.516222</td>\n",
       "      <td>401.502011</td>\n",
       "      <td>64.40</td>\n",
       "      <td>2.15</td>\n",
       "    </tr>\n",
       "    <tr>\n",
       "      <th>9</th>\n",
       "      <td>2017-09-09 09:00:00</td>\n",
       "      <td>54.63</td>\n",
       "      <td>12.90</td>\n",
       "      <td>3840.586889</td>\n",
       "      <td>586.408950</td>\n",
       "      <td>415.232145</td>\n",
       "      <td>9.765653</td>\n",
       "      <td>1.640704</td>\n",
       "      <td>300.039483</td>\n",
       "      <td>299.637367</td>\n",
       "      <td>299.994789</td>\n",
       "      <td>299.913706</td>\n",
       "      <td>299.953611</td>\n",
       "      <td>300.466533</td>\n",
       "      <td>301.029300</td>\n",
       "      <td>398.997778</td>\n",
       "      <td>498.230917</td>\n",
       "      <td>401.166506</td>\n",
       "      <td>401.423856</td>\n",
       "      <td>398.713889</td>\n",
       "      <td>398.460006</td>\n",
       "      <td>398.872917</td>\n",
       "      <td>65.26</td>\n",
       "      <td>2.30</td>\n",
       "    </tr>\n",
       "    <tr>\n",
       "      <th>10</th>\n",
       "      <td>2017-09-09 10:00:00</td>\n",
       "      <td>54.63</td>\n",
       "      <td>12.90</td>\n",
       "      <td>3138.874183</td>\n",
       "      <td>560.781261</td>\n",
       "      <td>416.779097</td>\n",
       "      <td>9.697734</td>\n",
       "      <td>1.623767</td>\n",
       "      <td>299.971283</td>\n",
       "      <td>300.207533</td>\n",
       "      <td>299.953200</td>\n",
       "      <td>299.862056</td>\n",
       "      <td>299.893767</td>\n",
       "      <td>299.837128</td>\n",
       "      <td>299.701161</td>\n",
       "      <td>400.454894</td>\n",
       "      <td>497.509172</td>\n",
       "      <td>398.443144</td>\n",
       "      <td>399.814300</td>\n",
       "      <td>399.902533</td>\n",
       "      <td>400.514633</td>\n",
       "      <td>400.398117</td>\n",
       "      <td>65.74</td>\n",
       "      <td>2.27</td>\n",
       "    </tr>\n",
       "    <tr>\n",
       "      <th>11</th>\n",
       "      <td>2017-09-09 11:00:00</td>\n",
       "      <td>54.63</td>\n",
       "      <td>12.90</td>\n",
       "      <td>3553.630019</td>\n",
       "      <td>546.552261</td>\n",
       "      <td>416.909007</td>\n",
       "      <td>9.835171</td>\n",
       "      <td>1.615410</td>\n",
       "      <td>299.981967</td>\n",
       "      <td>299.951961</td>\n",
       "      <td>299.893294</td>\n",
       "      <td>299.924056</td>\n",
       "      <td>299.865183</td>\n",
       "      <td>299.694433</td>\n",
       "      <td>299.027150</td>\n",
       "      <td>400.353078</td>\n",
       "      <td>499.541333</td>\n",
       "      <td>401.257589</td>\n",
       "      <td>402.502283</td>\n",
       "      <td>398.983694</td>\n",
       "      <td>401.831156</td>\n",
       "      <td>400.745422</td>\n",
       "      <td>65.20</td>\n",
       "      <td>1.70</td>\n",
       "    </tr>\n",
       "    <tr>\n",
       "      <th>12</th>\n",
       "      <td>2017-09-09 12:00:00</td>\n",
       "      <td>54.63</td>\n",
       "      <td>12.90</td>\n",
       "      <td>2951.242067</td>\n",
       "      <td>514.371806</td>\n",
       "      <td>410.956408</td>\n",
       "      <td>9.521088</td>\n",
       "      <td>1.624057</td>\n",
       "      <td>300.084639</td>\n",
       "      <td>300.053233</td>\n",
       "      <td>299.937817</td>\n",
       "      <td>299.923911</td>\n",
       "      <td>299.885272</td>\n",
       "      <td>299.440528</td>\n",
       "      <td>299.337100</td>\n",
       "      <td>400.316700</td>\n",
       "      <td>499.031267</td>\n",
       "      <td>399.351861</td>\n",
       "      <td>399.080322</td>\n",
       "      <td>398.141122</td>\n",
       "      <td>400.182894</td>\n",
       "      <td>398.689544</td>\n",
       "      <td>64.06</td>\n",
       "      <td>2.52</td>\n",
       "    </tr>\n",
       "    <tr>\n",
       "      <th>13</th>\n",
       "      <td>2017-09-09 13:00:00</td>\n",
       "      <td>54.63</td>\n",
       "      <td>12.90</td>\n",
       "      <td>2028.508887</td>\n",
       "      <td>419.718133</td>\n",
       "      <td>390.603839</td>\n",
       "      <td>9.171270</td>\n",
       "      <td>1.587058</td>\n",
       "      <td>299.861200</td>\n",
       "      <td>299.810478</td>\n",
       "      <td>299.844678</td>\n",
       "      <td>299.919800</td>\n",
       "      <td>299.923856</td>\n",
       "      <td>300.061028</td>\n",
       "      <td>299.949194</td>\n",
       "      <td>417.739922</td>\n",
       "      <td>503.166133</td>\n",
       "      <td>426.692228</td>\n",
       "      <td>379.948739</td>\n",
       "      <td>399.514411</td>\n",
       "      <td>402.951861</td>\n",
       "      <td>397.697150</td>\n",
       "      <td>64.53</td>\n",
       "      <td>2.45</td>\n",
       "    </tr>\n",
       "    <tr>\n",
       "      <th>14</th>\n",
       "      <td>2017-09-09 14:00:00</td>\n",
       "      <td>54.63</td>\n",
       "      <td>12.90</td>\n",
       "      <td>2257.033861</td>\n",
       "      <td>399.450422</td>\n",
       "      <td>392.508375</td>\n",
       "      <td>9.018995</td>\n",
       "      <td>1.590255</td>\n",
       "      <td>300.044078</td>\n",
       "      <td>299.983300</td>\n",
       "      <td>299.973961</td>\n",
       "      <td>299.908028</td>\n",
       "      <td>300.045539</td>\n",
       "      <td>299.819061</td>\n",
       "      <td>299.958817</td>\n",
       "      <td>400.164211</td>\n",
       "      <td>499.687650</td>\n",
       "      <td>405.498206</td>\n",
       "      <td>386.283772</td>\n",
       "      <td>399.127833</td>\n",
       "      <td>400.945772</td>\n",
       "      <td>400.916989</td>\n",
       "      <td>64.30</td>\n",
       "      <td>2.87</td>\n",
       "    </tr>\n",
       "    <tr>\n",
       "      <th>15</th>\n",
       "      <td>2017-09-09 15:00:00</td>\n",
       "      <td>54.63</td>\n",
       "      <td>12.90</td>\n",
       "      <td>2901.208994</td>\n",
       "      <td>575.549869</td>\n",
       "      <td>405.493497</td>\n",
       "      <td>9.071482</td>\n",
       "      <td>1.685243</td>\n",
       "      <td>299.949739</td>\n",
       "      <td>300.145544</td>\n",
       "      <td>299.919883</td>\n",
       "      <td>299.932617</td>\n",
       "      <td>299.868761</td>\n",
       "      <td>299.611272</td>\n",
       "      <td>300.464539</td>\n",
       "      <td>399.071639</td>\n",
       "      <td>500.507261</td>\n",
       "      <td>399.812106</td>\n",
       "      <td>415.766756</td>\n",
       "      <td>400.902011</td>\n",
       "      <td>400.172078</td>\n",
       "      <td>401.485333</td>\n",
       "      <td>62.47</td>\n",
       "      <td>2.46</td>\n",
       "    </tr>\n",
       "    <tr>\n",
       "      <th>16</th>\n",
       "      <td>2017-09-09 16:00:00</td>\n",
       "      <td>49.75</td>\n",
       "      <td>23.20</td>\n",
       "      <td>2783.602051</td>\n",
       "      <td>514.797428</td>\n",
       "      <td>380.825036</td>\n",
       "      <td>9.002985</td>\n",
       "      <td>1.673219</td>\n",
       "      <td>299.687239</td>\n",
       "      <td>300.276317</td>\n",
       "      <td>299.775617</td>\n",
       "      <td>299.878083</td>\n",
       "      <td>299.741794</td>\n",
       "      <td>299.878422</td>\n",
       "      <td>299.975144</td>\n",
       "      <td>400.505117</td>\n",
       "      <td>498.403656</td>\n",
       "      <td>400.261983</td>\n",
       "      <td>403.316350</td>\n",
       "      <td>433.943950</td>\n",
       "      <td>399.976206</td>\n",
       "      <td>399.181494</td>\n",
       "      <td>64.25</td>\n",
       "      <td>2.36</td>\n",
       "    </tr>\n",
       "    <tr>\n",
       "      <th>17</th>\n",
       "      <td>2017-09-09 17:00:00</td>\n",
       "      <td>49.75</td>\n",
       "      <td>23.20</td>\n",
       "      <td>2557.575822</td>\n",
       "      <td>499.131128</td>\n",
       "      <td>381.054661</td>\n",
       "      <td>9.287338</td>\n",
       "      <td>1.652367</td>\n",
       "      <td>299.966844</td>\n",
       "      <td>298.838408</td>\n",
       "      <td>299.950183</td>\n",
       "      <td>300.031111</td>\n",
       "      <td>299.987989</td>\n",
       "      <td>300.059956</td>\n",
       "      <td>299.939306</td>\n",
       "      <td>400.130350</td>\n",
       "      <td>499.970800</td>\n",
       "      <td>400.018839</td>\n",
       "      <td>400.276194</td>\n",
       "      <td>498.182283</td>\n",
       "      <td>398.953489</td>\n",
       "      <td>401.583039</td>\n",
       "      <td>64.22</td>\n",
       "      <td>2.74</td>\n",
       "    </tr>\n",
       "    <tr>\n",
       "      <th>18</th>\n",
       "      <td>2017-09-09 18:00:00</td>\n",
       "      <td>49.75</td>\n",
       "      <td>23.20</td>\n",
       "      <td>2582.123305</td>\n",
       "      <td>489.346178</td>\n",
       "      <td>380.557833</td>\n",
       "      <td>9.433931</td>\n",
       "      <td>1.666070</td>\n",
       "      <td>297.858500</td>\n",
       "      <td>299.415439</td>\n",
       "      <td>299.824800</td>\n",
       "      <td>299.932089</td>\n",
       "      <td>299.960489</td>\n",
       "      <td>300.021250</td>\n",
       "      <td>299.941533</td>\n",
       "      <td>420.148672</td>\n",
       "      <td>499.937739</td>\n",
       "      <td>415.447022</td>\n",
       "      <td>405.179539</td>\n",
       "      <td>499.766694</td>\n",
       "      <td>406.676483</td>\n",
       "      <td>402.949094</td>\n",
       "      <td>64.65</td>\n",
       "      <td>1.83</td>\n",
       "    </tr>\n",
       "    <tr>\n",
       "      <th>19</th>\n",
       "      <td>2017-09-09 19:00:00</td>\n",
       "      <td>49.75</td>\n",
       "      <td>23.20</td>\n",
       "      <td>3327.047776</td>\n",
       "      <td>497.211189</td>\n",
       "      <td>380.847200</td>\n",
       "      <td>9.176166</td>\n",
       "      <td>1.660871</td>\n",
       "      <td>301.565561</td>\n",
       "      <td>300.169133</td>\n",
       "      <td>299.900722</td>\n",
       "      <td>299.951150</td>\n",
       "      <td>299.924156</td>\n",
       "      <td>335.658144</td>\n",
       "      <td>298.736661</td>\n",
       "      <td>397.781583</td>\n",
       "      <td>498.753311</td>\n",
       "      <td>403.858956</td>\n",
       "      <td>398.930467</td>\n",
       "      <td>502.971728</td>\n",
       "      <td>399.468911</td>\n",
       "      <td>400.559511</td>\n",
       "      <td>65.05</td>\n",
       "      <td>1.65</td>\n",
       "    </tr>\n",
       "    <tr>\n",
       "      <th>20</th>\n",
       "      <td>2017-09-09 20:00:00</td>\n",
       "      <td>49.75</td>\n",
       "      <td>23.20</td>\n",
       "      <td>4225.800333</td>\n",
       "      <td>508.963856</td>\n",
       "      <td>381.112889</td>\n",
       "      <td>9.387541</td>\n",
       "      <td>1.691996</td>\n",
       "      <td>300.050172</td>\n",
       "      <td>299.967839</td>\n",
       "      <td>299.906550</td>\n",
       "      <td>299.963478</td>\n",
       "      <td>299.959856</td>\n",
       "      <td>348.172800</td>\n",
       "      <td>303.599269</td>\n",
       "      <td>399.928567</td>\n",
       "      <td>499.648950</td>\n",
       "      <td>399.208611</td>\n",
       "      <td>399.967122</td>\n",
       "      <td>501.624533</td>\n",
       "      <td>398.905006</td>\n",
       "      <td>400.486233</td>\n",
       "      <td>64.83</td>\n",
       "      <td>1.71</td>\n",
       "    </tr>\n",
       "    <tr>\n",
       "      <th>21</th>\n",
       "      <td>2017-09-09 21:00:00</td>\n",
       "      <td>49.75</td>\n",
       "      <td>23.20</td>\n",
       "      <td>2808.214692</td>\n",
       "      <td>517.748822</td>\n",
       "      <td>381.064411</td>\n",
       "      <td>9.771277</td>\n",
       "      <td>1.735647</td>\n",
       "      <td>299.814289</td>\n",
       "      <td>299.801561</td>\n",
       "      <td>299.973161</td>\n",
       "      <td>299.861706</td>\n",
       "      <td>299.926650</td>\n",
       "      <td>349.422803</td>\n",
       "      <td>309.875439</td>\n",
       "      <td>399.961433</td>\n",
       "      <td>500.484917</td>\n",
       "      <td>471.827489</td>\n",
       "      <td>399.931033</td>\n",
       "      <td>500.223311</td>\n",
       "      <td>401.899806</td>\n",
       "      <td>400.556333</td>\n",
       "      <td>64.29</td>\n",
       "      <td>1.80</td>\n",
       "    </tr>\n",
       "    <tr>\n",
       "      <th>22</th>\n",
       "      <td>2017-09-09 22:00:00</td>\n",
       "      <td>49.75</td>\n",
       "      <td>23.20</td>\n",
       "      <td>3191.497672</td>\n",
       "      <td>492.511228</td>\n",
       "      <td>380.445006</td>\n",
       "      <td>9.782121</td>\n",
       "      <td>1.716644</td>\n",
       "      <td>300.122756</td>\n",
       "      <td>299.679472</td>\n",
       "      <td>299.927028</td>\n",
       "      <td>299.944178</td>\n",
       "      <td>299.937017</td>\n",
       "      <td>349.613589</td>\n",
       "      <td>305.254558</td>\n",
       "      <td>399.601383</td>\n",
       "      <td>498.614494</td>\n",
       "      <td>836.277192</td>\n",
       "      <td>400.455389</td>\n",
       "      <td>500.406239</td>\n",
       "      <td>402.703283</td>\n",
       "      <td>401.769072</td>\n",
       "      <td>64.25</td>\n",
       "      <td>1.96</td>\n",
       "    </tr>\n",
       "    <tr>\n",
       "      <th>23</th>\n",
       "      <td>2017-09-09 23:00:00</td>\n",
       "      <td>49.75</td>\n",
       "      <td>23.20</td>\n",
       "      <td>3638.543653</td>\n",
       "      <td>460.769950</td>\n",
       "      <td>380.823147</td>\n",
       "      <td>9.653802</td>\n",
       "      <td>1.667826</td>\n",
       "      <td>299.778889</td>\n",
       "      <td>300.095394</td>\n",
       "      <td>299.840833</td>\n",
       "      <td>299.933286</td>\n",
       "      <td>299.942039</td>\n",
       "      <td>349.355083</td>\n",
       "      <td>315.264733</td>\n",
       "      <td>400.026289</td>\n",
       "      <td>499.721794</td>\n",
       "      <td>868.549247</td>\n",
       "      <td>398.764744</td>\n",
       "      <td>500.682167</td>\n",
       "      <td>399.375644</td>\n",
       "      <td>398.775261</td>\n",
       "      <td>64.27</td>\n",
       "      <td>1.71</td>\n",
       "    </tr>\n",
       "  </tbody>\n",
       "</table>\n",
       "</div>"
      ],
      "text/plain": [
       "                    ds  % Iron Feed  % Silica Feed  Starch Flow  Amina Flow  \\\n",
       "0  2017-09-09 00:00:00        59.55           8.45  2926.600829  489.406744   \n",
       "1  2017-09-09 01:00:00        49.56          24.20  2044.172218  477.120444   \n",
       "2  2017-09-09 02:00:00        49.56          24.20  1549.602767  393.205100   \n",
       "3  2017-09-09 03:00:00        49.56          24.20  2565.138464  365.719417   \n",
       "4  2017-09-09 04:00:00        49.56          24.20  3112.085250  497.625356   \n",
       "5  2017-09-09 05:00:00        49.56          24.20  1516.844243  502.239056   \n",
       "6  2017-09-09 06:00:00        49.56          24.20  2200.388426  416.533433   \n",
       "7  2017-09-09 07:00:00        54.63          12.90  3260.616611  555.557256   \n",
       "8  2017-09-09 08:00:00        54.63          12.90  3673.921111  582.045314   \n",
       "9  2017-09-09 09:00:00        54.63          12.90  3840.586889  586.408950   \n",
       "10 2017-09-09 10:00:00        54.63          12.90  3138.874183  560.781261   \n",
       "11 2017-09-09 11:00:00        54.63          12.90  3553.630019  546.552261   \n",
       "12 2017-09-09 12:00:00        54.63          12.90  2951.242067  514.371806   \n",
       "13 2017-09-09 13:00:00        54.63          12.90  2028.508887  419.718133   \n",
       "14 2017-09-09 14:00:00        54.63          12.90  2257.033861  399.450422   \n",
       "15 2017-09-09 15:00:00        54.63          12.90  2901.208994  575.549869   \n",
       "16 2017-09-09 16:00:00        49.75          23.20  2783.602051  514.797428   \n",
       "17 2017-09-09 17:00:00        49.75          23.20  2557.575822  499.131128   \n",
       "18 2017-09-09 18:00:00        49.75          23.20  2582.123305  489.346178   \n",
       "19 2017-09-09 19:00:00        49.75          23.20  3327.047776  497.211189   \n",
       "20 2017-09-09 20:00:00        49.75          23.20  4225.800333  508.963856   \n",
       "21 2017-09-09 21:00:00        49.75          23.20  2808.214692  517.748822   \n",
       "22 2017-09-09 22:00:00        49.75          23.20  3191.497672  492.511228   \n",
       "23 2017-09-09 23:00:00        49.75          23.20  3638.543653  460.769950   \n",
       "\n",
       "    Ore Pulp Flow  Ore Pulp pH  Ore Pulp Density  \\\n",
       "0      380.761944     9.654977          1.655980   \n",
       "1      380.884986     9.618139          1.624229   \n",
       "2      379.456711     9.227681          1.557234   \n",
       "3      379.711595     9.158911          1.536460   \n",
       "4      379.951077     9.429278          1.674363   \n",
       "5      380.650353     9.696310          1.657818   \n",
       "6      380.653842     9.665631          1.548030   \n",
       "7      411.258554     9.535045          1.649501   \n",
       "8      413.685193     9.644717          1.651699   \n",
       "9      415.232145     9.765653          1.640704   \n",
       "10     416.779097     9.697734          1.623767   \n",
       "11     416.909007     9.835171          1.615410   \n",
       "12     410.956408     9.521088          1.624057   \n",
       "13     390.603839     9.171270          1.587058   \n",
       "14     392.508375     9.018995          1.590255   \n",
       "15     405.493497     9.071482          1.685243   \n",
       "16     380.825036     9.002985          1.673219   \n",
       "17     381.054661     9.287338          1.652367   \n",
       "18     380.557833     9.433931          1.666070   \n",
       "19     380.847200     9.176166          1.660871   \n",
       "20     381.112889     9.387541          1.691996   \n",
       "21     381.064411     9.771277          1.735647   \n",
       "22     380.445006     9.782121          1.716644   \n",
       "23     380.823147     9.653802          1.667826   \n",
       "\n",
       "    Flotation Column 01 Air Flow  Flotation Column 02 Air Flow  \\\n",
       "0                     299.824122                    299.655028   \n",
       "1                     299.906928                    299.673750   \n",
       "2                     299.931333                    300.462744   \n",
       "3                     299.822594                    299.747856   \n",
       "4                     299.922317                    299.763067   \n",
       "5                     299.939317                    299.846478   \n",
       "6                     299.926428                    299.909189   \n",
       "7                     300.116600                    300.010683   \n",
       "8                     299.994789                    300.013144   \n",
       "9                     300.039483                    299.637367   \n",
       "10                    299.971283                    300.207533   \n",
       "11                    299.981967                    299.951961   \n",
       "12                    300.084639                    300.053233   \n",
       "13                    299.861200                    299.810478   \n",
       "14                    300.044078                    299.983300   \n",
       "15                    299.949739                    300.145544   \n",
       "16                    299.687239                    300.276317   \n",
       "17                    299.966844                    298.838408   \n",
       "18                    297.858500                    299.415439   \n",
       "19                    301.565561                    300.169133   \n",
       "20                    300.050172                    299.967839   \n",
       "21                    299.814289                    299.801561   \n",
       "22                    300.122756                    299.679472   \n",
       "23                    299.778889                    300.095394   \n",
       "\n",
       "    Flotation Column 03 Air Flow  Flotation Column 04 Air Flow  \\\n",
       "0                     299.875678                    299.907217   \n",
       "1                     300.025150                    299.933200   \n",
       "2                     299.970978                    299.919117   \n",
       "3                     299.868217                    299.903778   \n",
       "4                     299.963972                    299.901339   \n",
       "5                     299.919594                    299.896106   \n",
       "6                     299.881478                    299.947156   \n",
       "7                     299.950478                    299.958794   \n",
       "8                     299.919567                    299.916439   \n",
       "9                     299.994789                    299.913706   \n",
       "10                    299.953200                    299.862056   \n",
       "11                    299.893294                    299.924056   \n",
       "12                    299.937817                    299.923911   \n",
       "13                    299.844678                    299.919800   \n",
       "14                    299.973961                    299.908028   \n",
       "15                    299.919883                    299.932617   \n",
       "16                    299.775617                    299.878083   \n",
       "17                    299.950183                    300.031111   \n",
       "18                    299.824800                    299.932089   \n",
       "19                    299.900722                    299.951150   \n",
       "20                    299.906550                    299.963478   \n",
       "21                    299.973161                    299.861706   \n",
       "22                    299.927028                    299.944178   \n",
       "23                    299.840833                    299.933286   \n",
       "\n",
       "    Flotation Column 05 Air Flow  Flotation Column 06 Air Flow  \\\n",
       "0                     299.834867                    299.965233   \n",
       "1                     299.986756                    300.045628   \n",
       "2                     300.177928                    299.517067   \n",
       "3                     299.993372                    300.250628   \n",
       "4                     299.636789                    300.072667   \n",
       "5                     299.913817                    299.754911   \n",
       "6                     299.932856                    300.273433   \n",
       "7                     300.079183                    300.527972   \n",
       "8                     299.741683                    299.539206   \n",
       "9                     299.953611                    300.466533   \n",
       "10                    299.893767                    299.837128   \n",
       "11                    299.865183                    299.694433   \n",
       "12                    299.885272                    299.440528   \n",
       "13                    299.923856                    300.061028   \n",
       "14                    300.045539                    299.819061   \n",
       "15                    299.868761                    299.611272   \n",
       "16                    299.741794                    299.878422   \n",
       "17                    299.987989                    300.059956   \n",
       "18                    299.960489                    300.021250   \n",
       "19                    299.924156                    335.658144   \n",
       "20                    299.959856                    348.172800   \n",
       "21                    299.926650                    349.422803   \n",
       "22                    299.937017                    349.613589   \n",
       "23                    299.942039                    349.355083   \n",
       "\n",
       "    Flotation Column 07 Air Flow  Flotation Column 01 Level  \\\n",
       "0                     299.746917                 399.708189   \n",
       "1                     300.763156                 399.304811   \n",
       "2                     299.214833                 400.484483   \n",
       "3                     299.799744                 400.144317   \n",
       "4                     300.665750                 399.893378   \n",
       "5                     300.944667                 399.355583   \n",
       "6                     299.582944                 399.125033   \n",
       "7                     300.563000                 399.936950   \n",
       "8                     299.881772                 399.413894   \n",
       "9                     301.029300                 398.997778   \n",
       "10                    299.701161                 400.454894   \n",
       "11                    299.027150                 400.353078   \n",
       "12                    299.337100                 400.316700   \n",
       "13                    299.949194                 417.739922   \n",
       "14                    299.958817                 400.164211   \n",
       "15                    300.464539                 399.071639   \n",
       "16                    299.975144                 400.505117   \n",
       "17                    299.939306                 400.130350   \n",
       "18                    299.941533                 420.148672   \n",
       "19                    298.736661                 397.781583   \n",
       "20                    303.599269                 399.928567   \n",
       "21                    309.875439                 399.961433   \n",
       "22                    305.254558                 399.601383   \n",
       "23                    315.264733                 400.026289   \n",
       "\n",
       "    Flotation Column 02 Level  Flotation Column 03 Level  \\\n",
       "0                  497.237556                 400.154611   \n",
       "1                  498.109178                 399.790989   \n",
       "2                  497.200450                 399.585522   \n",
       "3                  499.156167                 399.709472   \n",
       "4                  499.402494                 399.903489   \n",
       "5                  497.898572                 399.471167   \n",
       "6                  497.775628                 399.870017   \n",
       "7                  502.032228                 399.838567   \n",
       "8                  501.466511                 398.527189   \n",
       "9                  498.230917                 401.166506   \n",
       "10                 497.509172                 398.443144   \n",
       "11                 499.541333                 401.257589   \n",
       "12                 499.031267                 399.351861   \n",
       "13                 503.166133                 426.692228   \n",
       "14                 499.687650                 405.498206   \n",
       "15                 500.507261                 399.812106   \n",
       "16                 498.403656                 400.261983   \n",
       "17                 499.970800                 400.018839   \n",
       "18                 499.937739                 415.447022   \n",
       "19                 498.753311                 403.858956   \n",
       "20                 499.648950                 399.208611   \n",
       "21                 500.484917                 471.827489   \n",
       "22                 498.614494                 836.277192   \n",
       "23                 499.721794                 868.549247   \n",
       "\n",
       "    Flotation Column 04 Level  Flotation Column 05 Level  \\\n",
       "0                  399.308767                 400.392872   \n",
       "1                  400.914261                 401.113000   \n",
       "2                  395.856211                 399.833417   \n",
       "3                  402.762550                 401.223800   \n",
       "4                  399.245172                 400.171856   \n",
       "5                  398.424339                 401.618111   \n",
       "6                  398.829000                 399.900233   \n",
       "7                  402.260050                 398.257172   \n",
       "8                  400.643422                 399.362000   \n",
       "9                  401.423856                 398.713889   \n",
       "10                 399.814300                 399.902533   \n",
       "11                 402.502283                 398.983694   \n",
       "12                 399.080322                 398.141122   \n",
       "13                 379.948739                 399.514411   \n",
       "14                 386.283772                 399.127833   \n",
       "15                 415.766756                 400.902011   \n",
       "16                 403.316350                 433.943950   \n",
       "17                 400.276194                 498.182283   \n",
       "18                 405.179539                 499.766694   \n",
       "19                 398.930467                 502.971728   \n",
       "20                 399.967122                 501.624533   \n",
       "21                 399.931033                 500.223311   \n",
       "22                 400.455389                 500.406239   \n",
       "23                 398.764744                 500.682167   \n",
       "\n",
       "    Flotation Column 06 Level  Flotation Column 07 Level  % Iron Concentrate  \\\n",
       "0                  399.830311                 398.490011               63.00   \n",
       "1                  399.647133                 400.393506               63.47   \n",
       "2                  399.686828                 399.060811               64.86   \n",
       "3                  399.778122                 400.563972               64.03   \n",
       "4                  399.902689                 400.554867               63.69   \n",
       "5                  399.516872                 398.913206               63.49   \n",
       "6                  400.219183                 398.769206               65.00   \n",
       "7                  400.057122                 401.394289               64.17   \n",
       "8                  400.516222                 401.502011               64.40   \n",
       "9                  398.460006                 398.872917               65.26   \n",
       "10                 400.514633                 400.398117               65.74   \n",
       "11                 401.831156                 400.745422               65.20   \n",
       "12                 400.182894                 398.689544               64.06   \n",
       "13                 402.951861                 397.697150               64.53   \n",
       "14                 400.945772                 400.916989               64.30   \n",
       "15                 400.172078                 401.485333               62.47   \n",
       "16                 399.976206                 399.181494               64.25   \n",
       "17                 398.953489                 401.583039               64.22   \n",
       "18                 406.676483                 402.949094               64.65   \n",
       "19                 399.468911                 400.559511               65.05   \n",
       "20                 398.905006                 400.486233               64.83   \n",
       "21                 401.899806                 400.556333               64.29   \n",
       "22                 402.703283                 401.769072               64.25   \n",
       "23                 399.375644                 398.775261               64.27   \n",
       "\n",
       "       y  \n",
       "0   4.18  \n",
       "1   3.24  \n",
       "2   2.34  \n",
       "3   3.07  \n",
       "4   3.12  \n",
       "5   3.26  \n",
       "6   1.93  \n",
       "7   2.23  \n",
       "8   2.15  \n",
       "9   2.30  \n",
       "10  2.27  \n",
       "11  1.70  \n",
       "12  2.52  \n",
       "13  2.45  \n",
       "14  2.87  \n",
       "15  2.46  \n",
       "16  2.36  \n",
       "17  2.74  \n",
       "18  1.83  \n",
       "19  1.65  \n",
       "20  1.71  \n",
       "21  1.80  \n",
       "22  1.96  \n",
       "23  1.71  "
      ]
     },
     "execution_count": 10,
     "metadata": {},
     "output_type": "execute_result"
    }
   ],
   "source": [
    "teste = df[-24:].reset_index(drop=True)\n",
    "teste"
   ]
  },
  {
   "cell_type": "markdown",
   "id": "a36176fd-8b53-4d45-a77a-3ebd15a05ebb",
   "metadata": {},
   "source": [
    "## **Modelo NeuralProphet - Multivariado com todas as variáveis**"
   ]
  },
  {
   "cell_type": "markdown",
   "id": "bbb76873-9517-439d-b438-e92da7291732",
   "metadata": {},
   "source": [
    "### **Ajuste dos hiperparâmetros com Optuna**"
   ]
  },
  {
   "cell_type": "markdown",
   "id": "b601adbe-4c36-4937-acfb-04f3aef3e5ad",
   "metadata": {},
   "source": [
    "Os hiperparâmetros a serem ajustados serão:\n",
    "- growth;\n",
    "- n_forecasts;\n",
    "- learning_rate;\n",
    "\n",
    "Os hiperparâmetros relacionados à sazonalidade e tendência não serão ajustados, pois pelas análises de tendência e sazonalidad , não nota-se ambas na série temporal."
   ]
  },
  {
   "cell_type": "code",
   "execution_count": 11,
   "id": "b6ba790b-0237-488a-80ea-81b945f70693",
   "metadata": {},
   "outputs": [],
   "source": [
    "def objective(trial):\n",
    "    growth = trial.suggest_categorical('growth', ['off', 'linear', 'discontinuous'])\n",
    "    n_forecasts = trial.suggest_int('n_forecasts', 1, 6)\n",
    "    learning_rate = trial.suggest_float('learning_rate', 0.0001, 1)\n",
    "\n",
    "    # Instaciando o modelo\n",
    "    m = NeuralProphet(growth=growth, n_forecasts=n_forecasts, learning_rate=learning_rate)\n",
    "    m.add_future_regressor(\"% Iron Feed\")\n",
    "    m.add_future_regressor(\"% Silica Feed\")\n",
    "    m.add_future_regressor(\"Starch Flow\")\n",
    "    m.add_future_regressor(\"Amina Flow\")\n",
    "    m.add_future_regressor(\"Ore Pulp Flow\")\n",
    "    m.add_future_regressor(\"Ore Pulp pH\")\n",
    "    m.add_future_regressor(\"Ore Pulp Density\")\n",
    "    m.add_future_regressor(\"Flotation Column 01 Air Flow\")\n",
    "    m.add_future_regressor(\"Flotation Column 02 Air Flow\")\n",
    "    m.add_future_regressor(\"Flotation Column 03 Air Flow\")\n",
    "    m.add_future_regressor(\"Flotation Column 04 Air Flow\")\n",
    "    m.add_future_regressor(\"Flotation Column 05 Air Flow\")\n",
    "    m.add_future_regressor(\"Flotation Column 06 Air Flow\")\n",
    "    m.add_future_regressor(\"Flotation Column 07 Air Flow\")\n",
    "    m.add_future_regressor(\"Flotation Column 01 Level\")\n",
    "    m.add_future_regressor(\"Flotation Column 02 Level\")\n",
    "    m.add_future_regressor(\"Flotation Column 03 Level\")\n",
    "    m.add_future_regressor(\"Flotation Column 04 Level\")\n",
    "    m.add_future_regressor(\"Flotation Column 05 Level\")\n",
    "    m.add_future_regressor(\"Flotation Column 06 Level\")\n",
    "    m.add_future_regressor(\"Flotation Column 07 Level\")\n",
    "    m.add_future_regressor(\"% Iron Concentrate\")\n",
    "\n",
    "    # Treinando o modelo\n",
    "    m.fit(treino.drop(treino.index[-24:]), freq=\"h\")\n",
    "\n",
    "    # Fazendo previsões\n",
    "    val = treino[-24:].reset_index(drop=True)\n",
    "    previsoes = m.predict(val)\n",
    "\n",
    "    # Calculado o MAPE\n",
    "    y_true = val.y.values\n",
    "    y_pred = previsoes.yhat1.values\n",
    "    mape = (np.mean(np.true_divide(np.abs(y_true-y_pred), y_true)))*100\n",
    "\n",
    "    return mape"
   ]
  },
  {
   "cell_type": "code",
   "execution_count": 12,
   "id": "afc7962a-c96f-492d-967a-a244b20d7511",
   "metadata": {},
   "outputs": [
    {
     "name": "stderr",
     "output_type": "stream",
     "text": [
      "[I 2024-10-19 14:21:37,103] A new study created in memory with name: no-name-5e6809a2-ec63-4146-85ab-e8c7a9dd954a\n"
     ]
    },
    {
     "name": "stdout",
     "output_type": "stream",
     "text": [
      "Epoch 70: 100%|█| 70/70 [00:00<00:00, 248.41it/s, loss=0.0244, v_num=1531, MAE=0.445, RMSE=0.588, Loss=0.0259, RegLoss=\n",
      "Predicting DataLoader 0: 100%|███████████████████████████████████████████████████████████| 1/1 [00:00<00:00, 81.79it/s]"
     ]
    },
    {
     "name": "stderr",
     "output_type": "stream",
     "text": [
      "[I 2024-10-19 14:21:59,200] Trial 0 finished with value: 18.275462954241338 and parameters: {'growth': 'linear', 'n_forecasts': 2, 'learning_rate': 0.1468412152280313}. Best is trial 0 with value: 18.275462954241338.\n"
     ]
    },
    {
     "name": "stdout",
     "output_type": "stream",
     "text": [
      "\n",
      "Epoch 70: 100%|█| 70/70 [00:00<00:00, 269.45it/s, loss=0.0266, v_num=1532, MAE=0.445, RMSE=0.590, Loss=0.0262, RegLoss=\n",
      "Predicting DataLoader 0: 100%|██████████████████████████████████████████████████████████| 1/1 [00:00<00:00, 166.55it/s]"
     ]
    },
    {
     "name": "stderr",
     "output_type": "stream",
     "text": [
      "[I 2024-10-19 14:22:18,550] Trial 1 finished with value: 17.970750587168226 and parameters: {'growth': 'discontinuous', 'n_forecasts': 3, 'learning_rate': 0.5388628523299566}. Best is trial 1 with value: 17.970750587168226.\n"
     ]
    },
    {
     "name": "stdout",
     "output_type": "stream",
     "text": [
      "\n",
      "Epoch 70: 100%|█| 70/70 [00:00<00:00, 232.12it/s, loss=0.0261, v_num=1533, MAE=0.446, RMSE=0.589, Loss=0.0259, RegLoss=\n",
      "Predicting DataLoader 0: 100%|██████████████████████████████████████████████████████████| 1/1 [00:00<00:00, 160.21it/s]"
     ]
    },
    {
     "name": "stderr",
     "output_type": "stream",
     "text": [
      "[I 2024-10-19 14:22:38,473] Trial 2 finished with value: 17.5577060559786 and parameters: {'growth': 'linear', 'n_forecasts': 6, 'learning_rate': 0.02748485443860637}. Best is trial 2 with value: 17.5577060559786.\n"
     ]
    },
    {
     "name": "stdout",
     "output_type": "stream",
     "text": [
      "\n",
      "Epoch 70: 100%|█| 70/70 [00:00<00:00, 266.95it/s, loss=0.0286, v_num=1534, MAE=0.471, RMSE=0.613, Loss=0.0277, RegLoss=\n",
      "Predicting DataLoader 0: 100%|██████████████████████████████████████████████████████████| 1/1 [00:00<00:00, 166.39it/s]"
     ]
    },
    {
     "name": "stderr",
     "output_type": "stream",
     "text": [
      "[I 2024-10-19 14:22:56,622] Trial 3 finished with value: 21.05727628809294 and parameters: {'growth': 'off', 'n_forecasts': 1, 'learning_rate': 0.1981816789359703}. Best is trial 2 with value: 17.5577060559786.\n"
     ]
    },
    {
     "name": "stdout",
     "output_type": "stream",
     "text": [
      "\n",
      "Epoch 70: 100%|█| 70/70 [00:00<00:00, 247.38it/s, loss=0.025, v_num=1535, MAE=0.452, RMSE=0.596, Loss=0.0265, RegLoss=0\n",
      "Predicting DataLoader 0: 100%|██████████████████████████████████████████████████████████| 1/1 [00:00<00:00, 188.29it/s]"
     ]
    },
    {
     "name": "stderr",
     "output_type": "stream",
     "text": [
      "[I 2024-10-19 14:23:17,160] Trial 4 finished with value: 21.10905952883312 and parameters: {'growth': 'linear', 'n_forecasts': 5, 'learning_rate': 0.8764015133808087}. Best is trial 2 with value: 17.5577060559786.\n"
     ]
    },
    {
     "name": "stdout",
     "output_type": "stream",
     "text": [
      "\n",
      "Epoch 70: 100%|█| 70/70 [00:00<00:00, 281.13it/s, loss=0.0271, v_num=1536, MAE=0.481, RMSE=0.623, Loss=0.0287, RegLoss=\n",
      "Predicting DataLoader 0: 100%|██████████████████████████████████████████████████████████| 1/1 [00:00<00:00, 139.01it/s]"
     ]
    },
    {
     "name": "stderr",
     "output_type": "stream",
     "text": [
      "[I 2024-10-19 14:23:34,740] Trial 5 finished with value: 19.68246577523749 and parameters: {'growth': 'off', 'n_forecasts': 2, 'learning_rate': 0.8781546891790702}. Best is trial 2 with value: 17.5577060559786.\n"
     ]
    },
    {
     "name": "stdout",
     "output_type": "stream",
     "text": [
      "\n",
      "Epoch 70: 100%|█| 70/70 [00:00<00:00, 261.37it/s, loss=0.0271, v_num=1537, MAE=0.451, RMSE=0.596, Loss=0.0266, RegLoss=\n",
      "Predicting DataLoader 0: 100%|██████████████████████████████████████████████████████████| 1/1 [00:00<00:00, 158.42it/s]"
     ]
    },
    {
     "name": "stderr",
     "output_type": "stream",
     "text": [
      "[I 2024-10-19 14:23:54,429] Trial 6 finished with value: 17.9748935520934 and parameters: {'growth': 'discontinuous', 'n_forecasts': 4, 'learning_rate': 0.6919079262390783}. Best is trial 2 with value: 17.5577060559786.\n"
     ]
    },
    {
     "name": "stdout",
     "output_type": "stream",
     "text": [
      "\n",
      "Epoch 70: 100%|█| 70/70 [00:00<00:00, 245.93it/s, loss=0.0281, v_num=1538, MAE=0.451, RMSE=0.596, Loss=0.0266, RegLoss=\n",
      "Predicting DataLoader 0: 100%|██████████████████████████████████████████████████████████| 1/1 [00:00<00:00, 166.61it/s]"
     ]
    },
    {
     "name": "stderr",
     "output_type": "stream",
     "text": [
      "[I 2024-10-19 14:24:14,776] Trial 7 finished with value: 17.327826013148197 and parameters: {'growth': 'discontinuous', 'n_forecasts': 1, 'learning_rate': 0.750169300513473}. Best is trial 7 with value: 17.327826013148197.\n"
     ]
    },
    {
     "name": "stdout",
     "output_type": "stream",
     "text": [
      "\n",
      "Epoch 70: 100%|█| 70/70 [00:00<00:00, 277.22it/s, loss=0.0285, v_num=1539, MAE=0.472, RMSE=0.612, Loss=0.0277, RegLoss=\n",
      "Predicting DataLoader 0: 100%|██████████████████████████████████████████████████████████| 1/1 [00:00<00:00, 165.83it/s]"
     ]
    },
    {
     "name": "stderr",
     "output_type": "stream",
     "text": [
      "[I 2024-10-19 14:24:33,141] Trial 8 finished with value: 22.38703117579932 and parameters: {'growth': 'off', 'n_forecasts': 5, 'learning_rate': 0.10331568397698426}. Best is trial 7 with value: 17.327826013148197.\n"
     ]
    },
    {
     "name": "stdout",
     "output_type": "stream",
     "text": [
      "\n",
      "Epoch 70: 100%|█| 70/70 [00:00<00:00, 251.63it/s, loss=0.025, v_num=1540, MAE=0.443, RMSE=0.587, Loss=0.0257, RegLoss=0\n",
      "Predicting DataLoader 0: 100%|██████████████████████████████████████████████████████████| 1/1 [00:00<00:00, 134.45it/s]"
     ]
    },
    {
     "name": "stderr",
     "output_type": "stream",
     "text": [
      "[I 2024-10-19 14:24:55,449] Trial 9 finished with value: 17.72101814094944 and parameters: {'growth': 'linear', 'n_forecasts': 2, 'learning_rate': 0.13011556926106585}. Best is trial 7 with value: 17.327826013148197.\n"
     ]
    },
    {
     "name": "stdout",
     "output_type": "stream",
     "text": [
      "\n",
      "Epoch 70: 100%|█| 70/70 [00:00<00:00, 264.11it/s, loss=0.026, v_num=1541, MAE=0.443, RMSE=0.590, Loss=0.0259, RegLoss=0\n",
      "Predicting DataLoader 0: 100%|██████████████████████████████████████████████████████████| 1/1 [00:00<00:00, 195.16it/s]"
     ]
    },
    {
     "name": "stderr",
     "output_type": "stream",
     "text": [
      "[I 2024-10-19 14:25:14,429] Trial 10 finished with value: 18.48081123835481 and parameters: {'growth': 'discontinuous', 'n_forecasts': 1, 'learning_rate': 0.39221508547571643}. Best is trial 7 with value: 17.327826013148197.\n"
     ]
    },
    {
     "name": "stdout",
     "output_type": "stream",
     "text": [
      "\n",
      "Epoch 70: 100%|█| 70/70 [00:00<00:00, 262.20it/s, loss=0.0285, v_num=1542, MAE=0.454, RMSE=0.598, Loss=0.0267, RegLoss=\n",
      "Predicting DataLoader 0: 100%|██████████████████████████████████████████████████████████| 1/1 [00:00<00:00, 203.45it/s]"
     ]
    },
    {
     "name": "stderr",
     "output_type": "stream",
     "text": [
      "[I 2024-10-19 14:25:34,178] Trial 11 finished with value: 16.697319581037405 and parameters: {'growth': 'linear', 'n_forecasts': 6, 'learning_rate': 0.666929783130762}. Best is trial 11 with value: 16.697319581037405.\n"
     ]
    },
    {
     "name": "stdout",
     "output_type": "stream",
     "text": [
      "\n",
      "Epoch 70: 100%|█| 70/70 [00:00<00:00, 222.56it/s, loss=0.0261, v_num=1543, MAE=0.455, RMSE=0.600, Loss=0.0269, RegLoss=\n",
      "Predicting DataLoader 0: 100%|██████████████████████████████████████████████████████████| 1/1 [00:00<00:00, 148.14it/s]"
     ]
    },
    {
     "name": "stderr",
     "output_type": "stream",
     "text": [
      "[I 2024-10-19 14:25:54,168] Trial 12 finished with value: 16.161881156010345 and parameters: {'growth': 'discontinuous', 'n_forecasts': 6, 'learning_rate': 0.674661753436846}. Best is trial 12 with value: 16.161881156010345.\n"
     ]
    },
    {
     "name": "stdout",
     "output_type": "stream",
     "text": [
      "\n",
      "Epoch 70: 100%|█| 70/70 [00:00<00:00, 246.01it/s, loss=0.0275, v_num=1544, MAE=0.448, RMSE=0.593, Loss=0.0265, RegLoss=\n",
      "Predicting DataLoader 0: 100%|██████████████████████████████████████████████████████████| 1/1 [00:00<00:00, 165.43it/s]"
     ]
    },
    {
     "name": "stderr",
     "output_type": "stream",
     "text": [
      "[I 2024-10-19 14:26:16,620] Trial 13 finished with value: 20.271595868971122 and parameters: {'growth': 'discontinuous', 'n_forecasts': 6, 'learning_rate': 0.5260905811474292}. Best is trial 12 with value: 16.161881156010345.\n"
     ]
    },
    {
     "name": "stdout",
     "output_type": "stream",
     "text": [
      "\n",
      "Epoch 70: 100%|█| 70/70 [00:00<00:00, 252.82it/s, loss=0.0262, v_num=1545, MAE=0.455, RMSE=0.598, Loss=0.0268, RegLoss=\n",
      "Predicting DataLoader 0: 100%|██████████████████████████████████████████████████████████| 1/1 [00:00<00:00, 159.42it/s]"
     ]
    },
    {
     "name": "stderr",
     "output_type": "stream",
     "text": [
      "[I 2024-10-19 14:26:37,533] Trial 14 finished with value: 18.68129934637902 and parameters: {'growth': 'linear', 'n_forecasts': 5, 'learning_rate': 0.6687771058406179}. Best is trial 12 with value: 16.161881156010345.\n"
     ]
    },
    {
     "name": "stdout",
     "output_type": "stream",
     "text": [
      "\n",
      "Epoch 70: 100%|█| 70/70 [00:00<00:00, 251.36it/s, loss=0.0268, v_num=1546, MAE=0.456, RMSE=0.601, Loss=0.0269, RegLoss=\n",
      "Predicting DataLoader 0: 100%|██████████████████████████████████████████████████████████| 1/1 [00:00<00:00, 184.89it/s]"
     ]
    },
    {
     "name": "stderr",
     "output_type": "stream",
     "text": [
      "[I 2024-10-19 14:26:57,924] Trial 15 finished with value: 17.986196699458425 and parameters: {'growth': 'discontinuous', 'n_forecasts': 6, 'learning_rate': 0.9830916988542835}. Best is trial 12 with value: 16.161881156010345.\n"
     ]
    },
    {
     "name": "stdout",
     "output_type": "stream",
     "text": [
      "\n",
      "Epoch 70: 100%|█| 70/70 [00:00<00:00, 229.75it/s, loss=0.0274, v_num=1547, MAE=0.454, RMSE=0.596, Loss=0.0266, RegLoss=\n",
      "Predicting DataLoader 0: 100%|██████████████████████████████████████████████████████████| 1/1 [00:00<00:00, 184.53it/s]"
     ]
    },
    {
     "name": "stderr",
     "output_type": "stream",
     "text": [
      "[I 2024-10-19 14:27:19,264] Trial 16 finished with value: 18.800425581240475 and parameters: {'growth': 'linear', 'n_forecasts': 4, 'learning_rate': 0.39042260680219204}. Best is trial 12 with value: 16.161881156010345.\n"
     ]
    },
    {
     "name": "stdout",
     "output_type": "stream",
     "text": [
      "\n",
      "Epoch 70: 100%|█| 70/70 [00:00<00:00, 236.19it/s, loss=0.0269, v_num=1548, MAE=0.452, RMSE=0.597, Loss=0.0266, RegLoss=\n",
      "Predicting DataLoader 0: 100%|██████████████████████████████████████████████████████████| 1/1 [00:00<00:00, 178.56it/s]"
     ]
    },
    {
     "name": "stderr",
     "output_type": "stream",
     "text": [
      "[I 2024-10-19 14:27:40,272] Trial 17 finished with value: 19.100455107477664 and parameters: {'growth': 'linear', 'n_forecasts': 5, 'learning_rate': 0.6099498563586022}. Best is trial 12 with value: 16.161881156010345.\n"
     ]
    },
    {
     "name": "stdout",
     "output_type": "stream",
     "text": [
      "\n",
      "Epoch 70: 100%|█| 70/70 [00:00<00:00, 248.60it/s, loss=0.0259, v_num=1549, MAE=0.445, RMSE=0.591, Loss=0.0261, RegLoss=\n",
      "Predicting DataLoader 0: 100%|██████████████████████████████████████████████████████████| 1/1 [00:00<00:00, 164.26it/s]"
     ]
    },
    {
     "name": "stderr",
     "output_type": "stream",
     "text": [
      "[I 2024-10-19 14:28:00,796] Trial 18 finished with value: 17.293076540862472 and parameters: {'growth': 'discontinuous', 'n_forecasts': 6, 'learning_rate': 0.3866529596564806}. Best is trial 12 with value: 16.161881156010345.\n"
     ]
    },
    {
     "name": "stdout",
     "output_type": "stream",
     "text": [
      "\n",
      "Epoch 70: 100%|█| 70/70 [00:00<00:00, 291.90it/s, loss=0.0297, v_num=1550, MAE=0.481, RMSE=0.621, Loss=0.0285, RegLoss=\n",
      "Predicting DataLoader 0: 100%|██████████████████████████████████████████████████████████| 1/1 [00:00<00:00, 179.13it/s]"
     ]
    },
    {
     "name": "stderr",
     "output_type": "stream",
     "text": [
      "[I 2024-10-19 14:28:18,557] Trial 19 finished with value: 20.605416066613632 and parameters: {'growth': 'off', 'n_forecasts': 4, 'learning_rate': 0.7955854692897645}. Best is trial 12 with value: 16.161881156010345.\n"
     ]
    },
    {
     "name": "stdout",
     "output_type": "stream",
     "text": [
      "\n",
      "Epoch 70: 100%|█| 70/70 [00:00<00:00, 260.80it/s, loss=0.0265, v_num=1551, MAE=0.438, RMSE=0.586, Loss=0.0257, RegLoss=\n",
      "Predicting DataLoader 0: 100%|██████████████████████████████████████████████████████████| 1/1 [00:00<00:00, 192.33it/s]"
     ]
    },
    {
     "name": "stderr",
     "output_type": "stream",
     "text": [
      "[I 2024-10-19 14:28:38,071] Trial 20 finished with value: 17.103275145302092 and parameters: {'growth': 'discontinuous', 'n_forecasts': 3, 'learning_rate': 0.3146906402220837}. Best is trial 12 with value: 16.161881156010345.\n"
     ]
    },
    {
     "name": "stdout",
     "output_type": "stream",
     "text": [
      "\n",
      "Epoch 70: 100%|█| 70/70 [00:00<00:00, 258.72it/s, loss=0.0268, v_num=1552, MAE=0.440, RMSE=0.584, Loss=0.0256, RegLoss=\n",
      "Predicting DataLoader 0: 100%|██████████████████████████████████████████████████████████| 1/1 [00:00<00:00, 148.96it/s]"
     ]
    },
    {
     "name": "stderr",
     "output_type": "stream",
     "text": [
      "[I 2024-10-19 14:28:57,749] Trial 21 finished with value: 17.230866038595813 and parameters: {'growth': 'discontinuous', 'n_forecasts': 3, 'learning_rate': 0.2951100716194945}. Best is trial 12 with value: 16.161881156010345.\n"
     ]
    },
    {
     "name": "stdout",
     "output_type": "stream",
     "text": [
      "\n",
      "Epoch 70: 100%|█| 70/70 [00:00<00:00, 260.23it/s, loss=0.0261, v_num=1553, MAE=0.446, RMSE=0.594, Loss=0.0263, RegLoss=\n",
      "Predicting DataLoader 0: 100%|██████████████████████████████████████████████████████████| 1/1 [00:00<00:00, 177.01it/s]"
     ]
    },
    {
     "name": "stderr",
     "output_type": "stream",
     "text": [
      "[I 2024-10-19 14:29:17,767] Trial 22 finished with value: 17.497970030573114 and parameters: {'growth': 'discontinuous', 'n_forecasts': 3, 'learning_rate': 0.6051809470762106}. Best is trial 12 with value: 16.161881156010345.\n"
     ]
    },
    {
     "name": "stdout",
     "output_type": "stream",
     "text": [
      "\n",
      "Epoch 70: 100%|█| 70/70 [00:00<00:00, 259.02it/s, loss=0.0267, v_num=1554, MAE=0.452, RMSE=0.596, Loss=0.0265, RegLoss=\n",
      "Predicting DataLoader 0: 100%|██████████████████████████████████████████████████████████| 1/1 [00:00<00:00, 172.21it/s]"
     ]
    },
    {
     "name": "stderr",
     "output_type": "stream",
     "text": [
      "[I 2024-10-19 14:29:37,459] Trial 23 finished with value: 21.75568771391768 and parameters: {'growth': 'discontinuous', 'n_forecasts': 5, 'learning_rate': 0.45065725300287685}. Best is trial 12 with value: 16.161881156010345.\n"
     ]
    },
    {
     "name": "stdout",
     "output_type": "stream",
     "text": [
      "\n",
      "Epoch 70: 100%|█| 70/70 [00:00<00:00, 256.44it/s, loss=0.0254, v_num=1555, MAE=0.441, RMSE=0.584, Loss=0.0256, RegLoss=\n",
      "Predicting DataLoader 0: 100%|██████████████████████████████████████████████████████████| 1/1 [00:00<00:00, 181.51it/s]"
     ]
    },
    {
     "name": "stderr",
     "output_type": "stream",
     "text": [
      "[I 2024-10-19 14:29:57,514] Trial 24 finished with value: 16.890065820068063 and parameters: {'growth': 'discontinuous', 'n_forecasts': 6, 'learning_rate': 0.2869379143016385}. Best is trial 12 with value: 16.161881156010345.\n"
     ]
    },
    {
     "name": "stdout",
     "output_type": "stream",
     "text": [
      "\n",
      "Epoch 70: 100%|█| 70/70 [00:00<00:00, 251.11it/s, loss=0.026, v_num=1556, MAE=0.457, RMSE=0.599, Loss=0.0268, RegLoss=0\n",
      "Predicting DataLoader 0: 100%|██████████████████████████████████████████████████████████| 1/1 [00:00<00:00, 191.32it/s]"
     ]
    },
    {
     "name": "stderr",
     "output_type": "stream",
     "text": [
      "[I 2024-10-19 14:30:17,861] Trial 25 finished with value: 18.893355427235203 and parameters: {'growth': 'linear', 'n_forecasts': 6, 'learning_rate': 0.6006389910740493}. Best is trial 12 with value: 16.161881156010345.\n"
     ]
    },
    {
     "name": "stdout",
     "output_type": "stream",
     "text": [
      "\n",
      "Epoch 70: 100%|█| 70/70 [00:00<00:00, 259.69it/s, loss=0.0258, v_num=1557, MAE=0.466, RMSE=0.609, Loss=0.028, RegLoss=0\n",
      "Predicting DataLoader 0: 100%|██████████████████████████████████████████████████████████| 1/1 [00:00<00:00, 199.98it/s]"
     ]
    },
    {
     "name": "stderr",
     "output_type": "stream",
     "text": [
      "[I 2024-10-19 14:30:37,281] Trial 26 finished with value: 18.1694960458729 and parameters: {'growth': 'discontinuous', 'n_forecasts': 6, 'learning_rate': 0.8193917461443929}. Best is trial 12 with value: 16.161881156010345.\n"
     ]
    },
    {
     "name": "stdout",
     "output_type": "stream",
     "text": [
      "\n",
      "Epoch 70: 100%|█| 70/70 [00:00<00:00, 247.79it/s, loss=0.0258, v_num=1558, MAE=0.443, RMSE=0.586, Loss=0.0258, RegLoss=\n",
      "Predicting DataLoader 0: 100%|██████████████████████████████████████████████████████████| 1/1 [00:00<00:00, 166.59it/s]"
     ]
    },
    {
     "name": "stderr",
     "output_type": "stream",
     "text": [
      "[I 2024-10-19 14:30:56,471] Trial 27 finished with value: 17.43208697556269 and parameters: {'growth': 'discontinuous', 'n_forecasts': 5, 'learning_rate': 0.24372553178435863}. Best is trial 12 with value: 16.161881156010345.\n"
     ]
    },
    {
     "name": "stdout",
     "output_type": "stream",
     "text": [
      "\n",
      "Epoch 70: 100%|█| 70/70 [00:00<00:00, 293.70it/s, loss=0.0284, v_num=1559, MAE=0.479, RMSE=0.621, Loss=0.0284, RegLoss=\n",
      "Predicting DataLoader 0: 100%|██████████████████████████████████████████████████████████| 1/1 [00:00<00:00, 161.96it/s]"
     ]
    },
    {
     "name": "stderr",
     "output_type": "stream",
     "text": [
      "[I 2024-10-19 14:31:14,179] Trial 28 finished with value: 20.539249563891882 and parameters: {'growth': 'off', 'n_forecasts': 6, 'learning_rate': 0.4859770915609072}. Best is trial 12 with value: 16.161881156010345.\n"
     ]
    },
    {
     "name": "stdout",
     "output_type": "stream",
     "text": [
      "\n",
      "Epoch 70: 100%|█| 70/70 [00:00<00:00, 258.47it/s, loss=0.0287, v_num=1560, MAE=0.455, RMSE=0.600, Loss=0.0269, RegLoss=\n",
      "Predicting DataLoader 0: 100%|██████████████████████████████████████████████████████████| 1/1 [00:00<00:00, 187.64it/s]"
     ]
    },
    {
     "name": "stderr",
     "output_type": "stream",
     "text": [
      "[I 2024-10-19 14:31:33,968] Trial 29 finished with value: 18.54091141730788 and parameters: {'growth': 'linear', 'n_forecasts': 5, 'learning_rate': 0.7065122039179651}. Best is trial 12 with value: 16.161881156010345.\n"
     ]
    },
    {
     "name": "stdout",
     "output_type": "stream",
     "text": [
      "\n",
      "Epoch 70: 100%|█| 70/70 [00:00<00:00, 256.13it/s, loss=0.0252, v_num=1561, MAE=0.456, RMSE=0.599, Loss=0.0268, RegLoss=\n",
      "Predicting DataLoader 0: 100%|██████████████████████████████████████████████████████████| 1/1 [00:00<00:00, 166.91it/s]"
     ]
    },
    {
     "name": "stderr",
     "output_type": "stream",
     "text": [
      "[I 2024-10-19 14:31:53,792] Trial 30 finished with value: 19.37407693049625 and parameters: {'growth': 'linear', 'n_forecasts': 6, 'learning_rate': 0.9650332561948013}. Best is trial 12 with value: 16.161881156010345.\n"
     ]
    },
    {
     "name": "stdout",
     "output_type": "stream",
     "text": [
      "\n",
      "Epoch 70: 100%|█| 70/70 [00:00<00:00, 265.18it/s, loss=0.0263, v_num=1562, MAE=0.443, RMSE=0.588, Loss=0.0259, RegLoss=\n",
      "Predicting DataLoader 0: 100%|██████████████████████████████████████████████████████████| 1/1 [00:00<00:00, 166.63it/s]"
     ]
    },
    {
     "name": "stderr",
     "output_type": "stream",
     "text": [
      "[I 2024-10-19 14:32:13,779] Trial 31 finished with value: 16.537538673877222 and parameters: {'growth': 'discontinuous', 'n_forecasts': 4, 'learning_rate': 0.30477572530646785}. Best is trial 12 with value: 16.161881156010345.\n"
     ]
    },
    {
     "name": "stdout",
     "output_type": "stream",
     "text": [
      "\n",
      "Epoch 70: 100%|█| 70/70 [00:00<00:00, 268.34it/s, loss=0.0244, v_num=1563, MAE=0.442, RMSE=0.587, Loss=0.0259, RegLoss=\n",
      "Predicting DataLoader 0: 100%|██████████████████████████████████████████████████████████| 1/1 [00:00<00:00, 186.30it/s]"
     ]
    },
    {
     "name": "stderr",
     "output_type": "stream",
     "text": [
      "[I 2024-10-19 14:32:32,944] Trial 32 finished with value: 16.314116498267104 and parameters: {'growth': 'discontinuous', 'n_forecasts': 4, 'learning_rate': 0.30728356134724866}. Best is trial 12 with value: 16.161881156010345.\n"
     ]
    },
    {
     "name": "stdout",
     "output_type": "stream",
     "text": [
      "\n",
      "Epoch 70: 100%|█| 70/70 [00:00<00:00, 266.85it/s, loss=0.0278, v_num=1564, MAE=0.446, RMSE=0.592, Loss=0.0262, RegLoss=\n",
      "Predicting DataLoader 0: 100%|██████████████████████████████████████████████████████████| 1/1 [00:00<00:00, 173.05it/s]"
     ]
    },
    {
     "name": "stderr",
     "output_type": "stream",
     "text": [
      "[I 2024-10-19 14:32:52,338] Trial 33 finished with value: 16.90431647617896 and parameters: {'growth': 'discontinuous', 'n_forecasts': 4, 'learning_rate': 0.5725048110348608}. Best is trial 12 with value: 16.161881156010345.\n"
     ]
    },
    {
     "name": "stdout",
     "output_type": "stream",
     "text": [
      "\n",
      "Epoch 70: 100%|█| 70/70 [00:00<00:00, 267.53it/s, loss=0.218, v_num=1565, MAE=1.720, RMSE=2.170, Loss=0.217, RegLoss=0.\n",
      "Predicting DataLoader 0: 100%|██████████████████████████████████████████████████████████| 1/1 [00:00<00:00, 181.63it/s]"
     ]
    },
    {
     "name": "stderr",
     "output_type": "stream",
     "text": [
      "[I 2024-10-19 14:33:11,464] Trial 34 finished with value: 69.28846290795724 and parameters: {'growth': 'discontinuous', 'n_forecasts': 4, 'learning_rate': 0.0002573745959087437}. Best is trial 12 with value: 16.161881156010345.\n"
     ]
    },
    {
     "name": "stdout",
     "output_type": "stream",
     "text": [
      "\n",
      "Epoch 70: 100%|█| 70/70 [00:00<00:00, 265.58it/s, loss=0.0233, v_num=1566, MAE=0.444, RMSE=0.587, Loss=0.0258, RegLoss=\n",
      "Predicting DataLoader 0: 100%|██████████████████████████████████████████████████████████| 1/1 [00:00<00:00, 197.48it/s]"
     ]
    },
    {
     "name": "stderr",
     "output_type": "stream",
     "text": [
      "[I 2024-10-19 14:33:30,602] Trial 35 finished with value: 19.221518599747093 and parameters: {'growth': 'discontinuous', 'n_forecasts': 4, 'learning_rate': 0.44120691765987885}. Best is trial 12 with value: 16.161881156010345.\n"
     ]
    },
    {
     "name": "stdout",
     "output_type": "stream",
     "text": [
      "\n",
      "Epoch 70: 100%|█| 70/70 [00:00<00:00, 257.82it/s, loss=0.0258, v_num=1567, MAE=0.447, RMSE=0.589, Loss=0.0259, RegLoss=\n",
      "Predicting DataLoader 0: 100%|██████████████████████████████████████████████████████████| 1/1 [00:00<00:00, 184.00it/s]"
     ]
    },
    {
     "name": "stderr",
     "output_type": "stream",
     "text": [
      "[I 2024-10-19 14:33:50,515] Trial 36 finished with value: 17.159550665018592 and parameters: {'growth': 'linear', 'n_forecasts': 2, 'learning_rate': 0.18942127226297806}. Best is trial 12 with value: 16.161881156010345.\n"
     ]
    },
    {
     "name": "stdout",
     "output_type": "stream",
     "text": [
      "\n",
      "Epoch 70: 100%|█| 70/70 [00:00<00:00, 225.67it/s, loss=0.0268, v_num=1568, MAE=0.451, RMSE=0.596, Loss=0.0267, RegLoss=\n",
      "Predicting DataLoader 0: 100%|██████████████████████████████████████████████████████████| 1/1 [00:00<00:00, 199.97it/s]"
     ]
    },
    {
     "name": "stderr",
     "output_type": "stream",
     "text": [
      "[I 2024-10-19 14:34:10,743] Trial 37 finished with value: 18.909984411842544 and parameters: {'growth': 'discontinuous', 'n_forecasts': 5, 'learning_rate': 0.6556976184524165}. Best is trial 12 with value: 16.161881156010345.\n"
     ]
    },
    {
     "name": "stdout",
     "output_type": "stream",
     "text": [
      "\n",
      "Epoch 70: 100%|█| 70/70 [00:00<00:00, 277.47it/s, loss=0.0272, v_num=1569, MAE=0.473, RMSE=0.614, Loss=0.0279, RegLoss=\n",
      "Predicting DataLoader 0: 100%|██████████████████████████████████████████████████████████| 1/1 [00:00<00:00, 188.18it/s]"
     ]
    },
    {
     "name": "stderr",
     "output_type": "stream",
     "text": [
      "[I 2024-10-19 14:34:29,875] Trial 38 finished with value: 19.966769854330657 and parameters: {'growth': 'off', 'n_forecasts': 3, 'learning_rate': 0.3349763806534497}. Best is trial 12 with value: 16.161881156010345.\n"
     ]
    },
    {
     "name": "stdout",
     "output_type": "stream",
     "text": [
      "\n",
      "Epoch 70: 100%|█| 70/70 [00:00<00:00, 240.92it/s, loss=0.0248, v_num=1570, MAE=0.436, RMSE=0.582, Loss=0.0254, RegLoss=\n",
      "Predicting DataLoader 0: 100%|██████████████████████████████████████████████████████████| 1/1 [00:00<00:00, 180.15it/s]"
     ]
    },
    {
     "name": "stderr",
     "output_type": "stream",
     "text": [
      "[I 2024-10-19 14:34:51,642] Trial 39 finished with value: 17.519410308367924 and parameters: {'growth': 'discontinuous', 'n_forecasts': 4, 'learning_rate': 0.09338210019512244}. Best is trial 12 with value: 16.161881156010345.\n"
     ]
    },
    {
     "name": "stdout",
     "output_type": "stream",
     "text": [
      "\n",
      "Epoch 70: 100%|█| 70/70 [00:00<00:00, 228.43it/s, loss=0.0255, v_num=1571, MAE=0.455, RMSE=0.596, Loss=0.0266, RegLoss=\n",
      "Predicting DataLoader 0: 100%|██████████████████████████████████████████████████████████| 1/1 [00:00<00:00, 175.22it/s]"
     ]
    },
    {
     "name": "stderr",
     "output_type": "stream",
     "text": [
      "[I 2024-10-19 14:35:13,347] Trial 40 finished with value: 16.305063228993674 and parameters: {'growth': 'linear', 'n_forecasts': 5, 'learning_rate': 0.7447143686518751}. Best is trial 12 with value: 16.161881156010345.\n"
     ]
    },
    {
     "name": "stdout",
     "output_type": "stream",
     "text": [
      "\n",
      "Epoch 70: 100%|█| 70/70 [00:00<00:00, 156.39it/s, loss=0.0269, v_num=1572, MAE=0.456, RMSE=0.601, Loss=0.0269, RegLoss=\n",
      "Predicting DataLoader 0: 100%|██████████████████████████████████████████████████████████| 1/1 [00:00<00:00, 137.64it/s]"
     ]
    },
    {
     "name": "stderr",
     "output_type": "stream",
     "text": [
      "[I 2024-10-19 14:35:38,342] Trial 41 finished with value: 17.99761545644128 and parameters: {'growth': 'linear', 'n_forecasts': 5, 'learning_rate': 0.7970360344202065}. Best is trial 12 with value: 16.161881156010345.\n"
     ]
    },
    {
     "name": "stdout",
     "output_type": "stream",
     "text": [
      "\n",
      "Epoch 70: 100%|█| 70/70 [00:00<00:00, 244.82it/s, loss=0.027, v_num=1573, MAE=0.452, RMSE=0.593, Loss=0.0264, RegLoss=0\n",
      "Predicting DataLoader 0: 100%|██████████████████████████████████████████████████████████| 1/1 [00:00<00:00, 148.04it/s]"
     ]
    },
    {
     "name": "stderr",
     "output_type": "stream",
     "text": [
      "[I 2024-10-19 14:36:02,228] Trial 42 finished with value: 16.23223597213494 and parameters: {'growth': 'linear', 'n_forecasts': 5, 'learning_rate': 0.7334052208122054}. Best is trial 12 with value: 16.161881156010345.\n"
     ]
    },
    {
     "name": "stdout",
     "output_type": "stream",
     "text": [
      "\n",
      "Epoch 70: 100%|█| 70/70 [00:00<00:00, 158.81it/s, loss=0.0271, v_num=1574, MAE=0.457, RMSE=0.599, Loss=0.0269, RegLoss=\n",
      "Predicting DataLoader 0: 100%|██████████████████████████████████████████████████████████| 1/1 [00:00<00:00, 171.58it/s]"
     ]
    },
    {
     "name": "stderr",
     "output_type": "stream",
     "text": [
      "[I 2024-10-19 14:36:29,246] Trial 43 finished with value: 16.439879369840067 and parameters: {'growth': 'linear', 'n_forecasts': 4, 'learning_rate': 0.7525556945344989}. Best is trial 12 with value: 16.161881156010345.\n"
     ]
    },
    {
     "name": "stdout",
     "output_type": "stream",
     "text": [
      "\n",
      "Epoch 70: 100%|█| 70/70 [00:00<00:00, 189.84it/s, loss=0.0278, v_num=1575, MAE=0.458, RMSE=0.602, Loss=0.0271, RegLoss=\n",
      "Predicting DataLoader 0: 100%|██████████████████████████████████████████████████████████| 1/1 [00:00<00:00, 141.77it/s]"
     ]
    },
    {
     "name": "stderr",
     "output_type": "stream",
     "text": [
      "[I 2024-10-19 14:36:57,877] Trial 44 finished with value: 16.447215872840758 and parameters: {'growth': 'linear', 'n_forecasts': 5, 'learning_rate': 0.7397129189256306}. Best is trial 12 with value: 16.161881156010345.\n"
     ]
    },
    {
     "name": "stdout",
     "output_type": "stream",
     "text": [
      "\n",
      "Epoch 70: 100%|█| 70/70 [00:00<00:00, 181.69it/s, loss=0.0255, v_num=1576, MAE=0.455, RMSE=0.599, Loss=0.0269, RegLoss=\n",
      "Predicting DataLoader 0: 100%|██████████████████████████████████████████████████████████| 1/1 [00:00<00:00, 156.11it/s]"
     ]
    },
    {
     "name": "stderr",
     "output_type": "stream",
     "text": [
      "[I 2024-10-19 14:37:25,900] Trial 45 finished with value: 14.660496847633683 and parameters: {'growth': 'linear', 'n_forecasts': 4, 'learning_rate': 0.8602420224460372}. Best is trial 45 with value: 14.660496847633683.\n"
     ]
    },
    {
     "name": "stdout",
     "output_type": "stream",
     "text": [
      "\n",
      "Epoch 70: 100%|█| 70/70 [00:00<00:00, 186.03it/s, loss=0.027, v_num=1577, MAE=0.457, RMSE=0.601, Loss=0.0271, RegLoss=0\n",
      "Predicting DataLoader 0: 100%|██████████████████████████████████████████████████████████| 1/1 [00:00<00:00, 148.52it/s]"
     ]
    },
    {
     "name": "stderr",
     "output_type": "stream",
     "text": [
      "[I 2024-10-19 14:37:53,133] Trial 46 finished with value: 19.79572110368495 and parameters: {'growth': 'linear', 'n_forecasts': 5, 'learning_rate': 0.8832881751469043}. Best is trial 45 with value: 14.660496847633683.\n"
     ]
    },
    {
     "name": "stdout",
     "output_type": "stream",
     "text": [
      "\n",
      "Epoch 70: 100%|█| 70/70 [00:00<00:00, 170.63it/s, loss=0.0276, v_num=1578, MAE=0.464, RMSE=0.606, Loss=0.0274, RegLoss=\n",
      "Predicting DataLoader 0: 100%|██████████████████████████████████████████████████████████| 1/1 [00:00<00:00, 142.86it/s]"
     ]
    },
    {
     "name": "stderr",
     "output_type": "stream",
     "text": [
      "[I 2024-10-19 14:38:20,461] Trial 47 finished with value: 17.234918044196135 and parameters: {'growth': 'linear', 'n_forecasts': 4, 'learning_rate': 0.9178727794366229}. Best is trial 45 with value: 14.660496847633683.\n"
     ]
    },
    {
     "name": "stdout",
     "output_type": "stream",
     "text": [
      "\n",
      "Epoch 70: 100%|█| 70/70 [00:00<00:00, 155.43it/s, loss=0.0285, v_num=1579, MAE=0.464, RMSE=0.607, Loss=0.0274, RegLoss=\n",
      "Predicting DataLoader 0: 100%|██████████████████████████████████████████████████████████| 1/1 [00:00<00:00, 126.26it/s]"
     ]
    },
    {
     "name": "stderr",
     "output_type": "stream",
     "text": [
      "[I 2024-10-19 14:38:50,720] Trial 48 finished with value: 21.74872666328786 and parameters: {'growth': 'linear', 'n_forecasts': 5, 'learning_rate': 0.8367544433775762}. Best is trial 45 with value: 14.660496847633683.\n"
     ]
    },
    {
     "name": "stdout",
     "output_type": "stream",
     "text": [
      "\n",
      "Epoch 70: 100%|█| 70/70 [00:00<00:00, 198.29it/s, loss=0.0279, v_num=1580, MAE=0.453, RMSE=0.595, Loss=0.0265, RegLoss=\n",
      "Predicting DataLoader 0: 100%|██████████████████████████████████████████████████████████| 1/1 [00:00<00:00, 142.52it/s]"
     ]
    },
    {
     "name": "stderr",
     "output_type": "stream",
     "text": [
      "[I 2024-10-19 14:39:20,881] Trial 49 finished with value: 16.491496759799286 and parameters: {'growth': 'linear', 'n_forecasts': 5, 'learning_rate': 0.7369817721812415}. Best is trial 45 with value: 14.660496847633683.\n"
     ]
    },
    {
     "name": "stdout",
     "output_type": "stream",
     "text": [
      "\n"
     ]
    }
   ],
   "source": [
    "sampler = TPESampler(seed=RANDOM_SEED)\n",
    "study = optuna.create_study(direction='minimize', sampler=sampler)\n",
    "#optuna.logging.set_verbosity(optuna.logging.WARNING)\n",
    "study.optimize(objective, n_trials=50)"
   ]
  },
  {
   "cell_type": "code",
   "execution_count": 13,
   "id": "e0da1510-0009-4ece-80e1-0f16a39498c2",
   "metadata": {},
   "outputs": [
    {
     "name": "stdout",
     "output_type": "stream",
     "text": [
      "Melhor MAPE: 14.660496847633683\n",
      "Melhores parâmetros: {'growth': 'linear', 'n_forecasts': 4, 'learning_rate': 0.8602420224460372}\n"
     ]
    }
   ],
   "source": [
    "melhores_parametros = study.best_params\n",
    "\n",
    "print(f\"Melhor MAPE: {study.best_trial.value}\")\n",
    "print(f\"Melhores parâmetros: {study.best_params}\")"
   ]
  },
  {
   "cell_type": "markdown",
   "id": "f96630f3-351e-4fbd-82fd-e4dc508da579",
   "metadata": {},
   "source": [
    "### **Treinando o modelo com os hiperparâmetros ajustados**"
   ]
  },
  {
   "cell_type": "code",
   "execution_count": 14,
   "id": "b548c477-917e-48ea-a064-5f4e4cc5338d",
   "metadata": {},
   "outputs": [
    {
     "name": "stdout",
     "output_type": "stream",
     "text": [
      "Epoch 70: 100%|█| 70/70 [00:00<00:00, 219.15it/s, loss=0.0258, v_num=1581, MAE=0.453, RMSE=0.596, Loss=0.0266, RegLoss=\n"
     ]
    },
    {
     "data": {
      "text/html": [
       "<div>\n",
       "<style scoped>\n",
       "    .dataframe tbody tr th:only-of-type {\n",
       "        vertical-align: middle;\n",
       "    }\n",
       "\n",
       "    .dataframe tbody tr th {\n",
       "        vertical-align: top;\n",
       "    }\n",
       "\n",
       "    .dataframe thead th {\n",
       "        text-align: right;\n",
       "    }\n",
       "</style>\n",
       "<table border=\"1\" class=\"dataframe\">\n",
       "  <thead>\n",
       "    <tr style=\"text-align: right;\">\n",
       "      <th></th>\n",
       "      <th>MAE</th>\n",
       "      <th>RMSE</th>\n",
       "      <th>Loss</th>\n",
       "      <th>RegLoss</th>\n",
       "      <th>epoch</th>\n",
       "    </tr>\n",
       "  </thead>\n",
       "  <tbody>\n",
       "    <tr>\n",
       "      <th>0</th>\n",
       "      <td>1.390521</td>\n",
       "      <td>1.727568</td>\n",
       "      <td>0.167452</td>\n",
       "      <td>0.0</td>\n",
       "      <td>0</td>\n",
       "    </tr>\n",
       "    <tr>\n",
       "      <th>1</th>\n",
       "      <td>0.683088</td>\n",
       "      <td>0.860343</td>\n",
       "      <td>0.053168</td>\n",
       "      <td>0.0</td>\n",
       "      <td>1</td>\n",
       "    </tr>\n",
       "    <tr>\n",
       "      <th>2</th>\n",
       "      <td>0.694878</td>\n",
       "      <td>0.861868</td>\n",
       "      <td>0.053793</td>\n",
       "      <td>0.0</td>\n",
       "      <td>2</td>\n",
       "    </tr>\n",
       "    <tr>\n",
       "      <th>3</th>\n",
       "      <td>0.795971</td>\n",
       "      <td>0.989537</td>\n",
       "      <td>0.068971</td>\n",
       "      <td>0.0</td>\n",
       "      <td>3</td>\n",
       "    </tr>\n",
       "    <tr>\n",
       "      <th>4</th>\n",
       "      <td>0.811971</td>\n",
       "      <td>1.002719</td>\n",
       "      <td>0.070179</td>\n",
       "      <td>0.0</td>\n",
       "      <td>4</td>\n",
       "    </tr>\n",
       "    <tr>\n",
       "      <th>...</th>\n",
       "      <td>...</td>\n",
       "      <td>...</td>\n",
       "      <td>...</td>\n",
       "      <td>...</td>\n",
       "      <td>...</td>\n",
       "    </tr>\n",
       "    <tr>\n",
       "      <th>65</th>\n",
       "      <td>0.456351</td>\n",
       "      <td>0.599543</td>\n",
       "      <td>0.026872</td>\n",
       "      <td>0.0</td>\n",
       "      <td>65</td>\n",
       "    </tr>\n",
       "    <tr>\n",
       "      <th>66</th>\n",
       "      <td>0.455889</td>\n",
       "      <td>0.600278</td>\n",
       "      <td>0.027036</td>\n",
       "      <td>0.0</td>\n",
       "      <td>66</td>\n",
       "    </tr>\n",
       "    <tr>\n",
       "      <th>67</th>\n",
       "      <td>0.450018</td>\n",
       "      <td>0.596724</td>\n",
       "      <td>0.026551</td>\n",
       "      <td>0.0</td>\n",
       "      <td>67</td>\n",
       "    </tr>\n",
       "    <tr>\n",
       "      <th>68</th>\n",
       "      <td>0.455507</td>\n",
       "      <td>0.598277</td>\n",
       "      <td>0.026743</td>\n",
       "      <td>0.0</td>\n",
       "      <td>68</td>\n",
       "    </tr>\n",
       "    <tr>\n",
       "      <th>69</th>\n",
       "      <td>0.453207</td>\n",
       "      <td>0.595830</td>\n",
       "      <td>0.026589</td>\n",
       "      <td>0.0</td>\n",
       "      <td>69</td>\n",
       "    </tr>\n",
       "  </tbody>\n",
       "</table>\n",
       "<p>70 rows × 5 columns</p>\n",
       "</div>"
      ],
      "text/plain": [
       "         MAE      RMSE      Loss  RegLoss  epoch\n",
       "0   1.390521  1.727568  0.167452      0.0      0\n",
       "1   0.683088  0.860343  0.053168      0.0      1\n",
       "2   0.694878  0.861868  0.053793      0.0      2\n",
       "3   0.795971  0.989537  0.068971      0.0      3\n",
       "4   0.811971  1.002719  0.070179      0.0      4\n",
       "..       ...       ...       ...      ...    ...\n",
       "65  0.456351  0.599543  0.026872      0.0     65\n",
       "66  0.455889  0.600278  0.027036      0.0     66\n",
       "67  0.450018  0.596724  0.026551      0.0     67\n",
       "68  0.455507  0.598277  0.026743      0.0     68\n",
       "69  0.453207  0.595830  0.026589      0.0     69\n",
       "\n",
       "[70 rows x 5 columns]"
      ]
     },
     "execution_count": 14,
     "metadata": {},
     "output_type": "execute_result"
    }
   ],
   "source": [
    "m = NeuralProphet(\n",
    "    growth=melhores_parametros['growth'],\n",
    "    n_forecasts=melhores_parametros['n_forecasts'],\n",
    "    learning_rate=melhores_parametros['learning_rate']\n",
    ")\n",
    "\n",
    "m.add_future_regressor(\"% Iron Feed\")\n",
    "m.add_future_regressor(\"% Silica Feed\")\n",
    "m.add_future_regressor(\"Starch Flow\")\n",
    "m.add_future_regressor(\"Amina Flow\")\n",
    "m.add_future_regressor(\"Ore Pulp Flow\")\n",
    "m.add_future_regressor(\"Ore Pulp pH\")\n",
    "m.add_future_regressor(\"Ore Pulp Density\")\n",
    "m.add_future_regressor(\"Flotation Column 01 Air Flow\")\n",
    "m.add_future_regressor(\"Flotation Column 02 Air Flow\")\n",
    "m.add_future_regressor(\"Flotation Column 03 Air Flow\")\n",
    "m.add_future_regressor(\"Flotation Column 04 Air Flow\")\n",
    "m.add_future_regressor(\"Flotation Column 05 Air Flow\")\n",
    "m.add_future_regressor(\"Flotation Column 06 Air Flow\")\n",
    "m.add_future_regressor(\"Flotation Column 07 Air Flow\")\n",
    "m.add_future_regressor(\"Flotation Column 01 Level\")\n",
    "m.add_future_regressor(\"Flotation Column 02 Level\")\n",
    "m.add_future_regressor(\"Flotation Column 03 Level\")\n",
    "m.add_future_regressor(\"Flotation Column 04 Level\")\n",
    "m.add_future_regressor(\"Flotation Column 05 Level\")\n",
    "m.add_future_regressor(\"Flotation Column 06 Level\")\n",
    "m.add_future_regressor(\"Flotation Column 07 Level\")\n",
    "m.add_future_regressor(\"% Iron Concentrate\")\n",
    "\n",
    "m.fit(treino, freq='h')"
   ]
  },
  {
   "cell_type": "markdown",
   "id": "11eaa437-33a0-4095-825d-900b054f876d",
   "metadata": {},
   "source": [
    "### **Avaliando o modelo**"
   ]
  },
  {
   "cell_type": "code",
   "execution_count": 15,
   "id": "ec6ef8f7-80ae-4161-8ad9-32ee21baeb1b",
   "metadata": {},
   "outputs": [
    {
     "name": "stdout",
     "output_type": "stream",
     "text": [
      "Predicting DataLoader 0: 100%|██████████████████████████████████████████████████████████| 1/1 [00:00<00:00, 169.12it/s]\n"
     ]
    }
   ],
   "source": [
    "# Previsões\n",
    "y_pred = m.predict(teste)"
   ]
  },
  {
   "cell_type": "code",
   "execution_count": 16,
   "id": "933470dc-f4f4-48b7-bc85-97c9ae458b5e",
   "metadata": {},
   "outputs": [
    {
     "data": {
      "text/plain": [
       "{'RMSE': 0.5799369017694525,\n",
       " 'MAE': 0.4632054859399795,\n",
       " 'MAPE': 21.308401559535575}"
      ]
     },
     "execution_count": 16,
     "metadata": {},
     "output_type": "execute_result"
    }
   ],
   "source": [
    "# Visualizando as métricas\n",
    "eval_metrics(teste.y.values, y_pred.yhat1.values)"
   ]
  },
  {
   "cell_type": "code",
   "execution_count": 17,
   "id": "9bffcfe4-a29f-4878-960c-2e131420f5b2",
   "metadata": {},
   "outputs": [
    {
     "data": {
      "image/png": "[encoded data removed]",
      "text/plain": [
       "<Figure size 1200x800 with 1 Axes>"
      ]
     },
     "metadata": {},
     "output_type": "display_data"
    }
   ],
   "source": [
    "fig, ax = plt.subplots(figsize=(12,8))\n",
    "\n",
    "plt.plot(teste.ds, teste.y.values, label=\"Valores Reais\", marker='o', color=\"blue\")\n",
    "plt.plot(y_pred.ds, y_pred.yhat1.values, label=\"Valores Previstos\", marker='s', color=\"red\")\n",
    "\n",
    "plt.ylabel(\"% Silica Concentrate\")\n",
    "plt.xlabel(\"Data\")\n",
    "plt.title(\"Modelo NeuralProphet - Multivariado com todas as variáveis\")\n",
    "plt.legend()\n",
    "\n",
    "plt.tight_layout()"
   ]
  },
  {
   "cell_type": "markdown",
   "id": "58cc97e3-9a53-4bc6-ad55-a3a7f123a8a9",
   "metadata": {},
   "source": [
    "## **Modelo NeuralProphet - Multivariado com as variáveis selecionadas**"
   ]
  },
  {
   "cell_type": "markdown",
   "id": "045dd987-4008-491c-9993-cf2a39142767",
   "metadata": {},
   "source": [
    "### **Ajuste dos hiperparâmetros com Optuna**"
   ]
  },
  {
   "cell_type": "code",
   "execution_count": 18,
   "id": "1aa3c15b-f66f-4719-a500-8186ae0f65c3",
   "metadata": {},
   "outputs": [],
   "source": [
    "def objective(trial):\n",
    "    growth = trial.suggest_categorical('growth', ['off', 'linear', 'discontinuous'])\n",
    "    n_forecasts = trial.suggest_int('n_forecasts', 1, 6)\n",
    "    learning_rate = trial.suggest_float('learning_rate', 0.0001, 1)\n",
    "\n",
    "    # Instaciando o modelo\n",
    "    m = NeuralProphet(growth=growth, n_forecasts=n_forecasts, learning_rate=learning_rate)\n",
    "    m.add_future_regressor(\"Amina Flow\")\n",
    "    m.add_future_regressor(\"Ore Pulp pH\")\n",
    "    m.add_future_regressor(\"Flotation Column 01 Air Flow\")\n",
    "    m.add_future_regressor(\"Flotation Column 02 Air Flow\")\n",
    "    m.add_future_regressor(\"Flotation Column 03 Air Flow\")\n",
    "    m.add_future_regressor(\"Flotation Column 04 Level\")\n",
    "    m.add_future_regressor(\"Flotation Column 05 Level\")\n",
    "    m.add_future_regressor(\"Flotation Column 06 Level\")\n",
    "    m.add_future_regressor(\"Flotation Column 07 Level\")\n",
    "    m.add_future_regressor(\"% Iron Concentrate\")\n",
    "\n",
    "    # Treinando o modelo\n",
    "    m.fit(treino.drop(treino.index[-24:]).loc[:, [\"ds\", \"Amina Flow\", \"Ore Pulp pH\", \n",
    "                                                  \"Flotation Column 01 Air Flow\", \"Flotation Column 02 Air Flow\", \"Flotation Column 03 Air Flow\",\n",
    "                                                  \"Flotation Column 04 Level\", \"Flotation Column 05 Level\", \"Flotation Column 06 Level\",\"Flotation Column 07 Level\", \n",
    "                                                  \"% Iron Concentrate\", \"y\"]], freq=\"h\")\n",
    "\n",
    "    # Fazendo previsões\n",
    "    val = treino[-24:].reset_index(drop=True).loc[:, [\"ds\", \"Amina Flow\", \"Ore Pulp pH\", \n",
    "                                                  \"Flotation Column 01 Air Flow\", \"Flotation Column 02 Air Flow\", \"Flotation Column 03 Air Flow\",\n",
    "                                                  \"Flotation Column 04 Level\", \"Flotation Column 05 Level\", \"Flotation Column 06 Level\",\"Flotation Column 07 Level\", \n",
    "                                                  \"% Iron Concentrate\", \"y\"]]\n",
    "    previsoes = m.predict(val)\n",
    "\n",
    "    # Calculado o MAPE\n",
    "    y_true = val.y.values\n",
    "    y_pred = previsoes.yhat1.values\n",
    "    mape = (np.mean(np.true_divide(np.abs(y_true-y_pred), y_true)))*100\n",
    "\n",
    "    return mape"
   ]
  },
  {
   "cell_type": "code",
   "execution_count": 19,
   "id": "f6a32d46-d96e-4220-97a4-ba09cfeaeded",
   "metadata": {},
   "outputs": [
    {
     "name": "stderr",
     "output_type": "stream",
     "text": [
      "[I 2024-10-19 14:39:47,165] A new study created in memory with name: no-name-c718dafe-7bc9-4e64-9c54-38af5619f05e\n"
     ]
    },
    {
     "name": "stdout",
     "output_type": "stream",
     "text": [
      "Epoch 70: 100%|█| 70/70 [00:00<00:00, 235.45it/s, loss=0.0262, v_num=1582, MAE=0.444, RMSE=0.589, Loss=0.026, RegLoss=0\n",
      "Predicting DataLoader 0: 100%|██████████████████████████████████████████████████████████| 1/1 [00:00<00:00, 194.01it/s]"
     ]
    },
    {
     "name": "stderr",
     "output_type": "stream",
     "text": [
      "[I 2024-10-19 14:40:09,421] Trial 0 finished with value: 17.243065996060906 and parameters: {'growth': 'linear', 'n_forecasts': 2, 'learning_rate': 0.1468412152280313}. Best is trial 0 with value: 17.243065996060906.\n"
     ]
    },
    {
     "name": "stdout",
     "output_type": "stream",
     "text": [
      "\n",
      "Epoch 70: 100%|█| 70/70 [00:00<00:00, 243.78it/s, loss=0.0271, v_num=1583, MAE=0.443, RMSE=0.593, Loss=0.0263, RegLoss=\n",
      "Predicting DataLoader 0: 100%|██████████████████████████████████████████████████████████| 1/1 [00:00<00:00, 181.60it/s]"
     ]
    },
    {
     "name": "stderr",
     "output_type": "stream",
     "text": [
      "[I 2024-10-19 14:40:30,582] Trial 1 finished with value: 17.030888936510948 and parameters: {'growth': 'discontinuous', 'n_forecasts': 3, 'learning_rate': 0.5388628523299566}. Best is trial 1 with value: 17.030888936510948.\n"
     ]
    },
    {
     "name": "stdout",
     "output_type": "stream",
     "text": [
      "\n",
      "Epoch 70: 100%|█| 70/70 [00:00<00:00, 229.54it/s, loss=0.027, v_num=1584, MAE=0.457, RMSE=0.601, Loss=0.0269, RegLoss=0\n",
      "Predicting DataLoader 0: 100%|██████████████████████████████████████████████████████████| 1/1 [00:00<00:00, 164.92it/s]"
     ]
    },
    {
     "name": "stderr",
     "output_type": "stream",
     "text": [
      "[I 2024-10-19 14:40:53,022] Trial 2 finished with value: 17.710095536312842 and parameters: {'growth': 'linear', 'n_forecasts': 6, 'learning_rate': 0.02748485443860637}. Best is trial 1 with value: 17.030888936510948.\n"
     ]
    },
    {
     "name": "stdout",
     "output_type": "stream",
     "text": [
      "\n",
      "Epoch 70: 100%|█| 70/70 [00:00<00:00, 262.61it/s, loss=0.0277, v_num=1585, MAE=0.481, RMSE=0.622, Loss=0.0284, RegLoss=\n",
      "Predicting DataLoader 0: 100%|██████████████████████████████████████████████████████████| 1/1 [00:00<00:00, 199.32it/s]"
     ]
    },
    {
     "name": "stderr",
     "output_type": "stream",
     "text": [
      "[I 2024-10-19 14:41:12,249] Trial 3 finished with value: 22.295895960245016 and parameters: {'growth': 'off', 'n_forecasts': 1, 'learning_rate': 0.1981816789359703}. Best is trial 1 with value: 17.030888936510948.\n"
     ]
    },
    {
     "name": "stdout",
     "output_type": "stream",
     "text": [
      "\n",
      "Epoch 70: 100%|█| 70/70 [00:00<00:00, 220.76it/s, loss=0.0284, v_num=1586, MAE=0.459, RMSE=0.606, Loss=0.0275, RegLoss=\n",
      "Predicting DataLoader 0: 100%|██████████████████████████████████████████████████████████| 1/1 [00:00<00:00, 170.51it/s]"
     ]
    },
    {
     "name": "stderr",
     "output_type": "stream",
     "text": [
      "[I 2024-10-19 14:41:34,019] Trial 4 finished with value: 16.524717779300317 and parameters: {'growth': 'linear', 'n_forecasts': 5, 'learning_rate': 0.8764015133808087}. Best is trial 4 with value: 16.524717779300317.\n"
     ]
    },
    {
     "name": "stdout",
     "output_type": "stream",
     "text": [
      "\n",
      "Epoch 70: 100%|█| 70/70 [00:00<00:00, 269.66it/s, loss=0.0298, v_num=1587, MAE=0.492, RMSE=0.635, Loss=0.0298, RegLoss=\n",
      "Predicting DataLoader 0: 100%|██████████████████████████████████████████████████████████| 1/1 [00:00<00:00, 184.87it/s]"
     ]
    },
    {
     "name": "stderr",
     "output_type": "stream",
     "text": [
      "[I 2024-10-19 14:41:53,061] Trial 5 finished with value: 21.501430224432795 and parameters: {'growth': 'off', 'n_forecasts': 2, 'learning_rate': 0.8781546891790702}. Best is trial 4 with value: 16.524717779300317.\n"
     ]
    },
    {
     "name": "stdout",
     "output_type": "stream",
     "text": [
      "\n",
      "Epoch 70: 100%|█| 70/70 [00:00<00:00, 235.60it/s, loss=0.0287, v_num=1588, MAE=0.450, RMSE=0.598, Loss=0.027, RegLoss=0\n",
      "Predicting DataLoader 0: 100%|██████████████████████████████████████████████████████████| 1/1 [00:00<00:00, 232.51it/s]"
     ]
    },
    {
     "name": "stderr",
     "output_type": "stream",
     "text": [
      "[I 2024-10-19 14:42:14,242] Trial 6 finished with value: 15.164582286790404 and parameters: {'growth': 'discontinuous', 'n_forecasts': 4, 'learning_rate': 0.6919079262390783}. Best is trial 6 with value: 15.164582286790404.\n"
     ]
    },
    {
     "name": "stdout",
     "output_type": "stream",
     "text": [
      "\n",
      "Epoch 70: 100%|█| 70/70 [00:00<00:00, 241.40it/s, loss=0.0257, v_num=1589, MAE=0.453, RMSE=0.599, Loss=0.0269, RegLoss=\n",
      "Predicting DataLoader 0: 100%|██████████████████████████████████████████████████████████| 1/1 [00:00<00:00, 166.37it/s]"
     ]
    },
    {
     "name": "stderr",
     "output_type": "stream",
     "text": [
      "[I 2024-10-19 14:42:35,461] Trial 7 finished with value: 18.026797273634564 and parameters: {'growth': 'discontinuous', 'n_forecasts': 1, 'learning_rate': 0.750169300513473}. Best is trial 6 with value: 15.164582286790404.\n"
     ]
    },
    {
     "name": "stdout",
     "output_type": "stream",
     "text": [
      "\n",
      "Epoch 70: 100%|█| 70/70 [00:00<00:00, 242.97it/s, loss=0.0286, v_num=1590, MAE=0.480, RMSE=0.622, Loss=0.0284, RegLoss=\n",
      "Predicting DataLoader 0: 100%|██████████████████████████████████████████████████████████| 1/1 [00:00<00:00, 208.44it/s]"
     ]
    },
    {
     "name": "stderr",
     "output_type": "stream",
     "text": [
      "[I 2024-10-19 14:42:54,371] Trial 8 finished with value: 23.142147945920897 and parameters: {'growth': 'off', 'n_forecasts': 5, 'learning_rate': 0.10331568397698426}. Best is trial 6 with value: 15.164582286790404.\n"
     ]
    },
    {
     "name": "stdout",
     "output_type": "stream",
     "text": [
      "\n",
      "Epoch 70: 100%|█| 70/70 [00:00<00:00, 234.62it/s, loss=0.0269, v_num=1591, MAE=0.446, RMSE=0.592, Loss=0.0263, RegLoss=\n",
      "Predicting DataLoader 0: 100%|██████████████████████████████████████████████████████████| 1/1 [00:00<00:00, 195.07it/s]"
     ]
    },
    {
     "name": "stderr",
     "output_type": "stream",
     "text": [
      "[I 2024-10-19 14:43:16,088] Trial 9 finished with value: 17.977924350663844 and parameters: {'growth': 'linear', 'n_forecasts': 2, 'learning_rate': 0.13011556926106585}. Best is trial 6 with value: 15.164582286790404.\n"
     ]
    },
    {
     "name": "stdout",
     "output_type": "stream",
     "text": [
      "\n",
      "Epoch 70: 100%|█| 70/70 [00:00<00:00, 239.04it/s, loss=0.0244, v_num=1592, MAE=0.446, RMSE=0.594, Loss=0.0266, RegLoss=\n",
      "Predicting DataLoader 0: 100%|██████████████████████████████████████████████████████████| 1/1 [00:00<00:00, 201.98it/s]"
     ]
    },
    {
     "name": "stderr",
     "output_type": "stream",
     "text": [
      "[I 2024-10-19 14:43:37,428] Trial 10 finished with value: 16.993820265973916 and parameters: {'growth': 'discontinuous', 'n_forecasts': 4, 'learning_rate': 0.5373269199794267}. Best is trial 6 with value: 15.164582286790404.\n"
     ]
    },
    {
     "name": "stdout",
     "output_type": "stream",
     "text": [
      "\n",
      "Epoch 70: 100%|█| 70/70 [00:00<00:00, 234.43it/s, loss=0.0283, v_num=1593, MAE=0.459, RMSE=0.607, Loss=0.0276, RegLoss=\n",
      "Predicting DataLoader 0: 100%|██████████████████████████████████████████████████████████| 1/1 [00:00<00:00, 161.15it/s]"
     ]
    },
    {
     "name": "stderr",
     "output_type": "stream",
     "text": [
      "[I 2024-10-19 14:43:59,146] Trial 11 finished with value: 19.829236980529565 and parameters: {'growth': 'linear', 'n_forecasts': 5, 'learning_rate': 0.9873677079333998}. Best is trial 6 with value: 15.164582286790404.\n"
     ]
    },
    {
     "name": "stdout",
     "output_type": "stream",
     "text": [
      "\n",
      "Epoch 70: 100%|█| 70/70 [00:00<00:00, 238.10it/s, loss=0.0277, v_num=1594, MAE=0.451, RMSE=0.599, Loss=0.027, RegLoss=0\n",
      "Predicting DataLoader 0: 100%|██████████████████████████████████████████████████████████| 1/1 [00:00<00:00, 199.76it/s]"
     ]
    },
    {
     "name": "stderr",
     "output_type": "stream",
     "text": [
      "[I 2024-10-19 14:44:20,564] Trial 12 finished with value: 19.368747330028484 and parameters: {'growth': 'discontinuous', 'n_forecasts': 4, 'learning_rate': 0.733334588399394}. Best is trial 6 with value: 15.164582286790404.\n"
     ]
    },
    {
     "name": "stdout",
     "output_type": "stream",
     "text": [
      "\n",
      "Epoch 70: 100%|█| 70/70 [00:00<00:00, 236.93it/s, loss=0.0288, v_num=1595, MAE=0.448, RMSE=0.595, Loss=0.0265, RegLoss=\n",
      "Predicting DataLoader 0: 100%|██████████████████████████████████████████████████████████| 1/1 [00:00<00:00, 188.19it/s]"
     ]
    },
    {
     "name": "stderr",
     "output_type": "stream",
     "text": [
      "[I 2024-10-19 14:44:42,161] Trial 13 finished with value: 18.3692910325059 and parameters: {'growth': 'discontinuous', 'n_forecasts': 6, 'learning_rate': 0.7023759910894738}. Best is trial 6 with value: 15.164582286790404.\n"
     ]
    },
    {
     "name": "stdout",
     "output_type": "stream",
     "text": [
      "\n",
      "Epoch 70: 100%|█| 70/70 [00:00<00:00, 227.79it/s, loss=0.0281, v_num=1596, MAE=0.448, RMSE=0.594, Loss=0.0264, RegLoss=\n",
      "Predicting DataLoader 0: 100%|██████████████████████████████████████████████████████████| 1/1 [00:00<00:00, 165.47it/s]"
     ]
    },
    {
     "name": "stderr",
     "output_type": "stream",
     "text": [
      "[I 2024-10-19 14:45:04,114] Trial 14 finished with value: 17.479946269193867 and parameters: {'growth': 'linear', 'n_forecasts': 5, 'learning_rate': 0.3304565322038435}. Best is trial 6 with value: 15.164582286790404.\n"
     ]
    },
    {
     "name": "stdout",
     "output_type": "stream",
     "text": [
      "\n",
      "Epoch 70: 100%|█| 70/70 [00:00<00:00, 239.96it/s, loss=0.0267, v_num=1597, MAE=0.455, RMSE=0.603, Loss=0.0272, RegLoss=\n",
      "Predicting DataLoader 0: 100%|██████████████████████████████████████████████████████████| 1/1 [00:00<00:00, 179.21it/s]"
     ]
    },
    {
     "name": "stderr",
     "output_type": "stream",
     "text": [
      "[I 2024-10-19 14:45:25,917] Trial 15 finished with value: 16.72023450829507 and parameters: {'growth': 'discontinuous', 'n_forecasts': 4, 'learning_rate': 0.8736880310372855}. Best is trial 6 with value: 15.164582286790404.\n"
     ]
    },
    {
     "name": "stdout",
     "output_type": "stream",
     "text": [
      "\n",
      "Epoch 70: 100%|█| 70/70 [00:00<00:00, 231.07it/s, loss=0.0266, v_num=1598, MAE=0.447, RMSE=0.593, Loss=0.0264, RegLoss=\n",
      "Predicting DataLoader 0: 100%|██████████████████████████████████████████████████████████| 1/1 [00:00<00:00, 227.82it/s]"
     ]
    },
    {
     "name": "stderr",
     "output_type": "stream",
     "text": [
      "[I 2024-10-19 14:45:47,624] Trial 16 finished with value: 18.468794048775376 and parameters: {'growth': 'linear', 'n_forecasts': 3, 'learning_rate': 0.39042260680219204}. Best is trial 6 with value: 15.164582286790404.\n"
     ]
    },
    {
     "name": "stdout",
     "output_type": "stream",
     "text": [
      "\n",
      "Epoch 70: 100%|█| 70/70 [00:00<00:00, 237.53it/s, loss=0.0279, v_num=1599, MAE=0.458, RMSE=0.604, Loss=0.0272, RegLoss=\n",
      "Predicting DataLoader 0: 100%|██████████████████████████████████████████████████████████| 1/1 [00:00<00:00, 178.36it/s]"
     ]
    },
    {
     "name": "stderr",
     "output_type": "stream",
     "text": [
      "[I 2024-10-19 14:46:09,934] Trial 17 finished with value: 20.05739855379933 and parameters: {'growth': 'linear', 'n_forecasts': 5, 'learning_rate': 0.6752777047862322}. Best is trial 6 with value: 15.164582286790404.\n"
     ]
    },
    {
     "name": "stdout",
     "output_type": "stream",
     "text": [
      "\n",
      "Epoch 70: 100%|█| 70/70 [00:00<00:00, 229.65it/s, loss=0.0267, v_num=1600, MAE=0.455, RMSE=0.604, Loss=0.0274, RegLoss=\n",
      "Predicting DataLoader 0: 100%|██████████████████████████████████████████████████████████| 1/1 [00:00<00:00, 249.59it/s]"
     ]
    },
    {
     "name": "stderr",
     "output_type": "stream",
     "text": [
      "[I 2024-10-19 14:46:31,218] Trial 18 finished with value: 17.351310632747598 and parameters: {'growth': 'discontinuous', 'n_forecasts': 6, 'learning_rate': 0.9802595492801396}. Best is trial 6 with value: 15.164582286790404.\n"
     ]
    },
    {
     "name": "stdout",
     "output_type": "stream",
     "text": [
      "\n",
      "Epoch 70: 100%|█| 70/70 [00:00<00:00, 271.83it/s, loss=0.0283, v_num=1601, MAE=0.485, RMSE=0.627, Loss=0.0288, RegLoss=\n",
      "Predicting DataLoader 0: 100%|██████████████████████████████████████████████████████████| 1/1 [00:00<00:00, 241.15it/s]"
     ]
    },
    {
     "name": "stderr",
     "output_type": "stream",
     "text": [
      "[I 2024-10-19 14:46:50,275] Trial 19 finished with value: 25.985289168047228 and parameters: {'growth': 'off', 'n_forecasts': 3, 'learning_rate': 0.6235334546489046}. Best is trial 6 with value: 15.164582286790404.\n"
     ]
    },
    {
     "name": "stdout",
     "output_type": "stream",
     "text": [
      "\n",
      "Epoch 70: 100%|█| 70/70 [00:00<00:00, 212.81it/s, loss=0.0269, v_num=1602, MAE=0.450, RMSE=0.597, Loss=0.0267, RegLoss=\n",
      "Predicting DataLoader 0: 100%|██████████████████████████████████████████████████████████| 1/1 [00:00<00:00, 270.41it/s]"
     ]
    },
    {
     "name": "stderr",
     "output_type": "stream",
     "text": [
      "[I 2024-10-19 14:47:12,039] Trial 20 finished with value: 19.118196476491725 and parameters: {'growth': 'discontinuous', 'n_forecasts': 4, 'learning_rate': 0.8170663749219281}. Best is trial 6 with value: 15.164582286790404.\n"
     ]
    },
    {
     "name": "stdout",
     "output_type": "stream",
     "text": [
      "\n",
      "Epoch 70: 100%|█| 70/70 [00:00<00:00, 230.98it/s, loss=0.0277, v_num=1603, MAE=0.452, RMSE=0.601, Loss=0.0269, RegLoss=\n",
      "Predicting DataLoader 0: 100%|██████████████████████████████████████████████████████████| 1/1 [00:00<00:00, 175.90it/s]"
     ]
    },
    {
     "name": "stderr",
     "output_type": "stream",
     "text": [
      "[I 2024-10-19 14:47:33,132] Trial 21 finished with value: 16.555683570072617 and parameters: {'growth': 'discontinuous', 'n_forecasts': 4, 'learning_rate': 0.851514836865611}. Best is trial 6 with value: 15.164582286790404.\n"
     ]
    },
    {
     "name": "stdout",
     "output_type": "stream",
     "text": [
      "\n",
      "Epoch 70: 100%|█| 70/70 [00:00<00:00, 239.74it/s, loss=0.0279, v_num=1604, MAE=0.459, RMSE=0.605, Loss=0.0275, RegLoss=\n",
      "Predicting DataLoader 0: 100%|██████████████████████████████████████████████████████████| 1/1 [00:00<00:00, 222.91it/s]"
     ]
    },
    {
     "name": "stderr",
     "output_type": "stream",
     "text": [
      "[I 2024-10-19 14:47:54,414] Trial 22 finished with value: 22.207766299580403 and parameters: {'growth': 'discontinuous', 'n_forecasts': 5, 'learning_rate': 0.8379868050256732}. Best is trial 6 with value: 15.164582286790404.\n"
     ]
    },
    {
     "name": "stdout",
     "output_type": "stream",
     "text": [
      "\n",
      "Epoch 70: 100%|█| 70/70 [00:00<00:00, 236.09it/s, loss=0.0263, v_num=1605, MAE=0.446, RMSE=0.596, Loss=0.0266, RegLoss=\n",
      "Predicting DataLoader 0: 100%|██████████████████████████████████████████████████████████| 1/1 [00:00<00:00, 188.46it/s]"
     ]
    },
    {
     "name": "stderr",
     "output_type": "stream",
     "text": [
      "[I 2024-10-19 14:48:15,702] Trial 23 finished with value: 16.50582624826156 and parameters: {'growth': 'discontinuous', 'n_forecasts': 4, 'learning_rate': 0.6044354595536107}. Best is trial 6 with value: 15.164582286790404.\n"
     ]
    },
    {
     "name": "stdout",
     "output_type": "stream",
     "text": [
      "\n",
      "Epoch 70: 100%|█| 70/70 [00:00<00:00, 226.24it/s, loss=0.0251, v_num=1606, MAE=0.451, RMSE=0.597, Loss=0.0268, RegLoss=\n",
      "Predicting DataLoader 0: 100%|██████████████████████████████████████████████████████████| 1/1 [00:00<00:00, 166.64it/s]"
     ]
    },
    {
     "name": "stderr",
     "output_type": "stream",
     "text": [
      "[I 2024-10-19 14:48:36,923] Trial 24 finished with value: 18.240662580820523 and parameters: {'growth': 'discontinuous', 'n_forecasts': 3, 'learning_rate': 0.6072672263102233}. Best is trial 6 with value: 15.164582286790404.\n"
     ]
    },
    {
     "name": "stdout",
     "output_type": "stream",
     "text": [
      "\n",
      "Epoch 70: 100%|█| 70/70 [00:00<00:00, 233.87it/s, loss=0.0264, v_num=1607, MAE=0.449, RMSE=0.595, Loss=0.0266, RegLoss=\n",
      "Predicting DataLoader 0: 100%|██████████████████████████████████████████████████████████| 1/1 [00:00<00:00, 249.44it/s]"
     ]
    },
    {
     "name": "stderr",
     "output_type": "stream",
     "text": [
      "[I 2024-10-19 14:48:58,688] Trial 25 finished with value: 17.844205155657384 and parameters: {'growth': 'linear', 'n_forecasts': 5, 'learning_rate': 0.39982829067526626}. Best is trial 6 with value: 15.164582286790404.\n"
     ]
    },
    {
     "name": "stdout",
     "output_type": "stream",
     "text": [
      "\n",
      "Epoch 70: 100%|█| 70/70 [00:00<00:00, 244.71it/s, loss=0.0271, v_num=1608, MAE=0.447, RMSE=0.596, Loss=0.0268, RegLoss=\n",
      "Predicting DataLoader 0: 100%|██████████████████████████████████████████████████████████| 1/1 [00:00<00:00, 209.10it/s]"
     ]
    },
    {
     "name": "stderr",
     "output_type": "stream",
     "text": [
      "[I 2024-10-19 14:49:19,862] Trial 26 finished with value: 19.65747562197743 and parameters: {'growth': 'discontinuous', 'n_forecasts': 4, 'learning_rate': 0.4707750674127935}. Best is trial 6 with value: 15.164582286790404.\n"
     ]
    },
    {
     "name": "stdout",
     "output_type": "stream",
     "text": [
      "\n",
      "Epoch 70: 100%|█| 70/70 [00:00<00:00, 226.92it/s, loss=0.0268, v_num=1609, MAE=0.448, RMSE=0.598, Loss=0.0267, RegLoss=\n",
      "Predicting DataLoader 0: 100%|██████████████████████████████████████████████████████████| 1/1 [00:00<00:00, 249.28it/s]"
     ]
    },
    {
     "name": "stderr",
     "output_type": "stream",
     "text": [
      "[I 2024-10-19 14:49:41,131] Trial 27 finished with value: 19.34472499342694 and parameters: {'growth': 'discontinuous', 'n_forecasts': 6, 'learning_rate': 0.6043893312194375}. Best is trial 6 with value: 15.164582286790404.\n"
     ]
    },
    {
     "name": "stdout",
     "output_type": "stream",
     "text": [
      "\n",
      "Epoch 70: 100%|█| 70/70 [00:00<00:00, 261.29it/s, loss=0.0289, v_num=1610, MAE=0.487, RMSE=0.630, Loss=0.0291, RegLoss=\n",
      "Predicting DataLoader 0: 100%|██████████████████████████████████████████████████████████| 1/1 [00:00<00:00, 222.04it/s]"
     ]
    },
    {
     "name": "stderr",
     "output_type": "stream",
     "text": [
      "[I 2024-10-19 14:50:00,037] Trial 28 finished with value: 18.017882254827335 and parameters: {'growth': 'off', 'n_forecasts': 5, 'learning_rate': 0.924452704233389}. Best is trial 6 with value: 15.164582286790404.\n"
     ]
    },
    {
     "name": "stdout",
     "output_type": "stream",
     "text": [
      "\n",
      "Epoch 70: 100%|█| 70/70 [00:00<00:00, 215.02it/s, loss=0.0258, v_num=1611, MAE=0.453, RMSE=0.597, Loss=0.0267, RegLoss=\n",
      "Predicting DataLoader 0: 100%|██████████████████████████████████████████████████████████| 1/1 [00:00<00:00, 170.04it/s]"
     ]
    },
    {
     "name": "stderr",
     "output_type": "stream",
     "text": [
      "[I 2024-10-19 14:50:22,043] Trial 29 finished with value: 17.009530662796756 and parameters: {'growth': 'linear', 'n_forecasts': 3, 'learning_rate': 0.7669558583995426}. Best is trial 6 with value: 15.164582286790404.\n"
     ]
    },
    {
     "name": "stdout",
     "output_type": "stream",
     "text": [
      "\n",
      "Epoch 70: 100%|█| 70/70 [00:00<00:00, 233.64it/s, loss=0.0283, v_num=1612, MAE=0.457, RMSE=0.604, Loss=0.0273, RegLoss=\n",
      "Predicting DataLoader 0: 100%|██████████████████████████████████████████████████████████| 1/1 [00:00<00:00, 195.01it/s]"
     ]
    },
    {
     "name": "stderr",
     "output_type": "stream",
     "text": [
      "[I 2024-10-19 14:50:43,977] Trial 30 finished with value: 17.244712651729866 and parameters: {'growth': 'linear', 'n_forecasts': 4, 'learning_rate': 0.6784740051836292}. Best is trial 6 with value: 15.164582286790404.\n"
     ]
    },
    {
     "name": "stdout",
     "output_type": "stream",
     "text": [
      "\n",
      "Epoch 70: 100%|█| 70/70 [00:00<00:00, 234.63it/s, loss=0.0282, v_num=1613, MAE=0.458, RMSE=0.605, Loss=0.0275, RegLoss=\n",
      "Predicting DataLoader 0: 100%|██████████████████████████████████████████████████████████| 1/1 [00:00<00:00, 176.31it/s]"
     ]
    },
    {
     "name": "stderr",
     "output_type": "stream",
     "text": [
      "[I 2024-10-19 14:51:04,958] Trial 31 finished with value: 17.792793157381055 and parameters: {'growth': 'discontinuous', 'n_forecasts': 4, 'learning_rate': 0.7892917412230972}. Best is trial 6 with value: 15.164582286790404.\n"
     ]
    },
    {
     "name": "stdout",
     "output_type": "stream",
     "text": [
      "\n",
      "Epoch 70: 100%|█| 70/70 [00:00<00:00, 244.12it/s, loss=0.027, v_num=1614, MAE=0.456, RMSE=0.603, Loss=0.0273, RegLoss=0\n",
      "Predicting DataLoader 0: 100%|██████████████████████████████████████████████████████████| 1/1 [00:00<00:00, 199.86it/s]"
     ]
    },
    {
     "name": "stderr",
     "output_type": "stream",
     "text": [
      "[I 2024-10-19 14:51:26,087] Trial 32 finished with value: 17.895907262254713 and parameters: {'growth': 'discontinuous', 'n_forecasts': 4, 'learning_rate': 0.9133500547603289}. Best is trial 6 with value: 15.164582286790404.\n"
     ]
    },
    {
     "name": "stdout",
     "output_type": "stream",
     "text": [
      "\n",
      "Epoch 70: 100%|█| 70/70 [00:00<00:00, 239.14it/s, loss=0.0278, v_num=1615, MAE=0.451, RMSE=0.597, Loss=0.0267, RegLoss=\n",
      "Predicting DataLoader 0: 100%|██████████████████████████████████████████████████████████| 1/1 [00:00<00:00, 193.28it/s]"
     ]
    },
    {
     "name": "stderr",
     "output_type": "stream",
     "text": [
      "[I 2024-10-19 14:51:46,959] Trial 33 finished with value: 21.494523928360685 and parameters: {'growth': 'discontinuous', 'n_forecasts': 3, 'learning_rate': 0.6463555294117422}. Best is trial 6 with value: 15.164582286790404.\n"
     ]
    },
    {
     "name": "stdout",
     "output_type": "stream",
     "text": [
      "\n",
      "Epoch 70: 100%|█| 70/70 [00:00<00:00, 235.86it/s, loss=0.0259, v_num=1616, MAE=0.448, RMSE=0.595, Loss=0.0265, RegLoss=\n",
      "Predicting DataLoader 0: 100%|██████████████████████████████████████████████████████████| 1/1 [00:00<00:00, 203.75it/s]"
     ]
    },
    {
     "name": "stderr",
     "output_type": "stream",
     "text": [
      "[I 2024-10-19 14:52:07,980] Trial 34 finished with value: 22.031573081129885 and parameters: {'growth': 'discontinuous', 'n_forecasts': 4, 'learning_rate': 0.5009332946835328}. Best is trial 6 with value: 15.164582286790404.\n"
     ]
    },
    {
     "name": "stdout",
     "output_type": "stream",
     "text": [
      "\n",
      "Epoch 70: 100%|█| 70/70 [00:00<00:00, 224.89it/s, loss=0.0278, v_num=1617, MAE=0.450, RMSE=0.598, Loss=0.0268, RegLoss=\n",
      "Predicting DataLoader 0: 100%|██████████████████████████████████████████████████████████| 1/1 [00:00<00:00, 194.21it/s]"
     ]
    },
    {
     "name": "stderr",
     "output_type": "stream",
     "text": [
      "[I 2024-10-19 14:52:29,059] Trial 35 finished with value: 18.827007540252986 and parameters: {'growth': 'discontinuous', 'n_forecasts': 5, 'learning_rate': 0.5666605741830605}. Best is trial 6 with value: 15.164582286790404.\n"
     ]
    },
    {
     "name": "stdout",
     "output_type": "stream",
     "text": [
      "\n",
      "Epoch 70: 100%|█| 70/70 [00:00<00:00, 243.35it/s, loss=0.0248, v_num=1618, MAE=0.453, RMSE=0.600, Loss=0.0271, RegLoss=\n",
      "Predicting DataLoader 0: 100%|██████████████████████████████████████████████████████████| 1/1 [00:00<00:00, 199.85it/s]"
     ]
    },
    {
     "name": "stderr",
     "output_type": "stream",
     "text": [
      "[I 2024-10-19 14:52:50,244] Trial 36 finished with value: 23.256941334264685 and parameters: {'growth': 'discontinuous', 'n_forecasts': 2, 'learning_rate': 0.8212975246697167}. Best is trial 6 with value: 15.164582286790404.\n"
     ]
    },
    {
     "name": "stdout",
     "output_type": "stream",
     "text": [
      "\n",
      "Epoch 70: 100%|█| 70/70 [00:00<00:00, 272.06it/s, loss=0.0295, v_num=1619, MAE=0.487, RMSE=0.631, Loss=0.0293, RegLoss=\n",
      "Predicting DataLoader 0: 100%|██████████████████████████████████████████████████████████| 1/1 [00:00<00:00, 220.21it/s]"
     ]
    },
    {
     "name": "stderr",
     "output_type": "stream",
     "text": [
      "[I 2024-10-19 14:53:09,263] Trial 37 finished with value: 21.5612783928361 and parameters: {'growth': 'off', 'n_forecasts': 4, 'learning_rate': 0.9055166575564372}. Best is trial 6 with value: 15.164582286790404.\n"
     ]
    },
    {
     "name": "stdout",
     "output_type": "stream",
     "text": [
      "\n",
      "Epoch 70: 100%|█| 70/70 [00:00<00:00, 236.65it/s, loss=0.0285, v_num=1620, MAE=0.454, RMSE=0.601, Loss=0.0271, RegLoss=\n",
      "Predicting DataLoader 0: 100%|██████████████████████████████████████████████████████████| 1/1 [00:00<00:00, 220.46it/s]"
     ]
    },
    {
     "name": "stderr",
     "output_type": "stream",
     "text": [
      "[I 2024-10-19 14:53:30,756] Trial 38 finished with value: 15.888188108163664 and parameters: {'growth': 'linear', 'n_forecasts': 3, 'learning_rate': 0.7270087672337959}. Best is trial 6 with value: 15.164582286790404.\n"
     ]
    },
    {
     "name": "stdout",
     "output_type": "stream",
     "text": [
      "\n",
      "Epoch 70: 100%|█| 70/70 [00:00<00:00, 234.82it/s, loss=0.027, v_num=1621, MAE=0.453, RMSE=0.599, Loss=0.0268, RegLoss=0\n",
      "Predicting DataLoader 0: 100%|██████████████████████████████████████████████████████████| 1/1 [00:00<00:00, 219.94it/s]"
     ]
    },
    {
     "name": "stderr",
     "output_type": "stream",
     "text": [
      "[I 2024-10-19 14:53:52,568] Trial 39 finished with value: 14.079566060476175 and parameters: {'growth': 'linear', 'n_forecasts': 2, 'learning_rate': 0.7033439174280611}. Best is trial 39 with value: 14.079566060476175.\n"
     ]
    },
    {
     "name": "stdout",
     "output_type": "stream",
     "text": [
      "\n",
      "Epoch 70: 100%|█| 70/70 [00:00<00:00, 236.28it/s, loss=0.0256, v_num=1622, MAE=0.453, RMSE=0.599, Loss=0.0268, RegLoss=\n",
      "Predicting DataLoader 0: 100%|██████████████████████████████████████████████████████████| 1/1 [00:00<00:00, 181.55it/s]"
     ]
    },
    {
     "name": "stderr",
     "output_type": "stream",
     "text": [
      "[I 2024-10-19 14:54:14,441] Trial 40 finished with value: 17.62532685443794 and parameters: {'growth': 'linear', 'n_forecasts': 1, 'learning_rate': 0.5551327147223302}. Best is trial 39 with value: 14.079566060476175.\n"
     ]
    },
    {
     "name": "stdout",
     "output_type": "stream",
     "text": [
      "\n",
      "Epoch 70: 100%|█| 70/70 [00:00<00:00, 226.56it/s, loss=0.0243, v_num=1623, MAE=0.454, RMSE=0.601, Loss=0.027, RegLoss=0\n",
      "Predicting DataLoader 0: 100%|██████████████████████████████████████████████████████████| 1/1 [00:00<00:00, 192.32it/s]"
     ]
    },
    {
     "name": "stderr",
     "output_type": "stream",
     "text": [
      "[I 2024-10-19 14:54:36,113] Trial 41 finished with value: 20.052019222620135 and parameters: {'growth': 'linear', 'n_forecasts': 2, 'learning_rate': 0.6944491609771523}. Best is trial 39 with value: 14.079566060476175.\n"
     ]
    },
    {
     "name": "stdout",
     "output_type": "stream",
     "text": [
      "\n",
      "Epoch 70: 100%|█| 70/70 [00:00<00:00, 236.43it/s, loss=0.0263, v_num=1624, MAE=0.456, RMSE=0.604, Loss=0.0273, RegLoss=\n",
      "Predicting DataLoader 0: 100%|██████████████████████████████████████████████████████████| 1/1 [00:00<00:00, 178.73it/s]"
     ]
    },
    {
     "name": "stderr",
     "output_type": "stream",
     "text": [
      "[I 2024-10-19 14:54:57,948] Trial 42 finished with value: 16.053005278210644 and parameters: {'growth': 'linear', 'n_forecasts': 2, 'learning_rate': 0.6400948177174146}. Best is trial 39 with value: 14.079566060476175.\n"
     ]
    },
    {
     "name": "stdout",
     "output_type": "stream",
     "text": [
      "\n",
      "Epoch 70: 100%|█| 70/70 [00:00<00:00, 236.30it/s, loss=0.0255, v_num=1625, MAE=0.455, RMSE=0.602, Loss=0.0271, RegLoss=\n",
      "Predicting DataLoader 0: 100%|██████████████████████████████████████████████████████████| 1/1 [00:00<00:00, 183.41it/s]"
     ]
    },
    {
     "name": "stderr",
     "output_type": "stream",
     "text": [
      "[I 2024-10-19 14:55:19,808] Trial 43 finished with value: 18.843108978329205 and parameters: {'growth': 'linear', 'n_forecasts': 2, 'learning_rate': 0.4808754212902857}. Best is trial 39 with value: 14.079566060476175.\n"
     ]
    },
    {
     "name": "stdout",
     "output_type": "stream",
     "text": [
      "\n",
      "Epoch 70: 100%|█| 70/70 [00:00<00:00, 235.67it/s, loss=0.026, v_num=1626, MAE=0.453, RMSE=0.600, Loss=0.0271, RegLoss=0\n",
      "Predicting DataLoader 0: 100%|██████████████████████████████████████████████████████████| 1/1 [00:00<00:00, 226.34it/s]"
     ]
    },
    {
     "name": "stderr",
     "output_type": "stream",
     "text": [
      "[I 2024-10-19 14:55:41,451] Trial 44 finished with value: 16.60531257926866 and parameters: {'growth': 'linear', 'n_forecasts': 1, 'learning_rate': 0.7518089975865775}. Best is trial 39 with value: 14.079566060476175.\n"
     ]
    },
    {
     "name": "stdout",
     "output_type": "stream",
     "text": [
      "\n",
      "Epoch 70: 100%|█| 70/70 [00:00<00:00, 213.25it/s, loss=0.0289, v_num=1627, MAE=0.459, RMSE=0.605, Loss=0.0274, RegLoss=\n",
      "Predicting DataLoader 0: 100%|██████████████████████████████████████████████████████████| 1/1 [00:00<00:00, 208.90it/s]"
     ]
    },
    {
     "name": "stderr",
     "output_type": "stream",
     "text": [
      "[I 2024-10-19 14:56:03,193] Trial 45 finished with value: 19.741192703126544 and parameters: {'growth': 'linear', 'n_forecasts': 2, 'learning_rate': 0.7202651403058139}. Best is trial 39 with value: 14.079566060476175.\n"
     ]
    },
    {
     "name": "stdout",
     "output_type": "stream",
     "text": [
      "\n",
      "Epoch 70: 100%|█| 70/70 [00:00<00:00, 231.07it/s, loss=0.0261, v_num=1628, MAE=0.454, RMSE=0.601, Loss=0.0271, RegLoss=\n",
      "Predicting DataLoader 0: 100%|██████████████████████████████████████████████████████████| 1/1 [00:00<00:00, 183.04it/s]"
     ]
    },
    {
     "name": "stderr",
     "output_type": "stream",
     "text": [
      "[I 2024-10-19 14:56:25,215] Trial 46 finished with value: 18.322697172382053 and parameters: {'growth': 'linear', 'n_forecasts': 3, 'learning_rate': 0.6419263366417438}. Best is trial 39 with value: 14.079566060476175.\n"
     ]
    },
    {
     "name": "stdout",
     "output_type": "stream",
     "text": [
      "\n",
      "Epoch 70: 100%|█| 70/70 [00:00<00:00, 216.60it/s, loss=0.0269, v_num=1629, MAE=0.451, RMSE=0.596, Loss=0.0267, RegLoss=\n",
      "Predicting DataLoader 0: 100%|██████████████████████████████████████████████████████████| 1/1 [00:00<00:00, 167.78it/s]"
     ]
    },
    {
     "name": "stderr",
     "output_type": "stream",
     "text": [
      "[I 2024-10-19 14:56:47,291] Trial 47 finished with value: 17.816951653582205 and parameters: {'growth': 'linear', 'n_forecasts': 2, 'learning_rate': 0.5993713022855607}. Best is trial 39 with value: 14.079566060476175.\n"
     ]
    },
    {
     "name": "stdout",
     "output_type": "stream",
     "text": [
      "\n",
      "Epoch 70: 100%|█| 70/70 [00:00<00:00, 237.30it/s, loss=0.0277, v_num=1630, MAE=0.455, RMSE=0.601, Loss=0.0271, RegLoss=\n",
      "Predicting DataLoader 0: 100%|██████████████████████████████████████████████████████████| 1/1 [00:00<00:00, 165.95it/s]"
     ]
    },
    {
     "name": "stderr",
     "output_type": "stream",
     "text": [
      "[I 2024-10-19 14:57:09,271] Trial 48 finished with value: 15.54279579928022 and parameters: {'growth': 'linear', 'n_forecasts': 1, 'learning_rate': 0.530280735024222}. Best is trial 39 with value: 14.079566060476175.\n"
     ]
    },
    {
     "name": "stdout",
     "output_type": "stream",
     "text": [
      "\n",
      "Epoch 70: 100%|█| 70/70 [00:00<00:00, 235.72it/s, loss=0.0271, v_num=1631, MAE=0.449, RMSE=0.595, Loss=0.0266, RegLoss=\n",
      "Predicting DataLoader 0: 100%|██████████████████████████████████████████████████████████| 1/1 [00:00<00:00, 174.44it/s]"
     ]
    },
    {
     "name": "stderr",
     "output_type": "stream",
     "text": [
      "[I 2024-10-19 14:57:31,003] Trial 49 finished with value: 16.376427423684397 and parameters: {'growth': 'linear', 'n_forecasts': 1, 'learning_rate': 0.42863565319611224}. Best is trial 39 with value: 14.079566060476175.\n"
     ]
    },
    {
     "name": "stdout",
     "output_type": "stream",
     "text": [
      "\n"
     ]
    }
   ],
   "source": [
    "sampler = TPESampler(seed=RANDOM_SEED)\n",
    "study = optuna.create_study(direction='minimize', sampler=sampler)\n",
    "#optuna.logging.set_verbosity(optuna.logging.WARNING)\n",
    "study.optimize(objective, n_trials=50)"
   ]
  },
  {
   "cell_type": "code",
   "execution_count": 20,
   "id": "462cb345-46d1-4d80-af48-28cd21e108bc",
   "metadata": {},
   "outputs": [
    {
     "name": "stdout",
     "output_type": "stream",
     "text": [
      "Melhor MAPE: 14.079566060476175\n",
      "Melhores parâmetros: {'growth': 'linear', 'n_forecasts': 2, 'learning_rate': 0.7033439174280611}\n"
     ]
    }
   ],
   "source": [
    "melhores_parametros = study.best_params\n",
    "\n",
    "print(f\"Melhor MAPE: {study.best_trial.value}\")\n",
    "print(f\"Melhores parâmetros: {study.best_params}\")"
   ]
  },
  {
   "cell_type": "markdown",
   "id": "1570a8f0-629a-4b92-bd93-b538bd0dd70d",
   "metadata": {},
   "source": [
    "### **Treinando o modelo com os hiperparâmetros ajustados**"
   ]
  },
  {
   "cell_type": "code",
   "execution_count": 21,
   "id": "ed792357-f62d-4e74-9c6a-1b2597e3249b",
   "metadata": {},
   "outputs": [
    {
     "name": "stdout",
     "output_type": "stream",
     "text": [
      "Epoch 70: 100%|█| 70/70 [00:00<00:00, 226.29it/s, loss=0.0275, v_num=1632, MAE=0.455, RMSE=0.601, Loss=0.0271, RegLoss=\n"
     ]
    },
    {
     "data": {
      "text/html": [
       "<div>\n",
       "<style scoped>\n",
       "    .dataframe tbody tr th:only-of-type {\n",
       "        vertical-align: middle;\n",
       "    }\n",
       "\n",
       "    .dataframe tbody tr th {\n",
       "        vertical-align: top;\n",
       "    }\n",
       "\n",
       "    .dataframe thead th {\n",
       "        text-align: right;\n",
       "    }\n",
       "</style>\n",
       "<table border=\"1\" class=\"dataframe\">\n",
       "  <thead>\n",
       "    <tr style=\"text-align: right;\">\n",
       "      <th></th>\n",
       "      <th>MAE</th>\n",
       "      <th>RMSE</th>\n",
       "      <th>Loss</th>\n",
       "      <th>RegLoss</th>\n",
       "      <th>epoch</th>\n",
       "    </tr>\n",
       "  </thead>\n",
       "  <tbody>\n",
       "    <tr>\n",
       "      <th>0</th>\n",
       "      <td>1.151790</td>\n",
       "      <td>1.466883</td>\n",
       "      <td>0.126656</td>\n",
       "      <td>0.0</td>\n",
       "      <td>0</td>\n",
       "    </tr>\n",
       "    <tr>\n",
       "      <th>1</th>\n",
       "      <td>0.604347</td>\n",
       "      <td>0.770764</td>\n",
       "      <td>0.043217</td>\n",
       "      <td>0.0</td>\n",
       "      <td>1</td>\n",
       "    </tr>\n",
       "    <tr>\n",
       "      <th>2</th>\n",
       "      <td>0.633046</td>\n",
       "      <td>0.795311</td>\n",
       "      <td>0.046265</td>\n",
       "      <td>0.0</td>\n",
       "      <td>2</td>\n",
       "    </tr>\n",
       "    <tr>\n",
       "      <th>3</th>\n",
       "      <td>0.663286</td>\n",
       "      <td>0.834822</td>\n",
       "      <td>0.049852</td>\n",
       "      <td>0.0</td>\n",
       "      <td>3</td>\n",
       "    </tr>\n",
       "    <tr>\n",
       "      <th>4</th>\n",
       "      <td>0.688234</td>\n",
       "      <td>0.867495</td>\n",
       "      <td>0.054723</td>\n",
       "      <td>0.0</td>\n",
       "      <td>4</td>\n",
       "    </tr>\n",
       "    <tr>\n",
       "      <th>...</th>\n",
       "      <td>...</td>\n",
       "      <td>...</td>\n",
       "      <td>...</td>\n",
       "      <td>...</td>\n",
       "      <td>...</td>\n",
       "    </tr>\n",
       "    <tr>\n",
       "      <th>65</th>\n",
       "      <td>0.458937</td>\n",
       "      <td>0.602231</td>\n",
       "      <td>0.027183</td>\n",
       "      <td>0.0</td>\n",
       "      <td>65</td>\n",
       "    </tr>\n",
       "    <tr>\n",
       "      <th>66</th>\n",
       "      <td>0.458460</td>\n",
       "      <td>0.601709</td>\n",
       "      <td>0.027146</td>\n",
       "      <td>0.0</td>\n",
       "      <td>66</td>\n",
       "    </tr>\n",
       "    <tr>\n",
       "      <th>67</th>\n",
       "      <td>0.455795</td>\n",
       "      <td>0.603031</td>\n",
       "      <td>0.027270</td>\n",
       "      <td>0.0</td>\n",
       "      <td>67</td>\n",
       "    </tr>\n",
       "    <tr>\n",
       "      <th>68</th>\n",
       "      <td>0.451948</td>\n",
       "      <td>0.599611</td>\n",
       "      <td>0.026963</td>\n",
       "      <td>0.0</td>\n",
       "      <td>68</td>\n",
       "    </tr>\n",
       "    <tr>\n",
       "      <th>69</th>\n",
       "      <td>0.454584</td>\n",
       "      <td>0.601497</td>\n",
       "      <td>0.027058</td>\n",
       "      <td>0.0</td>\n",
       "      <td>69</td>\n",
       "    </tr>\n",
       "  </tbody>\n",
       "</table>\n",
       "<p>70 rows × 5 columns</p>\n",
       "</div>"
      ],
      "text/plain": [
       "         MAE      RMSE      Loss  RegLoss  epoch\n",
       "0   1.151790  1.466883  0.126656      0.0      0\n",
       "1   0.604347  0.770764  0.043217      0.0      1\n",
       "2   0.633046  0.795311  0.046265      0.0      2\n",
       "3   0.663286  0.834822  0.049852      0.0      3\n",
       "4   0.688234  0.867495  0.054723      0.0      4\n",
       "..       ...       ...       ...      ...    ...\n",
       "65  0.458937  0.602231  0.027183      0.0     65\n",
       "66  0.458460  0.601709  0.027146      0.0     66\n",
       "67  0.455795  0.603031  0.027270      0.0     67\n",
       "68  0.451948  0.599611  0.026963      0.0     68\n",
       "69  0.454584  0.601497  0.027058      0.0     69\n",
       "\n",
       "[70 rows x 5 columns]"
      ]
     },
     "execution_count": 21,
     "metadata": {},
     "output_type": "execute_result"
    }
   ],
   "source": [
    "m = NeuralProphet(\n",
    "    growth=melhores_parametros['growth'],\n",
    "    n_forecasts=melhores_parametros['n_forecasts'],\n",
    "    learning_rate=melhores_parametros['learning_rate']\n",
    ")\n",
    "\n",
    "m.add_future_regressor(\"Amina Flow\")\n",
    "m.add_future_regressor(\"Ore Pulp pH\")\n",
    "m.add_future_regressor(\"Flotation Column 01 Air Flow\")\n",
    "m.add_future_regressor(\"Flotation Column 02 Air Flow\")\n",
    "m.add_future_regressor(\"Flotation Column 03 Air Flow\")\n",
    "m.add_future_regressor(\"Flotation Column 04 Level\")\n",
    "m.add_future_regressor(\"Flotation Column 05 Level\")\n",
    "m.add_future_regressor(\"Flotation Column 06 Level\")\n",
    "m.add_future_regressor(\"Flotation Column 07 Level\")\n",
    "m.add_future_regressor(\"% Iron Concentrate\")\n",
    "\n",
    "m.fit(treino.loc[:, [\"ds\", \"Amina Flow\", \"Ore Pulp pH\", \n",
    "                     \"Flotation Column 01 Air Flow\", \"Flotation Column 02 Air Flow\", \"Flotation Column 03 Air Flow\",\n",
    "                     \"Flotation Column 04 Level\", \"Flotation Column 05 Level\", \"Flotation Column 06 Level\",\"Flotation Column 07 Level\",\n",
    "                     \"% Iron Concentrate\", \"y\"]], freq='h')"
   ]
  },
  {
   "cell_type": "markdown",
   "id": "82fdfd53-6a53-445d-ad52-af145b69bb28",
   "metadata": {},
   "source": [
    "### **Avaliando o modelo**"
   ]
  },
  {
   "cell_type": "code",
   "execution_count": 22,
   "id": "016ce469-904c-4b47-96c4-d2498017a3d4",
   "metadata": {},
   "outputs": [
    {
     "name": "stdout",
     "output_type": "stream",
     "text": [
      "Predicting DataLoader 0: 100%|██████████████████████████████████████████████████████████| 1/1 [00:00<00:00, 163.28it/s]\n"
     ]
    }
   ],
   "source": [
    "# Previsões\n",
    "y_pred = m.predict(teste.loc[:, [\"ds\", \"Amina Flow\", \"Ore Pulp pH\",\n",
    "                                 \"Flotation Column 01 Air Flow\", \"Flotation Column 02 Air Flow\", \"Flotation Column 03 Air Flow\",\n",
    "                                 \"Flotation Column 04 Level\", \"Flotation Column 05 Level\", \"Flotation Column 06 Level\",\"Flotation Column 07 Level\",\n",
    "                                 \"% Iron Concentrate\", \"y\"]])"
   ]
  },
  {
   "cell_type": "code",
   "execution_count": 23,
   "id": "67ffcb1f-1a17-4d16-a900-7c90943884db",
   "metadata": {},
   "outputs": [
    {
     "data": {
      "text/plain": [
       "{'RMSE': 0.6012558148162701,\n",
       " 'MAE': 0.45194764733314513,\n",
       " 'MAPE': 21.053653182611217}"
      ]
     },
     "execution_count": 23,
     "metadata": {},
     "output_type": "execute_result"
    }
   ],
   "source": [
    "# Visualizando as métricas\n",
    "eval_metrics(teste.y.values, y_pred.yhat1.values)"
   ]
  },
  {
   "cell_type": "code",
   "execution_count": 24,
   "id": "7dfffaca-c6ab-4a00-94e0-ba29cf0def2e",
   "metadata": {},
   "outputs": [
    {
     "data": {
      "image/png": "[encoded data removed]",
      "text/plain": [
       "<Figure size 1200x800 with 1 Axes>"
      ]
     },
     "metadata": {},
     "output_type": "display_data"
    }
   ],
   "source": [
    "fig, ax = plt.subplots(figsize=(12,8))\n",
    "\n",
    "plt.plot(teste.ds, teste.y.values, label=\"Valores Reais\", marker='o', color=\"blue\")\n",
    "plt.plot(y_pred.ds, y_pred.yhat1.values, label=\"Valores Previstos\", marker='s', color=\"red\")\n",
    "\n",
    "plt.ylabel(\"% Silica Concentrate\")\n",
    "plt.xlabel(\"Data\")\n",
    "plt.title(\"Modelo NeuralProphet - Multivariado com as variáveis selecionadas\")\n",
    "plt.legend()\n",
    "\n",
    "plt.tight_layout()"
   ]
  },
  {
   "cell_type": "markdown",
   "id": "597a6796-1af4-4baf-8777-f78ef6ef81e6",
   "metadata": {},
   "source": [
    "## **Modelo NeuralProphet - Multivariado com todas as variáveis, excluindo apenas `% Iron Concentrate`**"
   ]
  },
  {
   "cell_type": "markdown",
   "id": "61fe3b08-84b9-452b-b5bf-58e4564ba9eb",
   "metadata": {},
   "source": [
    "### **Ajuste dos hiperparâmetros com Optuna**"
   ]
  },
  {
   "cell_type": "code",
   "execution_count": 25,
   "id": "65791308-8414-4cd5-9699-d587e3fb5aef",
   "metadata": {},
   "outputs": [],
   "source": [
    "def objective(trial):\n",
    "    growth = trial.suggest_categorical('growth', ['off', 'linear', 'discontinuous'])\n",
    "    n_forecasts = trial.suggest_int('n_forecasts', 1, 6)\n",
    "    learning_rate = trial.suggest_float('learning_rate', 0.0001, 1)\n",
    "\n",
    "    # Instaciando o modelo\n",
    "    m = NeuralProphet(growth=growth, n_forecasts=n_forecasts, learning_rate=learning_rate)\n",
    "    m.add_future_regressor(\"% Iron Feed\")\n",
    "    m.add_future_regressor(\"% Silica Feed\")\n",
    "    m.add_future_regressor(\"Starch Flow\")\n",
    "    m.add_future_regressor(\"Amina Flow\")\n",
    "    m.add_future_regressor(\"Ore Pulp Flow\")\n",
    "    m.add_future_regressor(\"Ore Pulp pH\")\n",
    "    m.add_future_regressor(\"Ore Pulp Density\")\n",
    "    m.add_future_regressor(\"Flotation Column 01 Air Flow\")\n",
    "    m.add_future_regressor(\"Flotation Column 02 Air Flow\")\n",
    "    m.add_future_regressor(\"Flotation Column 03 Air Flow\")\n",
    "    m.add_future_regressor(\"Flotation Column 04 Air Flow\")\n",
    "    m.add_future_regressor(\"Flotation Column 05 Air Flow\")\n",
    "    m.add_future_regressor(\"Flotation Column 06 Air Flow\")\n",
    "    m.add_future_regressor(\"Flotation Column 07 Air Flow\")\n",
    "    m.add_future_regressor(\"Flotation Column 01 Level\")\n",
    "    m.add_future_regressor(\"Flotation Column 02 Level\")\n",
    "    m.add_future_regressor(\"Flotation Column 03 Level\")\n",
    "    m.add_future_regressor(\"Flotation Column 04 Level\")\n",
    "    m.add_future_regressor(\"Flotation Column 05 Level\")\n",
    "    m.add_future_regressor(\"Flotation Column 06 Level\")\n",
    "    m.add_future_regressor(\"Flotation Column 07 Level\")\n",
    "\n",
    "    # Treinando o modelo\n",
    "    m.fit(treino.drop(treino.index[-24:]).drop(columns=[\"% Iron Concentrate\"]), freq=\"h\")\n",
    "\n",
    "    # Fazendo previsões\n",
    "    val = treino[-24:].reset_index(drop=True).drop(columns=[\"% Iron Concentrate\"])\n",
    "    previsoes = m.predict(val)\n",
    "\n",
    "    # Calculado o MAPE\n",
    "    y_true = val.y.values\n",
    "    y_pred = previsoes.yhat1.values\n",
    "    mape = (np.mean(np.true_divide(np.abs(y_true-y_pred), y_true)))*100\n",
    "\n",
    "    return mape"
   ]
  },
  {
   "cell_type": "code",
   "execution_count": 26,
   "id": "71de6d64-2388-4197-9571-4cedc4549401",
   "metadata": {},
   "outputs": [
    {
     "name": "stderr",
     "output_type": "stream",
     "text": [
      "[I 2024-10-19 14:57:53,514] A new study created in memory with name: no-name-e3a09533-5f17-4325-8303-cf503d1f59f6\n"
     ]
    },
    {
     "name": "stdout",
     "output_type": "stream",
     "text": [
      "Epoch 70: 100%|█| 70/70 [00:00<00:00, 232.26it/s, loss=0.0627, v_num=1633, MAE=0.765, RMSE=0.994, Loss=0.0644, RegLoss=\n",
      "Predicting DataLoader 0: 100%|██████████████████████████████████████████████████████████| 1/1 [00:00<00:00, 177.46it/s]"
     ]
    },
    {
     "name": "stderr",
     "output_type": "stream",
     "text": [
      "[I 2024-10-19 14:58:15,839] Trial 0 finished with value: 35.749221907232624 and parameters: {'growth': 'linear', 'n_forecasts': 2, 'learning_rate': 0.1468412152280313}. Best is trial 0 with value: 35.749221907232624.\n"
     ]
    },
    {
     "name": "stdout",
     "output_type": "stream",
     "text": [
      "\n",
      "Epoch 70: 100%|█| 70/70 [00:00<00:00, 230.68it/s, loss=0.0672, v_num=1634, MAE=0.756, RMSE=0.989, Loss=0.0643, RegLoss=\n",
      "Predicting DataLoader 0: 100%|██████████████████████████████████████████████████████████| 1/1 [00:00<00:00, 135.96it/s]"
     ]
    },
    {
     "name": "stderr",
     "output_type": "stream",
     "text": [
      "[I 2024-10-19 14:58:37,521] Trial 1 finished with value: 43.120340856860565 and parameters: {'growth': 'discontinuous', 'n_forecasts': 3, 'learning_rate': 0.5388628523299566}. Best is trial 0 with value: 35.749221907232624.\n"
     ]
    },
    {
     "name": "stdout",
     "output_type": "stream",
     "text": [
      "\n",
      "Epoch 70: 100%|█| 70/70 [00:00<00:00, 227.56it/s, loss=0.0665, v_num=1635, MAE=0.768, RMSE=0.991, Loss=0.0643, RegLoss=\n",
      "Predicting DataLoader 0: 100%|██████████████████████████████████████████████████████████| 1/1 [00:00<00:00, 150.84it/s]"
     ]
    },
    {
     "name": "stderr",
     "output_type": "stream",
     "text": [
      "[I 2024-10-19 14:58:59,475] Trial 2 finished with value: 38.5280463731766 and parameters: {'growth': 'linear', 'n_forecasts': 6, 'learning_rate': 0.02748485443860637}. Best is trial 0 with value: 35.749221907232624.\n"
     ]
    },
    {
     "name": "stdout",
     "output_type": "stream",
     "text": [
      "\n",
      "Epoch 70: 100%|█| 70/70 [00:00<00:00, 264.35it/s, loss=0.0699, v_num=1636, MAE=0.801, RMSE=1.030, Loss=0.0681, RegLoss=\n",
      "Predicting DataLoader 0: 100%|██████████████████████████████████████████████████████████| 1/1 [00:00<00:00, 160.70it/s]"
     ]
    },
    {
     "name": "stderr",
     "output_type": "stream",
     "text": [
      "[I 2024-10-19 14:59:18,850] Trial 3 finished with value: 34.77974318676115 and parameters: {'growth': 'off', 'n_forecasts': 1, 'learning_rate': 0.1981816789359703}. Best is trial 3 with value: 34.77974318676115.\n"
     ]
    },
    {
     "name": "stdout",
     "output_type": "stream",
     "text": [
      "\n",
      "Epoch 70: 100%|█| 70/70 [00:00<00:00, 210.63it/s, loss=0.0664, v_num=1637, MAE=0.780, RMSE=1.010, Loss=0.0665, RegLoss=\n",
      "Predicting DataLoader 0: 100%|██████████████████████████████████████████████████████████| 1/1 [00:00<00:00, 152.15it/s]"
     ]
    },
    {
     "name": "stderr",
     "output_type": "stream",
     "text": [
      "[I 2024-10-19 14:59:41,729] Trial 4 finished with value: 26.706275120845792 and parameters: {'growth': 'linear', 'n_forecasts': 5, 'learning_rate': 0.8764015133808087}. Best is trial 4 with value: 26.706275120845792.\n"
     ]
    },
    {
     "name": "stdout",
     "output_type": "stream",
     "text": [
      "\n",
      "Epoch 70: 100%|█| 70/70 [00:00<00:00, 255.50it/s, loss=0.0682, v_num=1638, MAE=0.814, RMSE=1.050, Loss=0.0703, RegLoss=\n",
      "Predicting DataLoader 0: 100%|██████████████████████████████████████████████████████████| 1/1 [00:00<00:00, 181.08it/s]"
     ]
    },
    {
     "name": "stderr",
     "output_type": "stream",
     "text": [
      "[I 2024-10-19 15:00:01,135] Trial 5 finished with value: 37.481587845213966 and parameters: {'growth': 'off', 'n_forecasts': 2, 'learning_rate': 0.8781546891790702}. Best is trial 4 with value: 26.706275120845792.\n"
     ]
    },
    {
     "name": "stdout",
     "output_type": "stream",
     "text": [
      "\n",
      "Epoch 70: 100%|█| 70/70 [00:00<00:00, 237.10it/s, loss=0.0627, v_num=1639, MAE=0.764, RMSE=0.998, Loss=0.0652, RegLoss=\n",
      "Predicting DataLoader 0: 100%|██████████████████████████████████████████████████████████| 1/1 [00:00<00:00, 144.17it/s]"
     ]
    },
    {
     "name": "stderr",
     "output_type": "stream",
     "text": [
      "[I 2024-10-19 15:00:23,596] Trial 6 finished with value: 33.02851789140175 and parameters: {'growth': 'discontinuous', 'n_forecasts': 4, 'learning_rate': 0.6919079262390783}. Best is trial 4 with value: 26.706275120845792.\n"
     ]
    },
    {
     "name": "stdout",
     "output_type": "stream",
     "text": [
      "\n",
      "Epoch 70: 100%|█| 70/70 [00:00<00:00, 242.84it/s, loss=0.0674, v_num=1640, MAE=0.762, RMSE=1.000, Loss=0.0654, RegLoss=\n",
      "Predicting DataLoader 0: 100%|██████████████████████████████████████████████████████████| 1/1 [00:00<00:00, 182.22it/s]"
     ]
    },
    {
     "name": "stderr",
     "output_type": "stream",
     "text": [
      "[I 2024-10-19 15:00:45,141] Trial 7 finished with value: 25.743155545864344 and parameters: {'growth': 'discontinuous', 'n_forecasts': 1, 'learning_rate': 0.750169300513473}. Best is trial 7 with value: 25.743155545864344.\n"
     ]
    },
    {
     "name": "stdout",
     "output_type": "stream",
     "text": [
      "\n",
      "Epoch 70: 100%|█| 70/70 [00:00<00:00, 258.58it/s, loss=0.0653, v_num=1641, MAE=0.798, RMSE=1.030, Loss=0.0678, RegLoss=\n",
      "Predicting DataLoader 0: 100%|██████████████████████████████████████████████████████████| 1/1 [00:00<00:00, 174.48it/s]"
     ]
    },
    {
     "name": "stderr",
     "output_type": "stream",
     "text": [
      "[I 2024-10-19 15:01:04,403] Trial 8 finished with value: 31.819487089575333 and parameters: {'growth': 'off', 'n_forecasts': 5, 'learning_rate': 0.10331568397698426}. Best is trial 7 with value: 25.743155545864344.\n"
     ]
    },
    {
     "name": "stdout",
     "output_type": "stream",
     "text": [
      "\n",
      "Epoch 70: 100%|█| 70/70 [00:00<00:00, 234.59it/s, loss=0.0684, v_num=1642, MAE=0.764, RMSE=0.995, Loss=0.0642, RegLoss=\n",
      "Predicting DataLoader 0: 100%|██████████████████████████████████████████████████████████| 1/1 [00:00<00:00, 173.57it/s]"
     ]
    },
    {
     "name": "stderr",
     "output_type": "stream",
     "text": [
      "[I 2024-10-19 15:01:26,516] Trial 9 finished with value: 37.32221047601656 and parameters: {'growth': 'linear', 'n_forecasts': 2, 'learning_rate': 0.13011556926106585}. Best is trial 7 with value: 25.743155545864344.\n"
     ]
    },
    {
     "name": "stdout",
     "output_type": "stream",
     "text": [
      "\n",
      "Epoch 70: 100%|█| 70/70 [00:00<00:00, 242.28it/s, loss=0.065, v_num=1643, MAE=0.751, RMSE=0.984, Loss=0.0634, RegLoss=0\n",
      "Predicting DataLoader 0: 100%|██████████████████████████████████████████████████████████| 1/1 [00:00<00:00, 199.90it/s]"
     ]
    },
    {
     "name": "stderr",
     "output_type": "stream",
     "text": [
      "[I 2024-10-19 15:01:48,019] Trial 10 finished with value: 28.201561703537497 and parameters: {'growth': 'discontinuous', 'n_forecasts': 1, 'learning_rate': 0.39221508547571643}. Best is trial 7 with value: 25.743155545864344.\n"
     ]
    },
    {
     "name": "stdout",
     "output_type": "stream",
     "text": [
      "\n",
      "Epoch 70: 100%|█| 70/70 [00:00<00:00, 240.90it/s, loss=0.0624, v_num=1644, MAE=0.784, RMSE=1.010, Loss=0.0667, RegLoss=\n",
      "Predicting DataLoader 0: 100%|██████████████████████████████████████████████████████████| 1/1 [00:00<00:00, 182.77it/s]"
     ]
    },
    {
     "name": "stderr",
     "output_type": "stream",
     "text": [
      "[I 2024-10-19 15:02:10,485] Trial 11 finished with value: 36.26527917405466 and parameters: {'growth': 'linear', 'n_forecasts': 5, 'learning_rate': 0.9873677079333998}. Best is trial 7 with value: 25.743155545864344.\n"
     ]
    },
    {
     "name": "stdout",
     "output_type": "stream",
     "text": [
      "\n",
      "Epoch 70: 100%|█| 70/70 [00:00<00:00, 238.24it/s, loss=0.0644, v_num=1645, MAE=0.750, RMSE=0.985, Loss=0.0637, RegLoss=\n",
      "Predicting DataLoader 0: 100%|██████████████████████████████████████████████████████████| 1/1 [00:00<00:00, 199.90it/s]"
     ]
    },
    {
     "name": "stderr",
     "output_type": "stream",
     "text": [
      "[I 2024-10-19 15:02:31,827] Trial 12 finished with value: 34.389404255097496 and parameters: {'growth': 'discontinuous', 'n_forecasts': 4, 'learning_rate': 0.7539084656141023}. Best is trial 7 with value: 25.743155545864344.\n"
     ]
    },
    {
     "name": "stdout",
     "output_type": "stream",
     "text": [
      "\n",
      "Epoch 70: 100%|█| 70/70 [00:00<00:00, 236.93it/s, loss=0.0657, v_num=1646, MAE=0.755, RMSE=0.987, Loss=0.0641, RegLoss=\n",
      "Predicting DataLoader 0: 100%|██████████████████████████████████████████████████████████| 1/1 [00:00<00:00, 140.52it/s]"
     ]
    },
    {
     "name": "stderr",
     "output_type": "stream",
     "text": [
      "[I 2024-10-19 15:02:52,931] Trial 13 finished with value: 40.159022404110765 and parameters: {'growth': 'discontinuous', 'n_forecasts': 6, 'learning_rate': 0.7106538967729619}. Best is trial 7 with value: 25.743155545864344.\n"
     ]
    },
    {
     "name": "stdout",
     "output_type": "stream",
     "text": [
      "\n",
      "Epoch 70: 100%|█| 70/70 [00:00<00:00, 234.73it/s, loss=0.068, v_num=1647, MAE=0.772, RMSE=1.000, Loss=0.0656, RegLoss=0\n",
      "Predicting DataLoader 0: 100%|██████████████████████████████████████████████████████████| 1/1 [00:00<00:00, 157.21it/s]"
     ]
    },
    {
     "name": "stderr",
     "output_type": "stream",
     "text": [
      "[I 2024-10-19 15:03:15,380] Trial 14 finished with value: 42.31011831533949 and parameters: {'growth': 'linear', 'n_forecasts': 5, 'learning_rate': 0.5429358859459983}. Best is trial 7 with value: 25.743155545864344.\n"
     ]
    },
    {
     "name": "stdout",
     "output_type": "stream",
     "text": [
      "\n",
      "Epoch 70: 100%|█| 70/70 [00:00<00:00, 233.70it/s, loss=0.0652, v_num=1648, MAE=0.759, RMSE=0.993, Loss=0.0647, RegLoss=\n",
      "Predicting DataLoader 0: 100%|██████████████████████████████████████████████████████████| 1/1 [00:00<00:00, 165.85it/s]"
     ]
    },
    {
     "name": "stderr",
     "output_type": "stream",
     "text": [
      "[I 2024-10-19 15:03:37,143] Trial 15 finished with value: 36.446125764601604 and parameters: {'growth': 'discontinuous', 'n_forecasts': 3, 'learning_rate': 0.8532749442683365}. Best is trial 7 with value: 25.743155545864344.\n"
     ]
    },
    {
     "name": "stdout",
     "output_type": "stream",
     "text": [
      "\n",
      "Epoch 70: 100%|█| 70/70 [00:00<00:00, 228.97it/s, loss=0.0636, v_num=1649, MAE=0.782, RMSE=1.010, Loss=0.0665, RegLoss=\n",
      "Predicting DataLoader 0: 100%|██████████████████████████████████████████████████████████| 1/1 [00:00<00:00, 164.25it/s]"
     ]
    },
    {
     "name": "stderr",
     "output_type": "stream",
     "text": [
      "[I 2024-10-19 15:03:59,187] Trial 16 finished with value: 40.9227673097206 and parameters: {'growth': 'linear', 'n_forecasts': 4, 'learning_rate': 0.9766635553905451}. Best is trial 7 with value: 25.743155545864344.\n"
     ]
    },
    {
     "name": "stdout",
     "output_type": "stream",
     "text": [
      "\n",
      "Epoch 70: 100%|█| 70/70 [00:00<00:00, 228.88it/s, loss=0.068, v_num=1650, MAE=0.776, RMSE=1.010, Loss=0.0658, RegLoss=0\n",
      "Predicting DataLoader 0: 100%|██████████████████████████████████████████████████████████| 1/1 [00:00<00:00, 179.44it/s]"
     ]
    },
    {
     "name": "stderr",
     "output_type": "stream",
     "text": [
      "[I 2024-10-19 15:04:21,122] Trial 17 finished with value: 37.973851203387255 and parameters: {'growth': 'linear', 'n_forecasts': 3, 'learning_rate': 0.628578608911246}. Best is trial 7 with value: 25.743155545864344.\n"
     ]
    },
    {
     "name": "stdout",
     "output_type": "stream",
     "text": [
      "\n",
      "Epoch 70: 100%|█| 70/70 [00:00<00:00, 220.03it/s, loss=0.064, v_num=1651, MAE=0.747, RMSE=0.981, Loss=0.0633, RegLoss=0\n",
      "Predicting DataLoader 0: 100%|██████████████████████████████████████████████████████████| 1/1 [00:00<00:00, 188.98it/s]"
     ]
    },
    {
     "name": "stderr",
     "output_type": "stream",
     "text": [
      "[I 2024-10-19 15:04:42,369] Trial 18 finished with value: 27.15580485483825 and parameters: {'growth': 'discontinuous', 'n_forecasts': 5, 'learning_rate': 0.3866529596564806}. Best is trial 7 with value: 25.743155545864344.\n"
     ]
    },
    {
     "name": "stdout",
     "output_type": "stream",
     "text": [
      "\n",
      "Epoch 70: 100%|█| 70/70 [00:00<00:00, 255.95it/s, loss=0.0682, v_num=1652, MAE=0.809, RMSE=1.040, Loss=0.069, RegLoss=0\n",
      "Predicting DataLoader 0: 100%|██████████████████████████████████████████████████████████| 1/1 [00:00<00:00, 166.58it/s]"
     ]
    },
    {
     "name": "stderr",
     "output_type": "stream",
     "text": [
      "[I 2024-10-19 15:05:01,647] Trial 19 finished with value: 36.758710172270455 and parameters: {'growth': 'off', 'n_forecasts': 1, 'learning_rate': 0.8384290341577796}. Best is trial 7 with value: 25.743155545864344.\n"
     ]
    },
    {
     "name": "stdout",
     "output_type": "stream",
     "text": [
      "\n",
      "Epoch 70: 100%|█| 70/70 [00:00<00:00, 240.19it/s, loss=0.0635, v_num=1653, MAE=0.774, RMSE=1.010, Loss=0.0663, RegLoss=\n",
      "Predicting DataLoader 0: 100%|██████████████████████████████████████████████████████████| 1/1 [00:00<00:00, 163.37it/s]"
     ]
    },
    {
     "name": "stderr",
     "output_type": "stream",
     "text": [
      "[I 2024-10-19 15:05:23,000] Trial 20 finished with value: 31.948509048309287 and parameters: {'growth': 'discontinuous', 'n_forecasts': 6, 'learning_rate': 0.7860385516330011}. Best is trial 7 with value: 25.743155545864344.\n"
     ]
    },
    {
     "name": "stdout",
     "output_type": "stream",
     "text": [
      "\n",
      "Epoch 70: 100%|█| 70/70 [00:00<00:00, 240.22it/s, loss=0.0624, v_num=1654, MAE=0.749, RMSE=0.984, Loss=0.0633, RegLoss=\n",
      "Predicting DataLoader 0: 100%|██████████████████████████████████████████████████████████| 1/1 [00:00<00:00, 195.62it/s]"
     ]
    },
    {
     "name": "stderr",
     "output_type": "stream",
     "text": [
      "[I 2024-10-19 15:05:44,207] Trial 21 finished with value: 31.091871991271375 and parameters: {'growth': 'discontinuous', 'n_forecasts': 5, 'learning_rate': 0.33307719402308644}. Best is trial 7 with value: 25.743155545864344.\n"
     ]
    },
    {
     "name": "stdout",
     "output_type": "stream",
     "text": [
      "\n",
      "Epoch 70: 100%|█| 70/70 [00:00<00:00, 213.81it/s, loss=0.0638, v_num=1655, MAE=0.752, RMSE=0.986, Loss=0.0637, RegLoss=\n",
      "Predicting DataLoader 0: 100%|██████████████████████████████████████████████████████████| 1/1 [00:00<00:00, 138.46it/s]"
     ]
    },
    {
     "name": "stderr",
     "output_type": "stream",
     "text": [
      "[I 2024-10-19 15:06:05,610] Trial 22 finished with value: 31.050844172035553 and parameters: {'growth': 'discontinuous', 'n_forecasts': 5, 'learning_rate': 0.41246489168895856}. Best is trial 7 with value: 25.743155545864344.\n"
     ]
    },
    {
     "name": "stdout",
     "output_type": "stream",
     "text": [
      "\n",
      "Epoch 70: 100%|█| 70/70 [00:00<00:00, 238.26it/s, loss=0.0631, v_num=1656, MAE=0.750, RMSE=0.980, Loss=0.063, RegLoss=0\n",
      "Predicting DataLoader 0: 100%|██████████████████████████████████████████████████████████| 1/1 [00:00<00:00, 143.46it/s]"
     ]
    },
    {
     "name": "stderr",
     "output_type": "stream",
     "text": [
      "[I 2024-10-19 15:06:26,818] Trial 23 finished with value: 34.45988846569806 and parameters: {'growth': 'discontinuous', 'n_forecasts': 4, 'learning_rate': 0.26489329715349863}. Best is trial 7 with value: 25.743155545864344.\n"
     ]
    },
    {
     "name": "stdout",
     "output_type": "stream",
     "text": [
      "\n",
      "Epoch 70: 100%|█| 70/70 [00:00<00:00, 245.23it/s, loss=0.0652, v_num=1657, MAE=0.762, RMSE=0.994, Loss=0.0647, RegLoss=\n",
      "Predicting DataLoader 0: 100%|██████████████████████████████████████████████████████████| 1/1 [00:00<00:00, 175.34it/s]"
     ]
    },
    {
     "name": "stderr",
     "output_type": "stream",
     "text": [
      "[I 2024-10-19 15:06:48,132] Trial 24 finished with value: 40.11569342140306 and parameters: {'growth': 'discontinuous', 'n_forecasts': 6, 'learning_rate': 0.6159287565737024}. Best is trial 7 with value: 25.743155545864344.\n"
     ]
    },
    {
     "name": "stdout",
     "output_type": "stream",
     "text": [
      "\n",
      "Epoch 70: 100%|█| 70/70 [00:00<00:00, 233.51it/s, loss=0.0678, v_num=1658, MAE=0.770, RMSE=0.999, Loss=0.0652, RegLoss=\n",
      "Predicting DataLoader 0: 100%|██████████████████████████████████████████████████████████| 1/1 [00:00<00:00, 168.45it/s]"
     ]
    },
    {
     "name": "stderr",
     "output_type": "stream",
     "text": [
      "[I 2024-10-19 15:07:09,864] Trial 25 finished with value: 39.00694798328507 and parameters: {'growth': 'linear', 'n_forecasts': 5, 'learning_rate': 0.47885444323794013}. Best is trial 7 with value: 25.743155545864344.\n"
     ]
    },
    {
     "name": "stdout",
     "output_type": "stream",
     "text": [
      "\n",
      "Epoch 70: 100%|█| 70/70 [00:00<00:00, 240.21it/s, loss=0.0672, v_num=1659, MAE=0.755, RMSE=0.994, Loss=0.0645, RegLoss=\n",
      "Predicting DataLoader 0: 100%|██████████████████████████████████████████████████████████| 1/1 [00:00<00:00, 181.30it/s]"
     ]
    },
    {
     "name": "stderr",
     "output_type": "stream",
     "text": [
      "[I 2024-10-19 15:07:31,043] Trial 26 finished with value: 39.79819564736935 and parameters: {'growth': 'discontinuous', 'n_forecasts': 4, 'learning_rate': 0.631394477382782}. Best is trial 7 with value: 25.743155545864344.\n"
     ]
    },
    {
     "name": "stdout",
     "output_type": "stream",
     "text": [
      "\n",
      "Epoch 70: 100%|█| 70/70 [00:00<00:00, 239.01it/s, loss=0.0685, v_num=1660, MAE=0.775, RMSE=1.000, Loss=0.0664, RegLoss=\n",
      "Predicting DataLoader 0: 100%|██████████████████████████████████████████████████████████| 1/1 [00:00<00:00, 166.96it/s]"
     ]
    },
    {
     "name": "stderr",
     "output_type": "stream",
     "text": [
      "[I 2024-10-19 15:07:52,186] Trial 27 finished with value: 31.523543030498374 and parameters: {'growth': 'discontinuous', 'n_forecasts': 3, 'learning_rate': 0.9248346288784111}. Best is trial 7 with value: 25.743155545864344.\n"
     ]
    },
    {
     "name": "stdout",
     "output_type": "stream",
     "text": [
      "\n",
      "Epoch 70: 100%|█| 70/70 [00:00<00:00, 270.51it/s, loss=0.0671, v_num=1661, MAE=0.802, RMSE=1.030, Loss=0.0682, RegLoss=\n",
      "Predicting DataLoader 0: 100%|██████████████████████████████████████████████████████████| 1/1 [00:00<00:00, 186.32it/s]"
     ]
    },
    {
     "name": "stderr",
     "output_type": "stream",
     "text": [
      "[I 2024-10-19 15:08:11,302] Trial 28 finished with value: 29.920787216160267 and parameters: {'growth': 'off', 'n_forecasts': 2, 'learning_rate': 0.4441241881814174}. Best is trial 7 with value: 25.743155545864344.\n"
     ]
    },
    {
     "name": "stdout",
     "output_type": "stream",
     "text": [
      "\n",
      "Epoch 70: 100%|█| 70/70 [00:00<00:00, 226.08it/s, loss=0.0642, v_num=1662, MAE=0.769, RMSE=0.999, Loss=0.0649, RegLoss=\n",
      "Predicting DataLoader 0: 100%|██████████████████████████████████████████████████████████| 1/1 [00:00<00:00, 183.19it/s]"
     ]
    },
    {
     "name": "stderr",
     "output_type": "stream",
     "text": [
      "[I 2024-10-19 15:08:33,252] Trial 29 finished with value: 33.36911902314503 and parameters: {'growth': 'linear', 'n_forecasts': 6, 'learning_rate': 0.332325903807467}. Best is trial 7 with value: 25.743155545864344.\n"
     ]
    },
    {
     "name": "stdout",
     "output_type": "stream",
     "text": [
      "\n",
      "Epoch 70: 100%|█| 70/70 [00:00<00:00, 230.81it/s, loss=0.0658, v_num=1663, MAE=0.771, RMSE=1.000, Loss=0.0655, RegLoss=\n",
      "Predicting DataLoader 0: 100%|██████████████████████████████████████████████████████████| 1/1 [00:00<00:00, 199.96it/s]"
     ]
    },
    {
     "name": "stderr",
     "output_type": "stream",
     "text": [
      "[I 2024-10-19 15:08:54,889] Trial 30 finished with value: 41.19325892546406 and parameters: {'growth': 'linear', 'n_forecasts': 5, 'learning_rate': 0.7903232786856456}. Best is trial 7 with value: 25.743155545864344.\n"
     ]
    },
    {
     "name": "stdout",
     "output_type": "stream",
     "text": [
      "\n",
      "Epoch 70: 100%|█| 70/70 [00:00<00:00, 235.31it/s, loss=0.0653, v_num=1664, MAE=0.752, RMSE=0.982, Loss=0.0636, RegLoss=\n",
      "Predicting DataLoader 0: 100%|██████████████████████████████████████████████████████████| 1/1 [00:00<00:00, 185.15it/s]"
     ]
    },
    {
     "name": "stderr",
     "output_type": "stream",
     "text": [
      "[I 2024-10-19 15:09:16,001] Trial 31 finished with value: 32.52847532566711 and parameters: {'growth': 'discontinuous', 'n_forecasts': 1, 'learning_rate': 0.35824498270586425}. Best is trial 7 with value: 25.743155545864344.\n"
     ]
    },
    {
     "name": "stdout",
     "output_type": "stream",
     "text": [
      "\n",
      "Epoch 70: 100%|█| 70/70 [00:00<00:00, 239.23it/s, loss=0.0628, v_num=1665, MAE=0.745, RMSE=0.975, Loss=0.0626, RegLoss=\n",
      "Predicting DataLoader 0: 100%|██████████████████████████████████████████████████████████| 1/1 [00:00<00:00, 157.41it/s]"
     ]
    },
    {
     "name": "stderr",
     "output_type": "stream",
     "text": [
      "[I 2024-10-19 15:09:37,108] Trial 32 finished with value: 35.35233581426696 and parameters: {'growth': 'discontinuous', 'n_forecasts': 1, 'learning_rate': 0.2537859718856885}. Best is trial 7 with value: 25.743155545864344.\n"
     ]
    },
    {
     "name": "stdout",
     "output_type": "stream",
     "text": [
      "\n",
      "Epoch 70: 100%|█| 70/70 [00:00<00:00, 236.89it/s, loss=0.0661, v_num=1666, MAE=0.753, RMSE=0.991, Loss=0.0639, RegLoss=\n",
      "Predicting DataLoader 0: 100%|██████████████████████████████████████████████████████████| 1/1 [00:00<00:00, 215.05it/s]"
     ]
    },
    {
     "name": "stderr",
     "output_type": "stream",
     "text": [
      "[I 2024-10-19 15:09:58,184] Trial 33 finished with value: 24.36812896020772 and parameters: {'growth': 'discontinuous', 'n_forecasts': 2, 'learning_rate': 0.5388925053321367}. Best is trial 33 with value: 24.36812896020772.\n"
     ]
    },
    {
     "name": "stdout",
     "output_type": "stream",
     "text": [
      "\n",
      "Epoch 70: 100%|█| 70/70 [00:00<00:00, 219.16it/s, loss=0.0608, v_num=1667, MAE=0.759, RMSE=0.995, Loss=0.0643, RegLoss=\n",
      "Predicting DataLoader 0: 100%|██████████████████████████████████████████████████████████| 1/1 [00:00<00:00, 159.71it/s]"
     ]
    },
    {
     "name": "stderr",
     "output_type": "stream",
     "text": [
      "[I 2024-10-19 15:10:19,556] Trial 34 finished with value: 30.536462884960724 and parameters: {'growth': 'discontinuous', 'n_forecasts': 2, 'learning_rate': 0.5314168050761394}. Best is trial 33 with value: 24.36812896020772.\n"
     ]
    },
    {
     "name": "stdout",
     "output_type": "stream",
     "text": [
      "\n",
      "Epoch 70: 100%|█| 70/70 [00:00<00:00, 241.92it/s, loss=0.0668, v_num=1668, MAE=0.756, RMSE=0.989, Loss=0.0643, RegLoss=\n",
      "Predicting DataLoader 0: 100%|██████████████████████████████████████████████████████████| 1/1 [00:00<00:00, 165.07it/s]"
     ]
    },
    {
     "name": "stderr",
     "output_type": "stream",
     "text": [
      "[I 2024-10-19 15:10:40,977] Trial 35 finished with value: 28.39909315485441 and parameters: {'growth': 'discontinuous', 'n_forecasts': 2, 'learning_rate': 0.57898881190994}. Best is trial 33 with value: 24.36812896020772.\n"
     ]
    },
    {
     "name": "stdout",
     "output_type": "stream",
     "text": [
      "\n",
      "Epoch 70: 100%|█| 70/70 [00:00<00:00, 233.45it/s, loss=0.0628, v_num=1669, MAE=0.756, RMSE=0.988, Loss=0.064, RegLoss=0\n",
      "Predicting DataLoader 0: 100%|██████████████████████████████████████████████████████████| 1/1 [00:00<00:00, 134.03it/s]"
     ]
    },
    {
     "name": "stderr",
     "output_type": "stream",
     "text": [
      "[I 2024-10-19 15:11:02,052] Trial 36 finished with value: 30.6704997756859 and parameters: {'growth': 'discontinuous', 'n_forecasts': 1, 'learning_rate': 0.9153201143225352}. Best is trial 33 with value: 24.36812896020772.\n"
     ]
    },
    {
     "name": "stdout",
     "output_type": "stream",
     "text": [
      "\n",
      "Epoch 70: 100%|█| 70/70 [00:00<00:00, 266.50it/s, loss=0.0702, v_num=1670, MAE=0.811, RMSE=1.040, Loss=0.0695, RegLoss=\n",
      "Predicting DataLoader 0: 100%|██████████████████████████████████████████████████████████| 1/1 [00:00<00:00, 177.09it/s]"
     ]
    },
    {
     "name": "stderr",
     "output_type": "stream",
     "text": [
      "[I 2024-10-19 15:11:21,180] Trial 37 finished with value: 42.419695709551334 and parameters: {'growth': 'off', 'n_forecasts': 2, 'learning_rate': 0.6953948199066943}. Best is trial 33 with value: 24.36812896020772.\n"
     ]
    },
    {
     "name": "stdout",
     "output_type": "stream",
     "text": [
      "\n",
      "Epoch 70: 100%|█| 70/70 [00:00<00:00, 232.95it/s, loss=0.0602, v_num=1671, MAE=0.763, RMSE=0.991, Loss=0.0639, RegLoss=\n",
      "Predicting DataLoader 0: 100%|██████████████████████████████████████████████████████████| 1/1 [00:00<00:00, 180.01it/s]"
     ]
    },
    {
     "name": "stderr",
     "output_type": "stream",
     "text": [
      "[I 2024-10-19 15:11:43,018] Trial 38 finished with value: 36.50603329535815 and parameters: {'growth': 'linear', 'n_forecasts': 3, 'learning_rate': 0.051248373081465515}. Best is trial 33 with value: 24.36812896020772.\n"
     ]
    },
    {
     "name": "stdout",
     "output_type": "stream",
     "text": [
      "\n",
      "Epoch 70: 100%|█| 70/70 [00:00<00:00, 232.75it/s, loss=0.0655, v_num=1672, MAE=0.754, RMSE=0.990, Loss=0.0641, RegLoss=\n",
      "Predicting DataLoader 0: 100%|██████████████████████████████████████████████████████████| 1/1 [00:00<00:00, 168.25it/s]"
     ]
    },
    {
     "name": "stderr",
     "output_type": "stream",
     "text": [
      "[I 2024-10-19 15:12:04,196] Trial 39 finished with value: 30.63405157291883 and parameters: {'growth': 'discontinuous', 'n_forecasts': 1, 'learning_rate': 0.4883224464800833}. Best is trial 33 with value: 24.36812896020772.\n"
     ]
    },
    {
     "name": "stdout",
     "output_type": "stream",
     "text": [
      "\n",
      "Epoch 70: 100%|█| 70/70 [00:00<00:00, 264.85it/s, loss=0.0704, v_num=1673, MAE=0.807, RMSE=1.040, Loss=0.0689, RegLoss=\n",
      "Predicting DataLoader 0: 100%|██████████████████████████████████████████████████████████| 1/1 [00:00<00:00, 186.23it/s]"
     ]
    },
    {
     "name": "stderr",
     "output_type": "stream",
     "text": [
      "[I 2024-10-19 15:12:23,295] Trial 40 finished with value: 33.94917221714029 and parameters: {'growth': 'off', 'n_forecasts': 2, 'learning_rate': 0.8133785926553757}. Best is trial 33 with value: 24.36812896020772.\n"
     ]
    },
    {
     "name": "stdout",
     "output_type": "stream",
     "text": [
      "\n",
      "Epoch 70: 100%|█| 70/70 [00:00<00:00, 236.78it/s, loss=0.0623, v_num=1674, MAE=0.748, RMSE=0.978, Loss=0.0629, RegLoss=\n",
      "Predicting DataLoader 0: 100%|██████████████████████████████████████████████████████████| 1/1 [00:00<00:00, 172.77it/s]"
     ]
    },
    {
     "name": "stderr",
     "output_type": "stream",
     "text": [
      "[I 2024-10-19 15:12:44,414] Trial 41 finished with value: 29.95370307992716 and parameters: {'growth': 'discontinuous', 'n_forecasts': 1, 'learning_rate': 0.27516188397061503}. Best is trial 33 with value: 24.36812896020772.\n"
     ]
    },
    {
     "name": "stdout",
     "output_type": "stream",
     "text": [
      "\n",
      "Epoch 70: 100%|█| 70/70 [00:00<00:00, 243.56it/s, loss=0.0666, v_num=1675, MAE=0.752, RMSE=0.989, Loss=0.0641, RegLoss=\n",
      "Predicting DataLoader 0: 100%|██████████████████████████████████████████████████████████| 1/1 [00:00<00:00, 166.57it/s]"
     ]
    },
    {
     "name": "stderr",
     "output_type": "stream",
     "text": [
      "[I 2024-10-19 15:13:05,844] Trial 42 finished with value: 36.87860205781588 and parameters: {'growth': 'discontinuous', 'n_forecasts': 1, 'learning_rate': 0.39980302070654183}. Best is trial 33 with value: 24.36812896020772.\n"
     ]
    },
    {
     "name": "stdout",
     "output_type": "stream",
     "text": [
      "\n",
      "Epoch 70: 100%|█| 70/70 [00:00<00:00, 241.52it/s, loss=0.064, v_num=1676, MAE=0.755, RMSE=0.990, Loss=0.064, RegLoss=0.\n",
      "Predicting DataLoader 0: 100%|██████████████████████████████████████████████████████████| 1/1 [00:00<00:00, 188.29it/s]"
     ]
    },
    {
     "name": "stderr",
     "output_type": "stream",
     "text": [
      "[I 2024-10-19 15:13:26,839] Trial 43 finished with value: 27.331955490704974 and parameters: {'growth': 'discontinuous', 'n_forecasts': 1, 'learning_rate': 0.7283712736971024}. Best is trial 33 with value: 24.36812896020772.\n"
     ]
    },
    {
     "name": "stdout",
     "output_type": "stream",
     "text": [
      "\n",
      "Epoch 70: 100%|█| 70/70 [00:00<00:00, 246.57it/s, loss=0.0653, v_num=1677, MAE=0.759, RMSE=0.994, Loss=0.0645, RegLoss=\n",
      "Predicting DataLoader 0: 100%|██████████████████████████████████████████████████████████| 1/1 [00:00<00:00, 149.90it/s]"
     ]
    },
    {
     "name": "stderr",
     "output_type": "stream",
     "text": [
      "[I 2024-10-19 15:13:48,181] Trial 44 finished with value: 47.897204069722044 and parameters: {'growth': 'discontinuous', 'n_forecasts': 1, 'learning_rate': 0.7395492589135421}. Best is trial 33 with value: 24.36812896020772.\n"
     ]
    },
    {
     "name": "stdout",
     "output_type": "stream",
     "text": [
      "\n",
      "Epoch 70: 100%|█| 70/70 [00:00<00:00, 241.68it/s, loss=0.0665, v_num=1678, MAE=0.763, RMSE=1.000, Loss=0.0653, RegLoss=\n",
      "Predicting DataLoader 0: 100%|██████████████████████████████████████████████████████████| 1/1 [00:00<00:00, 195.71it/s]"
     ]
    },
    {
     "name": "stderr",
     "output_type": "stream",
     "text": [
      "[I 2024-10-19 15:14:09,416] Trial 45 finished with value: 33.32430971576451 and parameters: {'growth': 'discontinuous', 'n_forecasts': 4, 'learning_rate': 0.9224559003867885}. Best is trial 33 with value: 24.36812896020772.\n"
     ]
    },
    {
     "name": "stdout",
     "output_type": "stream",
     "text": [
      "\n",
      "Epoch 70: 100%|█| 70/70 [00:00<00:00, 239.91it/s, loss=0.0692, v_num=1679, MAE=0.781, RMSE=1.010, Loss=0.0665, RegLoss=\n",
      "Predicting DataLoader 0: 100%|██████████████████████████████████████████████████████████| 1/1 [00:00<00:00, 173.51it/s]"
     ]
    },
    {
     "name": "stderr",
     "output_type": "stream",
     "text": [
      "[I 2024-10-19 15:14:31,387] Trial 46 finished with value: 28.450965900124864 and parameters: {'growth': 'linear', 'n_forecasts': 2, 'learning_rate': 0.6742934428629679}. Best is trial 33 with value: 24.36812896020772.\n"
     ]
    },
    {
     "name": "stdout",
     "output_type": "stream",
     "text": [
      "\n",
      "Epoch 70: 100%|█| 70/70 [00:00<00:00, 225.24it/s, loss=0.0611, v_num=1680, MAE=0.770, RMSE=1.000, Loss=0.0658, RegLoss=\n",
      "Predicting DataLoader 0: 100%|██████████████████████████████████████████████████████████| 1/1 [00:00<00:00, 142.36it/s]"
     ]
    },
    {
     "name": "stderr",
     "output_type": "stream",
     "text": [
      "[I 2024-10-19 15:14:53,016] Trial 47 finished with value: 38.98514601494966 and parameters: {'growth': 'discontinuous', 'n_forecasts': 3, 'learning_rate': 0.8719312937089918}. Best is trial 33 with value: 24.36812896020772.\n"
     ]
    },
    {
     "name": "stdout",
     "output_type": "stream",
     "text": [
      "\n",
      "Epoch 70: 100%|█| 70/70 [00:00<00:00, 234.85it/s, loss=0.0682, v_num=1681, MAE=0.765, RMSE=0.999, Loss=0.0654, RegLoss=\n",
      "Predicting DataLoader 0: 100%|██████████████████████████████████████████████████████████| 1/1 [00:00<00:00, 166.61it/s]"
     ]
    },
    {
     "name": "stderr",
     "output_type": "stream",
     "text": [
      "[I 2024-10-19 15:15:14,321] Trial 48 finished with value: 32.2225118684866 and parameters: {'growth': 'discontinuous', 'n_forecasts': 2, 'learning_rate': 0.7472270059044589}. Best is trial 33 with value: 24.36812896020772.\n"
     ]
    },
    {
     "name": "stdout",
     "output_type": "stream",
     "text": [
      "\n",
      "Epoch 70: 100%|█| 70/70 [00:00<00:00, 222.68it/s, loss=0.0628, v_num=1682, MAE=0.770, RMSE=0.998, Loss=0.0651, RegLoss=\n",
      "Predicting DataLoader 0: 100%|██████████████████████████████████████████████████████████| 1/1 [00:00<00:00, 180.89it/s]"
     ]
    },
    {
     "name": "stderr",
     "output_type": "stream",
     "text": [
      "[I 2024-10-19 15:15:36,684] Trial 49 finished with value: 29.550386563165965 and parameters: {'growth': 'linear', 'n_forecasts': 5, 'learning_rate': 0.18704341067310593}. Best is trial 33 with value: 24.36812896020772.\n"
     ]
    },
    {
     "name": "stdout",
     "output_type": "stream",
     "text": [
      "\n"
     ]
    }
   ],
   "source": [
    "sampler = TPESampler(seed=RANDOM_SEED)\n",
    "study = optuna.create_study(direction='minimize', sampler=sampler)\n",
    "#optuna.logging.set_verbosity(optuna.logging.WARNING)\n",
    "study.optimize(objective, n_trials=50)"
   ]
  },
  {
   "cell_type": "code",
   "execution_count": 27,
   "id": "b4abc60e-15ba-468d-a4ea-e3f1ce583173",
   "metadata": {},
   "outputs": [
    {
     "name": "stdout",
     "output_type": "stream",
     "text": [
      "Melhor MAPE: 24.36812896020772\n",
      "Melhores parâmetros: {'growth': 'discontinuous', 'n_forecasts': 2, 'learning_rate': 0.5388925053321367}\n"
     ]
    }
   ],
   "source": [
    "melhores_parametros = study.best_params\n",
    "\n",
    "print(f\"Melhor MAPE: {study.best_trial.value}\")\n",
    "print(f\"Melhores parâmetros: {study.best_params}\")"
   ]
  },
  {
   "cell_type": "markdown",
   "id": "ce61b41e-f7ae-43ce-a655-f20495e5256b",
   "metadata": {},
   "source": [
    "### **Treinando o modelo com os hiperparâmetros ajustados**"
   ]
  },
  {
   "cell_type": "code",
   "execution_count": 28,
   "id": "0be396df-e42e-4942-828a-dfc10ba7262f",
   "metadata": {},
   "outputs": [
    {
     "name": "stdout",
     "output_type": "stream",
     "text": [
      "Epoch 70: 100%|█| 70/70 [00:00<00:00, 235.31it/s, loss=0.0607, v_num=1683, MAE=0.750, RMSE=0.985, Loss=0.0636, RegLoss=\n"
     ]
    },
    {
     "data": {
      "text/html": [
       "<div>\n",
       "<style scoped>\n",
       "    .dataframe tbody tr th:only-of-type {\n",
       "        vertical-align: middle;\n",
       "    }\n",
       "\n",
       "    .dataframe tbody tr th {\n",
       "        vertical-align: top;\n",
       "    }\n",
       "\n",
       "    .dataframe thead th {\n",
       "        text-align: right;\n",
       "    }\n",
       "</style>\n",
       "<table border=\"1\" class=\"dataframe\">\n",
       "  <thead>\n",
       "    <tr style=\"text-align: right;\">\n",
       "      <th></th>\n",
       "      <th>MAE</th>\n",
       "      <th>RMSE</th>\n",
       "      <th>Loss</th>\n",
       "      <th>RegLoss</th>\n",
       "      <th>epoch</th>\n",
       "    </tr>\n",
       "  </thead>\n",
       "  <tbody>\n",
       "    <tr>\n",
       "      <th>0</th>\n",
       "      <td>1.705550</td>\n",
       "      <td>2.126646</td>\n",
       "      <td>0.222482</td>\n",
       "      <td>0.0</td>\n",
       "      <td>0</td>\n",
       "    </tr>\n",
       "    <tr>\n",
       "      <th>1</th>\n",
       "      <td>0.900412</td>\n",
       "      <td>1.155073</td>\n",
       "      <td>0.085384</td>\n",
       "      <td>0.0</td>\n",
       "      <td>1</td>\n",
       "    </tr>\n",
       "    <tr>\n",
       "      <th>2</th>\n",
       "      <td>0.927248</td>\n",
       "      <td>1.181492</td>\n",
       "      <td>0.088358</td>\n",
       "      <td>0.0</td>\n",
       "      <td>2</td>\n",
       "    </tr>\n",
       "    <tr>\n",
       "      <th>3</th>\n",
       "      <td>1.039417</td>\n",
       "      <td>1.305143</td>\n",
       "      <td>0.105060</td>\n",
       "      <td>0.0</td>\n",
       "      <td>3</td>\n",
       "    </tr>\n",
       "    <tr>\n",
       "      <th>4</th>\n",
       "      <td>0.976098</td>\n",
       "      <td>1.230163</td>\n",
       "      <td>0.095051</td>\n",
       "      <td>0.0</td>\n",
       "      <td>4</td>\n",
       "    </tr>\n",
       "    <tr>\n",
       "      <th>...</th>\n",
       "      <td>...</td>\n",
       "      <td>...</td>\n",
       "      <td>...</td>\n",
       "      <td>...</td>\n",
       "      <td>...</td>\n",
       "    </tr>\n",
       "    <tr>\n",
       "      <th>65</th>\n",
       "      <td>0.755948</td>\n",
       "      <td>0.991542</td>\n",
       "      <td>0.064367</td>\n",
       "      <td>0.0</td>\n",
       "      <td>65</td>\n",
       "    </tr>\n",
       "    <tr>\n",
       "      <th>66</th>\n",
       "      <td>0.753524</td>\n",
       "      <td>0.988326</td>\n",
       "      <td>0.064057</td>\n",
       "      <td>0.0</td>\n",
       "      <td>66</td>\n",
       "    </tr>\n",
       "    <tr>\n",
       "      <th>67</th>\n",
       "      <td>0.750512</td>\n",
       "      <td>0.987131</td>\n",
       "      <td>0.063694</td>\n",
       "      <td>0.0</td>\n",
       "      <td>67</td>\n",
       "    </tr>\n",
       "    <tr>\n",
       "      <th>68</th>\n",
       "      <td>0.748383</td>\n",
       "      <td>0.986534</td>\n",
       "      <td>0.063644</td>\n",
       "      <td>0.0</td>\n",
       "      <td>68</td>\n",
       "    </tr>\n",
       "    <tr>\n",
       "      <th>69</th>\n",
       "      <td>0.749987</td>\n",
       "      <td>0.985278</td>\n",
       "      <td>0.063631</td>\n",
       "      <td>0.0</td>\n",
       "      <td>69</td>\n",
       "    </tr>\n",
       "  </tbody>\n",
       "</table>\n",
       "<p>70 rows × 5 columns</p>\n",
       "</div>"
      ],
      "text/plain": [
       "         MAE      RMSE      Loss  RegLoss  epoch\n",
       "0   1.705550  2.126646  0.222482      0.0      0\n",
       "1   0.900412  1.155073  0.085384      0.0      1\n",
       "2   0.927248  1.181492  0.088358      0.0      2\n",
       "3   1.039417  1.305143  0.105060      0.0      3\n",
       "4   0.976098  1.230163  0.095051      0.0      4\n",
       "..       ...       ...       ...      ...    ...\n",
       "65  0.755948  0.991542  0.064367      0.0     65\n",
       "66  0.753524  0.988326  0.064057      0.0     66\n",
       "67  0.750512  0.987131  0.063694      0.0     67\n",
       "68  0.748383  0.986534  0.063644      0.0     68\n",
       "69  0.749987  0.985278  0.063631      0.0     69\n",
       "\n",
       "[70 rows x 5 columns]"
      ]
     },
     "execution_count": 28,
     "metadata": {},
     "output_type": "execute_result"
    }
   ],
   "source": [
    "m = NeuralProphet(\n",
    "    growth=melhores_parametros['growth'],\n",
    "    n_forecasts=melhores_parametros['n_forecasts'],\n",
    "    learning_rate=melhores_parametros['learning_rate']\n",
    ")\n",
    "\n",
    "m.add_future_regressor(\"% Iron Feed\")\n",
    "m.add_future_regressor(\"% Silica Feed\")\n",
    "m.add_future_regressor(\"Starch Flow\")\n",
    "m.add_future_regressor(\"Amina Flow\")\n",
    "m.add_future_regressor(\"Ore Pulp Flow\")\n",
    "m.add_future_regressor(\"Ore Pulp pH\")\n",
    "m.add_future_regressor(\"Ore Pulp Density\")\n",
    "m.add_future_regressor(\"Flotation Column 01 Air Flow\")\n",
    "m.add_future_regressor(\"Flotation Column 02 Air Flow\")\n",
    "m.add_future_regressor(\"Flotation Column 03 Air Flow\")\n",
    "m.add_future_regressor(\"Flotation Column 04 Air Flow\")\n",
    "m.add_future_regressor(\"Flotation Column 05 Air Flow\")\n",
    "m.add_future_regressor(\"Flotation Column 06 Air Flow\")\n",
    "m.add_future_regressor(\"Flotation Column 07 Air Flow\")\n",
    "m.add_future_regressor(\"Flotation Column 01 Level\")\n",
    "m.add_future_regressor(\"Flotation Column 02 Level\")\n",
    "m.add_future_regressor(\"Flotation Column 03 Level\")\n",
    "m.add_future_regressor(\"Flotation Column 04 Level\")\n",
    "m.add_future_regressor(\"Flotation Column 05 Level\")\n",
    "m.add_future_regressor(\"Flotation Column 06 Level\")\n",
    "m.add_future_regressor(\"Flotation Column 07 Level\")\n",
    "\n",
    "m.fit(treino.drop(columns=[\"% Iron Concentrate\"]), freq='h')"
   ]
  },
  {
   "cell_type": "markdown",
   "id": "2b77c16b-5595-44b5-b0e6-777b7ae17f67",
   "metadata": {},
   "source": [
    "### **Avaliando o modelo**"
   ]
  },
  {
   "cell_type": "code",
   "execution_count": 29,
   "id": "63598ef3-3980-448f-9aa4-ecfbc04f5ae8",
   "metadata": {},
   "outputs": [
    {
     "name": "stdout",
     "output_type": "stream",
     "text": [
      "Predicting DataLoader 0: 100%|██████████████████████████████████████████████████████████| 1/1 [00:00<00:00, 155.29it/s]\n"
     ]
    }
   ],
   "source": [
    "# Previsões\n",
    "y_pred = m.predict(teste.drop(columns=[\"% Iron Concentrate\"]))"
   ]
  },
  {
   "cell_type": "code",
   "execution_count": 30,
   "id": "adc9e537-1c2b-4151-8db4-0eda87cb6896",
   "metadata": {},
   "outputs": [
    {
     "data": {
      "text/plain": [
       "{'RMSE': 0.664192100319612,\n",
       " 'MAE': 0.5204869568347931,\n",
       " 'MAPE': 22.214668037767474}"
      ]
     },
     "execution_count": 30,
     "metadata": {},
     "output_type": "execute_result"
    }
   ],
   "source": [
    "# Visualizando as métricas\n",
    "eval_metrics(teste.y.values, y_pred.yhat1.values)"
   ]
  },
  {
   "cell_type": "code",
   "execution_count": 31,
   "id": "3b0a432b-7c02-4b1c-9663-5e43001e059b",
   "metadata": {},
   "outputs": [
    {
     "data": {
      "image/png": "[encoded data removed]",
      "text/plain": [
       "<Figure size 1200x800 with 1 Axes>"
      ]
     },
     "metadata": {},
     "output_type": "display_data"
    }
   ],
   "source": [
    "fig, ax = plt.subplots(figsize=(12,8))\n",
    "\n",
    "plt.plot(teste.ds, teste.y.values, label=\"Valores Reais\", marker='o', color=\"blue\")\n",
    "plt.plot(y_pred.ds, y_pred.yhat1.values, label=\"Valores Previstos\", marker='s', color=\"red\")\n",
    "\n",
    "plt.ylabel(\"% Silica Concentrate\")\n",
    "plt.xlabel(\"Data\")\n",
    "plt.title(\"Modelo NeuralProphet - Multivariado com todas as variáveis, excluindo apenas % Iron Concentrate\")\n",
    "plt.legend()\n",
    "\n",
    "plt.tight_layout()"
   ]
  },
  {
   "cell_type": "markdown",
   "id": "b1002bf7-d0ec-480c-bfd8-c519e9ec1c43",
   "metadata": {},
   "source": [
    "## **Modelo NeuralProphet - Multivariado com variáveis selecionadas, excluindo apenas `% Iron Concentrate`**"
   ]
  },
  {
   "cell_type": "markdown",
   "id": "921392e3-347b-4eb2-8d8d-faa9c1fa5d1a",
   "metadata": {},
   "source": [
    "### **Ajuste dos hiperparâmetros com Optuna**"
   ]
  },
  {
   "cell_type": "code",
   "execution_count": 32,
   "id": "e2577ed0-d22f-48c1-95eb-f6063dfb420e",
   "metadata": {},
   "outputs": [],
   "source": [
    "def objective(trial):\n",
    "    growth = trial.suggest_categorical('growth', ['off', 'linear', 'discontinuous'])\n",
    "    n_forecasts = trial.suggest_int('n_forecasts', 1, 6)\n",
    "    learning_rate = trial.suggest_float('learning_rate', 0.0001, 1)\n",
    "\n",
    "    # Instaciando o modelo\n",
    "    m = NeuralProphet(growth=growth, n_forecasts=n_forecasts, learning_rate=learning_rate)\n",
    "    m.add_future_regressor(\"Amina Flow\")\n",
    "    m.add_future_regressor(\"Ore Pulp pH\")\n",
    "    m.add_future_regressor(\"Flotation Column 01 Air Flow\")\n",
    "    m.add_future_regressor(\"Flotation Column 02 Air Flow\")\n",
    "    m.add_future_regressor(\"Flotation Column 03 Air Flow\")\n",
    "    m.add_future_regressor(\"Flotation Column 04 Level\")\n",
    "    m.add_future_regressor(\"Flotation Column 05 Level\")\n",
    "    m.add_future_regressor(\"Flotation Column 06 Level\")\n",
    "    m.add_future_regressor(\"Flotation Column 07 Level\")\n",
    "\n",
    "    # Treinando o modelo\n",
    "    m.fit(treino.drop(treino.index[-24:]).loc[:, [\"ds\", \"Amina Flow\", \"Ore Pulp pH\", \n",
    "                                                  \"Flotation Column 01 Air Flow\", \"Flotation Column 02 Air Flow\", \"Flotation Column 03 Air Flow\",\n",
    "                                                  \"Flotation Column 04 Level\", \"Flotation Column 05 Level\", \"Flotation Column 06 Level\",\"Flotation Column 07 Level\", \n",
    "                                                  \"y\"]], freq=\"h\")\n",
    "\n",
    "    # Fazendo previsões\n",
    "    val = treino[-24:].reset_index(drop=True).loc[:, [\"ds\", \"Amina Flow\", \"Ore Pulp pH\", \n",
    "                                                  \"Flotation Column 01 Air Flow\", \"Flotation Column 02 Air Flow\", \"Flotation Column 03 Air Flow\",\n",
    "                                                  \"Flotation Column 04 Level\", \"Flotation Column 05 Level\", \"Flotation Column 06 Level\",\"Flotation Column 07 Level\", \n",
    "                                                  \"y\"]]\n",
    "    previsoes = m.predict(val)\n",
    "\n",
    "    # Calculado o MAPE\n",
    "    y_true = val.y.values\n",
    "    y_pred = previsoes.yhat1.values\n",
    "    mape = (np.mean(np.true_divide(np.abs(y_true-y_pred), y_true)))*100\n",
    "\n",
    "    return mape"
   ]
  },
  {
   "cell_type": "code",
   "execution_count": 33,
   "id": "454a7687-1280-4f5f-99ee-f4d35954e105",
   "metadata": {},
   "outputs": [
    {
     "name": "stderr",
     "output_type": "stream",
     "text": [
      "[I 2024-10-19 15:15:58,417] A new study created in memory with name: no-name-7d53378a-246d-4e3c-9916-8564b10d1195\n"
     ]
    },
    {
     "name": "stdout",
     "output_type": "stream",
     "text": [
      "Epoch 70: 100%|█| 70/70 [00:00<00:00, 230.34it/s, loss=0.0663, v_num=1684, MAE=0.778, RMSE=1.010, Loss=0.0663, RegLoss=\n",
      "Predicting DataLoader 0: 100%|██████████████████████████████████████████████████████████| 1/1 [00:00<00:00, 181.67it/s]"
     ]
    },
    {
     "name": "stderr",
     "output_type": "stream",
     "text": [
      "[I 2024-10-19 15:16:20,487] Trial 0 finished with value: 42.99267579392459 and parameters: {'growth': 'linear', 'n_forecasts': 2, 'learning_rate': 0.1468412152280313}. Best is trial 0 with value: 42.99267579392459.\n"
     ]
    },
    {
     "name": "stdout",
     "output_type": "stream",
     "text": [
      "\n",
      "Epoch 70: 100%|█| 70/70 [00:00<00:00, 241.75it/s, loss=0.0677, v_num=1685, MAE=0.762, RMSE=0.998, Loss=0.0656, RegLoss=\n",
      "Predicting DataLoader 0: 100%|██████████████████████████████████████████████████████████| 1/1 [00:00<00:00, 217.94it/s]"
     ]
    },
    {
     "name": "stderr",
     "output_type": "stream",
     "text": [
      "[I 2024-10-19 15:16:41,727] Trial 1 finished with value: 34.6674458051713 and parameters: {'growth': 'discontinuous', 'n_forecasts': 3, 'learning_rate': 0.5388628523299566}. Best is trial 1 with value: 34.6674458051713.\n"
     ]
    },
    {
     "name": "stdout",
     "output_type": "stream",
     "text": [
      "\n",
      "Epoch 70: 100%|█| 70/70 [00:00<00:00, 225.22it/s, loss=0.0658, v_num=1686, MAE=0.778, RMSE=1.010, Loss=0.0662, RegLoss=\n",
      "Predicting DataLoader 0: 100%|██████████████████████████████████████████████████████████| 1/1 [00:00<00:00, 178.81it/s]"
     ]
    },
    {
     "name": "stderr",
     "output_type": "stream",
     "text": [
      "[I 2024-10-19 15:17:03,657] Trial 2 finished with value: 45.39589506655239 and parameters: {'growth': 'linear', 'n_forecasts': 6, 'learning_rate': 0.02748485443860637}. Best is trial 1 with value: 34.6674458051713.\n"
     ]
    },
    {
     "name": "stdout",
     "output_type": "stream",
     "text": [
      "\n",
      "Epoch 70: 100%|█| 70/70 [00:00<00:00, 265.27it/s, loss=0.0716, v_num=1687, MAE=0.808, RMSE=1.040, Loss=0.0693, RegLoss=\n",
      "Predicting DataLoader 0: 100%|██████████████████████████████████████████████████████████| 1/1 [00:00<00:00, 203.75it/s]"
     ]
    },
    {
     "name": "stderr",
     "output_type": "stream",
     "text": [
      "[I 2024-10-19 15:17:22,691] Trial 3 finished with value: 40.20733978771854 and parameters: {'growth': 'off', 'n_forecasts': 1, 'learning_rate': 0.1981816789359703}. Best is trial 1 with value: 34.6674458051713.\n"
     ]
    },
    {
     "name": "stdout",
     "output_type": "stream",
     "text": [
      "\n",
      "Epoch 70: 100%|█| 70/70 [00:00<00:00, 227.10it/s, loss=0.0675, v_num=1688, MAE=0.781, RMSE=1.010, Loss=0.0671, RegLoss=\n",
      "Predicting DataLoader 0: 100%|██████████████████████████████████████████████████████████| 1/1 [00:00<00:00, 170.96it/s]"
     ]
    },
    {
     "name": "stderr",
     "output_type": "stream",
     "text": [
      "[I 2024-10-19 15:17:44,370] Trial 4 finished with value: 46.741622583701 and parameters: {'growth': 'linear', 'n_forecasts': 5, 'learning_rate': 0.8764015133808087}. Best is trial 1 with value: 34.6674458051713.\n"
     ]
    },
    {
     "name": "stdout",
     "output_type": "stream",
     "text": [
      "\n",
      "Epoch 70: 100%|█| 70/70 [00:00<00:00, 256.81it/s, loss=0.0708, v_num=1689, MAE=0.825, RMSE=1.050, Loss=0.0713, RegLoss=\n",
      "Predicting DataLoader 0: 100%|██████████████████████████████████████████████████████████| 1/1 [00:00<00:00, 203.72it/s]"
     ]
    },
    {
     "name": "stderr",
     "output_type": "stream",
     "text": [
      "[I 2024-10-19 15:18:03,500] Trial 5 finished with value: 28.38917540530118 and parameters: {'growth': 'off', 'n_forecasts': 2, 'learning_rate': 0.8781546891790702}. Best is trial 5 with value: 28.38917540530118.\n"
     ]
    },
    {
     "name": "stdout",
     "output_type": "stream",
     "text": [
      "\n",
      "Epoch 70: 100%|█| 70/70 [00:00<00:00, 240.17it/s, loss=0.0665, v_num=1690, MAE=0.766, RMSE=1.000, Loss=0.0657, RegLoss=\n",
      "Predicting DataLoader 0: 100%|██████████████████████████████████████████████████████████| 1/1 [00:00<00:00, 182.98it/s]"
     ]
    },
    {
     "name": "stderr",
     "output_type": "stream",
     "text": [
      "[I 2024-10-19 15:18:24,557] Trial 6 finished with value: 33.116058175733116 and parameters: {'growth': 'discontinuous', 'n_forecasts': 4, 'learning_rate': 0.6919079262390783}. Best is trial 5 with value: 28.38917540530118.\n"
     ]
    },
    {
     "name": "stdout",
     "output_type": "stream",
     "text": [
      "\n",
      "Epoch 70: 100%|█| 70/70 [00:00<00:00, 241.58it/s, loss=0.0659, v_num=1691, MAE=0.766, RMSE=1.000, Loss=0.066, RegLoss=0\n",
      "Predicting DataLoader 0: 100%|██████████████████████████████████████████████████████████| 1/1 [00:00<00:00, 198.73it/s]"
     ]
    },
    {
     "name": "stderr",
     "output_type": "stream",
     "text": [
      "[I 2024-10-19 15:18:45,598] Trial 7 finished with value: 42.78576801465726 and parameters: {'growth': 'discontinuous', 'n_forecasts': 1, 'learning_rate': 0.750169300513473}. Best is trial 5 with value: 28.38917540530118.\n"
     ]
    },
    {
     "name": "stdout",
     "output_type": "stream",
     "text": [
      "\n",
      "Epoch 70: 100%|█| 70/70 [00:00<00:00, 256.94it/s, loss=0.0711, v_num=1692, MAE=0.811, RMSE=1.040, Loss=0.0698, RegLoss=\n",
      "Predicting DataLoader 0: 100%|██████████████████████████████████████████████████████████| 1/1 [00:00<00:00, 199.74it/s]"
     ]
    },
    {
     "name": "stderr",
     "output_type": "stream",
     "text": [
      "[I 2024-10-19 15:19:04,804] Trial 8 finished with value: 36.97444674130161 and parameters: {'growth': 'off', 'n_forecasts': 5, 'learning_rate': 0.10331568397698426}. Best is trial 5 with value: 28.38917540530118.\n"
     ]
    },
    {
     "name": "stdout",
     "output_type": "stream",
     "text": [
      "\n",
      "Epoch 70: 100%|█| 70/70 [00:00<00:00, 217.17it/s, loss=0.0665, v_num=1693, MAE=0.773, RMSE=1.000, Loss=0.0659, RegLoss=\n",
      "Predicting DataLoader 0: 100%|██████████████████████████████████████████████████████████| 1/1 [00:00<00:00, 183.17it/s]"
     ]
    },
    {
     "name": "stderr",
     "output_type": "stream",
     "text": [
      "[I 2024-10-19 15:19:29,458] Trial 9 finished with value: 45.684135214879376 and parameters: {'growth': 'linear', 'n_forecasts': 2, 'learning_rate': 0.13011556926106585}. Best is trial 5 with value: 28.38917540530118.\n"
     ]
    },
    {
     "name": "stdout",
     "output_type": "stream",
     "text": [
      "\n",
      "Epoch 70: 100%|█| 70/70 [00:00<00:00, 261.86it/s, loss=0.0677, v_num=1694, MAE=0.824, RMSE=1.060, Loss=0.0717, RegLoss=\n",
      "Predicting DataLoader 0: 100%|██████████████████████████████████████████████████████████| 1/1 [00:00<00:00, 200.29it/s]"
     ]
    },
    {
     "name": "stderr",
     "output_type": "stream",
     "text": [
      "[I 2024-10-19 15:19:50,037] Trial 10 finished with value: 35.49963283012902 and parameters: {'growth': 'off', 'n_forecasts': 3, 'learning_rate': 0.9671985624260364}. Best is trial 5 with value: 28.38917540530118.\n"
     ]
    },
    {
     "name": "stdout",
     "output_type": "stream",
     "text": [
      "\n",
      "Epoch 70: 100%|█| 70/70 [00:00<00:00, 221.08it/s, loss=0.0645, v_num=1695, MAE=0.769, RMSE=1.010, Loss=0.0663, RegLoss=\n",
      "Predicting DataLoader 0: 100%|██████████████████████████████████████████████████████████| 1/1 [00:00<00:00, 183.71it/s]"
     ]
    },
    {
     "name": "stderr",
     "output_type": "stream",
     "text": [
      "[I 2024-10-19 15:20:12,330] Trial 11 finished with value: 48.96324227328218 and parameters: {'growth': 'discontinuous', 'n_forecasts': 4, 'learning_rate': 0.671532106792692}. Best is trial 5 with value: 28.38917540530118.\n"
     ]
    },
    {
     "name": "stdout",
     "output_type": "stream",
     "text": [
      "\n",
      "Epoch 70: 100%|█| 70/70 [00:00<00:00, 209.60it/s, loss=0.0657, v_num=1696, MAE=0.760, RMSE=0.996, Loss=0.065, RegLoss=0\n",
      "Predicting DataLoader 0: 100%|██████████████████████████████████████████████████████████| 1/1 [00:00<00:00, 154.87it/s]"
     ]
    },
    {
     "name": "stderr",
     "output_type": "stream",
     "text": [
      "[I 2024-10-19 15:20:34,783] Trial 12 finished with value: 44.55520978632641 and parameters: {'growth': 'discontinuous', 'n_forecasts': 4, 'learning_rate': 0.4106052063451816}. Best is trial 5 with value: 28.38917540530118.\n"
     ]
    },
    {
     "name": "stdout",
     "output_type": "stream",
     "text": [
      "\n",
      "Epoch 70: 100%|█| 70/70 [00:00<00:00, 258.03it/s, loss=0.0669, v_num=1697, MAE=0.817, RMSE=1.050, Loss=0.0708, RegLoss=\n",
      "Predicting DataLoader 0: 100%|██████████████████████████████████████████████████████████| 1/1 [00:00<00:00, 229.96it/s]"
     ]
    },
    {
     "name": "stderr",
     "output_type": "stream",
     "text": [
      "[I 2024-10-19 15:20:54,983] Trial 13 finished with value: 41.75900381943565 and parameters: {'growth': 'off', 'n_forecasts': 2, 'learning_rate': 0.7623036193780893}. Best is trial 5 with value: 28.38917540530118.\n"
     ]
    },
    {
     "name": "stdout",
     "output_type": "stream",
     "text": [
      "\n",
      "Epoch 70: 100%|█| 70/70 [00:00<00:00, 228.73it/s, loss=0.0698, v_num=1698, MAE=0.762, RMSE=0.994, Loss=0.065, RegLoss=0\n",
      "Predicting DataLoader 0: 100%|██████████████████████████████████████████████████████████| 1/1 [00:00<00:00, 203.20it/s]"
     ]
    },
    {
     "name": "stderr",
     "output_type": "stream",
     "text": [
      "[I 2024-10-19 15:21:17,207] Trial 14 finished with value: 40.32296215606356 and parameters: {'growth': 'discontinuous', 'n_forecasts': 3, 'learning_rate': 0.5509033172990179}. Best is trial 5 with value: 28.38917540530118.\n"
     ]
    },
    {
     "name": "stdout",
     "output_type": "stream",
     "text": [
      "\n",
      "Epoch 70: 100%|█| 70/70 [00:00<00:00, 246.81it/s, loss=0.069, v_num=1699, MAE=0.819, RMSE=1.050, Loss=0.0708, RegLoss=0\n",
      "Predicting DataLoader 0: 100%|██████████████████████████████████████████████████████████| 1/1 [00:00<00:00, 205.24it/s]"
     ]
    },
    {
     "name": "stderr",
     "output_type": "stream",
     "text": [
      "[I 2024-10-19 15:21:37,946] Trial 15 finished with value: 46.224724697441815 and parameters: {'growth': 'off', 'n_forecasts': 5, 'learning_rate': 0.984615370700596}. Best is trial 5 with value: 28.38917540530118.\n"
     ]
    },
    {
     "name": "stdout",
     "output_type": "stream",
     "text": [
      "\n",
      "Epoch 70: 100%|█| 70/70 [00:00<00:00, 255.03it/s, loss=0.0702, v_num=1700, MAE=0.811, RMSE=1.040, Loss=0.0699, RegLoss=\n",
      "Predicting DataLoader 0: 100%|██████████████████████████████████████████████████████████| 1/1 [00:00<00:00, 199.50it/s]"
     ]
    },
    {
     "name": "stderr",
     "output_type": "stream",
     "text": [
      "[I 2024-10-19 15:21:57,764] Trial 16 finished with value: 39.52372048899897 and parameters: {'growth': 'off', 'n_forecasts': 4, 'learning_rate': 0.39042260680219204}. Best is trial 5 with value: 28.38917540530118.\n"
     ]
    },
    {
     "name": "stdout",
     "output_type": "stream",
     "text": [
      "\n",
      "Epoch 70: 100%|█| 70/70 [00:00<00:00, 227.31it/s, loss=0.0669, v_num=1701, MAE=0.771, RMSE=1.010, Loss=0.0668, RegLoss=\n",
      "Predicting DataLoader 0: 100%|██████████████████████████████████████████████████████████| 1/1 [00:00<00:00, 207.83it/s]"
     ]
    },
    {
     "name": "stderr",
     "output_type": "stream",
     "text": [
      "[I 2024-10-19 15:22:20,228] Trial 17 finished with value: 49.01299814069055 and parameters: {'growth': 'discontinuous', 'n_forecasts': 2, 'learning_rate': 0.8309293607842554}. Best is trial 5 with value: 28.38917540530118.\n"
     ]
    },
    {
     "name": "stdout",
     "output_type": "stream",
     "text": [
      "\n",
      "Epoch 70: 100%|█| 70/70 [00:00<00:00, 243.18it/s, loss=0.0654, v_num=1702, MAE=0.810, RMSE=1.040, Loss=0.0698, RegLoss=\n",
      "Predicting DataLoader 0: 100%|██████████████████████████████████████████████████████████| 1/1 [00:00<00:00, 190.10it/s]"
     ]
    },
    {
     "name": "stderr",
     "output_type": "stream",
     "text": [
      "[I 2024-10-19 15:22:40,433] Trial 18 finished with value: 33.909065742489304 and parameters: {'growth': 'off', 'n_forecasts': 6, 'learning_rate': 0.6662849327827818}. Best is trial 5 with value: 28.38917540530118.\n"
     ]
    },
    {
     "name": "stdout",
     "output_type": "stream",
     "text": [
      "\n",
      "Epoch 70: 100%|█| 70/70 [00:00<00:00, 200.95it/s, loss=0.0678, v_num=1703, MAE=0.765, RMSE=1.000, Loss=0.0657, RegLoss=\n",
      "Predicting DataLoader 0: 100%|██████████████████████████████████████████████████████████| 1/1 [00:00<00:00, 199.68it/s]"
     ]
    },
    {
     "name": "stderr",
     "output_type": "stream",
     "text": [
      "[I 2024-10-19 15:23:02,572] Trial 19 finished with value: 39.789538148867926 and parameters: {'growth': 'discontinuous', 'n_forecasts': 1, 'learning_rate': 0.63807549900181}. Best is trial 5 with value: 28.38917540530118.\n"
     ]
    },
    {
     "name": "stdout",
     "output_type": "stream",
     "text": [
      "\n",
      "Epoch 70: 100%|█| 70/70 [00:00<00:00, 226.42it/s, loss=0.0698, v_num=1704, MAE=0.768, RMSE=1.010, Loss=0.0664, RegLoss=\n",
      "Predicting DataLoader 0: 100%|██████████████████████████████████████████████████████████| 1/1 [00:00<00:00, 181.60it/s]"
     ]
    },
    {
     "name": "stderr",
     "output_type": "stream",
     "text": [
      "[I 2024-10-19 15:23:24,972] Trial 20 finished with value: 42.682043554604256 and parameters: {'growth': 'discontinuous', 'n_forecasts': 3, 'learning_rate': 0.8842877288709861}. Best is trial 5 with value: 28.38917540530118.\n"
     ]
    },
    {
     "name": "stdout",
     "output_type": "stream",
     "text": [
      "\n",
      "Epoch 70: 100%|█| 70/70 [00:00<00:00, 211.67it/s, loss=0.0753, v_num=1705, MAE=0.820, RMSE=1.050, Loss=0.0709, RegLoss=\n",
      "Predicting DataLoader 0: 100%|██████████████████████████████████████████████████████████| 1/1 [00:00<00:00, 137.86it/s]"
     ]
    },
    {
     "name": "stderr",
     "output_type": "stream",
     "text": [
      "[I 2024-10-19 15:23:45,348] Trial 21 finished with value: 32.42910074300269 and parameters: {'growth': 'off', 'n_forecasts': 6, 'learning_rate': 0.6791301589775163}. Best is trial 5 with value: 28.38917540530118.\n"
     ]
    },
    {
     "name": "stdout",
     "output_type": "stream",
     "text": [
      "\n",
      "Epoch 70: 100%|█| 70/70 [00:00<00:00, 255.49it/s, loss=0.0691, v_num=1706, MAE=0.817, RMSE=1.050, Loss=0.0705, RegLoss=\n",
      "Predicting DataLoader 0: 100%|██████████████████████████████████████████████████████████| 1/1 [00:00<00:00, 226.12it/s]"
     ]
    },
    {
     "name": "stderr",
     "output_type": "stream",
     "text": [
      "[I 2024-10-19 15:24:06,086] Trial 22 finished with value: 35.62087339094851 and parameters: {'growth': 'off', 'n_forecasts': 6, 'learning_rate': 0.7642764121268586}. Best is trial 5 with value: 28.38917540530118.\n"
     ]
    },
    {
     "name": "stdout",
     "output_type": "stream",
     "text": [
      "\n",
      "Epoch 70: 100%|█| 70/70 [00:00<00:00, 252.67it/s, loss=0.073, v_num=1707, MAE=0.817, RMSE=1.050, Loss=0.0706, RegLoss=0\n",
      "Predicting DataLoader 0: 100%|██████████████████████████████████████████████████████████| 1/1 [00:00<00:00, 219.45it/s]"
     ]
    },
    {
     "name": "stderr",
     "output_type": "stream",
     "text": [
      "[I 2024-10-19 15:24:26,655] Trial 23 finished with value: 43.13558288156689 and parameters: {'growth': 'off', 'n_forecasts': 5, 'learning_rate': 0.6044354595536107}. Best is trial 5 with value: 28.38917540530118.\n"
     ]
    },
    {
     "name": "stdout",
     "output_type": "stream",
     "text": [
      "\n",
      "Epoch 70: 100%|█| 70/70 [00:00<00:00, 256.07it/s, loss=0.0702, v_num=1708, MAE=0.810, RMSE=1.040, Loss=0.0692, RegLoss=\n",
      "Predicting DataLoader 0: 100%|██████████████████████████████████████████████████████████| 1/1 [00:00<00:00, 213.37it/s]"
     ]
    },
    {
     "name": "stderr",
     "output_type": "stream",
     "text": [
      "[I 2024-10-19 15:24:46,583] Trial 24 finished with value: 38.574523224677975 and parameters: {'growth': 'off', 'n_forecasts': 4, 'learning_rate': 0.40216995454659943}. Best is trial 5 with value: 28.38917540530118.\n"
     ]
    },
    {
     "name": "stdout",
     "output_type": "stream",
     "text": [
      "\n",
      "Epoch 70: 100%|█| 70/70 [00:00<00:00, 258.26it/s, loss=0.0689, v_num=1709, MAE=0.810, RMSE=1.040, Loss=0.0695, RegLoss=\n",
      "Predicting DataLoader 0: 100%|██████████████████████████████████████████████████████████| 1/1 [00:00<00:00, 183.86it/s]"
     ]
    },
    {
     "name": "stderr",
     "output_type": "stream",
     "text": [
      "[I 2024-10-19 15:25:05,565] Trial 25 finished with value: 38.19062352035399 and parameters: {'growth': 'off', 'n_forecasts': 6, 'learning_rate': 0.4802711827951001}. Best is trial 5 with value: 28.38917540530118.\n"
     ]
    },
    {
     "name": "stdout",
     "output_type": "stream",
     "text": [
      "\n",
      "Epoch 70: 100%|█| 70/70 [00:00<00:00, 261.45it/s, loss=0.0703, v_num=1710, MAE=0.819, RMSE=1.050, Loss=0.0709, RegLoss=\n",
      "Predicting DataLoader 0: 100%|██████████████████████████████████████████████████████████| 1/1 [00:00<00:00, 210.77it/s]"
     ]
    },
    {
     "name": "stderr",
     "output_type": "stream",
     "text": [
      "[I 2024-10-19 15:25:24,518] Trial 26 finished with value: 30.221699607225844 and parameters: {'growth': 'off', 'n_forecasts': 5, 'learning_rate': 0.8222178718164188}. Best is trial 5 with value: 28.38917540530118.\n"
     ]
    },
    {
     "name": "stdout",
     "output_type": "stream",
     "text": [
      "\n",
      "Epoch 70: 100%|█| 70/70 [00:00<00:00, 267.08it/s, loss=0.0787, v_num=1711, MAE=0.827, RMSE=1.060, Loss=0.0717, RegLoss=\n",
      "Predicting DataLoader 0: 100%|██████████████████████████████████████████████████████████| 1/1 [00:00<00:00, 182.86it/s]"
     ]
    },
    {
     "name": "stderr",
     "output_type": "stream",
     "text": [
      "[I 2024-10-19 15:25:43,553] Trial 27 finished with value: 41.08154662176117 and parameters: {'growth': 'off', 'n_forecasts': 5, 'learning_rate': 0.9005805590346811}. Best is trial 5 with value: 28.38917540530118.\n"
     ]
    },
    {
     "name": "stdout",
     "output_type": "stream",
     "text": [
      "\n",
      "Epoch 70: 100%|█| 70/70 [00:00<00:00, 252.64it/s, loss=0.0747, v_num=1712, MAE=0.815, RMSE=1.050, Loss=0.0706, RegLoss=\n",
      "Predicting DataLoader 0: 100%|██████████████████████████████████████████████████████████| 1/1 [00:00<00:00, 218.89it/s]"
     ]
    },
    {
     "name": "stderr",
     "output_type": "stream",
     "text": [
      "[I 2024-10-19 15:26:02,487] Trial 28 finished with value: 38.673455036247965 and parameters: {'growth': 'off', 'n_forecasts': 6, 'learning_rate': 0.8174010459528623}. Best is trial 5 with value: 28.38917540530118.\n"
     ]
    },
    {
     "name": "stdout",
     "output_type": "stream",
     "text": [
      "\n",
      "Epoch 70: 100%|█| 70/70 [00:00<00:00, 234.33it/s, loss=0.0745, v_num=1713, MAE=0.786, RMSE=1.020, Loss=0.0676, RegLoss=\n",
      "Predicting DataLoader 0: 100%|██████████████████████████████████████████████████████████| 1/1 [00:00<00:00, 213.81it/s]"
     ]
    },
    {
     "name": "stderr",
     "output_type": "stream",
     "text": [
      "[I 2024-10-19 15:26:24,353] Trial 29 finished with value: 47.21282447652997 and parameters: {'growth': 'linear', 'n_forecasts': 5, 'learning_rate': 0.9298757414531157}. Best is trial 5 with value: 28.38917540530118.\n"
     ]
    },
    {
     "name": "stdout",
     "output_type": "stream",
     "text": [
      "\n",
      "Epoch 70: 100%|█| 70/70 [00:00<00:00, 266.71it/s, loss=0.0751, v_num=1714, MAE=0.817, RMSE=1.050, Loss=0.0707, RegLoss=\n",
      "Predicting DataLoader 0: 100%|██████████████████████████████████████████████████████████| 1/1 [00:00<00:00, 175.54it/s]"
     ]
    },
    {
     "name": "stderr",
     "output_type": "stream",
     "text": [
      "[I 2024-10-19 15:26:43,486] Trial 30 finished with value: 37.940950300667566 and parameters: {'growth': 'off', 'n_forecasts': 6, 'learning_rate': 0.814309595561683}. Best is trial 5 with value: 28.38917540530118.\n"
     ]
    },
    {
     "name": "stdout",
     "output_type": "stream",
     "text": [
      "\n",
      "Epoch 70: 100%|█| 70/70 [00:00<00:00, 266.13it/s, loss=0.071, v_num=1715, MAE=0.819, RMSE=1.050, Loss=0.0708, RegLoss=0\n",
      "Predicting DataLoader 0: 100%|██████████████████████████████████████████████████████████| 1/1 [00:00<00:00, 207.04it/s]"
     ]
    },
    {
     "name": "stderr",
     "output_type": "stream",
     "text": [
      "[I 2024-10-19 15:27:02,376] Trial 31 finished with value: 43.088194409845165 and parameters: {'growth': 'off', 'n_forecasts': 4, 'learning_rate': 0.716656617130736}. Best is trial 5 with value: 28.38917540530118.\n"
     ]
    },
    {
     "name": "stdout",
     "output_type": "stream",
     "text": [
      "\n",
      "Epoch 70: 100%|█| 70/70 [00:00<00:00, 267.80it/s, loss=0.0721, v_num=1716, MAE=0.818, RMSE=1.050, Loss=0.0711, RegLoss=\n",
      "Predicting DataLoader 0: 100%|██████████████████████████████████████████████████████████| 1/1 [00:00<00:00, 183.54it/s]"
     ]
    },
    {
     "name": "stderr",
     "output_type": "stream",
     "text": [
      "[I 2024-10-19 15:27:21,167] Trial 32 finished with value: 28.205051816433663 and parameters: {'growth': 'off', 'n_forecasts': 5, 'learning_rate': 0.5894497826923997}. Best is trial 32 with value: 28.205051816433663.\n"
     ]
    },
    {
     "name": "stdout",
     "output_type": "stream",
     "text": [
      "\n",
      "Epoch 70: 100%|█| 70/70 [00:00<00:00, 271.13it/s, loss=0.0705, v_num=1717, MAE=0.814, RMSE=1.040, Loss=0.0701, RegLoss=\n",
      "Predicting DataLoader 0: 100%|██████████████████████████████████████████████████████████| 1/1 [00:00<00:00, 199.98it/s]"
     ]
    },
    {
     "name": "stderr",
     "output_type": "stream",
     "text": [
      "[I 2024-10-19 15:27:40,813] Trial 33 finished with value: 36.70665804988474 and parameters: {'growth': 'off', 'n_forecasts': 5, 'learning_rate': 0.5725048110348608}. Best is trial 32 with value: 28.205051816433663.\n"
     ]
    },
    {
     "name": "stdout",
     "output_type": "stream",
     "text": [
      "\n",
      "Epoch 70: 100%|█| 70/70 [00:00<00:00, 268.06it/s, loss=0.0728, v_num=1718, MAE=0.812, RMSE=1.040, Loss=0.0701, RegLoss=\n",
      "Predicting DataLoader 0: 100%|██████████████████████████████████████████████████████████| 1/1 [00:00<00:00, 202.65it/s]"
     ]
    },
    {
     "name": "stderr",
     "output_type": "stream",
     "text": [
      "[I 2024-10-19 15:27:59,575] Trial 34 finished with value: 46.82240481564768 and parameters: {'growth': 'off', 'n_forecasts': 6, 'learning_rate': 0.48869964206425853}. Best is trial 32 with value: 28.205051816433663.\n"
     ]
    },
    {
     "name": "stdout",
     "output_type": "stream",
     "text": [
      "\n",
      "Epoch 70: 100%|█| 70/70 [00:00<00:00, 271.09it/s, loss=0.0701, v_num=1719, MAE=0.808, RMSE=1.040, Loss=0.0695, RegLoss=\n",
      "Predicting DataLoader 0: 100%|██████████████████████████████████████████████████████████| 1/1 [00:00<00:00, 337.76it/s]"
     ]
    },
    {
     "name": "stderr",
     "output_type": "stream",
     "text": [
      "[I 2024-10-19 15:28:18,494] Trial 35 finished with value: 36.993392673744694 and parameters: {'growth': 'off', 'n_forecasts': 5, 'learning_rate': 0.6020191259216418}. Best is trial 32 with value: 28.205051816433663.\n"
     ]
    },
    {
     "name": "stdout",
     "output_type": "stream",
     "text": [
      "\n",
      "Epoch 70: 100%|█| 70/70 [00:00<00:00, 219.32it/s, loss=0.0633, v_num=1720, MAE=0.773, RMSE=1.010, Loss=0.0661, RegLoss=\n",
      "Predicting DataLoader 0: 100%|██████████████████████████████████████████████████████████| 1/1 [00:00<00:00, 186.38it/s]"
     ]
    },
    {
     "name": "stderr",
     "output_type": "stream",
     "text": [
      "[I 2024-10-19 15:28:40,151] Trial 36 finished with value: 44.34889742827347 and parameters: {'growth': 'linear', 'n_forecasts': 3, 'learning_rate': 0.25152357573575923}. Best is trial 32 with value: 28.205051816433663.\n"
     ]
    },
    {
     "name": "stdout",
     "output_type": "stream",
     "text": [
      "\n",
      "Epoch 70: 100%|█| 70/70 [00:00<00:00, 270.10it/s, loss=0.0706, v_num=1721, MAE=0.817, RMSE=1.050, Loss=0.0708, RegLoss=\n",
      "Predicting DataLoader 0: 100%|██████████████████████████████████████████████████████████| 1/1 [00:00<00:00, 196.57it/s]"
     ]
    },
    {
     "name": "stderr",
     "output_type": "stream",
     "text": [
      "[I 2024-10-19 15:28:58,988] Trial 37 finished with value: 42.66190776301242 and parameters: {'growth': 'off', 'n_forecasts': 6, 'learning_rate': 0.8417736293250881}. Best is trial 32 with value: 28.205051816433663.\n"
     ]
    },
    {
     "name": "stdout",
     "output_type": "stream",
     "text": [
      "\n",
      "Epoch 70: 100%|█| 70/70 [00:00<00:00, 259.14it/s, loss=0.0663, v_num=1722, MAE=0.809, RMSE=1.040, Loss=0.0697, RegLoss=\n",
      "Predicting DataLoader 0: 100%|██████████████████████████████████████████████████████████| 1/1 [00:00<00:00, 219.49it/s]"
     ]
    },
    {
     "name": "stderr",
     "output_type": "stream",
     "text": [
      "[I 2024-10-19 15:29:18,596] Trial 38 finished with value: 35.545937089229106 and parameters: {'growth': 'off', 'n_forecasts': 1, 'learning_rate': 0.7223114510571823}. Best is trial 32 with value: 28.205051816433663.\n"
     ]
    },
    {
     "name": "stdout",
     "output_type": "stream",
     "text": [
      "\n",
      "Epoch 70: 100%|█| 70/70 [00:00<00:00, 149.40it/s, loss=0.0675, v_num=1723, MAE=0.787, RMSE=1.020, Loss=0.0679, RegLoss=\n",
      "Predicting DataLoader 0: 100%|██████████████████████████████████████████████████████████| 1/1 [00:00<00:00, 197.23it/s]"
     ]
    },
    {
     "name": "stderr",
     "output_type": "stream",
     "text": [
      "[I 2024-10-19 15:29:40,861] Trial 39 finished with value: 43.254706202567725 and parameters: {'growth': 'linear', 'n_forecasts': 5, 'learning_rate': 0.7788072080461012}. Best is trial 32 with value: 28.205051816433663.\n"
     ]
    },
    {
     "name": "stdout",
     "output_type": "stream",
     "text": [
      "\n",
      "Epoch 70: 100%|█| 70/70 [00:00<00:00, 263.65it/s, loss=0.068, v_num=1724, MAE=0.816, RMSE=1.050, Loss=0.0706, RegLoss=0\n",
      "Predicting DataLoader 0: 100%|██████████████████████████████████████████████████████████| 1/1 [00:00<00:00, 184.05it/s]"
     ]
    },
    {
     "name": "stderr",
     "output_type": "stream",
     "text": [
      "[I 2024-10-19 15:29:59,673] Trial 40 finished with value: 27.594376612184895 and parameters: {'growth': 'off', 'n_forecasts': 2, 'learning_rate': 0.5230224098693883}. Best is trial 40 with value: 27.594376612184895.\n"
     ]
    },
    {
     "name": "stdout",
     "output_type": "stream",
     "text": [
      "\n",
      "Epoch 70: 100%|█| 70/70 [00:00<00:00, 264.55it/s, loss=0.0715, v_num=1725, MAE=0.818, RMSE=1.050, Loss=0.0708, RegLoss=\n",
      "Predicting DataLoader 0: 100%|██████████████████████████████████████████████████████████| 1/1 [00:00<00:00, 186.80it/s]"
     ]
    },
    {
     "name": "stderr",
     "output_type": "stream",
     "text": [
      "[I 2024-10-19 15:30:18,874] Trial 41 finished with value: 33.03036816098419 and parameters: {'growth': 'off', 'n_forecasts': 2, 'learning_rate': 0.4608519661045953}. Best is trial 40 with value: 27.594376612184895.\n"
     ]
    },
    {
     "name": "stdout",
     "output_type": "stream",
     "text": [
      "\n",
      "Epoch 70: 100%|█| 70/70 [00:00<00:00, 258.42it/s, loss=0.0667, v_num=1726, MAE=0.810, RMSE=1.040, Loss=0.0695, RegLoss=\n",
      "Predicting DataLoader 0: 100%|██████████████████████████████████████████████████████████| 1/1 [00:00<00:00, 212.20it/s]"
     ]
    },
    {
     "name": "stderr",
     "output_type": "stream",
     "text": [
      "[I 2024-10-19 15:30:38,557] Trial 42 finished with value: 39.12396283627423 and parameters: {'growth': 'off', 'n_forecasts': 1, 'learning_rate': 0.28977899676561997}. Best is trial 40 with value: 27.594376612184895.\n"
     ]
    },
    {
     "name": "stdout",
     "output_type": "stream",
     "text": [
      "\n",
      "Epoch 70: 100%|█| 70/70 [00:00<00:00, 270.21it/s, loss=0.0685, v_num=1727, MAE=0.816, RMSE=1.040, Loss=0.0701, RegLoss=\n",
      "Predicting DataLoader 0: 100%|██████████████████████████████████████████████████████████| 1/1 [00:00<00:00, 217.69it/s]"
     ]
    },
    {
     "name": "stderr",
     "output_type": "stream",
     "text": [
      "[I 2024-10-19 15:30:57,778] Trial 43 finished with value: 32.20457637192221 and parameters: {'growth': 'off', 'n_forecasts': 2, 'learning_rate': 0.525233748025202}. Best is trial 40 with value: 27.594376612184895.\n"
     ]
    },
    {
     "name": "stdout",
     "output_type": "stream",
     "text": [
      "\n",
      "Epoch 70: 100%|█| 70/70 [00:00<00:00, 261.73it/s, loss=0.0746, v_num=1728, MAE=0.815, RMSE=1.050, Loss=0.0703, RegLoss=\n",
      "Predicting DataLoader 0: 100%|██████████████████████████████████████████████████████████| 1/1 [00:00<00:00, 241.64it/s]"
     ]
    },
    {
     "name": "stderr",
     "output_type": "stream",
     "text": [
      "[I 2024-10-19 15:31:17,382] Trial 44 finished with value: 45.031845532638286 and parameters: {'growth': 'off', 'n_forecasts': 2, 'learning_rate': 0.5352117865536278}. Best is trial 40 with value: 27.594376612184895.\n"
     ]
    },
    {
     "name": "stdout",
     "output_type": "stream",
     "text": [
      "\n",
      "Epoch 70: 100%|█| 70/70 [00:00<00:00, 271.64it/s, loss=0.0717, v_num=1729, MAE=0.810, RMSE=1.040, Loss=0.0699, RegLoss=\n",
      "Predicting DataLoader 0: 100%|██████████████████████████████████████████████████████████| 1/1 [00:00<00:00, 255.28it/s]"
     ]
    },
    {
     "name": "stderr",
     "output_type": "stream",
     "text": [
      "[I 2024-10-19 15:31:36,447] Trial 45 finished with value: 37.677946324214744 and parameters: {'growth': 'off', 'n_forecasts': 2, 'learning_rate': 0.44887007836493203}. Best is trial 40 with value: 27.594376612184895.\n"
     ]
    },
    {
     "name": "stdout",
     "output_type": "stream",
     "text": [
      "\n",
      "Epoch 70: 100%|█| 70/70 [00:00<00:00, 271.37it/s, loss=0.0706, v_num=1730, MAE=0.814, RMSE=1.040, Loss=0.0701, RegLoss=\n",
      "Predicting DataLoader 0: 100%|██████████████████████████████████████████████████████████| 1/1 [00:00<00:00, 249.96it/s]"
     ]
    },
    {
     "name": "stderr",
     "output_type": "stream",
     "text": [
      "[I 2024-10-19 15:31:55,261] Trial 46 finished with value: 39.12771584758944 and parameters: {'growth': 'off', 'n_forecasts': 3, 'learning_rate': 0.34539170369371375}. Best is trial 40 with value: 27.594376612184895.\n"
     ]
    },
    {
     "name": "stdout",
     "output_type": "stream",
     "text": [
      "\n",
      "Epoch 70: 100%|█| 70/70 [00:00<00:00, 232.99it/s, loss=0.0673, v_num=1731, MAE=0.785, RMSE=1.020, Loss=0.067, RegLoss=0\n",
      "Predicting DataLoader 0: 100%|██████████████████████████████████████████████████████████| 1/1 [00:00<00:00, 231.08it/s]"
     ]
    },
    {
     "name": "stderr",
     "output_type": "stream",
     "text": [
      "[I 2024-10-19 15:32:17,027] Trial 47 finished with value: 44.841683017977644 and parameters: {'growth': 'linear', 'n_forecasts': 2, 'learning_rate': 0.5301991517112237}. Best is trial 40 with value: 27.594376612184895.\n"
     ]
    },
    {
     "name": "stdout",
     "output_type": "stream",
     "text": [
      "\n",
      "Epoch 70: 100%|█| 70/70 [00:00<00:00, 262.97it/s, loss=0.0647, v_num=1732, MAE=0.815, RMSE=1.040, Loss=0.0707, RegLoss=\n",
      "Predicting DataLoader 0: 100%|██████████████████████████████████████████████████████████| 1/1 [00:00<00:00, 282.86it/s]"
     ]
    },
    {
     "name": "stderr",
     "output_type": "stream",
     "text": [
      "[I 2024-10-19 15:32:35,856] Trial 48 finished with value: 33.448579619386834 and parameters: {'growth': 'off', 'n_forecasts': 2, 'learning_rate': 0.9363538690078691}. Best is trial 40 with value: 27.594376612184895.\n"
     ]
    },
    {
     "name": "stdout",
     "output_type": "stream",
     "text": [
      "\n",
      "Epoch 70: 100%|█| 70/70 [00:00<00:00, 269.32it/s, loss=0.0741, v_num=1733, MAE=0.811, RMSE=1.050, Loss=0.0702, RegLoss=\n",
      "Predicting DataLoader 0: 100%|██████████████████████████████████████████████████████████| 1/1 [00:00<00:00, 249.74it/s]"
     ]
    },
    {
     "name": "stderr",
     "output_type": "stream",
     "text": [
      "[I 2024-10-19 15:32:54,680] Trial 49 finished with value: 40.57974055500797 and parameters: {'growth': 'off', 'n_forecasts': 1, 'learning_rate': 0.33542527558989854}. Best is trial 40 with value: 27.594376612184895.\n"
     ]
    },
    {
     "name": "stdout",
     "output_type": "stream",
     "text": [
      "\n"
     ]
    }
   ],
   "source": [
    "sampler = TPESampler(seed=RANDOM_SEED)\n",
    "study = optuna.create_study(direction='minimize', sampler=sampler)\n",
    "#optuna.logging.set_verbosity(optuna.logging.WARNING)\n",
    "study.optimize(objective, n_trials=50)"
   ]
  },
  {
   "cell_type": "code",
   "execution_count": 34,
   "id": "d721d5b7-fa9d-4fbd-a07f-57b7f7c0c4c0",
   "metadata": {},
   "outputs": [
    {
     "name": "stdout",
     "output_type": "stream",
     "text": [
      "Melhor MAPE: 27.594376612184895\n",
      "Melhores parâmetros: {'growth': 'off', 'n_forecasts': 2, 'learning_rate': 0.5230224098693883}\n"
     ]
    }
   ],
   "source": [
    "melhores_parametros = study.best_params\n",
    "\n",
    "print(f\"Melhor MAPE: {study.best_trial.value}\")\n",
    "print(f\"Melhores parâmetros: {study.best_params}\")"
   ]
  },
  {
   "cell_type": "markdown",
   "id": "e40542a4-12aa-4a28-8d6d-c1852df46325",
   "metadata": {},
   "source": [
    "### **Treinando o modelo com os hiperparâmetros ajustados**"
   ]
  },
  {
   "cell_type": "code",
   "execution_count": 35,
   "id": "c3ddecd5-58a4-4383-9d0e-62a755429889",
   "metadata": {},
   "outputs": [
    {
     "name": "stdout",
     "output_type": "stream",
     "text": [
      "Epoch 70: 100%|█| 70/70 [00:00<00:00, 264.24it/s, loss=0.0689, v_num=1734, MAE=0.812, RMSE=1.040, Loss=0.070, RegLoss=0\n"
     ]
    },
    {
     "data": {
      "text/html": [
       "<div>\n",
       "<style scoped>\n",
       "    .dataframe tbody tr th:only-of-type {\n",
       "        vertical-align: middle;\n",
       "    }\n",
       "\n",
       "    .dataframe tbody tr th {\n",
       "        vertical-align: top;\n",
       "    }\n",
       "\n",
       "    .dataframe thead th {\n",
       "        text-align: right;\n",
       "    }\n",
       "</style>\n",
       "<table border=\"1\" class=\"dataframe\">\n",
       "  <thead>\n",
       "    <tr style=\"text-align: right;\">\n",
       "      <th></th>\n",
       "      <th>MAE</th>\n",
       "      <th>RMSE</th>\n",
       "      <th>Loss</th>\n",
       "      <th>RegLoss</th>\n",
       "      <th>epoch</th>\n",
       "    </tr>\n",
       "  </thead>\n",
       "  <tbody>\n",
       "    <tr>\n",
       "      <th>0</th>\n",
       "      <td>3.017471</td>\n",
       "      <td>3.623029</td>\n",
       "      <td>0.457030</td>\n",
       "      <td>0.0</td>\n",
       "      <td>0</td>\n",
       "    </tr>\n",
       "    <tr>\n",
       "      <th>1</th>\n",
       "      <td>1.346847</td>\n",
       "      <td>1.691084</td>\n",
       "      <td>0.152147</td>\n",
       "      <td>0.0</td>\n",
       "      <td>1</td>\n",
       "    </tr>\n",
       "    <tr>\n",
       "      <th>2</th>\n",
       "      <td>1.104157</td>\n",
       "      <td>1.397435</td>\n",
       "      <td>0.113029</td>\n",
       "      <td>0.0</td>\n",
       "      <td>2</td>\n",
       "    </tr>\n",
       "    <tr>\n",
       "      <th>3</th>\n",
       "      <td>0.983711</td>\n",
       "      <td>1.246764</td>\n",
       "      <td>0.095212</td>\n",
       "      <td>0.0</td>\n",
       "      <td>3</td>\n",
       "    </tr>\n",
       "    <tr>\n",
       "      <th>4</th>\n",
       "      <td>0.979642</td>\n",
       "      <td>1.231982</td>\n",
       "      <td>0.095262</td>\n",
       "      <td>0.0</td>\n",
       "      <td>4</td>\n",
       "    </tr>\n",
       "    <tr>\n",
       "      <th>...</th>\n",
       "      <td>...</td>\n",
       "      <td>...</td>\n",
       "      <td>...</td>\n",
       "      <td>...</td>\n",
       "      <td>...</td>\n",
       "    </tr>\n",
       "    <tr>\n",
       "      <th>65</th>\n",
       "      <td>0.821718</td>\n",
       "      <td>1.049374</td>\n",
       "      <td>0.071199</td>\n",
       "      <td>0.0</td>\n",
       "      <td>65</td>\n",
       "    </tr>\n",
       "    <tr>\n",
       "      <th>66</th>\n",
       "      <td>0.812866</td>\n",
       "      <td>1.045868</td>\n",
       "      <td>0.070226</td>\n",
       "      <td>0.0</td>\n",
       "      <td>66</td>\n",
       "    </tr>\n",
       "    <tr>\n",
       "      <th>67</th>\n",
       "      <td>0.808581</td>\n",
       "      <td>1.044245</td>\n",
       "      <td>0.070014</td>\n",
       "      <td>0.0</td>\n",
       "      <td>67</td>\n",
       "    </tr>\n",
       "    <tr>\n",
       "      <th>68</th>\n",
       "      <td>0.811199</td>\n",
       "      <td>1.042313</td>\n",
       "      <td>0.070084</td>\n",
       "      <td>0.0</td>\n",
       "      <td>68</td>\n",
       "    </tr>\n",
       "    <tr>\n",
       "      <th>69</th>\n",
       "      <td>0.811694</td>\n",
       "      <td>1.043916</td>\n",
       "      <td>0.070027</td>\n",
       "      <td>0.0</td>\n",
       "      <td>69</td>\n",
       "    </tr>\n",
       "  </tbody>\n",
       "</table>\n",
       "<p>70 rows × 5 columns</p>\n",
       "</div>"
      ],
      "text/plain": [
       "         MAE      RMSE      Loss  RegLoss  epoch\n",
       "0   3.017471  3.623029  0.457030      0.0      0\n",
       "1   1.346847  1.691084  0.152147      0.0      1\n",
       "2   1.104157  1.397435  0.113029      0.0      2\n",
       "3   0.983711  1.246764  0.095212      0.0      3\n",
       "4   0.979642  1.231982  0.095262      0.0      4\n",
       "..       ...       ...       ...      ...    ...\n",
       "65  0.821718  1.049374  0.071199      0.0     65\n",
       "66  0.812866  1.045868  0.070226      0.0     66\n",
       "67  0.808581  1.044245  0.070014      0.0     67\n",
       "68  0.811199  1.042313  0.070084      0.0     68\n",
       "69  0.811694  1.043916  0.070027      0.0     69\n",
       "\n",
       "[70 rows x 5 columns]"
      ]
     },
     "execution_count": 35,
     "metadata": {},
     "output_type": "execute_result"
    }
   ],
   "source": [
    "m = NeuralProphet(\n",
    "    growth=melhores_parametros['growth'],\n",
    "    n_forecasts=melhores_parametros['n_forecasts'],\n",
    "    learning_rate=melhores_parametros['learning_rate']\n",
    ")\n",
    "\n",
    "m.add_future_regressor(\"Amina Flow\")\n",
    "m.add_future_regressor(\"Ore Pulp pH\")\n",
    "m.add_future_regressor(\"Flotation Column 01 Air Flow\")\n",
    "m.add_future_regressor(\"Flotation Column 02 Air Flow\")\n",
    "m.add_future_regressor(\"Flotation Column 03 Air Flow\")\n",
    "m.add_future_regressor(\"Flotation Column 04 Level\")\n",
    "m.add_future_regressor(\"Flotation Column 05 Level\")\n",
    "m.add_future_regressor(\"Flotation Column 06 Level\")\n",
    "m.add_future_regressor(\"Flotation Column 07 Level\")\n",
    "\n",
    "m.fit(treino.loc[:, [\"ds\", \"Amina Flow\", \"Ore Pulp pH\",\n",
    "                     \"Flotation Column 01 Air Flow\", \"Flotation Column 02 Air Flow\", \"Flotation Column 03 Air Flow\",\n",
    "                     \"Flotation Column 04 Level\", \"Flotation Column 05 Level\", \"Flotation Column 06 Level\",\"Flotation Column 07 Level\",\n",
    "                     \"y\"]], freq='h')"
   ]
  },
  {
   "cell_type": "markdown",
   "id": "c8b6b605-a985-433f-b878-4935d43b21e2",
   "metadata": {},
   "source": [
    "### **Avaliando o modelo**"
   ]
  },
  {
   "cell_type": "code",
   "execution_count": 36,
   "id": "71a2cda3-0509-46db-bf95-310a173b830e",
   "metadata": {},
   "outputs": [
    {
     "name": "stdout",
     "output_type": "stream",
     "text": [
      "Predicting DataLoader 0: 100%|██████████████████████████████████████████████████████████| 1/1 [00:00<00:00, 200.12it/s]\n"
     ]
    }
   ],
   "source": [
    "# Previsões\n",
    "y_pred = m.predict(teste.loc[:, [\"ds\", \"Amina Flow\", \"Ore Pulp pH\",\n",
    "                                 \"Flotation Column 01 Air Flow\", \"Flotation Column 02 Air Flow\", \"Flotation Column 03 Air Flow\",\n",
    "                                 \"Flotation Column 04 Level\", \"Flotation Column 05 Level\", \"Flotation Column 06 Level\",\"Flotation Column 07 Level\",\n",
    "                                 \"y\"]])"
   ]
  },
  {
   "cell_type": "code",
   "execution_count": 37,
   "id": "870d5217-992c-487a-8d1a-79c4baa2e67f",
   "metadata": {},
   "outputs": [
    {
     "data": {
      "text/plain": [
       "{'RMSE': 0.722751346438794,\n",
       " 'MAE': 0.47713897585868836,\n",
       " 'MAPE': 17.17096849244762}"
      ]
     },
     "execution_count": 37,
     "metadata": {},
     "output_type": "execute_result"
    }
   ],
   "source": [
    "# Visualizando as métricas\n",
    "eval_metrics(teste.y.values, y_pred.yhat1.values)"
   ]
  },
  {
   "cell_type": "code",
   "execution_count": 38,
   "id": "b971be7e-709d-4166-8a36-fd9a364ac979",
   "metadata": {},
   "outputs": [
    {
     "data": {
      "image/png": "[encoded data removed]",
      "text/plain": [
       "<Figure size 1200x800 with 1 Axes>"
      ]
     },
     "metadata": {},
     "output_type": "display_data"
    }
   ],
   "source": [
    "fig, ax = plt.subplots(figsize=(12,8))\n",
    "\n",
    "plt.plot(teste.ds, teste.y.values, label=\"Valores Reais\", marker='o', color=\"blue\")\n",
    "plt.plot(y_pred.ds, y_pred.yhat1.values, label=\"Valores Previstos\", marker='s', color=\"red\")\n",
    "\n",
    "plt.ylabel(\"% Silica Concentrate\")\n",
    "plt.xlabel(\"Data\")\n",
    "plt.title(\"Modelo NeuralProphet - Multivariado com variáveis selecionadas, excluindo apenas % Iron Concentrate\")\n",
    "plt.legend()\n",
    "\n",
    "plt.tight_layout()"
   ]
  },
  {
   "cell_type": "markdown",
   "id": "2c797bc3-551b-468d-8506-6763d864ba82",
   "metadata": {},
   "source": [
    "## **Modelo NeuralProphet - Univariado**"
   ]
  },
  {
   "cell_type": "markdown",
   "id": "37b186d9-ab1b-4821-a10b-89858e4e2667",
   "metadata": {},
   "source": [
    "### **Ajuste dos hiperparâmetros com Optuna**"
   ]
  },
  {
   "cell_type": "code",
   "execution_count": 39,
   "id": "7db74d26-c37b-40e1-8369-3477a3ee4852",
   "metadata": {},
   "outputs": [],
   "source": [
    "def objective(trial):\n",
    "    growth = trial.suggest_categorical('growth', ['off', 'linear', 'discontinuous'])\n",
    "    n_forecasts = trial.suggest_int('n_forecasts', 1, 6)\n",
    "    learning_rate = trial.suggest_float('learning_rate', 0.0001, 1)\n",
    "\n",
    "    # Instaciando o modelo\n",
    "    m = NeuralProphet(growth=growth, n_forecasts=n_forecasts, learning_rate=learning_rate)\n",
    "\n",
    "    # Treinando o modelo\n",
    "    m.fit(treino.drop(treino.index[-24:]).loc[:, [\"ds\", \"y\"]], freq=\"h\")\n",
    "\n",
    "    # Fazendo previsões\n",
    "    val = treino[-24:].reset_index(drop=True).loc[:, [\"ds\", \"y\"]]\n",
    "    previsoes = m.predict(val)\n",
    "\n",
    "    # Calculado o MAPE\n",
    "    y_true = val.y.values\n",
    "    y_pred = previsoes.yhat1.values\n",
    "    mape = (np.mean(np.true_divide(np.abs(y_true-y_pred), y_true)))*100\n",
    "\n",
    "    return mape"
   ]
  },
  {
   "cell_type": "code",
   "execution_count": 40,
   "id": "f0647e94-62b2-419d-951a-e7c641730db9",
   "metadata": {},
   "outputs": [
    {
     "name": "stderr",
     "output_type": "stream",
     "text": [
      "[I 2024-10-19 15:33:14,218] A new study created in memory with name: no-name-6dcbeb85-bce1-4a3b-b4b6-c82a35785df9\n"
     ]
    },
    {
     "name": "stdout",
     "output_type": "stream",
     "text": [
      "Epoch 70: 100%|█| 70/70 [00:00<00:00, 236.16it/s, loss=0.0743, v_num=1735, MAE=0.797, RMSE=1.040, Loss=0.070, RegLoss=0\n",
      "Predicting DataLoader 0: 100%|██████████████████████████████████████████████████████████| 1/1 [00:00<00:00, 224.19it/s]"
     ]
    },
    {
     "name": "stderr",
     "output_type": "stream",
     "text": [
      "[I 2024-10-19 15:33:34,737] Trial 0 finished with value: 45.90718450239359 and parameters: {'growth': 'linear', 'n_forecasts': 2, 'learning_rate': 0.1468412152280313}. Best is trial 0 with value: 45.90718450239359.\n"
     ]
    },
    {
     "name": "stdout",
     "output_type": "stream",
     "text": [
      "\n",
      "Epoch 70: 100%|█| 70/70 [00:00<00:00, 252.00it/s, loss=0.0673, v_num=1736, MAE=0.783, RMSE=1.030, Loss=0.0693, RegLoss=\n",
      "Predicting DataLoader 0: 100%|██████████████████████████████████████████████████████████| 1/1 [00:00<00:00, 293.45it/s]"
     ]
    },
    {
     "name": "stderr",
     "output_type": "stream",
     "text": [
      "[I 2024-10-19 15:33:54,430] Trial 1 finished with value: 50.88110358545179 and parameters: {'growth': 'discontinuous', 'n_forecasts': 3, 'learning_rate': 0.5388628523299566}. Best is trial 0 with value: 45.90718450239359.\n"
     ]
    },
    {
     "name": "stdout",
     "output_type": "stream",
     "text": [
      "\n",
      "Epoch 70: 100%|█| 70/70 [00:00<00:00, 244.74it/s, loss=0.0712, v_num=1737, MAE=0.802, RMSE=1.040, Loss=0.070, RegLoss=0\n",
      "Predicting DataLoader 0: 100%|██████████████████████████████████████████████████████████| 1/1 [00:00<00:00, 216.49it/s]"
     ]
    },
    {
     "name": "stderr",
     "output_type": "stream",
     "text": [
      "[I 2024-10-19 15:34:14,997] Trial 2 finished with value: 46.231271299509345 and parameters: {'growth': 'linear', 'n_forecasts': 6, 'learning_rate': 0.02748485443860637}. Best is trial 0 with value: 45.90718450239359.\n"
     ]
    },
    {
     "name": "stdout",
     "output_type": "stream",
     "text": [
      "\n",
      "Epoch 70: 100%|█| 70/70 [00:00<00:00, 285.62it/s, loss=0.0778, v_num=1738, MAE=0.868, RMSE=1.110, Loss=0.0777, RegLoss=\n",
      "Predicting DataLoader 0: 100%|██████████████████████████████████████████████████████████| 1/1 [00:00<00:00, 229.56it/s]"
     ]
    },
    {
     "name": "stderr",
     "output_type": "stream",
     "text": [
      "[I 2024-10-19 15:34:32,498] Trial 3 finished with value: 32.21365213725042 and parameters: {'growth': 'off', 'n_forecasts': 1, 'learning_rate': 0.1981816789359703}. Best is trial 3 with value: 32.21365213725042.\n"
     ]
    },
    {
     "name": "stdout",
     "output_type": "stream",
     "text": [
      "\n",
      "Epoch 70: 100%|█| 70/70 [00:00<00:00, 245.54it/s, loss=0.0722, v_num=1739, MAE=0.805, RMSE=1.050, Loss=0.0711, RegLoss=\n",
      "Predicting DataLoader 0: 100%|██████████████████████████████████████████████████████████| 1/1 [00:00<00:00, 285.21it/s]"
     ]
    },
    {
     "name": "stderr",
     "output_type": "stream",
     "text": [
      "[I 2024-10-19 15:34:53,243] Trial 4 finished with value: 44.40164122422267 and parameters: {'growth': 'linear', 'n_forecasts': 5, 'learning_rate': 0.8764015133808087}. Best is trial 3 with value: 32.21365213725042.\n"
     ]
    },
    {
     "name": "stdout",
     "output_type": "stream",
     "text": [
      "\n",
      "Epoch 70: 100%|█| 70/70 [00:00<00:00, 288.88it/s, loss=0.0836, v_num=1740, MAE=0.885, RMSE=1.140, Loss=0.0808, RegLoss=\n",
      "Predicting DataLoader 0: 100%|██████████████████████████████████████████████████████████| 1/1 [00:00<00:00, 281.23it/s]"
     ]
    },
    {
     "name": "stderr",
     "output_type": "stream",
     "text": [
      "[I 2024-10-19 15:35:11,010] Trial 5 finished with value: 28.79277618388565 and parameters: {'growth': 'off', 'n_forecasts': 2, 'learning_rate': 0.8781546891790702}. Best is trial 5 with value: 28.79277618388565.\n"
     ]
    },
    {
     "name": "stdout",
     "output_type": "stream",
     "text": [
      "\n",
      "Epoch 70: 100%|█| 70/70 [00:00<00:00, 249.08it/s, loss=0.0717, v_num=1741, MAE=0.782, RMSE=1.030, Loss=0.0694, RegLoss=\n",
      "Predicting DataLoader 0: 100%|██████████████████████████████████████████████████████████| 1/1 [00:00<00:00, 213.19it/s]"
     ]
    },
    {
     "name": "stderr",
     "output_type": "stream",
     "text": [
      "[I 2024-10-19 15:35:30,751] Trial 6 finished with value: 51.1325340089262 and parameters: {'growth': 'discontinuous', 'n_forecasts': 4, 'learning_rate': 0.6919079262390783}. Best is trial 5 with value: 28.79277618388565.\n"
     ]
    },
    {
     "name": "stdout",
     "output_type": "stream",
     "text": [
      "\n",
      "Epoch 70: 100%|█| 70/70 [00:00<00:00, 251.74it/s, loss=0.0676, v_num=1742, MAE=0.787, RMSE=1.030, Loss=0.0698, RegLoss=\n",
      "Predicting DataLoader 0: 100%|██████████████████████████████████████████████████████████| 1/1 [00:00<00:00, 250.09it/s]"
     ]
    },
    {
     "name": "stderr",
     "output_type": "stream",
     "text": [
      "[I 2024-10-19 15:35:50,668] Trial 7 finished with value: 49.709430520671674 and parameters: {'growth': 'discontinuous', 'n_forecasts': 1, 'learning_rate': 0.750169300513473}. Best is trial 5 with value: 28.79277618388565.\n"
     ]
    },
    {
     "name": "stdout",
     "output_type": "stream",
     "text": [
      "\n",
      "Epoch 70: 100%|█| 70/70 [00:00<00:00, 279.44it/s, loss=0.0724, v_num=1743, MAE=0.868, RMSE=1.110, Loss=0.0776, RegLoss=\n",
      "Predicting DataLoader 0: 100%|██████████████████████████████████████████████████████████| 1/1 [00:00<00:00, 242.29it/s]"
     ]
    },
    {
     "name": "stderr",
     "output_type": "stream",
     "text": [
      "[I 2024-10-19 15:36:08,487] Trial 8 finished with value: 31.73190099853949 and parameters: {'growth': 'off', 'n_forecasts': 5, 'learning_rate': 0.10331568397698426}. Best is trial 5 with value: 28.79277618388565.\n"
     ]
    },
    {
     "name": "stdout",
     "output_type": "stream",
     "text": [
      "\n",
      "Epoch 70: 100%|█| 70/70 [00:00<00:00, 250.04it/s, loss=0.0724, v_num=1744, MAE=0.793, RMSE=1.040, Loss=0.0699, RegLoss=\n",
      "Predicting DataLoader 0: 100%|██████████████████████████████████████████████████████████| 1/1 [00:00<00:00, 283.11it/s]"
     ]
    },
    {
     "name": "stderr",
     "output_type": "stream",
     "text": [
      "[I 2024-10-19 15:36:28,931] Trial 9 finished with value: 47.83126224956629 and parameters: {'growth': 'linear', 'n_forecasts': 2, 'learning_rate': 0.13011556926106585}. Best is trial 5 with value: 28.79277618388565.\n"
     ]
    },
    {
     "name": "stdout",
     "output_type": "stream",
     "text": [
      "\n",
      "Epoch 70: 100%|█| 70/70 [00:00<00:00, 287.20it/s, loss=0.0795, v_num=1745, MAE=0.884, RMSE=1.130, Loss=0.080, RegLoss=0\n",
      "Predicting DataLoader 0: 100%|██████████████████████████████████████████████████████████| 1/1 [00:00<00:00, 298.85it/s]"
     ]
    },
    {
     "name": "stderr",
     "output_type": "stream",
     "text": [
      "[I 2024-10-19 15:36:46,970] Trial 10 finished with value: 35.552541173853804 and parameters: {'growth': 'off', 'n_forecasts': 3, 'learning_rate': 0.9671985624260364}. Best is trial 5 with value: 28.79277618388565.\n"
     ]
    },
    {
     "name": "stdout",
     "output_type": "stream",
     "text": [
      "\n",
      "Epoch 70: 100%|█| 70/70 [00:00<00:00, 277.94it/s, loss=0.0762, v_num=1746, MAE=0.878, RMSE=1.120, Loss=0.0791, RegLoss=\n",
      "Predicting DataLoader 0: 100%|██████████████████████████████████████████████████████████| 1/1 [00:00<00:00, 263.41it/s]"
     ]
    },
    {
     "name": "stderr",
     "output_type": "stream",
     "text": [
      "[I 2024-10-19 15:37:04,701] Trial 11 finished with value: 29.99943174296783 and parameters: {'growth': 'off', 'n_forecasts': 5, 'learning_rate': 0.3866549973028639}. Best is trial 5 with value: 28.79277618388565.\n"
     ]
    },
    {
     "name": "stdout",
     "output_type": "stream",
     "text": [
      "\n",
      "Epoch 70: 100%|█| 70/70 [00:00<00:00, 280.72it/s, loss=0.0832, v_num=1747, MAE=0.875, RMSE=1.120, Loss=0.0785, RegLoss=\n",
      "Predicting DataLoader 0: 100%|██████████████████████████████████████████████████████████| 1/1 [00:00<00:00, 194.82it/s]"
     ]
    },
    {
     "name": "stderr",
     "output_type": "stream",
     "text": [
      "[I 2024-10-19 15:37:22,464] Trial 12 finished with value: 34.15532238177138 and parameters: {'growth': 'off', 'n_forecasts': 4, 'learning_rate': 0.3482636967170028}. Best is trial 5 with value: 28.79277618388565.\n"
     ]
    },
    {
     "name": "stdout",
     "output_type": "stream",
     "text": [
      "\n",
      "Epoch 70: 100%|█| 70/70 [00:00<00:00, 289.99it/s, loss=0.0809, v_num=1748, MAE=0.872, RMSE=1.120, Loss=0.0784, RegLoss=\n",
      "Predicting DataLoader 0: 100%|██████████████████████████████████████████████████████████| 1/1 [00:00<00:00, 268.71it/s]"
     ]
    },
    {
     "name": "stderr",
     "output_type": "stream",
     "text": [
      "[I 2024-10-19 15:37:40,330] Trial 13 finished with value: 30.895122215081845 and parameters: {'growth': 'off', 'n_forecasts': 6, 'learning_rate': 0.4500652782965935}. Best is trial 5 with value: 28.79277618388565.\n"
     ]
    },
    {
     "name": "stdout",
     "output_type": "stream",
     "text": [
      "\n",
      "Epoch 70: 100%|█| 70/70 [00:00<00:00, 287.37it/s, loss=0.0832, v_num=1749, MAE=0.879, RMSE=1.120, Loss=0.0789, RegLoss=\n",
      "Predicting DataLoader 0: 100%|██████████████████████████████████████████████████████████| 1/1 [00:00<00:00, 238.19it/s]"
     ]
    },
    {
     "name": "stderr",
     "output_type": "stream",
     "text": [
      "[I 2024-10-19 15:37:58,066] Trial 14 finished with value: 34.01820960432826 and parameters: {'growth': 'off', 'n_forecasts': 2, 'learning_rate': 0.6095567987588851}. Best is trial 5 with value: 28.79277618388565.\n"
     ]
    },
    {
     "name": "stdout",
     "output_type": "stream",
     "text": [
      "\n",
      "Epoch 70: 100%|█| 70/70 [00:00<00:00, 284.11it/s, loss=0.0777, v_num=1750, MAE=0.872, RMSE=1.120, Loss=0.0781, RegLoss=\n",
      "Predicting DataLoader 0: 100%|██████████████████████████████████████████████████████████| 1/1 [00:00<00:00, 285.17it/s]"
     ]
    },
    {
     "name": "stderr",
     "output_type": "stream",
     "text": [
      "[I 2024-10-19 15:38:15,975] Trial 15 finished with value: 30.5868266102463 and parameters: {'growth': 'off', 'n_forecasts': 5, 'learning_rate': 0.36148892106710895}. Best is trial 5 with value: 28.79277618388565.\n"
     ]
    },
    {
     "name": "stdout",
     "output_type": "stream",
     "text": [
      "\n",
      "Epoch 70: 100%|█| 70/70 [00:00<00:00, 270.96it/s, loss=0.077, v_num=1751, MAE=0.871, RMSE=1.110, Loss=0.0777, RegLoss=0\n",
      "Predicting DataLoader 0: 100%|██████████████████████████████████████████████████████████| 1/1 [00:00<00:00, 230.38it/s]"
     ]
    },
    {
     "name": "stderr",
     "output_type": "stream",
     "text": [
      "[I 2024-10-19 15:38:33,958] Trial 16 finished with value: 30.906968626970126 and parameters: {'growth': 'off', 'n_forecasts': 4, 'learning_rate': 0.29133916220011247}. Best is trial 5 with value: 28.79277618388565.\n"
     ]
    },
    {
     "name": "stdout",
     "output_type": "stream",
     "text": [
      "\n",
      "Epoch 70: 100%|█| 70/70 [00:00<00:00, 277.14it/s, loss=0.0746, v_num=1752, MAE=0.875, RMSE=1.120, Loss=0.0786, RegLoss=\n",
      "Predicting DataLoader 0: 100%|██████████████████████████████████████████████████████████| 1/1 [00:00<00:00, 238.15it/s]"
     ]
    },
    {
     "name": "stderr",
     "output_type": "stream",
     "text": [
      "[I 2024-10-19 15:38:52,014] Trial 17 finished with value: 34.98491706087718 and parameters: {'growth': 'off', 'n_forecasts': 3, 'learning_rate': 0.8061921693558807}. Best is trial 5 with value: 28.79277618388565.\n"
     ]
    },
    {
     "name": "stdout",
     "output_type": "stream",
     "text": [
      "\n",
      "Epoch 70: 100%|█| 70/70 [00:00<00:00, 289.78it/s, loss=0.0822, v_num=1753, MAE=0.880, RMSE=1.130, Loss=0.0796, RegLoss=\n",
      "Predicting DataLoader 0: 100%|██████████████████████████████████████████████████████████| 1/1 [00:00<00:00, 273.67it/s]"
     ]
    },
    {
     "name": "stderr",
     "output_type": "stream",
     "text": [
      "[I 2024-10-19 15:39:09,991] Trial 18 finished with value: 31.412563272516934 and parameters: {'growth': 'off', 'n_forecasts': 2, 'learning_rate': 0.5031026866539762}. Best is trial 5 with value: 28.79277618388565.\n"
     ]
    },
    {
     "name": "stdout",
     "output_type": "stream",
     "text": [
      "\n",
      "Epoch 70: 100%|█| 70/70 [00:00<00:00, 256.62it/s, loss=0.0739, v_num=1754, MAE=0.790, RMSE=1.030, Loss=0.0701, RegLoss=\n",
      "Predicting DataLoader 0: 100%|██████████████████████████████████████████████████████████| 1/1 [00:00<00:00, 231.87it/s]"
     ]
    },
    {
     "name": "stderr",
     "output_type": "stream",
     "text": [
      "[I 2024-10-19 15:39:29,851] Trial 19 finished with value: 39.154786783369076 and parameters: {'growth': 'discontinuous', 'n_forecasts': 5, 'learning_rate': 0.9753101329971224}. Best is trial 5 with value: 28.79277618388565.\n"
     ]
    },
    {
     "name": "stdout",
     "output_type": "stream",
     "text": [
      "\n",
      "Epoch 70: 100%|█| 70/70 [00:00<00:00, 280.39it/s, loss=0.0796, v_num=1755, MAE=0.875, RMSE=1.130, Loss=0.0789, RegLoss=\n",
      "Predicting DataLoader 0: 100%|██████████████████████████████████████████████████████████| 1/1 [00:00<00:00, 230.19it/s]"
     ]
    },
    {
     "name": "stderr",
     "output_type": "stream",
     "text": [
      "[I 2024-10-19 15:39:48,071] Trial 20 finished with value: 30.074714960231436 and parameters: {'growth': 'off', 'n_forecasts': 1, 'learning_rate': 0.6146405228638104}. Best is trial 5 with value: 28.79277618388565.\n"
     ]
    },
    {
     "name": "stdout",
     "output_type": "stream",
     "text": [
      "\n",
      "Epoch 70: 100%|█| 70/70 [00:00<00:00, 286.90it/s, loss=0.0789, v_num=1756, MAE=0.882, RMSE=1.130, Loss=0.080, RegLoss=0\n",
      "Predicting DataLoader 0: 100%|██████████████████████████████████████████████████████████| 1/1 [00:00<00:00, 274.33it/s]"
     ]
    },
    {
     "name": "stderr",
     "output_type": "stream",
     "text": [
      "[I 2024-10-19 15:40:06,236] Trial 21 finished with value: 30.981819450362792 and parameters: {'growth': 'off', 'n_forecasts': 1, 'learning_rate': 0.6329938237592279}. Best is trial 5 with value: 28.79277618388565.\n"
     ]
    },
    {
     "name": "stdout",
     "output_type": "stream",
     "text": [
      "\n",
      "Epoch 70: 100%|█| 70/70 [00:00<00:00, 280.14it/s, loss=0.0828, v_num=1757, MAE=0.882, RMSE=1.130, Loss=0.0797, RegLoss=\n",
      "Predicting DataLoader 0: 100%|██████████████████████████████████████████████████████████| 1/1 [00:00<00:00, 249.77it/s]"
     ]
    },
    {
     "name": "stderr",
     "output_type": "stream",
     "text": [
      "[I 2024-10-19 15:40:24,591] Trial 22 finished with value: 34.740179978897736 and parameters: {'growth': 'off', 'n_forecasts': 1, 'learning_rate': 0.8379868050256732}. Best is trial 5 with value: 28.79277618388565.\n"
     ]
    },
    {
     "name": "stdout",
     "output_type": "stream",
     "text": [
      "\n",
      "Epoch 70: 100%|█| 70/70 [00:00<00:00, 285.09it/s, loss=0.0739, v_num=1758, MAE=0.870, RMSE=1.110, Loss=0.0778, RegLoss=\n",
      "Predicting DataLoader 0: 100%|██████████████████████████████████████████████████████████| 1/1 [00:00<00:00, 314.60it/s]"
     ]
    },
    {
     "name": "stderr",
     "output_type": "stream",
     "text": [
      "[I 2024-10-19 15:40:42,819] Trial 23 finished with value: 30.75611745892562 and parameters: {'growth': 'off', 'n_forecasts': 2, 'learning_rate': 0.42932883406948}. Best is trial 5 with value: 28.79277618388565.\n"
     ]
    },
    {
     "name": "stdout",
     "output_type": "stream",
     "text": [
      "\n",
      "Epoch 70: 100%|█| 70/70 [00:00<00:00, 288.61it/s, loss=0.0798, v_num=1759, MAE=0.874, RMSE=1.120, Loss=0.0788, RegLoss=\n",
      "Predicting DataLoader 0: 100%|██████████████████████████████████████████████████████████| 1/1 [00:00<00:00, 266.56it/s]"
     ]
    },
    {
     "name": "stderr",
     "output_type": "stream",
     "text": [
      "[I 2024-10-19 15:41:00,567] Trial 24 finished with value: 36.45346854767437 and parameters: {'growth': 'off', 'n_forecasts': 1, 'learning_rate': 0.5929232695022258}. Best is trial 5 with value: 28.79277618388565.\n"
     ]
    },
    {
     "name": "stdout",
     "output_type": "stream",
     "text": [
      "\n",
      "Epoch 70: 100%|█| 70/70 [00:00<00:00, 283.65it/s, loss=0.0803, v_num=1760, MAE=0.875, RMSE=1.120, Loss=0.0787, RegLoss=\n",
      "Predicting DataLoader 0: 100%|██████████████████████████████████████████████████████████| 1/1 [00:00<00:00, 336.54it/s]"
     ]
    },
    {
     "name": "stderr",
     "output_type": "stream",
     "text": [
      "[I 2024-10-19 15:41:18,515] Trial 25 finished with value: 37.63928562770869 and parameters: {'growth': 'off', 'n_forecasts': 3, 'learning_rate': 0.7350197489692186}. Best is trial 5 with value: 28.79277618388565.\n"
     ]
    },
    {
     "name": "stdout",
     "output_type": "stream",
     "text": [
      "\n",
      "Epoch 70: 100%|█| 70/70 [00:00<00:00, 272.02it/s, loss=0.077, v_num=1761, MAE=0.868, RMSE=1.110, Loss=0.0777, RegLoss=0\n",
      "Predicting DataLoader 0: 100%|██████████████████████████████████████████████████████████| 1/1 [00:00<00:00, 303.71it/s]"
     ]
    },
    {
     "name": "stderr",
     "output_type": "stream",
     "text": [
      "[I 2024-10-19 15:41:36,207] Trial 26 finished with value: 30.583308211725956 and parameters: {'growth': 'off', 'n_forecasts': 2, 'learning_rate': 0.247762633743115}. Best is trial 5 with value: 28.79277618388565.\n"
     ]
    },
    {
     "name": "stdout",
     "output_type": "stream",
     "text": [
      "\n",
      "Epoch 70: 100%|█| 70/70 [00:00<00:00, 268.54it/s, loss=0.0843, v_num=1762, MAE=0.883, RMSE=1.130, Loss=0.0801, RegLoss=\n",
      "Predicting DataLoader 0: 100%|██████████████████████████████████████████████████████████| 1/1 [00:00<00:00, 405.13it/s]"
     ]
    },
    {
     "name": "stderr",
     "output_type": "stream",
     "text": [
      "[I 2024-10-19 15:41:54,063] Trial 27 finished with value: 35.6923940210089 and parameters: {'growth': 'off', 'n_forecasts': 6, 'learning_rate': 0.9126679848808394}. Best is trial 5 with value: 28.79277618388565.\n"
     ]
    },
    {
     "name": "stdout",
     "output_type": "stream",
     "text": [
      "\n",
      "Epoch 70: 100%|█| 70/70 [00:00<00:00, 251.84it/s, loss=0.063, v_num=1763, MAE=0.776, RMSE=1.020, Loss=0.0683, RegLoss=0\n",
      "Predicting DataLoader 0: 100%|██████████████████████████████████████████████████████████| 1/1 [00:00<00:00, 212.51it/s]"
     ]
    },
    {
     "name": "stderr",
     "output_type": "stream",
     "text": [
      "[I 2024-10-19 15:42:13,902] Trial 28 finished with value: 39.56674517446383 and parameters: {'growth': 'discontinuous', 'n_forecasts': 1, 'learning_rate': 0.4059302877724966}. Best is trial 5 with value: 28.79277618388565.\n"
     ]
    },
    {
     "name": "stdout",
     "output_type": "stream",
     "text": [
      "\n",
      "Epoch 70: 100%|█| 70/70 [00:00<00:00, 231.32it/s, loss=0.0671, v_num=1764, MAE=0.800, RMSE=1.040, Loss=0.0706, RegLoss=\n",
      "Predicting DataLoader 0: 100%|██████████████████████████████████████████████████████████| 1/1 [00:00<00:00, 238.87it/s]"
     ]
    },
    {
     "name": "stderr",
     "output_type": "stream",
     "text": [
      "[I 2024-10-19 15:42:34,569] Trial 29 finished with value: 40.10523169081107 and parameters: {'growth': 'linear', 'n_forecasts': 4, 'learning_rate': 0.676346059047172}. Best is trial 5 with value: 28.79277618388565.\n"
     ]
    },
    {
     "name": "stdout",
     "output_type": "stream",
     "text": [
      "\n",
      "Epoch 70: 100%|█| 70/70 [00:00<00:00, 246.08it/s, loss=0.069, v_num=1765, MAE=0.802, RMSE=1.050, Loss=0.0705, RegLoss=0\n",
      "Predicting DataLoader 0: 100%|██████████████████████████████████████████████████████████| 1/1 [00:00<00:00, 246.58it/s]"
     ]
    },
    {
     "name": "stderr",
     "output_type": "stream",
     "text": [
      "[I 2024-10-19 15:42:54,968] Trial 30 finished with value: 41.84237985655372 and parameters: {'growth': 'linear', 'n_forecasts': 3, 'learning_rate': 0.5433751751766779}. Best is trial 5 with value: 28.79277618388565.\n"
     ]
    },
    {
     "name": "stdout",
     "output_type": "stream",
     "text": [
      "\n",
      "Epoch 70: 100%|█| 70/70 [00:00<00:00, 254.59it/s, loss=0.0798, v_num=1766, MAE=0.872, RMSE=1.120, Loss=0.0781, RegLoss=\n",
      "Predicting DataLoader 0: 100%|██████████████████████████████████████████████████████████| 1/1 [00:00<00:00, 198.56it/s]"
     ]
    },
    {
     "name": "stderr",
     "output_type": "stream",
     "text": [
      "[I 2024-10-19 15:43:12,608] Trial 31 finished with value: 30.533528099545993 and parameters: {'growth': 'off', 'n_forecasts': 2, 'learning_rate': 0.23130234381373546}. Best is trial 5 with value: 28.79277618388565.\n"
     ]
    },
    {
     "name": "stdout",
     "output_type": "stream",
     "text": [
      "\n",
      "Epoch 70: 100%|█| 70/70 [00:00<00:00, 295.62it/s, loss=0.0779, v_num=1767, MAE=0.874, RMSE=1.120, Loss=0.0785, RegLoss=\n",
      "Predicting DataLoader 0: 100%|██████████████████████████████████████████████████████████| 1/1 [00:00<00:00, 308.06it/s]"
     ]
    },
    {
     "name": "stderr",
     "output_type": "stream",
     "text": [
      "[I 2024-10-19 15:43:30,163] Trial 32 finished with value: 32.6719590312052 and parameters: {'growth': 'off', 'n_forecasts': 2, 'learning_rate': 0.2765289448646989}. Best is trial 5 with value: 28.79277618388565.\n"
     ]
    },
    {
     "name": "stdout",
     "output_type": "stream",
     "text": [
      "\n",
      "Epoch 70: 100%|█| 70/70 [00:00<00:00, 286.07it/s, loss=0.0792, v_num=1768, MAE=0.868, RMSE=1.120, Loss=0.078, RegLoss=0\n",
      "Predicting DataLoader 0: 100%|██████████████████████████████████████████████████████████| 1/1 [00:00<00:00, 249.87it/s]"
     ]
    },
    {
     "name": "stderr",
     "output_type": "stream",
     "text": [
      "[I 2024-10-19 15:43:47,923] Trial 33 finished with value: 33.14943996733692 and parameters: {'growth': 'off', 'n_forecasts': 2, 'learning_rate': 0.21912721154412385}. Best is trial 5 with value: 28.79277618388565.\n"
     ]
    },
    {
     "name": "stdout",
     "output_type": "stream",
     "text": [
      "\n",
      "Epoch 70: 100%|█| 70/70 [00:00<00:00, 288.57it/s, loss=0.503, v_num=1769, MAE=3.340, RMSE=3.930, Loss=0.500, RegLoss=0.\n",
      "Predicting DataLoader 0: 100%|██████████████████████████████████████████████████████████| 1/1 [00:00<00:00, 263.88it/s]"
     ]
    },
    {
     "name": "stderr",
     "output_type": "stream",
     "text": [
      "[I 2024-10-19 15:44:05,471] Trial 34 finished with value: 152.17409939588694 and parameters: {'growth': 'off', 'n_forecasts': 1, 'learning_rate': 0.00019721876729253407}. Best is trial 5 with value: 28.79277618388565.\n"
     ]
    },
    {
     "name": "stdout",
     "output_type": "stream",
     "text": [
      "\n",
      "Epoch 70: 100%|█| 70/70 [00:00<00:00, 282.50it/s, loss=0.0802, v_num=1770, MAE=0.872, RMSE=1.120, Loss=0.0783, RegLoss=\n",
      "Predicting DataLoader 0: 100%|██████████████████████████████████████████████████████████| 1/1 [00:00<00:00, 307.95it/s]"
     ]
    },
    {
     "name": "stderr",
     "output_type": "stream",
     "text": [
      "[I 2024-10-19 15:44:23,122] Trial 35 finished with value: 30.468526770934158 and parameters: {'growth': 'off', 'n_forecasts': 3, 'learning_rate': 0.3167816968060823}. Best is trial 5 with value: 28.79277618388565.\n"
     ]
    },
    {
     "name": "stdout",
     "output_type": "stream",
     "text": [
      "\n",
      "Epoch 70: 100%|█| 70/70 [00:00<00:00, 246.97it/s, loss=0.068, v_num=1771, MAE=0.781, RMSE=1.030, Loss=0.0686, RegLoss=0\n",
      "Predicting DataLoader 0: 100%|██████████████████████████████████████████████████████████| 1/1 [00:00<00:00, 188.20it/s]"
     ]
    },
    {
     "name": "stderr",
     "output_type": "stream",
     "text": [
      "[I 2024-10-19 15:44:43,546] Trial 36 finished with value: 47.53909898203232 and parameters: {'growth': 'discontinuous', 'n_forecasts': 3, 'learning_rate': 0.3528530949969036}. Best is trial 5 with value: 28.79277618388565.\n"
     ]
    },
    {
     "name": "stdout",
     "output_type": "stream",
     "text": [
      "\n",
      "Epoch 70: 100%|█| 70/70 [00:00<00:00, 233.80it/s, loss=0.0694, v_num=1772, MAE=0.802, RMSE=1.050, Loss=0.0706, RegLoss=\n",
      "Predicting DataLoader 0: 100%|██████████████████████████████████████████████████████████| 1/1 [00:00<00:00, 308.68it/s]"
     ]
    },
    {
     "name": "stderr",
     "output_type": "stream",
     "text": [
      "[I 2024-10-19 15:45:04,338] Trial 37 finished with value: 47.074678588254244 and parameters: {'growth': 'linear', 'n_forecasts': 3, 'learning_rate': 0.486626824471463}. Best is trial 5 with value: 28.79277618388565.\n"
     ]
    },
    {
     "name": "stdout",
     "output_type": "stream",
     "text": [
      "\n",
      "Epoch 70: 100%|█| 70/70 [00:00<00:00, 278.10it/s, loss=0.0744, v_num=1773, MAE=0.876, RMSE=1.130, Loss=0.079, RegLoss=0\n",
      "Predicting DataLoader 0: 100%|██████████████████████████████████████████████████████████| 1/1 [00:00<00:00, 281.53it/s]"
     ]
    },
    {
     "name": "stderr",
     "output_type": "stream",
     "text": [
      "[I 2024-10-19 15:45:22,116] Trial 38 finished with value: 25.565486801328973 and parameters: {'growth': 'off', 'n_forecasts': 4, 'learning_rate': 0.7618053811925817}. Best is trial 38 with value: 25.565486801328973.\n"
     ]
    },
    {
     "name": "stdout",
     "output_type": "stream",
     "text": [
      "\n",
      "Epoch 70: 100%|█| 70/70 [00:00<00:00, 255.41it/s, loss=0.07, v_num=1774, MAE=0.782, RMSE=1.040, Loss=0.0696, RegLoss=0.\n",
      "Predicting DataLoader 0: 100%|██████████████████████████████████████████████████████████| 1/1 [00:00<00:00, 299.29it/s]"
     ]
    },
    {
     "name": "stderr",
     "output_type": "stream",
     "text": [
      "[I 2024-10-19 15:45:42,456] Trial 39 finished with value: 43.515045061982086 and parameters: {'growth': 'discontinuous', 'n_forecasts': 5, 'learning_rate': 0.7330495583968665}. Best is trial 38 with value: 25.565486801328973.\n"
     ]
    },
    {
     "name": "stdout",
     "output_type": "stream",
     "text": [
      "\n",
      "Epoch 70: 100%|█| 70/70 [00:00<00:00, 268.32it/s, loss=0.0754, v_num=1775, MAE=0.876, RMSE=1.120, Loss=0.0789, RegLoss=\n",
      "Predicting DataLoader 0: 100%|██████████████████████████████████████████████████████████| 1/1 [00:00<00:00, 369.22it/s]"
     ]
    },
    {
     "name": "stderr",
     "output_type": "stream",
     "text": [
      "[I 2024-10-19 15:46:00,372] Trial 40 finished with value: 30.682935426989577 and parameters: {'growth': 'off', 'n_forecasts': 4, 'learning_rate': 0.8074741329880265}. Best is trial 38 with value: 25.565486801328973.\n"
     ]
    },
    {
     "name": "stdout",
     "output_type": "stream",
     "text": [
      "\n",
      "Epoch 70: 100%|█| 70/70 [00:00<00:00, 286.99it/s, loss=0.0813, v_num=1776, MAE=0.881, RMSE=1.130, Loss=0.0802, RegLoss=\n",
      "Predicting DataLoader 0: 100%|██████████████████████████████████████████████████████████| 1/1 [00:00<00:00, 233.50it/s]"
     ]
    },
    {
     "name": "stderr",
     "output_type": "stream",
     "text": [
      "[I 2024-10-19 15:46:18,165] Trial 41 finished with value: 31.797717942826694 and parameters: {'growth': 'off', 'n_forecasts': 4, 'learning_rate': 0.916426479821}. Best is trial 38 with value: 25.565486801328973.\n"
     ]
    },
    {
     "name": "stdout",
     "output_type": "stream",
     "text": [
      "\n",
      "Epoch 70: 100%|█| 70/70 [00:00<00:00, 279.37it/s, loss=0.0742, v_num=1777, MAE=0.872, RMSE=1.120, Loss=0.0781, RegLoss=\n",
      "Predicting DataLoader 0: 100%|██████████████████████████████████████████████████████████| 1/1 [00:00<00:00, 322.17it/s]"
     ]
    },
    {
     "name": "stderr",
     "output_type": "stream",
     "text": [
      "[I 2024-10-19 15:46:36,050] Trial 42 finished with value: 36.52890633114008 and parameters: {'growth': 'off', 'n_forecasts': 5, 'learning_rate': 0.5517052104832593}. Best is trial 38 with value: 25.565486801328973.\n"
     ]
    },
    {
     "name": "stdout",
     "output_type": "stream",
     "text": [
      "\n",
      "Epoch 70: 100%|█| 70/70 [00:00<00:00, 289.39it/s, loss=0.0772, v_num=1778, MAE=0.872, RMSE=1.120, Loss=0.0782, RegLoss=\n",
      "Predicting DataLoader 0: 100%|██████████████████████████████████████████████████████████| 1/1 [00:00<00:00, 269.33it/s]"
     ]
    },
    {
     "name": "stderr",
     "output_type": "stream",
     "text": [
      "[I 2024-10-19 15:46:53,873] Trial 43 finished with value: 31.08404638495184 and parameters: {'growth': 'off', 'n_forecasts': 4, 'learning_rate': 0.1704818240181751}. Best is trial 38 with value: 25.565486801328973.\n"
     ]
    },
    {
     "name": "stdout",
     "output_type": "stream",
     "text": [
      "\n",
      "Epoch 70: 100%|█| 70/70 [00:00<00:00, 257.52it/s, loss=0.0817, v_num=1779, MAE=0.879, RMSE=1.130, Loss=0.0796, RegLoss=\n",
      "Predicting DataLoader 0: 100%|██████████████████████████████████████████████████████████| 1/1 [00:00<00:00, 213.30it/s]"
     ]
    },
    {
     "name": "stderr",
     "output_type": "stream",
     "text": [
      "[I 2024-10-19 15:47:11,667] Trial 44 finished with value: 32.110596587870106 and parameters: {'growth': 'off', 'n_forecasts': 3, 'learning_rate': 0.7804864063572378}. Best is trial 38 with value: 25.565486801328973.\n"
     ]
    },
    {
     "name": "stdout",
     "output_type": "stream",
     "text": [
      "\n",
      "Epoch 70: 100%|█| 70/70 [00:00<00:00, 247.64it/s, loss=0.0659, v_num=1780, MAE=0.801, RMSE=1.040, Loss=0.0706, RegLoss=\n",
      "Predicting DataLoader 0: 100%|██████████████████████████████████████████████████████████| 1/1 [00:00<00:00, 333.36it/s]"
     ]
    },
    {
     "name": "stderr",
     "output_type": "stream",
     "text": [
      "[I 2024-10-19 15:47:32,218] Trial 45 finished with value: 47.75609572340813 and parameters: {'growth': 'linear', 'n_forecasts': 5, 'learning_rate': 0.6764093554617993}. Best is trial 38 with value: 25.565486801328973.\n"
     ]
    },
    {
     "name": "stdout",
     "output_type": "stream",
     "text": [
      "\n",
      "Epoch 70: 100%|█| 70/70 [00:00<00:00, 287.66it/s, loss=0.0804, v_num=1781, MAE=0.874, RMSE=1.120, Loss=0.0786, RegLoss=\n",
      "Predicting DataLoader 0: 100%|██████████████████████████████████████████████████████████| 1/1 [00:00<00:00, 269.97it/s]"
     ]
    },
    {
     "name": "stderr",
     "output_type": "stream",
     "text": [
      "[I 2024-10-19 15:47:49,973] Trial 46 finished with value: 32.206875655830565 and parameters: {'growth': 'off', 'n_forecasts': 1, 'learning_rate': 0.301475672115895}. Best is trial 38 with value: 25.565486801328973.\n"
     ]
    },
    {
     "name": "stdout",
     "output_type": "stream",
     "text": [
      "\n",
      "Epoch 70: 100%|█| 70/70 [00:00<00:00, 278.27it/s, loss=0.084, v_num=1782, MAE=0.881, RMSE=1.130, Loss=0.0799, RegLoss=0\n",
      "Predicting DataLoader 0: 100%|██████████████████████████████████████████████████████████| 1/1 [00:00<00:00, 242.75it/s]"
     ]
    },
    {
     "name": "stderr",
     "output_type": "stream",
     "text": [
      "[I 2024-10-19 15:48:07,672] Trial 47 finished with value: 39.857956873960944 and parameters: {'growth': 'off', 'n_forecasts': 6, 'learning_rate': 0.8732027500205531}. Best is trial 38 with value: 25.565486801328973.\n"
     ]
    },
    {
     "name": "stdout",
     "output_type": "stream",
     "text": [
      "\n",
      "Epoch 70: 100%|█| 70/70 [00:00<00:00, 285.97it/s, loss=0.0715, v_num=1783, MAE=0.870, RMSE=1.120, Loss=0.0781, RegLoss=\n",
      "Predicting DataLoader 0: 100%|██████████████████████████████████████████████████████████| 1/1 [00:00<00:00, 332.78it/s]"
     ]
    },
    {
     "name": "stderr",
     "output_type": "stream",
     "text": [
      "[I 2024-10-19 15:48:25,278] Trial 48 finished with value: 32.357200818388534 and parameters: {'growth': 'off', 'n_forecasts': 4, 'learning_rate': 0.09166803686443392}. Best is trial 38 with value: 25.565486801328973.\n"
     ]
    },
    {
     "name": "stdout",
     "output_type": "stream",
     "text": [
      "\n",
      "Epoch 70: 100%|█| 70/70 [00:00<00:00, 288.62it/s, loss=0.0768, v_num=1784, MAE=0.874, RMSE=1.120, Loss=0.0782, RegLoss=\n",
      "Predicting DataLoader 0: 100%|██████████████████████████████████████████████████████████| 1/1 [00:00<00:00, 274.60it/s]"
     ]
    },
    {
     "name": "stderr",
     "output_type": "stream",
     "text": [
      "[I 2024-10-19 15:48:43,059] Trial 49 finished with value: 32.00735905243011 and parameters: {'growth': 'off', 'n_forecasts': 3, 'learning_rate': 0.3816264365055486}. Best is trial 38 with value: 25.565486801328973.\n"
     ]
    },
    {
     "name": "stdout",
     "output_type": "stream",
     "text": [
      "\n"
     ]
    }
   ],
   "source": [
    "sampler = TPESampler(seed=RANDOM_SEED)\n",
    "study = optuna.create_study(direction='minimize', sampler=sampler)\n",
    "#optuna.logging.set_verbosity(optuna.logging.WARNING)\n",
    "study.optimize(objective, n_trials=50)"
   ]
  },
  {
   "cell_type": "code",
   "execution_count": 41,
   "id": "3018ec2a-7d4c-4040-97c3-1d0234228063",
   "metadata": {},
   "outputs": [
    {
     "name": "stdout",
     "output_type": "stream",
     "text": [
      "Melhor MAPE: 25.565486801328973\n",
      "Melhores parâmetros: {'growth': 'off', 'n_forecasts': 4, 'learning_rate': 0.7618053811925817}\n"
     ]
    }
   ],
   "source": [
    "melhores_parametros = study.best_params\n",
    "\n",
    "print(f\"Melhor MAPE: {study.best_trial.value}\")\n",
    "print(f\"Melhores parâmetros: {study.best_params}\")"
   ]
  },
  {
   "cell_type": "markdown",
   "id": "07387fd9-8564-4e09-8ca2-b5f500f655be",
   "metadata": {},
   "source": [
    "### **Treinando o modelo com os hiperparâmetros ajustados**"
   ]
  },
  {
   "cell_type": "code",
   "execution_count": 42,
   "id": "21d2a297-bc9f-4fb0-b1bb-8e1fe8d9f408",
   "metadata": {},
   "outputs": [
    {
     "name": "stdout",
     "output_type": "stream",
     "text": [
      "Epoch 70: 100%|█| 70/70 [00:00<00:00, 281.29it/s, loss=0.0803, v_num=1785, MAE=0.876, RMSE=1.130, Loss=0.0793, RegLoss=\n"
     ]
    },
    {
     "data": {
      "text/html": [
       "<div>\n",
       "<style scoped>\n",
       "    .dataframe tbody tr th:only-of-type {\n",
       "        vertical-align: middle;\n",
       "    }\n",
       "\n",
       "    .dataframe tbody tr th {\n",
       "        vertical-align: top;\n",
       "    }\n",
       "\n",
       "    .dataframe thead th {\n",
       "        text-align: right;\n",
       "    }\n",
       "</style>\n",
       "<table border=\"1\" class=\"dataframe\">\n",
       "  <thead>\n",
       "    <tr style=\"text-align: right;\">\n",
       "      <th></th>\n",
       "      <th>MAE</th>\n",
       "      <th>RMSE</th>\n",
       "      <th>Loss</th>\n",
       "      <th>RegLoss</th>\n",
       "      <th>epoch</th>\n",
       "    </tr>\n",
       "  </thead>\n",
       "  <tbody>\n",
       "    <tr>\n",
       "      <th>0</th>\n",
       "      <td>1.229505</td>\n",
       "      <td>1.550381</td>\n",
       "      <td>0.137646</td>\n",
       "      <td>0.0</td>\n",
       "      <td>0</td>\n",
       "    </tr>\n",
       "    <tr>\n",
       "      <th>1</th>\n",
       "      <td>0.969980</td>\n",
       "      <td>1.237252</td>\n",
       "      <td>0.094235</td>\n",
       "      <td>0.0</td>\n",
       "      <td>1</td>\n",
       "    </tr>\n",
       "    <tr>\n",
       "      <th>2</th>\n",
       "      <td>0.976666</td>\n",
       "      <td>1.241741</td>\n",
       "      <td>0.094996</td>\n",
       "      <td>0.0</td>\n",
       "      <td>2</td>\n",
       "    </tr>\n",
       "    <tr>\n",
       "      <th>3</th>\n",
       "      <td>1.015954</td>\n",
       "      <td>1.288510</td>\n",
       "      <td>0.101170</td>\n",
       "      <td>0.0</td>\n",
       "      <td>3</td>\n",
       "    </tr>\n",
       "    <tr>\n",
       "      <th>4</th>\n",
       "      <td>1.057928</td>\n",
       "      <td>1.336309</td>\n",
       "      <td>0.107861</td>\n",
       "      <td>0.0</td>\n",
       "      <td>4</td>\n",
       "    </tr>\n",
       "    <tr>\n",
       "      <th>...</th>\n",
       "      <td>...</td>\n",
       "      <td>...</td>\n",
       "      <td>...</td>\n",
       "      <td>...</td>\n",
       "      <td>...</td>\n",
       "    </tr>\n",
       "    <tr>\n",
       "      <th>65</th>\n",
       "      <td>0.876287</td>\n",
       "      <td>1.124703</td>\n",
       "      <td>0.079122</td>\n",
       "      <td>0.0</td>\n",
       "      <td>65</td>\n",
       "    </tr>\n",
       "    <tr>\n",
       "      <th>66</th>\n",
       "      <td>0.880829</td>\n",
       "      <td>1.128969</td>\n",
       "      <td>0.079569</td>\n",
       "      <td>0.0</td>\n",
       "      <td>66</td>\n",
       "    </tr>\n",
       "    <tr>\n",
       "      <th>67</th>\n",
       "      <td>0.874479</td>\n",
       "      <td>1.120452</td>\n",
       "      <td>0.078849</td>\n",
       "      <td>0.0</td>\n",
       "      <td>67</td>\n",
       "    </tr>\n",
       "    <tr>\n",
       "      <th>68</th>\n",
       "      <td>0.875448</td>\n",
       "      <td>1.124431</td>\n",
       "      <td>0.079029</td>\n",
       "      <td>0.0</td>\n",
       "      <td>68</td>\n",
       "    </tr>\n",
       "    <tr>\n",
       "      <th>69</th>\n",
       "      <td>0.876219</td>\n",
       "      <td>1.127537</td>\n",
       "      <td>0.079313</td>\n",
       "      <td>0.0</td>\n",
       "      <td>69</td>\n",
       "    </tr>\n",
       "  </tbody>\n",
       "</table>\n",
       "<p>70 rows × 5 columns</p>\n",
       "</div>"
      ],
      "text/plain": [
       "         MAE      RMSE      Loss  RegLoss  epoch\n",
       "0   1.229505  1.550381  0.137646      0.0      0\n",
       "1   0.969980  1.237252  0.094235      0.0      1\n",
       "2   0.976666  1.241741  0.094996      0.0      2\n",
       "3   1.015954  1.288510  0.101170      0.0      3\n",
       "4   1.057928  1.336309  0.107861      0.0      4\n",
       "..       ...       ...       ...      ...    ...\n",
       "65  0.876287  1.124703  0.079122      0.0     65\n",
       "66  0.880829  1.128969  0.079569      0.0     66\n",
       "67  0.874479  1.120452  0.078849      0.0     67\n",
       "68  0.875448  1.124431  0.079029      0.0     68\n",
       "69  0.876219  1.127537  0.079313      0.0     69\n",
       "\n",
       "[70 rows x 5 columns]"
      ]
     },
     "execution_count": 42,
     "metadata": {},
     "output_type": "execute_result"
    }
   ],
   "source": [
    "m = NeuralProphet(\n",
    "    growth=melhores_parametros['growth'],\n",
    "    n_forecasts=melhores_parametros['n_forecasts'],\n",
    "    learning_rate=melhores_parametros['learning_rate']\n",
    ")\n",
    "\n",
    "m.fit(treino.loc[:, [\"ds\", \"y\"]], freq='h')"
   ]
  },
  {
   "cell_type": "markdown",
   "id": "521f79c8-2338-461c-a6c5-58fbb4e83020",
   "metadata": {},
   "source": [
    "### **Avaliando o modelo**"
   ]
  },
  {
   "cell_type": "code",
   "execution_count": 43,
   "id": "dd3ae9cd-4150-4f13-8491-ed49475c9e5f",
   "metadata": {},
   "outputs": [
    {
     "name": "stdout",
     "output_type": "stream",
     "text": [
      "Predicting DataLoader 0: 100%|██████████████████████████████████████████████████████████| 1/1 [00:00<00:00, 237.01it/s]\n"
     ]
    }
   ],
   "source": [
    "# Previsões\n",
    "y_pred = m.predict(teste.loc[:, [\"ds\", \"y\"]])"
   ]
  },
  {
   "cell_type": "code",
   "execution_count": 44,
   "id": "163a2cf8-1560-4827-ac9f-00f30b6f8e29",
   "metadata": {},
   "outputs": [
    {
     "data": {
      "text/plain": [
       "{'RMSE': 0.6711795338383449,\n",
       " 'MAE': 0.4893291050195694,\n",
       " 'MAPE': 18.26476593144255}"
      ]
     },
     "execution_count": 44,
     "metadata": {},
     "output_type": "execute_result"
    }
   ],
   "source": [
    "# Visualizando as métricas\n",
    "eval_metrics(teste.y.values, y_pred.yhat1.values)"
   ]
  },
  {
   "cell_type": "code",
   "execution_count": 45,
   "id": "5a7162a7-e8e1-4518-b4ad-4518ee9b6bbc",
   "metadata": {},
   "outputs": [
    {
     "data": {
      "image/png": "[encoded data removed]",
      "text/plain": [
       "<Figure size 1200x800 with 1 Axes>"
      ]
     },
     "metadata": {},
     "output_type": "display_data"
    }
   ],
   "source": [
    "fig, ax = plt.subplots(figsize=(12,8))\n",
    "\n",
    "plt.plot(teste.ds, teste.y.values, label=\"Valores Reais\", marker='o', color=\"blue\")\n",
    "plt.plot(y_pred.ds, y_pred.yhat1.values, label=\"Valores Previstos\", marker='s', color=\"red\")\n",
    "\n",
    "plt.ylabel(\"% Silica Concentrate\")\n",
    "plt.xlabel(\"Data\")\n",
    "plt.title(\"Modelo NeuralProphet - Univariado\")\n",
    "plt.legend()\n",
    "\n",
    "plt.tight_layout()"
   ]
  },
  {
   "cell_type": "code",
   "execution_count": null,
   "id": "5a2dfc68-3979-406b-8b90-a3ae1ad6be37",
   "metadata": {},
   "outputs": [],
   "source": []
  }
 ],
 "metadata": {
  "kernelspec": {
   "display_name": "Python 3 (ipykernel)",
   "language": "python",
   "name": "python3"
  },
  "language_info": {
   "codemirror_mode": {
    "name": "ipython",
    "version": 3
   },
   "file_extension": ".py",
   "mimetype": "text/x-python",
   "name": "python",
   "nbconvert_exporter": "python",
   "pygments_lexer": "ipython3",
   "version": "3.10.13"
  }
 },
 "nbformat": 4,
 "nbformat_minor": 5
}
